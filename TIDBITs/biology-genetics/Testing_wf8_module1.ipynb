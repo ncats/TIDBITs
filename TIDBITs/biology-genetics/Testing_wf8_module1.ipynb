{
 "cells": [
  {
   "cell_type": "markdown",
   "metadata": {
    "deletable": true,
    "editable": true
   },
   "source": [
    "# Workflow 8\n",
    "\n",
    "This notebook takes a **disease** as input and returns relevant **genes and pathways**. Boilerplate code (API calls for instance) is wrapped in `biggim.py`, which contains API calls written by John Earls and Theo Knijnenburg. You can learn more about BigGIM in in their <a href=\"https://github.com/NCATS-Tangerine/cq-notebooks/tree/master/BigGIM\">github</a>. \n",
    "\n",
    "Notebook written by: Samson Fong, John Earls, Theo Knijnenburg, and Aaron Gary. \n",
    "\n",
    "<img src=\"../blue/images/workflow.png\">\n",
    "\n",
    "Here, we will utitlize BioThings from the Orange Team to help identity a small relevant disease gene set and associated tissue(s). From there, we will query BigGIM for the similarity data between genes and finally utilize DDOT to construct hierarchical pathways from this data. \n",
    "\n",
    "In the implementations below, the tissue is currently hardcoded. This will be revised in another version of the workflow."
   ]
  },
  {
   "cell_type": "markdown",
   "metadata": {},
   "source": [
    "## Libraries and such"
   ]
  },
  {
   "cell_type": "code",
   "execution_count": 13,
   "metadata": {
    "collapsed": false,
    "deletable": true,
    "editable": true
   },
   "outputs": [
    {
     "name": "stdout",
     "output_type": "stream",
     "text": [
      "The autoreload extension is already loaded. To reload it, use:\n",
      "  %reload_ext autoreload\n"
     ]
    }
   ],
   "source": [
    "%load_ext autoreload \n",
    "%autoreload 2\n",
    "\n",
    "import json\n",
    "import requests\n",
    "import pandas as pd\n",
    "from biggim import doid_to_genes, call_biggim\n",
    "\n",
    "ucsd_hostname = 'ec2-52-37-226-115.us-west-2.compute.amazonaws.com'"
   ]
  },
  {
   "cell_type": "code",
   "execution_count": 14,
   "metadata": {
    "collapsed": false,
    "deletable": true,
    "editable": true
   },
   "outputs": [
    {
     "data": {
      "text/plain": [
       "'ec2-52-37-226-115.us-west-2.compute.amazonaws.com'"
      ]
     },
     "execution_count": 14,
     "metadata": {},
     "output_type": "execute_result"
    }
   ],
   "source": [
    "ucsd_hostname"
   ]
  },
  {
   "cell_type": "markdown",
   "metadata": {
    "deletable": true,
    "editable": true
   },
   "source": [
    "## Implementation"
   ]
  },
  {
   "cell_type": "markdown",
   "metadata": {},
   "source": [
    "### Step 1 Going from a disease ID to genes and tissue(s)"
   ]
  },
  {
   "cell_type": "code",
   "execution_count": 2,
   "metadata": {
    "collapsed": false,
    "deletable": true,
    "editable": true,
    "scrolled": true
   },
   "outputs": [
    {
     "name": "stderr",
     "output_type": "stream",
     "text": [
      "INFO:root:Geting HP ids from DOID\n"
     ]
    },
    {
     "name": "stdout",
     "output_type": "stream",
     "text": [
      "http://biothings.io/explorer/api/v2/directinput2output?input_prefix=doid&output_prefix=hp&input_value=678&format=translator\n"
     ]
    },
    {
     "name": "stderr",
     "output_type": "stream",
     "text": [
      "INFO:root:Geting OMIM from HP ids\n"
     ]
    },
    {
     "name": "stdout",
     "output_type": "stream",
     "text": [
      "Returned 67 phenotypes\n",
      "http://biothings.io/explorer/api/v2/directinput2output?input_prefix=hp&output_prefix=omim.disease&input_value=0002544&format=translator\n",
      "http://biothings.io/explorer/api/v2/directinput2output?input_prefix=hp&output_prefix=omim.disease&input_value=0007024&format=translator\n",
      "http://biothings.io/explorer/api/v2/directinput2output?input_prefix=hp&output_prefix=omim.disease&input_value=0002200&format=translator\n",
      "http://biothings.io/explorer/api/v2/directinput2output?input_prefix=hp&output_prefix=omim.disease&input_value=0002511&format=translator\n",
      "http://biothings.io/explorer/api/v2/directinput2output?input_prefix=hp&output_prefix=omim.disease&input_value=0000511&format=translator\n",
      "http://biothings.io/explorer/api/v2/directinput2output?input_prefix=hp&output_prefix=omim.disease&input_value=0002359&format=translator\n",
      "http://biothings.io/explorer/api/v2/directinput2output?input_prefix=hp&output_prefix=omim.disease&input_value=0002145&format=translator\n"
     ]
    },
    {
     "name": "stderr",
     "output_type": "stream",
     "text": [
      "INFO:root:Geting genes from OMIM\n"
     ]
    },
    {
     "name": "stdout",
     "output_type": "stream",
     "text": [
      "Returned 67 mendelian diseases\n",
      "http://biothings.io/explorer/api/v2/directinput2output?input_prefix=omim.disease&output_prefix=ncbigene&input_value=601104&format=translator\n",
      "http://biothings.io/explorer/api/v2/directinput2output?input_prefix=omim.disease&output_prefix=ncbigene&input_value=609454&format=translator\n",
      "http://biothings.io/explorer/api/v2/directinput2output?input_prefix=omim.disease&output_prefix=ncbigene&input_value=617284&format=translator\n"
     ]
    },
    {
     "name": "stderr",
     "output_type": "stream",
     "text": [
      "WARNING:root:{'status': 400, 'error message': \"Endpoints could be located connecting omim.disease to ncbigene. The endpoints are ['http://mydisease.info/v1/querydiseasetogene']. However, no output could be found using the endpoint!\"}\n"
     ]
    },
    {
     "name": "stdout",
     "output_type": "stream",
     "text": [
      "http://biothings.io/explorer/api/v2/directinput2output?input_prefix=omim.disease&output_prefix=ncbigene&input_value=612067&format=translator\n",
      "http://biothings.io/explorer/api/v2/directinput2output?input_prefix=omim.disease&output_prefix=ncbigene&input_value=300388&format=translator\n",
      "http://biothings.io/explorer/api/v2/directinput2output?input_prefix=omim.disease&output_prefix=ncbigene&input_value=105400&format=translator\n",
      "http://biothings.io/explorer/api/v2/directinput2output?input_prefix=omim.disease&output_prefix=ncbigene&input_value=613908&format=translator\n",
      "http://biothings.io/explorer/api/v2/directinput2output?input_prefix=omim.disease&output_prefix=ncbigene&input_value=616586&format=translator\n",
      "http://biothings.io/explorer/api/v2/directinput2output?input_prefix=omim.disease&output_prefix=ncbigene&input_value=169500&format=translator\n",
      "http://biothings.io/explorer/api/v2/directinput2output?input_prefix=omim.disease&output_prefix=ncbigene&input_value=616140&format=translator\n",
      "http://biothings.io/explorer/api/v2/directinput2output?input_prefix=omim.disease&output_prefix=ncbigene&input_value=125310&format=translator\n",
      "http://biothings.io/explorer/api/v2/directinput2output?input_prefix=omim.disease&output_prefix=ncbigene&input_value=611225&format=translator\n",
      "http://biothings.io/explorer/api/v2/directinput2output?input_prefix=omim.disease&output_prefix=ncbigene&input_value=609195&format=translator\n",
      "http://biothings.io/explorer/api/v2/directinput2output?input_prefix=omim.disease&output_prefix=ncbigene&input_value=600142&format=translator\n",
      "http://biothings.io/explorer/api/v2/directinput2output?input_prefix=omim.disease&output_prefix=ncbigene&input_value=612936&format=translator\n",
      "http://biothings.io/explorer/api/v2/directinput2output?input_prefix=omim.disease&output_prefix=ncbigene&input_value=604121&format=translator\n",
      "http://biothings.io/explorer/api/v2/directinput2output?input_prefix=omim.disease&output_prefix=ncbigene&input_value=206570&format=translator\n"
     ]
    },
    {
     "name": "stderr",
     "output_type": "stream",
     "text": [
      "WARNING:root:{'status': 400, 'error message': \"Endpoints could be located connecting omim.disease to ncbigene. The endpoints are ['http://mydisease.info/v1/querydiseasetogene']. However, no output could be found using the endpoint!\"}\n"
     ]
    },
    {
     "name": "stdout",
     "output_type": "stream",
     "text": [
      "http://biothings.io/explorer/api/v2/directinput2output?input_prefix=omim.disease&output_prefix=ncbigene&input_value=272750&format=translator\n",
      "http://biothings.io/explorer/api/v2/directinput2output?input_prefix=omim.disease&output_prefix=ncbigene&input_value=606889&format=translator\n",
      "http://biothings.io/explorer/api/v2/directinput2output?input_prefix=omim.disease&output_prefix=ncbigene&input_value=104300&format=translator\n",
      "http://biothings.io/explorer/api/v2/directinput2output?input_prefix=omim.disease&output_prefix=ncbigene&input_value=607822&format=translator\n",
      "http://biothings.io/explorer/api/v2/directinput2output?input_prefix=omim.disease&output_prefix=ncbigene&input_value=104310&format=translator\n",
      "http://biothings.io/explorer/api/v2/directinput2output?input_prefix=omim.disease&output_prefix=ncbigene&input_value=602096&format=translator\n",
      "http://biothings.io/explorer/api/v2/directinput2output?input_prefix=omim.disease&output_prefix=ncbigene&input_value=609636&format=translator\n",
      "http://biothings.io/explorer/api/v2/directinput2output?input_prefix=omim.disease&output_prefix=ncbigene&input_value=608907&format=translator\n",
      "http://biothings.io/explorer/api/v2/directinput2output?input_prefix=omim.disease&output_prefix=ncbigene&input_value=502500&format=translator\n",
      "http://biothings.io/explorer/api/v2/directinput2output?input_prefix=omim.disease&output_prefix=ncbigene&input_value=605055&format=translator\n"
     ]
    },
    {
     "name": "stderr",
     "output_type": "stream",
     "text": [
      "WARNING:root:{'status': 400, 'error message': \"Endpoints could be located connecting omim.disease to ncbigene. The endpoints are ['http://mydisease.info/v1/querydiseasetogene']. However, no output could be found using the endpoint!\"}\n"
     ]
    },
    {
     "name": "stdout",
     "output_type": "stream",
     "text": [
      "http://biothings.io/explorer/api/v2/directinput2output?input_prefix=omim.disease&output_prefix=ncbigene&input_value=616795&format=translator\n",
      "http://biothings.io/explorer/api/v2/directinput2output?input_prefix=omim.disease&output_prefix=ncbigene&input_value=617145&format=translator\n"
     ]
    },
    {
     "name": "stderr",
     "output_type": "stream",
     "text": [
      "WARNING:root:{'status': 400, 'error message': \"Endpoints could be located connecting omim.disease to ncbigene. The endpoints are ['http://mydisease.info/v1/querydiseasetogene']. However, no output could be found using the endpoint!\"}\n"
     ]
    },
    {
     "name": "stdout",
     "output_type": "stream",
     "text": [
      "http://biothings.io/explorer/api/v2/directinput2output?input_prefix=omim.disease&output_prefix=ncbigene&input_value=606693&format=translator\n",
      "http://biothings.io/explorer/api/v2/directinput2output?input_prefix=omim.disease&output_prefix=ncbigene&input_value=257220&format=translator\n",
      "http://biothings.io/explorer/api/v2/directinput2output?input_prefix=omim.disease&output_prefix=ncbigene&input_value=616053&format=translator\n"
     ]
    },
    {
     "name": "stderr",
     "output_type": "stream",
     "text": [
      "WARNING:root:{'status': 400, 'error message': \"Endpoints could be located connecting omim.disease to ncbigene. The endpoints are ['http://mydisease.info/v1/querydiseasetogene']. However, no output could be found using the endpoint!\"}\n"
     ]
    },
    {
     "name": "stdout",
     "output_type": "stream",
     "text": [
      "http://biothings.io/explorer/api/v2/directinput2output?input_prefix=omim.disease&output_prefix=ncbigene&input_value=617308&format=translator\n"
     ]
    },
    {
     "name": "stderr",
     "output_type": "stream",
     "text": [
      "WARNING:root:{'status': 400, 'error message': \"Endpoints could be located connecting omim.disease to ncbigene. The endpoints are ['http://mydisease.info/v1/querydiseasetogene']. However, no output could be found using the endpoint!\"}\n"
     ]
    },
    {
     "name": "stdout",
     "output_type": "stream",
     "text": [
      "http://biothings.io/explorer/api/v2/directinput2output?input_prefix=omim.disease&output_prefix=ncbigene&input_value=607625&format=translator\n",
      "http://biothings.io/explorer/api/v2/directinput2output?input_prefix=omim.disease&output_prefix=ncbigene&input_value=168605&format=translator\n",
      "http://biothings.io/explorer/api/v2/directinput2output?input_prefix=omim.disease&output_prefix=ncbigene&input_value=614228&format=translator\n",
      "http://biothings.io/explorer/api/v2/directinput2output?input_prefix=omim.disease&output_prefix=ncbigene&input_value=616227&format=translator\n",
      "http://biothings.io/explorer/api/v2/directinput2output?input_prefix=omim.disease&output_prefix=ncbigene&input_value=300718&format=translator\n",
      "http://biothings.io/explorer/api/v2/directinput2output?input_prefix=omim.disease&output_prefix=ncbigene&input_value=500003&format=translator\n",
      "http://biothings.io/explorer/api/v2/directinput2output?input_prefix=omim.disease&output_prefix=ncbigene&input_value=606552&format=translator\n"
     ]
    },
    {
     "name": "stderr",
     "output_type": "stream",
     "text": [
      "WARNING:root:{'status': 400, 'error message': \"Endpoints could be located connecting omim.disease to ncbigene. The endpoints are ['http://mydisease.info/v1/querydiseasetogene']. However, no output could be found using the endpoint!\"}\n"
     ]
    },
    {
     "name": "stdout",
     "output_type": "stream",
     "text": [
      "http://biothings.io/explorer/api/v2/directinput2output?input_prefix=omim.disease&output_prefix=ncbigene&input_value=616921&format=translator\n"
     ]
    },
    {
     "name": "stderr",
     "output_type": "stream",
     "text": [
      "WARNING:root:{'status': 400, 'error message': \"Endpoints could be located connecting omim.disease to ncbigene. The endpoints are ['http://mydisease.info/v1/querydiseasetogene']. However, no output could be found using the endpoint!\"}\n"
     ]
    },
    {
     "name": "stdout",
     "output_type": "stream",
     "text": [
      "http://biothings.io/explorer/api/v2/directinput2output?input_prefix=omim.disease&output_prefix=ncbigene&input_value=611228&format=translator\n",
      "http://biothings.io/explorer/api/v2/directinput2output?input_prefix=omim.disease&output_prefix=ncbigene&input_value=149400&format=translator\n",
      "http://biothings.io/explorer/api/v2/directinput2output?input_prefix=omim.disease&output_prefix=ncbigene&input_value=615217&format=translator\n",
      "http://biothings.io/explorer/api/v2/directinput2output?input_prefix=omim.disease&output_prefix=ncbigene&input_value=604391&format=translator\n",
      "http://biothings.io/explorer/api/v2/directinput2output?input_prefix=omim.disease&output_prefix=ncbigene&input_value=614696&format=translator\n",
      "http://biothings.io/explorer/api/v2/directinput2output?input_prefix=omim.disease&output_prefix=ncbigene&input_value=300857&format=translator\n",
      "http://biothings.io/explorer/api/v2/directinput2output?input_prefix=omim.disease&output_prefix=ncbigene&input_value=105550&format=translator\n"
     ]
    },
    {
     "name": "stderr",
     "output_type": "stream",
     "text": [
      "WARNING:root:{'status': 400, 'error message': \"Endpoints could be located connecting omim.disease to ncbigene. The endpoints are ['http://mydisease.info/v1/querydiseasetogene']. However, no output could be found using the endpoint!\"}\n"
     ]
    },
    {
     "name": "stdout",
     "output_type": "stream",
     "text": [
      "http://biothings.io/explorer/api/v2/directinput2output?input_prefix=omim.disease&output_prefix=ncbigene&input_value=615422&format=translator\n",
      "http://biothings.io/explorer/api/v2/directinput2output?input_prefix=omim.disease&output_prefix=ncbigene&input_value=615911&format=translator\n",
      "http://biothings.io/explorer/api/v2/directinput2output?input_prefix=omim.disease&output_prefix=ncbigene&input_value=616439&format=translator\n",
      "http://biothings.io/explorer/api/v2/directinput2output?input_prefix=omim.disease&output_prefix=ncbigene&input_value=616208&format=translator\n",
      "http://biothings.io/explorer/api/v2/directinput2output?input_prefix=omim.disease&output_prefix=ncbigene&input_value=172700&format=translator\n",
      "Returned 53 genes\n"
     ]
    }
   ],
   "source": [
    "# Getting seed genes\n",
    "genes = doid_to_genes([\"678\"])"
   ]
  },
  {
   "cell_type": "markdown",
   "metadata": {
    "deletable": true,
    "editable": true
   },
   "source": [
    "### Calling BigGIM"
   ]
  },
  {
   "cell_type": "code",
   "execution_count": 4,
   "metadata": {
    "collapsed": false,
    "deletable": true,
    "editable": true,
    "scrolled": true
   },
   "outputs": [
    {
     "name": "stdout",
     "output_type": "stream",
     "text": [
      "Sent: GET http://biggim.ncats.io/api/biggim/query?limit=100000&restriction_gt=GTEx_Brain_Correlation%2C0.5&ids1=10228%2C4336%2C4137%2C9451%2C619408%2C8575%2C27286%2C7074%2C7476%2C1387%2C6256%2C1509%2C120237%2C794%2C27040%2C598%2C283%2C834%2C1191%2C6615%2C4744%2C3727%2C3718%2C6464%2C7114%2C2664%2C3297%2C2251%2C331%2C2326%2C1270%2C6647%2C5444%2C1639%2C682%2C170825%2C2554%2C7124%2C2670%2C5630%2C2892%2C2353%2C924%2C1471%2C968%2C5154%2C340990%2C6404%2C9118%2C3797%2C2637%2C5179%2C7090%2C3949%2C10736%2C7431%2C343641%2C5832%2C4001%2C5917%2C4854%2C11160%2C140906%2C2583%2C5654%2C9179%2C1786%2C2760%2C5664%2C3643%2C3416%2C5697%2C267%2C642%2C1191%2C3481%2C2%2C3077%2C4846%2C7447%2C1808%2C22976%2C590%2C8301%2C3630%2C945%2C2023%2C27328%2C5328%2C4129%2C3479%2C1636%2C836%2C3162%2C4353%2C353128%2C23621%2C55676%2C1200%2C5664%2C1565%2C5663%2C498%2C1471%2C8081%2C2932%2C2147%2C2623%2C274%2C64851%2C1965%2C581%2C10858%2C627%2C5621%2C780912%2C4524%2C3480%2C3482%2C7124%2C1392%2C2041%2C801%2C596%2C6653%2C7019%2C1378%2C23385%2C3553%2C351%2C26330%2C51338%2C348%2C6648%2C23607%2C7018%2C323%2C7167%2C6517%2C1141%2C1718%2C1139%2C7422%2C4137%2C406938%2C450086%2C23237%2C43%2C2099%2C3952%2C4852%2C5649%2C10347%2C5468%2C54209%2C7782%2C5663%2C348%2C2623%2C351%2C5663%2C5664%2C8081%2C780912%2C450086%2C4535%2C4536%2C8913%2C23400%2C4864%2C3988%2C10577%2C1639%2C1778%2C199857%2C2273%2C4508%2C9896%2C9152%2C10243%2C2741%2C2743%2C23533%2C4361%2C25978%2C29978%2C3181%2C400916%2C29110%2C7277%2C5663%2C4137&table=BigGIM_70_v1&columns=GTEx_Brain_Correlation\n",
      "{\n",
      "  \"status\": \"submitted\",\n",
      "  \"request_id\": \"22c2a457-af04-4904-ba87-9d3175240a31\"\n",
      "}\n",
      "Sent: GET http://biggim.ncats.io/api/biggim/status/22c2a457-af04-4904-ba87-9d3175240a31?None\n",
      "{\n",
      "  \"status\": \"running\",\n",
      "  \"request_id\": \"22c2a457-af04-4904-ba87-9d3175240a31\",\n",
      "  \"message\": \"Query job is running.\"\n",
      "}\n",
      "Checking again\n",
      "Sent: GET http://biggim.ncats.io/api/biggim/status/22c2a457-af04-4904-ba87-9d3175240a31?None\n",
      "{\n",
      "  \"status\": \"running\",\n",
      "  \"request_id\": \"22c2a457-af04-4904-ba87-9d3175240a31\",\n",
      "  \"message\": \"Query job is running.\"\n",
      "}\n",
      "Checking again\n",
      "Sent: GET http://biggim.ncats.io/api/biggim/status/22c2a457-af04-4904-ba87-9d3175240a31?None\n",
      "{\n",
      "  \"status\": \"running\",\n",
      "  \"request_id\": \"22c2a457-af04-4904-ba87-9d3175240a31\",\n",
      "  \"message\": \"Extraction job is running.\"\n",
      "}\n",
      "Checking again\n",
      "Sent: GET http://biggim.ncats.io/api/biggim/status/22c2a457-af04-4904-ba87-9d3175240a31?None\n",
      "{\n",
      "  \"status\": \"complete\",\n",
      "  \"request_id\": \"22c2a457-af04-4904-ba87-9d3175240a31\",\n",
      "  \"request_uri\": [\n",
      "    \"https://storage.googleapis.com/ncats_bigquery_results/22c2a457-af04-4904-ba87-9d3175240a31000000000000.csv\"\n",
      "  ],\n",
      "  \"processed_data\": \"1.52 GB\",\n",
      "  \"size\": \"3.13 MB\",\n",
      "  \"rows\": 100000\n",
      "}\n"
     ]
    }
   ],
   "source": [
    "expanded_genes = call_biggim(\n",
    "    genes, \n",
    "    [\"GTEx_Brain_Correlation\"], \n",
    "    100000, \n",
    "    query_id2=False, \n",
    "    return_genes=True, \n",
    "    limit_genes=250,\n",
    ")"
   ]
  },
  {
   "cell_type": "code",
   "execution_count": 5,
   "metadata": {
    "collapsed": false,
    "deletable": true,
    "editable": true,
    "scrolled": true
   },
   "outputs": [
    {
     "name": "stdout",
     "output_type": "stream",
     "text": [
      "Sent: GET http://biggim.ncats.io/api/biggim/query?restriction_gt=GTEx_Brain_Correlation%2C0.5&ids1=21%2C119%2C161%2C273%2C492%2C498%2C506%2C719%2C745%2C773%2C774%2C801%2C945%2C951%2C972%2C1141%2C1173%2C1267%2C1387%2C1436%2C1653%2C1759%2C1778%2C1786%2C1859%2C1951%2C2033%2C2123%2C2554%2C2566%2C2583%2C2664%2C2686%2C2705%2C2743%2C2744%2C2861%2C2892%2C2932%2C2941%2C3093%2C3098%2C3181%2C3187%2C3607%2C3746%2C3797%2C3988%2C4137%2C4139%2C4152%2C4209%2C4336%2C4340%2C4524%2C4591%2C4674%2C4849%2C4905%2C4943%2C4978%2C5001%2C5048%2C5058%2C5153%2C5168%2C5213%2C5291%2C5337%2C5354%2C5528%2C5532%2C5536%2C5709%2C5802%2C5864%2C5917%2C6035%2C6252%2C6327%2C6334%2C6404%2C6456%2C6543%2C6597%2C6709%2C6721%2C6785%2C6812%2C6850%2C6855%2C6857%2C6916%2C7018%2C7156%2C7167%2C7277%2C7305%2C7368%2C7385%2C7447%2C7732%2C7874%2C7940%2C8295%2C8497%2C8505%2C8506%2C8537%2C8604%2C8832%2C8927%2C9114%2C9118%2C9145%2C9450%2C9515%2C9530%2C9581%2C9632%2C9762%2C9764%2C9826%2C9853%2C9862%2C9912%2C9980%2C10038%2C10059%2C10129%2C10147%2C10243%2C10540%2C10579%2C10762%2C10858%2C10921%2C11006%2C11022%2C11083%2C11127%2C11140%2C11273%2C11342%2C22820%2C22848%2C22849%2C22859%2C22883%2C22907%2C22908%2C22980%2C23025%2C23032%2C23057%2C23067%2C23080%2C23096%2C23158%2C23163%2C23248%2C23261%2C23329%2C23368%2C23400%2C23446%2C23533%2C23761%2C25799%2C25830%2C25930%2C25999%2C26155%2C26470%2C27165%2C27183%2C27339%2C27445%2C29110%2C29978%2C51377%2C51400%2C51412%2C51761%2C51807%2C54209%2C54438%2C54518%2C54870%2C55228%2C55314%2C55665%2C55966%2C56965%2C57144%2C57463%2C57476%2C57578%2C57692%2C57698%2C58476%2C63891%2C64112%2C64210%2C64755%2C64760%2C64837%2C65244%2C79012%2C79137%2C79369%2C79734%2C80762%2C80823%2C84102%2C84302%2C84461%2C84866%2C84911%2C85414%2C89845%2C90809%2C112937%2C115950%2C118442%2C118813%2C126298%2C128218%2C130026%2C134111%2C137964%2C148808%2C149603%2C149986%2C171017%2C192683%2C196403%2C219749%2C221895%2C283450%2C283871%2C284161%2C285172%2C285175%2C338773%2C348938%2C376267%2C414918%2C552889%2C100507050&table=BigGIM_70_v1&ids2=21%2C119%2C161%2C273%2C492%2C498%2C506%2C719%2C745%2C773%2C774%2C801%2C945%2C951%2C972%2C1141%2C1173%2C1267%2C1387%2C1436%2C1653%2C1759%2C1778%2C1786%2C1859%2C1951%2C2033%2C2123%2C2554%2C2566%2C2583%2C2664%2C2686%2C2705%2C2743%2C2744%2C2861%2C2892%2C2932%2C2941%2C3093%2C3098%2C3181%2C3187%2C3607%2C3746%2C3797%2C3988%2C4137%2C4139%2C4152%2C4209%2C4336%2C4340%2C4524%2C4591%2C4674%2C4849%2C4905%2C4943%2C4978%2C5001%2C5048%2C5058%2C5153%2C5168%2C5213%2C5291%2C5337%2C5354%2C5528%2C5532%2C5536%2C5709%2C5802%2C5864%2C5917%2C6035%2C6252%2C6327%2C6334%2C6404%2C6456%2C6543%2C6597%2C6709%2C6721%2C6785%2C6812%2C6850%2C6855%2C6857%2C6916%2C7018%2C7156%2C7167%2C7277%2C7305%2C7368%2C7385%2C7447%2C7732%2C7874%2C7940%2C8295%2C8497%2C8505%2C8506%2C8537%2C8604%2C8832%2C8927%2C9114%2C9118%2C9145%2C9450%2C9515%2C9530%2C9581%2C9632%2C9762%2C9764%2C9826%2C9853%2C9862%2C9912%2C9980%2C10038%2C10059%2C10129%2C10147%2C10243%2C10540%2C10579%2C10762%2C10858%2C10921%2C11006%2C11022%2C11083%2C11127%2C11140%2C11273%2C11342%2C22820%2C22848%2C22849%2C22859%2C22883%2C22907%2C22908%2C22980%2C23025%2C23032%2C23057%2C23067%2C23080%2C23096%2C23158%2C23163%2C23248%2C23261%2C23329%2C23368%2C23400%2C23446%2C23533%2C23761%2C25799%2C25830%2C25930%2C25999%2C26155%2C26470%2C27165%2C27183%2C27339%2C27445%2C29110%2C29978%2C51377%2C51400%2C51412%2C51761%2C51807%2C54209%2C54438%2C54518%2C54870%2C55228%2C55314%2C55665%2C55966%2C56965%2C57144%2C57463%2C57476%2C57578%2C57692%2C57698%2C58476%2C63891%2C64112%2C64210%2C64755%2C64760%2C64837%2C65244%2C79012%2C79137%2C79369%2C79734%2C80762%2C80823%2C84102%2C84302%2C84461%2C84866%2C84911%2C85414%2C89845%2C90809%2C112937%2C115950%2C118442%2C118813%2C126298%2C128218%2C130026%2C134111%2C137964%2C148808%2C149603%2C149986%2C171017%2C192683%2C196403%2C219749%2C221895%2C283450%2C283871%2C284161%2C285172%2C285175%2C338773%2C348938%2C376267%2C414918%2C552889%2C100507050&columns=GTEx_Brain_Correlation&limit=1000000000\n",
      "{\n",
      "  \"status\": \"submitted\",\n",
      "  \"request_id\": \"1e608ddf-6019-4b88-99b5-5836c0f489c1\"\n",
      "}\n",
      "Sent: GET http://biggim.ncats.io/api/biggim/status/1e608ddf-6019-4b88-99b5-5836c0f489c1?None\n",
      "{\n",
      "  \"status\": \"running\",\n",
      "  \"request_id\": \"1e608ddf-6019-4b88-99b5-5836c0f489c1\",\n",
      "  \"message\": \"Query job is running.\"\n",
      "}\n",
      "Checking again\n",
      "Sent: GET http://biggim.ncats.io/api/biggim/status/1e608ddf-6019-4b88-99b5-5836c0f489c1?None\n",
      "{\n",
      "  \"status\": \"running\",\n",
      "  \"request_id\": \"1e608ddf-6019-4b88-99b5-5836c0f489c1\",\n",
      "  \"message\": \"Query job is running.\"\n",
      "}\n",
      "Checking again\n",
      "Sent: GET http://biggim.ncats.io/api/biggim/status/1e608ddf-6019-4b88-99b5-5836c0f489c1?None\n",
      "{\n",
      "  \"status\": \"running\",\n",
      "  \"request_id\": \"1e608ddf-6019-4b88-99b5-5836c0f489c1\",\n",
      "  \"message\": \"Extraction job is running.\"\n",
      "}\n",
      "Checking again\n",
      "Sent: GET http://biggim.ncats.io/api/biggim/status/1e608ddf-6019-4b88-99b5-5836c0f489c1?None\n",
      "{\n",
      "  \"status\": \"complete\",\n",
      "  \"request_id\": \"1e608ddf-6019-4b88-99b5-5836c0f489c1\",\n",
      "  \"request_uri\": [\n",
      "    \"https://storage.googleapis.com/ncats_bigquery_results/1e608ddf-6019-4b88-99b5-5836c0f489c1000000000000.csv\"\n",
      "  ],\n",
      "  \"processed_data\": \"1.52 GB\",\n",
      "  \"size\": \"626.62 KB\",\n",
      "  \"rows\": 19325\n",
      "}\n"
     ]
    }
   ],
   "source": [
    "network = call_biggim(\n",
    "    expanded_genes, \n",
    "    [\"GTEx_Brain_Correlation\"], \n",
    "    1000000000, \n",
    "    query_id2=True, \n",
    "    return_genes=False, \n",
    ")"
   ]
  },
  {
   "cell_type": "markdown",
   "metadata": {
    "deletable": true,
    "editable": true
   },
   "source": [
    "### Calling DDOT"
   ]
  },
  {
   "cell_type": "code",
   "execution_count": 9,
   "metadata": {
    "collapsed": false
   },
   "outputs": [
    {
     "data": {
      "text/html": [
       "<div>\n",
       "<style>\n",
       "    .dataframe thead tr:only-child th {\n",
       "        text-align: right;\n",
       "    }\n",
       "\n",
       "    .dataframe thead th {\n",
       "        text-align: left;\n",
       "    }\n",
       "\n",
       "    .dataframe tbody tr th {\n",
       "        vertical-align: top;\n",
       "    }\n",
       "</style>\n",
       "<table border=\"1\" class=\"dataframe\">\n",
       "  <thead>\n",
       "    <tr style=\"text-align: right;\">\n",
       "      <th></th>\n",
       "      <th>GPID</th>\n",
       "      <th>Gene1</th>\n",
       "      <th>Gene2</th>\n",
       "      <th>GTEx_Brain_Correlation</th>\n",
       "    </tr>\n",
       "  </thead>\n",
       "  <tbody>\n",
       "    <tr>\n",
       "      <th>0</th>\n",
       "      <td>228830000057463</td>\n",
       "      <td>57463</td>\n",
       "      <td>22883</td>\n",
       "      <td>0.9121</td>\n",
       "    </tr>\n",
       "    <tr>\n",
       "      <th>1</th>\n",
       "      <td>230800000025999</td>\n",
       "      <td>25999</td>\n",
       "      <td>23080</td>\n",
       "      <td>0.8227</td>\n",
       "    </tr>\n",
       "    <tr>\n",
       "      <th>2</th>\n",
       "      <td>641120000079137</td>\n",
       "      <td>79137</td>\n",
       "      <td>64112</td>\n",
       "      <td>0.8763</td>\n",
       "    </tr>\n",
       "    <tr>\n",
       "      <th>3</th>\n",
       "      <td>231630000148808</td>\n",
       "      <td>148808</td>\n",
       "      <td>23163</td>\n",
       "      <td>0.7910</td>\n",
       "    </tr>\n",
       "    <tr>\n",
       "      <th>4</th>\n",
       "      <td>575780000149603</td>\n",
       "      <td>149603</td>\n",
       "      <td>57578</td>\n",
       "      <td>0.7363</td>\n",
       "    </tr>\n",
       "    <tr>\n",
       "      <th>5</th>\n",
       "      <td>232610000025830</td>\n",
       "      <td>25830</td>\n",
       "      <td>23261</td>\n",
       "      <td>0.7883</td>\n",
       "    </tr>\n",
       "    <tr>\n",
       "      <th>6</th>\n",
       "      <td>844610000376267</td>\n",
       "      <td>376267</td>\n",
       "      <td>84461</td>\n",
       "      <td>0.9140</td>\n",
       "    </tr>\n",
       "    <tr>\n",
       "      <th>7</th>\n",
       "      <td>790120000079734</td>\n",
       "      <td>79734</td>\n",
       "      <td>79012</td>\n",
       "      <td>0.8952</td>\n",
       "    </tr>\n",
       "    <tr>\n",
       "      <th>8</th>\n",
       "      <td>229800000064112</td>\n",
       "      <td>64112</td>\n",
       "      <td>22980</td>\n",
       "      <td>0.8296</td>\n",
       "    </tr>\n",
       "    <tr>\n",
       "      <th>9</th>\n",
       "      <td>230250000026155</td>\n",
       "      <td>26155</td>\n",
       "      <td>23025</td>\n",
       "      <td>0.8319</td>\n",
       "    </tr>\n",
       "    <tr>\n",
       "      <th>10</th>\n",
       "      <td>110830000022980</td>\n",
       "      <td>22980</td>\n",
       "      <td>11083</td>\n",
       "      <td>0.7540</td>\n",
       "    </tr>\n",
       "    <tr>\n",
       "      <th>11</th>\n",
       "      <td>110220000084102</td>\n",
       "      <td>84102</td>\n",
       "      <td>11022</td>\n",
       "      <td>0.8216</td>\n",
       "    </tr>\n",
       "    <tr>\n",
       "      <th>12</th>\n",
       "      <td>908090000115950</td>\n",
       "      <td>115950</td>\n",
       "      <td>90809</td>\n",
       "      <td>0.8802</td>\n",
       "    </tr>\n",
       "    <tr>\n",
       "      <th>13</th>\n",
       "      <td>105790000023032</td>\n",
       "      <td>23032</td>\n",
       "      <td>10579</td>\n",
       "      <td>0.8389</td>\n",
       "    </tr>\n",
       "    <tr>\n",
       "      <th>14</th>\n",
       "      <td>43400000007018</td>\n",
       "      <td>7018</td>\n",
       "      <td>4340</td>\n",
       "      <td>0.9652</td>\n",
       "    </tr>\n",
       "    <tr>\n",
       "      <th>15</th>\n",
       "      <td>111270000023248</td>\n",
       "      <td>23248</td>\n",
       "      <td>11127</td>\n",
       "      <td>0.7371</td>\n",
       "    </tr>\n",
       "    <tr>\n",
       "      <th>16</th>\n",
       "      <td>230800000084911</td>\n",
       "      <td>84911</td>\n",
       "      <td>23080</td>\n",
       "      <td>0.8619</td>\n",
       "    </tr>\n",
       "    <tr>\n",
       "      <th>17</th>\n",
       "      <td>79400000054209</td>\n",
       "      <td>54209</td>\n",
       "      <td>7940</td>\n",
       "      <td>0.9331</td>\n",
       "    </tr>\n",
       "    <tr>\n",
       "      <th>18</th>\n",
       "      <td>230570000080823</td>\n",
       "      <td>80823</td>\n",
       "      <td>23057</td>\n",
       "      <td>0.8910</td>\n",
       "    </tr>\n",
       "    <tr>\n",
       "      <th>19</th>\n",
       "      <td>233680000051761</td>\n",
       "      <td>51761</td>\n",
       "      <td>23368</td>\n",
       "      <td>0.8732</td>\n",
       "    </tr>\n",
       "    <tr>\n",
       "      <th>20</th>\n",
       "      <td>1964030000283871</td>\n",
       "      <td>283871</td>\n",
       "      <td>196403</td>\n",
       "      <td>0.9202</td>\n",
       "    </tr>\n",
       "    <tr>\n",
       "      <th>21</th>\n",
       "      <td>544380000065244</td>\n",
       "      <td>65244</td>\n",
       "      <td>54438</td>\n",
       "      <td>0.9543</td>\n",
       "    </tr>\n",
       "    <tr>\n",
       "      <th>22</th>\n",
       "      <td>259990000064210</td>\n",
       "      <td>64210</td>\n",
       "      <td>25999</td>\n",
       "      <td>0.8799</td>\n",
       "    </tr>\n",
       "    <tr>\n",
       "      <th>23</th>\n",
       "      <td>109210000023761</td>\n",
       "      <td>23761</td>\n",
       "      <td>10921</td>\n",
       "      <td>0.8940</td>\n",
       "    </tr>\n",
       "    <tr>\n",
       "      <th>24</th>\n",
       "      <td>271650000089845</td>\n",
       "      <td>89845</td>\n",
       "      <td>27165</td>\n",
       "      <td>0.8291</td>\n",
       "    </tr>\n",
       "    <tr>\n",
       "      <th>25</th>\n",
       "      <td>271650000079137</td>\n",
       "      <td>79137</td>\n",
       "      <td>27165</td>\n",
       "      <td>0.9101</td>\n",
       "    </tr>\n",
       "    <tr>\n",
       "      <th>26</th>\n",
       "      <td>518070000552889</td>\n",
       "      <td>552889</td>\n",
       "      <td>51807</td>\n",
       "      <td>0.7037</td>\n",
       "    </tr>\n",
       "    <tr>\n",
       "      <th>27</th>\n",
       "      <td>27050000057698</td>\n",
       "      <td>57698</td>\n",
       "      <td>2705</td>\n",
       "      <td>0.8190</td>\n",
       "    </tr>\n",
       "    <tr>\n",
       "      <th>28</th>\n",
       "      <td>261550000149603</td>\n",
       "      <td>149603</td>\n",
       "      <td>26155</td>\n",
       "      <td>0.8102</td>\n",
       "    </tr>\n",
       "    <tr>\n",
       "      <th>29</th>\n",
       "      <td>273390000084302</td>\n",
       "      <td>84302</td>\n",
       "      <td>27339</td>\n",
       "      <td>0.9018</td>\n",
       "    </tr>\n",
       "    <tr>\n",
       "      <th>...</th>\n",
       "      <td>...</td>\n",
       "      <td>...</td>\n",
       "      <td>...</td>\n",
       "      <td>...</td>\n",
       "    </tr>\n",
       "    <tr>\n",
       "      <th>19295</th>\n",
       "      <td>71670000064210</td>\n",
       "      <td>64210</td>\n",
       "      <td>7167</td>\n",
       "      <td>0.7129</td>\n",
       "    </tr>\n",
       "    <tr>\n",
       "      <th>19296</th>\n",
       "      <td>71670000025799</td>\n",
       "      <td>25799</td>\n",
       "      <td>7167</td>\n",
       "      <td>0.7827</td>\n",
       "    </tr>\n",
       "    <tr>\n",
       "      <th>19297</th>\n",
       "      <td>71670000284161</td>\n",
       "      <td>284161</td>\n",
       "      <td>7167</td>\n",
       "      <td>0.7010</td>\n",
       "    </tr>\n",
       "    <tr>\n",
       "      <th>19298</th>\n",
       "      <td>71670000010540</td>\n",
       "      <td>10540</td>\n",
       "      <td>7167</td>\n",
       "      <td>0.8145</td>\n",
       "    </tr>\n",
       "    <tr>\n",
       "      <th>19299</th>\n",
       "      <td>71670000011273</td>\n",
       "      <td>11273</td>\n",
       "      <td>7167</td>\n",
       "      <td>0.5853</td>\n",
       "    </tr>\n",
       "    <tr>\n",
       "      <th>19300</th>\n",
       "      <td>71670000007385</td>\n",
       "      <td>7385</td>\n",
       "      <td>7167</td>\n",
       "      <td>0.8349</td>\n",
       "    </tr>\n",
       "    <tr>\n",
       "      <th>19301</th>\n",
       "      <td>71670000023761</td>\n",
       "      <td>23761</td>\n",
       "      <td>7167</td>\n",
       "      <td>0.7026</td>\n",
       "    </tr>\n",
       "    <tr>\n",
       "      <th>19302</th>\n",
       "      <td>71670000027183</td>\n",
       "      <td>27183</td>\n",
       "      <td>7167</td>\n",
       "      <td>0.7523</td>\n",
       "    </tr>\n",
       "    <tr>\n",
       "      <th>19303</th>\n",
       "      <td>71670000009145</td>\n",
       "      <td>9145</td>\n",
       "      <td>7167</td>\n",
       "      <td>0.7871</td>\n",
       "    </tr>\n",
       "    <tr>\n",
       "      <th>19304</th>\n",
       "      <td>71670000023163</td>\n",
       "      <td>23163</td>\n",
       "      <td>7167</td>\n",
       "      <td>0.7163</td>\n",
       "    </tr>\n",
       "    <tr>\n",
       "      <th>19305</th>\n",
       "      <td>71670000023096</td>\n",
       "      <td>23096</td>\n",
       "      <td>7167</td>\n",
       "      <td>0.7415</td>\n",
       "    </tr>\n",
       "    <tr>\n",
       "      <th>19306</th>\n",
       "      <td>71670000010921</td>\n",
       "      <td>10921</td>\n",
       "      <td>7167</td>\n",
       "      <td>0.7589</td>\n",
       "    </tr>\n",
       "    <tr>\n",
       "      <th>19307</th>\n",
       "      <td>71670000090809</td>\n",
       "      <td>90809</td>\n",
       "      <td>7167</td>\n",
       "      <td>0.7512</td>\n",
       "    </tr>\n",
       "    <tr>\n",
       "      <th>19308</th>\n",
       "      <td>71670000126298</td>\n",
       "      <td>126298</td>\n",
       "      <td>7167</td>\n",
       "      <td>0.7461</td>\n",
       "    </tr>\n",
       "    <tr>\n",
       "      <th>19309</th>\n",
       "      <td>71670000134111</td>\n",
       "      <td>134111</td>\n",
       "      <td>7167</td>\n",
       "      <td>0.7693</td>\n",
       "    </tr>\n",
       "    <tr>\n",
       "      <th>19310</th>\n",
       "      <td>71670000023368</td>\n",
       "      <td>23368</td>\n",
       "      <td>7167</td>\n",
       "      <td>0.7075</td>\n",
       "    </tr>\n",
       "    <tr>\n",
       "      <th>19311</th>\n",
       "      <td>71670000051761</td>\n",
       "      <td>51761</td>\n",
       "      <td>7167</td>\n",
       "      <td>0.7221</td>\n",
       "    </tr>\n",
       "    <tr>\n",
       "      <th>19312</th>\n",
       "      <td>71670000010059</td>\n",
       "      <td>10059</td>\n",
       "      <td>7167</td>\n",
       "      <td>0.7041</td>\n",
       "    </tr>\n",
       "    <tr>\n",
       "      <th>19313</th>\n",
       "      <td>71670000221895</td>\n",
       "      <td>221895</td>\n",
       "      <td>7167</td>\n",
       "      <td>0.7176</td>\n",
       "    </tr>\n",
       "    <tr>\n",
       "      <th>19314</th>\n",
       "      <td>71670000080823</td>\n",
       "      <td>80823</td>\n",
       "      <td>7167</td>\n",
       "      <td>0.7472</td>\n",
       "    </tr>\n",
       "    <tr>\n",
       "      <th>19315</th>\n",
       "      <td>71670000009530</td>\n",
       "      <td>9530</td>\n",
       "      <td>7167</td>\n",
       "      <td>0.7154</td>\n",
       "    </tr>\n",
       "    <tr>\n",
       "      <th>19316</th>\n",
       "      <td>71670000007874</td>\n",
       "      <td>7874</td>\n",
       "      <td>7167</td>\n",
       "      <td>0.7180</td>\n",
       "    </tr>\n",
       "    <tr>\n",
       "      <th>19317</th>\n",
       "      <td>71670000084302</td>\n",
       "      <td>84302</td>\n",
       "      <td>7167</td>\n",
       "      <td>0.7446</td>\n",
       "    </tr>\n",
       "    <tr>\n",
       "      <th>19318</th>\n",
       "      <td>71670000065244</td>\n",
       "      <td>65244</td>\n",
       "      <td>7167</td>\n",
       "      <td>0.7639</td>\n",
       "    </tr>\n",
       "    <tr>\n",
       "      <th>19319</th>\n",
       "      <td>71670000022907</td>\n",
       "      <td>22907</td>\n",
       "      <td>7167</td>\n",
       "      <td>0.7417</td>\n",
       "    </tr>\n",
       "    <tr>\n",
       "      <th>19320</th>\n",
       "      <td>71670000376267</td>\n",
       "      <td>376267</td>\n",
       "      <td>7167</td>\n",
       "      <td>0.7649</td>\n",
       "    </tr>\n",
       "    <tr>\n",
       "      <th>19321</th>\n",
       "      <td>71670000026470</td>\n",
       "      <td>26470</td>\n",
       "      <td>7167</td>\n",
       "      <td>0.7629</td>\n",
       "    </tr>\n",
       "    <tr>\n",
       "      <th>19322</th>\n",
       "      <td>71670000023057</td>\n",
       "      <td>23057</td>\n",
       "      <td>7167</td>\n",
       "      <td>0.7612</td>\n",
       "    </tr>\n",
       "    <tr>\n",
       "      <th>19323</th>\n",
       "      <td>71670000192683</td>\n",
       "      <td>192683</td>\n",
       "      <td>7167</td>\n",
       "      <td>0.8701</td>\n",
       "    </tr>\n",
       "    <tr>\n",
       "      <th>19324</th>\n",
       "      <td>71670000063891</td>\n",
       "      <td>63891</td>\n",
       "      <td>7167</td>\n",
       "      <td>0.7582</td>\n",
       "    </tr>\n",
       "  </tbody>\n",
       "</table>\n",
       "<p>19325 rows × 4 columns</p>\n",
       "</div>"
      ],
      "text/plain": [
       "                   GPID   Gene1   Gene2  GTEx_Brain_Correlation\n",
       "0       228830000057463   57463   22883                  0.9121\n",
       "1       230800000025999   25999   23080                  0.8227\n",
       "2       641120000079137   79137   64112                  0.8763\n",
       "3       231630000148808  148808   23163                  0.7910\n",
       "4       575780000149603  149603   57578                  0.7363\n",
       "5       232610000025830   25830   23261                  0.7883\n",
       "6       844610000376267  376267   84461                  0.9140\n",
       "7       790120000079734   79734   79012                  0.8952\n",
       "8       229800000064112   64112   22980                  0.8296\n",
       "9       230250000026155   26155   23025                  0.8319\n",
       "10      110830000022980   22980   11083                  0.7540\n",
       "11      110220000084102   84102   11022                  0.8216\n",
       "12      908090000115950  115950   90809                  0.8802\n",
       "13      105790000023032   23032   10579                  0.8389\n",
       "14       43400000007018    7018    4340                  0.9652\n",
       "15      111270000023248   23248   11127                  0.7371\n",
       "16      230800000084911   84911   23080                  0.8619\n",
       "17       79400000054209   54209    7940                  0.9331\n",
       "18      230570000080823   80823   23057                  0.8910\n",
       "19      233680000051761   51761   23368                  0.8732\n",
       "20     1964030000283871  283871  196403                  0.9202\n",
       "21      544380000065244   65244   54438                  0.9543\n",
       "22      259990000064210   64210   25999                  0.8799\n",
       "23      109210000023761   23761   10921                  0.8940\n",
       "24      271650000089845   89845   27165                  0.8291\n",
       "25      271650000079137   79137   27165                  0.9101\n",
       "26      518070000552889  552889   51807                  0.7037\n",
       "27       27050000057698   57698    2705                  0.8190\n",
       "28      261550000149603  149603   26155                  0.8102\n",
       "29      273390000084302   84302   27339                  0.9018\n",
       "...                 ...     ...     ...                     ...\n",
       "19295    71670000064210   64210    7167                  0.7129\n",
       "19296    71670000025799   25799    7167                  0.7827\n",
       "19297    71670000284161  284161    7167                  0.7010\n",
       "19298    71670000010540   10540    7167                  0.8145\n",
       "19299    71670000011273   11273    7167                  0.5853\n",
       "19300    71670000007385    7385    7167                  0.8349\n",
       "19301    71670000023761   23761    7167                  0.7026\n",
       "19302    71670000027183   27183    7167                  0.7523\n",
       "19303    71670000009145    9145    7167                  0.7871\n",
       "19304    71670000023163   23163    7167                  0.7163\n",
       "19305    71670000023096   23096    7167                  0.7415\n",
       "19306    71670000010921   10921    7167                  0.7589\n",
       "19307    71670000090809   90809    7167                  0.7512\n",
       "19308    71670000126298  126298    7167                  0.7461\n",
       "19309    71670000134111  134111    7167                  0.7693\n",
       "19310    71670000023368   23368    7167                  0.7075\n",
       "19311    71670000051761   51761    7167                  0.7221\n",
       "19312    71670000010059   10059    7167                  0.7041\n",
       "19313    71670000221895  221895    7167                  0.7176\n",
       "19314    71670000080823   80823    7167                  0.7472\n",
       "19315    71670000009530    9530    7167                  0.7154\n",
       "19316    71670000007874    7874    7167                  0.7180\n",
       "19317    71670000084302   84302    7167                  0.7446\n",
       "19318    71670000065244   65244    7167                  0.7639\n",
       "19319    71670000022907   22907    7167                  0.7417\n",
       "19320    71670000376267  376267    7167                  0.7649\n",
       "19321    71670000026470   26470    7167                  0.7629\n",
       "19322    71670000023057   23057    7167                  0.7612\n",
       "19323    71670000192683  192683    7167                  0.8701\n",
       "19324    71670000063891   63891    7167                  0.7582\n",
       "\n",
       "[19325 rows x 4 columns]"
      ]
     },
     "execution_count": 9,
     "metadata": {},
     "output_type": "execute_result"
    }
   ],
   "source": [
    "network"
   ]
  },
  {
   "cell_type": "code",
   "execution_count": 12,
   "metadata": {
    "collapsed": false,
    "deletable": true,
    "editable": true,
    "scrolled": true
   },
   "outputs": [
    {
     "ename": "SyntaxError",
     "evalue": "invalid syntax (<ipython-input-12-beef6132e7fa>, line 5)",
     "output_type": "error",
     "traceback": [
      "\u001b[1;36m  File \u001b[1;32m\"<ipython-input-12-beef6132e7fa>\"\u001b[1;36m, line \u001b[1;32m5\u001b[0m\n\u001b[1;33m    ddot_host = f'http://{ucsd_hostname}:8383'\u001b[0m\n\u001b[1;37m                                             ^\u001b[0m\n\u001b[1;31mSyntaxError\u001b[0m\u001b[1;31m:\u001b[0m invalid syntax\n"
     ]
    }
   ],
   "source": [
    "network.iloc[:, 1:].to_csv('tmp.csv', sep='\\t', header=None, index=None)\n",
    "\n",
    "files = {'file': open('tmp.csv', 'rb')}\n",
    "\n",
    "ddot_host = f'http://{ucsd_hostname}:8383'\n",
    "ddot_route = '/api/ontology'\n",
    "ddot_query = '?alpha=0.007&beta=0.5'\n",
    "url = '{}{}{}'.format(ddot_host, ddot_route, ddot_query)\n",
    "\n",
    "print(url)\n",
    "\n",
    "ndex_url = 'http://test.ndexbio.org/#/network/'\n",
    "r = requests.post(url, files=files)\n",
    "if r is not None and r.text is not None:\n",
    "    uuid = r.text\n",
    "    print('{}{}'.format(ndex_url, uuid))"
   ]
  },
  {
   "cell_type": "markdown",
   "metadata": {
    "deletable": true,
    "editable": true
   },
   "source": [
    "The hierarchy itself is stored on NDEx and visible on <a href=\"http://hiview.ucsd.edu\">HiView</a>. To view on HiView, you need the NDEx url (the NDEx sever the hierarchy is hosted on) and the unique identifier (UUID). "
   ]
  }
 ],
 "metadata": {
  "kernelspec": {
   "display_name": "Python 3",
   "language": "python",
   "name": "python3"
  },
  "language_info": {
   "codemirror_mode": {
    "name": "ipython",
    "version": 3
   },
   "file_extension": ".py",
   "mimetype": "text/x-python",
   "name": "python",
   "nbconvert_exporter": "python",
   "pygments_lexer": "ipython3",
   "version": "3.4.2"
  }
 },
 "nbformat": 4,
 "nbformat_minor": 2
}
