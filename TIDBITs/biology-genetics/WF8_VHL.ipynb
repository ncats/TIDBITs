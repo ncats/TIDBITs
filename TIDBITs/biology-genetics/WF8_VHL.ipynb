{
 "cells": [
  {
   "cell_type": "markdown",
   "metadata": {
    "deletable": true,
    "editable": true
   },
   "source": [
    "# Workflow 8 - Von Hippel Lindau\n",
    "\n",
    "This notebook implements all three modules of Workflow 8 for Von Hippel Lindau disease. See <a href=\"https://docs.google.com/presentation/d/1IkAzjSrOMzOLx5z8GqRVKmVd1GKrpIEb_xF4g4RlI1U/edit?usp=sharing\">here</a> for an overview of Workflow 8.  \n",
    "\n",
    "Notebook written by: Samson Fong, John Earls, Theo Knijnenburg, Chris Churas and Aaron Gary.\n",
    "Adapted to VHL by Richard Bruskiewich"
   ]
  },
  {
   "cell_type": "markdown",
   "metadata": {
    "deletable": true,
    "editable": true
   },
   "source": [
    "## Libraries and such"
   ]
  },
  {
   "cell_type": "code",
   "execution_count": 1,
   "metadata": {
    "collapsed": false,
    "deletable": true,
    "editable": true
   },
   "outputs": [],
   "source": [
    "%load_ext autoreload\n",
    "%autoreload 2\n",
    "\n",
    "import json\n",
    "from pprint import pprint\n",
    "from wf8_module1 import doid_to_genes_and_tissues, doid_to_genes_direct\n",
    "from wf8_module2 import call_biggim\n",
    "import numpy as np\n",
    "import pandas as pd\n",
    "import time\n",
    "import sys\n",
    "sys.path.insert(0, \"wf8\")\n",
    "from wf8_module3 import DDOT_Client"
   ]
  },
  {
   "cell_type": "markdown",
   "metadata": {
    "deletable": true,
    "editable": true
   },
   "source": [
    "## Module 1 - Getting VHL genes and tissues"
   ]
  },
  {
   "cell_type": "code",
   "execution_count": 2,
   "metadata": {
    "collapsed": false,
    "deletable": true,
    "editable": true,
    "scrolled": true
   },
   "outputs": [
    {
     "name": "stderr",
     "output_type": "stream",
     "text": [
      "INFO:root:Geting HP ids from DOID\n"
     ]
    },
    {
     "name": "stdout",
     "output_type": "stream",
     "text": [
      "http://biothings.io/explorer/api/v2/directinput2output?input_prefix=doid&output_prefix=ncbigene&input_value=14175&format=translator\n",
      "Returned 2 genes\n"
     ]
    }
   ],
   "source": [
    "genes = doid_to_genes_direct('14175')"
   ]
  },
  {
   "cell_type": "code",
   "execution_count": 3,
   "metadata": {
    "collapsed": false,
    "deletable": true,
    "editable": true,
    "scrolled": true
   },
   "outputs": [
    {
     "name": "stderr",
     "output_type": "stream",
     "text": [
      "INFO:root:Geting HP ids from DOID\n"
     ]
    },
    {
     "name": "stdout",
     "output_type": "stream",
     "text": [
      "http://biothings.io/explorer/api/v2/directinput2output?input_prefix=doid&output_prefix=ncbigene&input_value=14175&format=translator\n"
     ]
    },
    {
     "name": "stderr",
     "output_type": "stream",
     "text": [
      "INFO:root:Geting HP ids from DOID\n"
     ]
    },
    {
     "name": "stdout",
     "output_type": "stream",
     "text": [
      "Returned 2 genes\n",
      "http://biothings.io/explorer/api/v2/directinput2output?input_prefix=doid&output_prefix=hp&input_value=14175&format=translator\n"
     ]
    },
    {
     "name": "stderr",
     "output_type": "stream",
     "text": [
      "INFO:root:Geting uberon from HP ids\n"
     ]
    },
    {
     "name": "stdout",
     "output_type": "stream",
     "text": [
      "Returned 54 phenotypes\n",
      "http://biothings.io/explorer/api/v2/directinput2output?input_prefix=hp&output_prefix=uberon&input_value=0002668&format=translator\n"
     ]
    },
    {
     "name": "stderr",
     "output_type": "stream",
     "text": [
      "WARNING:root:{'status': 400, 'error message': \"Endpoints could be located connecting hp to uberon. The endpoints are ['https://api.monarchinitiative.org/api/bioentity/phenotype/{phenotypeid}/anatomy']. However, no output could be found using the endpoint!\"}\n"
     ]
    },
    {
     "name": "stdout",
     "output_type": "stream",
     "text": [
      "http://biothings.io/explorer/api/v2/directinput2output?input_prefix=hp&output_prefix=uberon&input_value=0009715&format=translator\n"
     ]
    },
    {
     "name": "stderr",
     "output_type": "stream",
     "text": [
      "WARNING:root:{'status': 400, 'error message': \"Endpoints could be located connecting hp to uberon. The endpoints are ['https://api.monarchinitiative.org/api/bioentity/phenotype/{phenotypeid}/anatomy']. However, no output could be found using the endpoint!\"}\n"
     ]
    },
    {
     "name": "stdout",
     "output_type": "stream",
     "text": [
      "http://biothings.io/explorer/api/v2/directinput2output?input_prefix=hp&output_prefix=uberon&input_value=0000501&format=translator\n"
     ]
    },
    {
     "name": "stderr",
     "output_type": "stream",
     "text": [
      "WARNING:root:{'status': 400, 'error message': \"Endpoints could be located connecting hp to uberon. The endpoints are ['https://api.monarchinitiative.org/api/bioentity/phenotype/{phenotypeid}/anatomy']. However, no output could be found using the endpoint!\"}\n"
     ]
    },
    {
     "name": "stdout",
     "output_type": "stream",
     "text": [
      "http://biothings.io/explorer/api/v2/directinput2output?input_prefix=hp&output_prefix=uberon&input_value=0000572&format=translator\n"
     ]
    },
    {
     "name": "stderr",
     "output_type": "stream",
     "text": [
      "WARNING:root:{'status': 400, 'error message': \"Endpoints could be located connecting hp to uberon. The endpoints are ['https://api.monarchinitiative.org/api/bioentity/phenotype/{phenotypeid}/anatomy']. However, no output could be found using the endpoint!\"}\n"
     ]
    },
    {
     "name": "stdout",
     "output_type": "stream",
     "text": [
      "http://biothings.io/explorer/api/v2/directinput2output?input_prefix=hp&output_prefix=uberon&input_value=0000541&format=translator\n",
      "http://biothings.io/explorer/api/v2/directinput2output?input_prefix=hp&output_prefix=uberon&input_value=0000763&format=translator\n",
      "http://biothings.io/explorer/api/v2/directinput2output?input_prefix=hp&output_prefix=uberon&input_value=0000238&format=translator\n"
     ]
    },
    {
     "name": "stderr",
     "output_type": "stream",
     "text": [
      "WARNING:root:{'status': 400, 'error message': \"Endpoints could be located connecting hp to uberon. The endpoints are ['https://api.monarchinitiative.org/api/bioentity/phenotype/{phenotypeid}/anatomy']. However, no output could be found using the endpoint!\"}\n"
     ]
    },
    {
     "name": "stdout",
     "output_type": "stream",
     "text": [
      "http://biothings.io/explorer/api/v2/directinput2output?input_prefix=hp&output_prefix=uberon&input_value=0001288&format=translator\n"
     ]
    },
    {
     "name": "stderr",
     "output_type": "stream",
     "text": [
      "WARNING:root:{'status': 400, 'error message': \"Endpoints could be located connecting hp to uberon. The endpoints are ['https://api.monarchinitiative.org/api/bioentity/phenotype/{phenotypeid}/anatomy']. However, no output could be found using the endpoint!\"}\n"
     ]
    },
    {
     "name": "stdout",
     "output_type": "stream",
     "text": [
      "http://biothings.io/explorer/api/v2/directinput2output?input_prefix=hp&output_prefix=uberon&input_value=0000505&format=translator\n"
     ]
    },
    {
     "name": "stderr",
     "output_type": "stream",
     "text": [
      "WARNING:root:{'status': 400, 'error message': \"Endpoints could be located connecting hp to uberon. The endpoints are ['https://api.monarchinitiative.org/api/bioentity/phenotype/{phenotypeid}/anatomy']. However, no output could be found using the endpoint!\"}\n"
     ]
    },
    {
     "name": "stdout",
     "output_type": "stream",
     "text": [
      "http://biothings.io/explorer/api/v2/directinput2output?input_prefix=hp&output_prefix=uberon&input_value=0100585&format=translator\n"
     ]
    },
    {
     "name": "stderr",
     "output_type": "stream",
     "text": [
      "WARNING:root:{'status': 400, 'error message': \"Endpoints could be located connecting hp to uberon. The endpoints are ['https://api.monarchinitiative.org/api/bioentity/phenotype/{phenotypeid}/anatomy']. However, no output could be found using the endpoint!\"}\n"
     ]
    },
    {
     "name": "stdout",
     "output_type": "stream",
     "text": [
      "http://biothings.io/explorer/api/v2/directinput2output?input_prefix=hp&output_prefix=uberon&input_value=0100742&format=translator\n"
     ]
    },
    {
     "name": "stderr",
     "output_type": "stream",
     "text": [
      "WARNING:root:{'status': 400, 'error message': \"Endpoints could be located connecting hp to uberon. The endpoints are ['https://api.monarchinitiative.org/api/bioentity/phenotype/{phenotypeid}/anatomy']. However, no output could be found using the endpoint!\"}\n"
     ]
    },
    {
     "name": "stdout",
     "output_type": "stream",
     "text": [
      "http://biothings.io/explorer/api/v2/directinput2output?input_prefix=hp&output_prefix=uberon&input_value=0000360&format=translator\n"
     ]
    },
    {
     "name": "stderr",
     "output_type": "stream",
     "text": [
      "WARNING:root:{'status': 400, 'error message': \"Endpoints could be located connecting hp to uberon. The endpoints are ['https://api.monarchinitiative.org/api/bioentity/phenotype/{phenotypeid}/anatomy']. However, no output could be found using the endpoint!\"}\n"
     ]
    },
    {
     "name": "stdout",
     "output_type": "stream",
     "text": [
      "http://biothings.io/explorer/api/v2/directinput2output?input_prefix=hp&output_prefix=uberon&input_value=0002894&format=translator\n"
     ]
    },
    {
     "name": "stderr",
     "output_type": "stream",
     "text": [
      "WARNING:root:{'status': 400, 'error message': \"Endpoints could be located connecting hp to uberon. The endpoints are ['https://api.monarchinitiative.org/api/bioentity/phenotype/{phenotypeid}/anatomy']. However, no output could be found using the endpoint!\"}\n"
     ]
    },
    {
     "name": "stdout",
     "output_type": "stream",
     "text": [
      "http://biothings.io/explorer/api/v2/directinput2output?input_prefix=hp&output_prefix=uberon&input_value=0008046&format=translator\n",
      "http://biothings.io/explorer/api/v2/directinput2output?input_prefix=hp&output_prefix=uberon&input_value=0005306&format=translator\n",
      "http://biothings.io/explorer/api/v2/directinput2output?input_prefix=hp&output_prefix=uberon&input_value=0000077&format=translator\n"
     ]
    },
    {
     "name": "stderr",
     "output_type": "stream",
     "text": [
      "WARNING:root:{'status': 400, 'error message': \"Endpoints could be located connecting hp to uberon. The endpoints are ['https://api.monarchinitiative.org/api/bioentity/phenotype/{phenotypeid}/anatomy']. However, no output could be found using the endpoint!\"}\n"
     ]
    },
    {
     "name": "stdout",
     "output_type": "stream",
     "text": [
      "http://biothings.io/explorer/api/v2/directinput2output?input_prefix=hp&output_prefix=uberon&input_value=0000006&format=translator\n"
     ]
    },
    {
     "name": "stderr",
     "output_type": "stream",
     "text": [
      "WARNING:root:{'status': 400, 'error message': \"Endpoints could be located connecting hp to uberon. The endpoints are ['https://api.monarchinitiative.org/api/bioentity/phenotype/{phenotypeid}/anatomy']. However, no output could be found using the endpoint!\"}\n"
     ]
    },
    {
     "name": "stdout",
     "output_type": "stream",
     "text": [
      "http://biothings.io/explorer/api/v2/directinput2output?input_prefix=hp&output_prefix=uberon&input_value=0030424&format=translator\n"
     ]
    },
    {
     "name": "stderr",
     "output_type": "stream",
     "text": [
      "WARNING:root:{'status': 400, 'error message': \"Endpoints could be located connecting hp to uberon. The endpoints are ['https://api.monarchinitiative.org/api/bioentity/phenotype/{phenotypeid}/anatomy']. However, no output could be found using the endpoint!\"}\n"
     ]
    },
    {
     "name": "stdout",
     "output_type": "stream",
     "text": [
      "http://biothings.io/explorer/api/v2/directinput2output?input_prefix=hp&output_prefix=uberon&input_value=0002664&format=translator\n"
     ]
    },
    {
     "name": "stderr",
     "output_type": "stream",
     "text": [
      "WARNING:root:{'status': 400, 'error message': \"Endpoints could be located connecting hp to uberon. The endpoints are ['https://api.monarchinitiative.org/api/bioentity/phenotype/{phenotypeid}/anatomy']. However, no output could be found using the endpoint!\"}\n"
     ]
    },
    {
     "name": "stdout",
     "output_type": "stream",
     "text": [
      "http://biothings.io/explorer/api/v2/directinput2output?input_prefix=hp&output_prefix=uberon&input_value=0000518&format=translator\n",
      "http://biothings.io/explorer/api/v2/directinput2output?input_prefix=hp&output_prefix=uberon&input_value=0000365&format=translator\n"
     ]
    },
    {
     "name": "stderr",
     "output_type": "stream",
     "text": [
      "WARNING:root:{'status': 400, 'error message': \"Endpoints could be located connecting hp to uberon. The endpoints are ['https://api.monarchinitiative.org/api/bioentity/phenotype/{phenotypeid}/anatomy']. However, no output could be found using the endpoint!\"}\n"
     ]
    },
    {
     "name": "stdout",
     "output_type": "stream",
     "text": [
      "http://biothings.io/explorer/api/v2/directinput2output?input_prefix=hp&output_prefix=uberon&input_value=0005584&format=translator\n"
     ]
    },
    {
     "name": "stderr",
     "output_type": "stream",
     "text": [
      "WARNING:root:{'status': 400, 'error message': \"Endpoints could be located connecting hp to uberon. The endpoints are ['https://api.monarchinitiative.org/api/bioentity/phenotype/{phenotypeid}/anatomy']. However, no output could be found using the endpoint!\"}\n"
     ]
    },
    {
     "name": "stdout",
     "output_type": "stream",
     "text": [
      "http://biothings.io/explorer/api/v2/directinput2output?input_prefix=hp&output_prefix=uberon&input_value=0100634&format=translator\n"
     ]
    },
    {
     "name": "stderr",
     "output_type": "stream",
     "text": [
      "WARNING:root:{'status': 400, 'error message': \"Endpoints could be located connecting hp to uberon. The endpoints are ['https://api.monarchinitiative.org/api/bioentity/phenotype/{phenotypeid}/anatomy']. However, no output could be found using the endpoint!\"}\n"
     ]
    },
    {
     "name": "stdout",
     "output_type": "stream",
     "text": [
      "http://biothings.io/explorer/api/v2/directinput2output?input_prefix=hp&output_prefix=uberon&input_value=0005562&format=translator\n"
     ]
    },
    {
     "name": "stderr",
     "output_type": "stream",
     "text": [
      "WARNING:root:{'status': 400, 'error message': \"Endpoints could be located connecting hp to uberon. The endpoints are ['https://api.monarchinitiative.org/api/bioentity/phenotype/{phenotypeid}/anatomy']. However, no output could be found using the endpoint!\"}\n"
     ]
    },
    {
     "name": "stdout",
     "output_type": "stream",
     "text": [
      "http://biothings.io/explorer/api/v2/directinput2output?input_prefix=hp&output_prefix=uberon&input_value=0002321&format=translator\n"
     ]
    },
    {
     "name": "stderr",
     "output_type": "stream",
     "text": [
      "WARNING:root:{'status': 400, 'error message': \"Endpoints could be located connecting hp to uberon. The endpoints are ['https://api.monarchinitiative.org/api/bioentity/phenotype/{phenotypeid}/anatomy']. However, no output could be found using the endpoint!\"}\n"
     ]
    },
    {
     "name": "stdout",
     "output_type": "stream",
     "text": [
      "http://biothings.io/explorer/api/v2/directinput2output?input_prefix=hp&output_prefix=uberon&input_value=0009711&format=translator\n"
     ]
    },
    {
     "name": "stderr",
     "output_type": "stream",
     "text": [
      "WARNING:root:{'status': 400, 'error message': \"Endpoints could be located connecting hp to uberon. The endpoints are ['https://api.monarchinitiative.org/api/bioentity/phenotype/{phenotypeid}/anatomy']. However, no output could be found using the endpoint!\"}\n"
     ]
    },
    {
     "name": "stdout",
     "output_type": "stream",
     "text": [
      "http://biothings.io/explorer/api/v2/directinput2output?input_prefix=hp&output_prefix=uberon&input_value=0100761&format=translator\n"
     ]
    },
    {
     "name": "stderr",
     "output_type": "stream",
     "text": [
      "WARNING:root:{'status': 400, 'error message': \"Endpoints could be located connecting hp to uberon. The endpoints are ['https://api.monarchinitiative.org/api/bioentity/phenotype/{phenotypeid}/anatomy']. However, no output could be found using the endpoint!\"}\n"
     ]
    },
    {
     "name": "stdout",
     "output_type": "stream",
     "text": [
      "http://biothings.io/explorer/api/v2/directinput2output?input_prefix=hp&output_prefix=uberon&input_value=0001901&format=translator\n"
     ]
    },
    {
     "name": "stderr",
     "output_type": "stream",
     "text": [
      "WARNING:root:{'status': 400, 'error message': \"Endpoints could be located connecting hp to uberon. The endpoints are ['https://api.monarchinitiative.org/api/bioentity/phenotype/{phenotypeid}/anatomy']. However, no output could be found using the endpoint!\"}\n"
     ]
    },
    {
     "name": "stdout",
     "output_type": "stream",
     "text": [
      "http://biothings.io/explorer/api/v2/directinput2output?input_prefix=hp&output_prefix=uberon&input_value=0004374&format=translator\n"
     ]
    },
    {
     "name": "stderr",
     "output_type": "stream",
     "text": [
      "WARNING:root:{'status': 400, 'error message': \"Endpoints could be located connecting hp to uberon. The endpoints are ['https://api.monarchinitiative.org/api/bioentity/phenotype/{phenotypeid}/anatomy']. However, no output could be found using the endpoint!\"}\n"
     ]
    },
    {
     "name": "stdout",
     "output_type": "stream",
     "text": [
      "http://biothings.io/explorer/api/v2/directinput2output?input_prefix=hp&output_prefix=uberon&input_value=0100026&format=translator\n",
      "http://biothings.io/explorer/api/v2/directinput2output?input_prefix=hp&output_prefix=uberon&input_value=0100659&format=translator\n"
     ]
    },
    {
     "name": "stderr",
     "output_type": "stream",
     "text": [
      "WARNING:root:{'status': 400, 'error message': \"Endpoints could be located connecting hp to uberon. The endpoints are ['https://api.monarchinitiative.org/api/bioentity/phenotype/{phenotypeid}/anatomy']. However, no output could be found using the endpoint!\"}\n"
     ]
    },
    {
     "name": "stdout",
     "output_type": "stream",
     "text": [
      "http://biothings.io/explorer/api/v2/directinput2output?input_prefix=hp&output_prefix=uberon&input_value=0009713&format=translator\n"
     ]
    },
    {
     "name": "stderr",
     "output_type": "stream",
     "text": [
      "WARNING:root:{'status': 400, 'error message': \"Endpoints could be located connecting hp to uberon. The endpoints are ['https://api.monarchinitiative.org/api/bioentity/phenotype/{phenotypeid}/anatomy']. However, no output could be found using the endpoint!\"}\n"
     ]
    },
    {
     "name": "stdout",
     "output_type": "stream",
     "text": [
      "http://biothings.io/explorer/api/v2/directinput2output?input_prefix=hp&output_prefix=uberon&input_value=0003812&format=translator\n"
     ]
    },
    {
     "name": "stderr",
     "output_type": "stream",
     "text": [
      "WARNING:root:{'status': 400, 'error message': \"Endpoints could be located connecting hp to uberon. The endpoints are ['https://api.monarchinitiative.org/api/bioentity/phenotype/{phenotypeid}/anatomy']. However, no output could be found using the endpoint!\"}\n"
     ]
    },
    {
     "name": "stdout",
     "output_type": "stream",
     "text": [
      "http://biothings.io/explorer/api/v2/directinput2output?input_prefix=hp&output_prefix=uberon&input_value=0000639&format=translator\n"
     ]
    },
    {
     "name": "stderr",
     "output_type": "stream",
     "text": [
      "WARNING:root:{'status': 400, 'error message': \"Endpoints could be located connecting hp to uberon. The endpoints are ['https://api.monarchinitiative.org/api/bioentity/phenotype/{phenotypeid}/anatomy']. However, no output could be found using the endpoint!\"}\n"
     ]
    },
    {
     "name": "stdout",
     "output_type": "stream",
     "text": [
      "http://biothings.io/explorer/api/v2/directinput2output?input_prefix=hp&output_prefix=uberon&input_value=0001392&format=translator\n",
      "http://biothings.io/explorer/api/v2/directinput2output?input_prefix=hp&output_prefix=uberon&input_value=0006880&format=translator\n"
     ]
    },
    {
     "name": "stderr",
     "output_type": "stream",
     "text": [
      "WARNING:root:{'status': 400, 'error message': \"Endpoints could be located connecting hp to uberon. The endpoints are ['https://api.monarchinitiative.org/api/bioentity/phenotype/{phenotypeid}/anatomy']. However, no output could be found using the endpoint!\"}\n"
     ]
    },
    {
     "name": "stdout",
     "output_type": "stream",
     "text": [
      "http://biothings.io/explorer/api/v2/directinput2output?input_prefix=hp&output_prefix=uberon&input_value=0002516&format=translator\n"
     ]
    },
    {
     "name": "stderr",
     "output_type": "stream",
     "text": [
      "WARNING:root:{'status': 400, 'error message': \"Endpoints could be located connecting hp to uberon. The endpoints are ['https://api.monarchinitiative.org/api/bioentity/phenotype/{phenotypeid}/anatomy']. However, no output could be found using the endpoint!\"}\n"
     ]
    },
    {
     "name": "stdout",
     "output_type": "stream",
     "text": [
      "http://biothings.io/explorer/api/v2/directinput2output?input_prefix=hp&output_prefix=uberon&input_value=0000822&format=translator\n",
      "http://biothings.io/explorer/api/v2/directinput2output?input_prefix=hp&output_prefix=uberon&input_value=0001732&format=translator\n"
     ]
    },
    {
     "name": "stderr",
     "output_type": "stream",
     "text": [
      "WARNING:root:{'status': 400, 'error message': \"Endpoints could be located connecting hp to uberon. The endpoints are ['https://api.monarchinitiative.org/api/bioentity/phenotype/{phenotypeid}/anatomy']. However, no output could be found using the endpoint!\"}\n"
     ]
    },
    {
     "name": "stdout",
     "output_type": "stream",
     "text": [
      "http://biothings.io/explorer/api/v2/directinput2output?input_prefix=hp&output_prefix=uberon&input_value=0002017&format=translator\n"
     ]
    },
    {
     "name": "stderr",
     "output_type": "stream",
     "text": [
      "WARNING:root:{'status': 400, 'error message': \"Endpoints could be located connecting hp to uberon. The endpoints are ['https://api.monarchinitiative.org/api/bioentity/phenotype/{phenotypeid}/anatomy']. However, no output could be found using the endpoint!\"}\n"
     ]
    },
    {
     "name": "stdout",
     "output_type": "stream",
     "text": [
      "http://biothings.io/explorer/api/v2/directinput2output?input_prefix=hp&output_prefix=uberon&input_value=0001737&format=translator\n"
     ]
    },
    {
     "name": "stderr",
     "output_type": "stream",
     "text": [
      "WARNING:root:{'status': 400, 'error message': \"Endpoints could be located connecting hp to uberon. The endpoints are ['https://api.monarchinitiative.org/api/bioentity/phenotype/{phenotypeid}/anatomy']. However, no output could be found using the endpoint!\"}\n"
     ]
    },
    {
     "name": "stdout",
     "output_type": "stream",
     "text": [
      "http://biothings.io/explorer/api/v2/directinput2output?input_prefix=hp&output_prefix=uberon&input_value=0001251&format=translator\n"
     ]
    },
    {
     "name": "stderr",
     "output_type": "stream",
     "text": [
      "WARNING:root:{'status': 400, 'error message': \"Endpoints could be located connecting hp to uberon. The endpoints are ['https://api.monarchinitiative.org/api/bioentity/phenotype/{phenotypeid}/anatomy']. However, no output could be found using the endpoint!\"}\n"
     ]
    },
    {
     "name": "stdout",
     "output_type": "stream",
     "text": [
      "http://biothings.io/explorer/api/v2/directinput2output?input_prefix=hp&output_prefix=uberon&input_value=0002666&format=translator\n"
     ]
    },
    {
     "name": "stderr",
     "output_type": "stream",
     "text": [
      "WARNING:root:{'status': 400, 'error message': \"Endpoints could be located connecting hp to uberon. The endpoints are ['https://api.monarchinitiative.org/api/bioentity/phenotype/{phenotypeid}/anatomy']. However, no output could be found using the endpoint!\"}\n"
     ]
    },
    {
     "name": "stdout",
     "output_type": "stream",
     "text": [
      "http://biothings.io/explorer/api/v2/directinput2output?input_prefix=hp&output_prefix=uberon&input_value=0100763&format=translator\n",
      "http://biothings.io/explorer/api/v2/directinput2output?input_prefix=hp&output_prefix=uberon&input_value=0100799&format=translator\n"
     ]
    },
    {
     "name": "stderr",
     "output_type": "stream",
     "text": [
      "WARNING:root:{'status': 400, 'error message': \"Endpoints could be located connecting hp to uberon. The endpoints are ['https://api.monarchinitiative.org/api/bioentity/phenotype/{phenotypeid}/anatomy']. However, no output could be found using the endpoint!\"}\n"
     ]
    },
    {
     "name": "stdout",
     "output_type": "stream",
     "text": [
      "http://biothings.io/explorer/api/v2/directinput2output?input_prefix=hp&output_prefix=uberon&input_value=0002076&format=translator\n"
     ]
    },
    {
     "name": "stderr",
     "output_type": "stream",
     "text": [
      "WARNING:root:{'status': 400, 'error message': \"Endpoints could be located connecting hp to uberon. The endpoints are ['https://api.monarchinitiative.org/api/bioentity/phenotype/{phenotypeid}/anatomy']. However, no output could be found using the endpoint!\"}\n"
     ]
    },
    {
     "name": "stdout",
     "output_type": "stream",
     "text": [
      "http://biothings.io/explorer/api/v2/directinput2output?input_prefix=hp&output_prefix=uberon&input_value=0002167&format=translator\n"
     ]
    },
    {
     "name": "stderr",
     "output_type": "stream",
     "text": [
      "WARNING:root:{'status': 400, 'error message': \"Endpoints could be located connecting hp to uberon. The endpoints are ['https://api.monarchinitiative.org/api/bioentity/phenotype/{phenotypeid}/anatomy']. However, no output could be found using the endpoint!\"}\n"
     ]
    },
    {
     "name": "stdout",
     "output_type": "stream",
     "text": [
      "http://biothings.io/explorer/api/v2/directinput2output?input_prefix=hp&output_prefix=uberon&input_value=0011675&format=translator\n"
     ]
    },
    {
     "name": "stderr",
     "output_type": "stream",
     "text": [
      "WARNING:root:{'status': 400, 'error message': \"Endpoints could be located connecting hp to uberon. The endpoints are ['https://api.monarchinitiative.org/api/bioentity/phenotype/{phenotypeid}/anatomy']. However, no output could be found using the endpoint!\"}\n"
     ]
    },
    {
     "name": "stdout",
     "output_type": "stream",
     "text": [
      "http://biothings.io/explorer/api/v2/directinput2output?input_prefix=hp&output_prefix=uberon&input_value=0005954&format=translator\n",
      "http://biothings.io/explorer/api/v2/directinput2output?input_prefix=hp&output_prefix=uberon&input_value=0000975&format=translator\n"
     ]
    },
    {
     "name": "stderr",
     "output_type": "stream",
     "text": [
      "WARNING:root:{'status': 400, 'error message': \"Endpoints could be located connecting hp to uberon. The endpoints are ['https://api.monarchinitiative.org/api/bioentity/phenotype/{phenotypeid}/anatomy']. However, no output could be found using the endpoint!\"}\n"
     ]
    },
    {
     "name": "stdout",
     "output_type": "stream",
     "text": [
      "http://biothings.io/explorer/api/v2/directinput2output?input_prefix=hp&output_prefix=uberon&input_value=0000113&format=translator\n"
     ]
    },
    {
     "name": "stderr",
     "output_type": "stream",
     "text": [
      "WARNING:root:{'status': 400, 'error message': \"Endpoints could be located connecting hp to uberon. The endpoints are ['https://api.monarchinitiative.org/api/bioentity/phenotype/{phenotypeid}/anatomy']. However, no output could be found using the endpoint!\"}\n"
     ]
    },
    {
     "name": "stdout",
     "output_type": "stream",
     "text": [
      "http://biothings.io/explorer/api/v2/directinput2output?input_prefix=hp&output_prefix=uberon&input_value=0000003&format=translator\n",
      "http://biothings.io/explorer/api/v2/directinput2output?input_prefix=hp&output_prefix=uberon&input_value=0000407&format=translator\n",
      "http://biothings.io/explorer/api/v2/directinput2output?input_prefix=hp&output_prefix=uberon&input_value=0007360&format=translator\n"
     ]
    },
    {
     "name": "stderr",
     "output_type": "stream",
     "text": [
      "INFO:root:Geting brenda tissue names from uberon tissue identifiers\n"
     ]
    },
    {
     "name": "stdout",
     "output_type": "stream",
     "text": [
      "Returned 16 uberon tissues\n",
      "Returned 7 brenda tissues\n"
     ]
    }
   ],
   "source": [
    "genes,tissues = doid_to_genes_and_tissues('14175',direct=True,N=1000)\n",
    "#will return 20 tissues, this will take a while"
   ]
  },
  {
   "cell_type": "code",
   "execution_count": 4,
   "metadata": {
    "collapsed": false,
    "deletable": true,
    "editable": true,
    "scrolled": true
   },
   "outputs": [
    {
     "name": "stdout",
     "output_type": "stream",
     "text": [
      "['animal', 'aorta', 'artery', 'bone', 'brain_ventricle', 'cardiovascular_system', 'cornea', 'duodenum', 'esophagus', 'gonad', 'head', 'heart', 'hematopoietic_system', 'lens', 'liver', 'neck', 'testis', 'trachea', 'umbilical_cord', 'uterus']\n",
      "20\n",
      "['esophagus', 'hematopoietic_system', 'neck', 'trachea']\n"
     ]
    }
   ],
   "source": [
    "#here are the 20 tissues; Maureen selected 4 from thos\n",
    "tissues = ['animal', 'aorta', 'artery', 'bone', 'brain_ventricle', 'cardiovascular_system', 'cornea', 'duodenum', 'esophagus', 'gonad', 'head', 'heart', 'hematopoietic_system', 'lens', 'liver', 'neck', 'testis', 'trachea', 'umbilical_cord', 'uterus']\n",
    "print(tissues)\n",
    "print(len(tissues))\n",
    "tissues = ['esophagus','hematopoietic_system', 'neck', 'trachea']\n",
    "print(tissues)"
   ]
  },
  {
   "cell_type": "markdown",
   "metadata": {
    "deletable": true,
    "editable": true
   },
   "source": [
    "## Module 2 - Getting FA interacting genes\n",
    "We ask for N=200 new genes."
   ]
  },
  {
   "cell_type": "code",
   "execution_count": 5,
   "metadata": {
    "collapsed": false,
    "deletable": true,
    "editable": true,
    "scrolled": true
   },
   "outputs": [
    {
     "name": "stdout",
     "output_type": "stream",
     "text": [
      "Sent: GET http://biggim.ncats.io/api/metadata/tissue/esophagus?None\n",
      "Sent: GET http://biggim.ncats.io/api/metadata/tissue/hematopoietic_system?None\n",
      "Sent: GET http://biggim.ncats.io/api/metadata/tissue/neck?None\n",
      "Sent: GET http://biggim.ncats.io/api/metadata/tissue/trachea?None\n",
      "Returned 56 Big GIM columns\n",
      "['GIANT_macrophage_ProbabilityOfFunctionalInteraction', 'GTEx_Blood_Correlation', 'GIANT_tonsil_ProbabilityOfFunctionalInteraction', 'GIANT_monocyte_KnownFunctionalInteraction', 'GIANT_spleen_KnownFunctionalInteraction', 'GIANT_mononuclear_phagocyte_KnownFunctionalInteraction', 'GIANT_lymphocyte_KnownFunctionalInteraction', 'GIANT_natural_killer_cell_KnownFunctionalInteraction', 'GIANT_leukocyte_KnownFunctionalInteraction', 'GIANT_blood_ProbabilityOfFunctionalInteraction', 'GIANT_thyroid_gland_ProbabilityOfFunctionalInteraction', 'GIANT_eosinophil_KnownFunctionalInteraction', 'GIANT_hematopoietic_stem_cell_ProbabilityOfFunctionalInteraction', 'GIANT_t_lymphocyte_KnownFunctionalInteraction', 'GIANT_eosinophil_ProbabilityOfFunctionalInteraction', 'GIANT_esophagus_KnownFunctionalInteraction', 'GIANT_tonsil_KnownFunctionalInteraction', 'GIANT_neutrophil_ProbabilityOfFunctionalInteraction', 'GIANT_esophagus_ProbabilityOfFunctionalInteraction', 'GIANT_blood_platelet_KnownFunctionalInteraction', 'GIANT_blood_plasma_KnownFunctionalInteraction', 'GIANT_macrophage_KnownFunctionalInteraction', 'GIANT_b_lymphocyte_KnownFunctionalInteraction', 'GIANT_serum_KnownFunctionalInteraction', 'GIANT_dendritic_cell_KnownFunctionalInteraction', 'GIANT_dendritic_cell_ProbabilityOfFunctionalInteraction', 'GIANT_mononuclear_phagocyte_ProbabilityOfFunctionalInteraction', 'GIANT_trachea_KnownFunctionalInteraction', 'GIANT_blood_KnownFunctionalInteraction', 'GIANT_natural_killer_cell_ProbabilityOfFunctionalInteraction', 'GIANT_lymph_node_KnownFunctionalInteraction', 'GIANT_thyroid_gland_KnownFunctionalInteraction', 'GIANT_granulocyte_KnownFunctionalInteraction', 'GIANT_basophil_KnownFunctionalInteraction', 'GIANT_megakaryocyte_KnownFunctionalInteraction', 'GIANT_hematopoietic_stem_cell_KnownFunctionalInteraction', 'GIANT_thymocyte_ProbabilityOfFunctionalInteraction', 'GIANT_monocyte_ProbabilityOfFunctionalInteraction', 'GIANT_lymph_node_ProbabilityOfFunctionalInteraction', 'GIANT_megakaryocyte_ProbabilityOfFunctionalInteraction', 'GIANT_serum_ProbabilityOfFunctionalInteraction', 'GIANT_leukocyte_ProbabilityOfFunctionalInteraction', 'GIANT_blood_platelet_ProbabilityOfFunctionalInteraction', 'GIANT_thymocyte_KnownFunctionalInteraction', 'GIANT_spleen_ProbabilityOfFunctionalInteraction', 'GIANT_b_lymphocyte_ProbabilityOfFunctionalInteraction', 'GIANT_blood_plasma_ProbabilityOfFunctionalInteraction', 'GIANT_trachea_ProbabilityOfFunctionalInteraction', 'GTEx_Spleen_Correlation', 'GIANT_basophil_ProbabilityOfFunctionalInteraction', 'GIANT_neutrophil_KnownFunctionalInteraction', 'GTEx_Esophagus_Correlation', 'GIANT_lymphocyte_ProbabilityOfFunctionalInteraction', 'GIANT_granulocyte_ProbabilityOfFunctionalInteraction', 'GTEx_Thyroid_Correlation', 'GIANT_t_lymphocyte_ProbabilityOfFunctionalInteraction']\n",
      "Sent: GET http://biggim.ncats.io/api/biggim/query?restriction_gt=GIANT_macrophage_ProbabilityOfFunctionalInteraction%2C-2.0%2CGTEx_Blood_Correlation%2C-2.0%2CGIANT_tonsil_ProbabilityOfFunctionalInteraction%2C-2.0%2CGIANT_monocyte_KnownFunctionalInteraction%2C-2.0%2CGIANT_spleen_KnownFunctionalInteraction%2C-2.0%2CGIANT_mononuclear_phagocyte_KnownFunctionalInteraction%2C-2.0%2CGIANT_lymphocyte_KnownFunctionalInteraction%2C-2.0%2CGIANT_natural_killer_cell_KnownFunctionalInteraction%2C-2.0%2CGIANT_leukocyte_KnownFunctionalInteraction%2C-2.0%2CGIANT_blood_ProbabilityOfFunctionalInteraction%2C-2.0%2CGIANT_thyroid_gland_ProbabilityOfFunctionalInteraction%2C-2.0%2CGIANT_eosinophil_KnownFunctionalInteraction%2C-2.0%2CGIANT_hematopoietic_stem_cell_ProbabilityOfFunctionalInteraction%2C-2.0%2CGIANT_t_lymphocyte_KnownFunctionalInteraction%2C-2.0%2CGIANT_eosinophil_ProbabilityOfFunctionalInteraction%2C-2.0%2CGIANT_esophagus_KnownFunctionalInteraction%2C-2.0%2CGIANT_tonsil_KnownFunctionalInteraction%2C-2.0%2CGIANT_neutrophil_ProbabilityOfFunctionalInteraction%2C-2.0%2CGIANT_esophagus_ProbabilityOfFunctionalInteraction%2C-2.0%2CGIANT_blood_platelet_KnownFunctionalInteraction%2C-2.0%2CGIANT_blood_plasma_KnownFunctionalInteraction%2C-2.0%2CGIANT_macrophage_KnownFunctionalInteraction%2C-2.0%2CGIANT_b_lymphocyte_KnownFunctionalInteraction%2C-2.0%2CGIANT_serum_KnownFunctionalInteraction%2C-2.0%2CGIANT_dendritic_cell_KnownFunctionalInteraction%2C-2.0%2CGIANT_dendritic_cell_ProbabilityOfFunctionalInteraction%2C-2.0%2CGIANT_mononuclear_phagocyte_ProbabilityOfFunctionalInteraction%2C-2.0%2CGIANT_trachea_KnownFunctionalInteraction%2C-2.0%2CGIANT_blood_KnownFunctionalInteraction%2C-2.0%2CGIANT_natural_killer_cell_ProbabilityOfFunctionalInteraction%2C-2.0%2CGIANT_lymph_node_KnownFunctionalInteraction%2C-2.0%2CGIANT_thyroid_gland_KnownFunctionalInteraction%2C-2.0%2CGIANT_granulocyte_KnownFunctionalInteraction%2C-2.0%2CGIANT_basophil_KnownFunctionalInteraction%2C-2.0%2CGIANT_megakaryocyte_KnownFunctionalInteraction%2C-2.0%2CGIANT_hematopoietic_stem_cell_KnownFunctionalInteraction%2C-2.0%2CGIANT_thymocyte_ProbabilityOfFunctionalInteraction%2C-2.0%2CGIANT_monocyte_ProbabilityOfFunctionalInteraction%2C-2.0%2CGIANT_lymph_node_ProbabilityOfFunctionalInteraction%2C-2.0%2CGIANT_megakaryocyte_ProbabilityOfFunctionalInteraction%2C-2.0%2CGIANT_serum_ProbabilityOfFunctionalInteraction%2C-2.0%2CGIANT_leukocyte_ProbabilityOfFunctionalInteraction%2C-2.0%2CGIANT_blood_platelet_ProbabilityOfFunctionalInteraction%2C-2.0%2CGIANT_thymocyte_KnownFunctionalInteraction%2C-2.0%2CGIANT_spleen_ProbabilityOfFunctionalInteraction%2C-2.0%2CGIANT_b_lymphocyte_ProbabilityOfFunctionalInteraction%2C-2.0%2CGIANT_blood_plasma_ProbabilityOfFunctionalInteraction%2C-2.0%2CGIANT_trachea_ProbabilityOfFunctionalInteraction%2C-2.0%2CGTEx_Spleen_Correlation%2C-2.0%2CGIANT_basophil_ProbabilityOfFunctionalInteraction%2C-2.0%2CGIANT_neutrophil_KnownFunctionalInteraction%2C-2.0%2CGTEx_Esophagus_Correlation%2C-2.0%2CGIANT_lymphocyte_ProbabilityOfFunctionalInteraction%2C-2.0%2CGIANT_granulocyte_ProbabilityOfFunctionalInteraction%2C-2.0%2CGTEx_Thyroid_Correlation%2C-2.0%2CGIANT_t_lymphocyte_ProbabilityOfFunctionalInteraction%2C-2.0&table=BigGIM_70_v1&columns=GIANT_macrophage_ProbabilityOfFunctionalInteraction%2CGTEx_Blood_Correlation%2CGIANT_tonsil_ProbabilityOfFunctionalInteraction%2CGIANT_monocyte_KnownFunctionalInteraction%2CGIANT_spleen_KnownFunctionalInteraction%2CGIANT_mononuclear_phagocyte_KnownFunctionalInteraction%2CGIANT_lymphocyte_KnownFunctionalInteraction%2CGIANT_natural_killer_cell_KnownFunctionalInteraction%2CGIANT_leukocyte_KnownFunctionalInteraction%2CGIANT_blood_ProbabilityOfFunctionalInteraction%2CGIANT_thyroid_gland_ProbabilityOfFunctionalInteraction%2CGIANT_eosinophil_KnownFunctionalInteraction%2CGIANT_hematopoietic_stem_cell_ProbabilityOfFunctionalInteraction%2CGIANT_t_lymphocyte_KnownFunctionalInteraction%2CGIANT_eosinophil_ProbabilityOfFunctionalInteraction%2CGIANT_esophagus_KnownFunctionalInteraction%2CGIANT_tonsil_KnownFunctionalInteraction%2CGIANT_neutrophil_ProbabilityOfFunctionalInteraction%2CGIANT_esophagus_ProbabilityOfFunctionalInteraction%2CGIANT_blood_platelet_KnownFunctionalInteraction%2CGIANT_blood_plasma_KnownFunctionalInteraction%2CGIANT_macrophage_KnownFunctionalInteraction%2CGIANT_b_lymphocyte_KnownFunctionalInteraction%2CGIANT_serum_KnownFunctionalInteraction%2CGIANT_dendritic_cell_KnownFunctionalInteraction%2CGIANT_dendritic_cell_ProbabilityOfFunctionalInteraction%2CGIANT_mononuclear_phagocyte_ProbabilityOfFunctionalInteraction%2CGIANT_trachea_KnownFunctionalInteraction%2CGIANT_blood_KnownFunctionalInteraction%2CGIANT_natural_killer_cell_ProbabilityOfFunctionalInteraction%2CGIANT_lymph_node_KnownFunctionalInteraction%2CGIANT_thyroid_gland_KnownFunctionalInteraction%2CGIANT_granulocyte_KnownFunctionalInteraction%2CGIANT_basophil_KnownFunctionalInteraction%2CGIANT_megakaryocyte_KnownFunctionalInteraction%2CGIANT_hematopoietic_stem_cell_KnownFunctionalInteraction%2CGIANT_thymocyte_ProbabilityOfFunctionalInteraction%2CGIANT_monocyte_ProbabilityOfFunctionalInteraction%2CGIANT_lymph_node_ProbabilityOfFunctionalInteraction%2CGIANT_megakaryocyte_ProbabilityOfFunctionalInteraction%2CGIANT_serum_ProbabilityOfFunctionalInteraction%2CGIANT_leukocyte_ProbabilityOfFunctionalInteraction%2CGIANT_blood_platelet_ProbabilityOfFunctionalInteraction%2CGIANT_thymocyte_KnownFunctionalInteraction%2CGIANT_spleen_ProbabilityOfFunctionalInteraction%2CGIANT_b_lymphocyte_ProbabilityOfFunctionalInteraction%2CGIANT_blood_plasma_ProbabilityOfFunctionalInteraction%2CGIANT_trachea_ProbabilityOfFunctionalInteraction%2CGTEx_Spleen_Correlation%2CGIANT_basophil_ProbabilityOfFunctionalInteraction%2CGIANT_neutrophil_KnownFunctionalInteraction%2CGTEx_Esophagus_Correlation%2CGIANT_lymphocyte_ProbabilityOfFunctionalInteraction%2CGIANT_granulocyte_ProbabilityOfFunctionalInteraction%2CGTEx_Thyroid_Correlation%2CGIANT_t_lymphocyte_ProbabilityOfFunctionalInteraction&ids1=7428%2C595&limit=1000000&average_columns=True\n",
      "{\n",
      "  \"status\": \"submitted\",\n",
      "  \"request_id\": \"8c998a2e-7518-404c-9913-d69f28c247e3\"\n",
      "}\n",
      "Sent: GET http://biggim.ncats.io/api/biggim/status/8c998a2e-7518-404c-9913-d69f28c247e3?None\n",
      "{\n",
      "  \"status\": \"running\",\n",
      "  \"message\": \"Query job is running.\",\n",
      "  \"request_id\": \"8c998a2e-7518-404c-9913-d69f28c247e3\"\n",
      "}\n",
      "Checking again\n",
      "Sent: GET http://biggim.ncats.io/api/biggim/status/8c998a2e-7518-404c-9913-d69f28c247e3?None\n",
      "{\n",
      "  \"status\": \"running\",\n",
      "  \"message\": \"Query job is running.\",\n",
      "  \"request_id\": \"8c998a2e-7518-404c-9913-d69f28c247e3\"\n",
      "}\n",
      "Checking again\n",
      "Sent: GET http://biggim.ncats.io/api/biggim/status/8c998a2e-7518-404c-9913-d69f28c247e3?None\n",
      "{\n",
      "  \"status\": \"running\",\n",
      "  \"message\": \"Query job is running.\",\n",
      "  \"request_id\": \"8c998a2e-7518-404c-9913-d69f28c247e3\"\n",
      "}\n",
      "Checking again\n",
      "Sent: GET http://biggim.ncats.io/api/biggim/status/8c998a2e-7518-404c-9913-d69f28c247e3?None\n",
      "{\n",
      "  \"status\": \"running\",\n",
      "  \"message\": \"Extraction job is running.\",\n",
      "  \"request_id\": \"8c998a2e-7518-404c-9913-d69f28c247e3\"\n",
      "}\n",
      "Checking again\n",
      "Sent: GET http://biggim.ncats.io/api/biggim/status/8c998a2e-7518-404c-9913-d69f28c247e3?None\n",
      "{\n",
      "  \"status\": \"complete\",\n",
      "  \"rows\": 11980,\n",
      "  \"processed_data\": \"21.36 GB\",\n",
      "  \"request_id\": \"8c998a2e-7518-404c-9913-d69f28c247e3\",\n",
      "  \"request_uri\": [\n",
      "    \"https://storage.googleapis.com/ncats_bigquery_results/8c998a2e-7518-404c-9913-d69f28c247e3000000000000.csv\"\n",
      "  ],\n",
      "  \"size\": \"530.9 KB\"\n",
      "}\n",
      "           Gene1  Gene2      mean\n",
      "0          56623   7428  0.035676\n",
      "1          51554    595  0.049194\n",
      "2          54477   7428  0.012533\n",
      "3          55769   7428  0.022662\n",
      "4          10749    595  0.075472\n",
      "5           7428   2963  0.038483\n",
      "6           7123    595  0.060210\n",
      "7         223082   7428  0.080114\n",
      "8          11340   7428  0.030807\n",
      "9         145581    595  0.025111\n",
      "10          7428   2673  0.059997\n",
      "11         79830   7428  0.057511\n",
      "12         57336    595  0.015474\n",
      "13          7428   6304  0.024569\n",
      "14         23118   7428  0.044566\n",
      "15          7428   5305  0.034243\n",
      "16        152926    595  0.026639\n",
      "17        257144    595  0.060835\n",
      "18         23253   7428  0.065875\n",
      "19        399664    595  0.050240\n",
      "20         26136    595  0.086746\n",
      "21        654434   7428  0.043760\n",
      "22         84852    595  0.042058\n",
      "23          6932    595  0.157209\n",
      "24          7127    595  0.090652\n",
      "25          7430   7428  0.069314\n",
      "26         64425    595  0.033094\n",
      "27        163259    595  0.045408\n",
      "28         79140    595  0.058810\n",
      "29     100287898   7428  0.049628\n",
      "...          ...    ...       ...\n",
      "11950      93210    595  0.064353\n",
      "11951      83695    595  0.064603\n",
      "11952       7428    182  0.039435\n",
      "11953       7428   5649 -0.001120\n",
      "11954      79058    595  0.045094\n",
      "11955     147645    595  0.046119\n",
      "11956      10592    595  0.077539\n",
      "11957      64135   7428  0.059179\n",
      "11958      29889    595  0.046425\n",
      "11959      51534   7428  0.060650\n",
      "11960       7786   7428  0.028812\n",
      "11961     388962    595  0.061568\n",
      "11962       7428   5910  0.062949\n",
      "11963       7428    659  0.047081\n",
      "11964      57599    595  0.023060\n",
      "11965     166378   7428  0.048200\n",
      "11966     123169    595  0.054110\n",
      "11967      80255    595  0.075108\n",
      "11968      93979   7428  0.027486\n",
      "11969      65263    595  0.070988\n",
      "11970      55766   7428  0.010118\n",
      "11971      79726    595  0.045345\n",
      "11972      79823   7428  0.039151\n",
      "11973      25875    595  0.045658\n",
      "11974       3600    595  0.055321\n",
      "11975      26025    595  0.041689\n",
      "11976       2295    595  0.037391\n",
      "11977      55183    595  0.031601\n",
      "11978      51454    595  0.044319\n",
      "11979      55425    595  0.024392\n",
      "\n",
      "[11980 rows x 3 columns]\n",
      "       index   Gene1  Gene2      mean\n",
      "0       6592    1021    595  0.486149\n",
      "1       7301    1026    595  0.480361\n",
      "2       7882    1019    595  0.366120\n",
      "3       2815    3593    595  0.266063\n",
      "4       4966    2317    595  0.238935\n",
      "5       5939    8453   7428  0.227351\n",
      "6       8483   10970    595  0.226152\n",
      "7       6266    3690    595  0.208856\n",
      "8       8994    4000    595  0.207854\n",
      "9      11195    1435    595  0.207423\n",
      "10     11387    7128    595  0.204375\n",
      "11       787    8600    595  0.203544\n",
      "12      7437   51176    595  0.195716\n",
      "13      5204  375790    595  0.193166\n",
      "14      2465   51514    595  0.192711\n",
      "15      9671    7428    472  0.190698\n",
      "16      7763   51176   7428  0.183657\n",
      "17      2721     595    367  0.183473\n",
      "18      6616    6624    595  0.177322\n",
      "19      6837    7428   5156  0.175304\n",
      "20      6951    7428   6921  0.171767\n",
      "21      1477    3949    595  0.169748\n",
      "22      2521    3315    595  0.166804\n",
      "23     11899    7428   3091  0.163657\n",
      "24      7450    7039    595  0.163646\n",
      "25      9087    3487    595  0.162629\n",
      "26      4251   84962    595  0.162573\n",
      "27      4640    7428   6659  0.161794\n",
      "28      2801    4232    595  0.161668\n",
      "29      8129    4602    595  0.160751\n",
      "...      ...     ...    ...       ...\n",
      "11950   7822   83733    595 -0.006773\n",
      "11951  10044  170261    595 -0.006825\n",
      "11952   1939    7428   1471 -0.006920\n",
      "11953   3741   58155    595 -0.007230\n",
      "11954   6521   10404   7428 -0.007474\n",
      "11955   6981    7428   5866 -0.007608\n",
      "11956   2028    8991   7428 -0.007734\n",
      "11957  10046    7428   3040 -0.007932\n",
      "11958    779   54039    595 -0.008191\n",
      "11959   8882   94274   7428 -0.008545\n",
      "11960   8778   57192   7428 -0.008757\n",
      "11961   2917   55957   7428 -0.008948\n",
      "11962   7864  120103    595 -0.009013\n",
      "11963   3717    7428    216 -0.009015\n",
      "11964   8842    2992    595 -0.009086\n",
      "11965   2456    7428   2039 -0.009619\n",
      "11966   9615   26353   7428 -0.010496\n",
      "11967   3635   51673   7428 -0.010614\n",
      "11968   6659   51257   7428 -0.010728\n",
      "11969  10862    4885    595 -0.011716\n",
      "11970    598  168455    595 -0.011826\n",
      "11971   2786    8825    595 -0.012521\n",
      "11972   5047    7428   2766 -0.012912\n",
      "11973   3251   51734    595 -0.013568\n",
      "11974   4261   11098   7428 -0.013930\n",
      "11975   7056     595     12 -0.014546\n",
      "11976   9865   51226   7428 -0.014908\n",
      "11977   2377   10894    595 -0.018684\n",
      "11978    558    7428   1346 -0.018948\n",
      "11979    174    8408    595 -0.019624\n",
      "\n",
      "[11980 rows x 4 columns]\n"
     ]
    }
   ],
   "source": [
    "newgenes = call_biggim(genes, tissues, average_columns=True, return_genes=True, N=200)"
   ]
  },
  {
   "cell_type": "code",
   "execution_count": 6,
   "metadata": {
    "collapsed": false,
    "deletable": true,
    "editable": true,
    "scrolled": true
   },
   "outputs": [
    {
     "name": "stdout",
     "output_type": "stream",
     "text": [
      "['1009', '10130', '10131', '1019', '1021', '10227', '1026', '1029', '10492', '10514', '1063', '10755', '10769', '10787', '10970', '11014', '11031', '11101', '11332', '11343', '1163', '1277', '1282', '1289', '1291', '1292', '1312', '136319', '1435', '1490', '150684', '1534', '1540', '154796', '1605', '1717', '182', '1841', '1846', '1847', '1893', '1901', '203068', '203547', '2037', '2131', '2132', '2146', '2232', '2247', '2261', '22809', '22822', '22839', '2317', '2335', '23423', '23607', '23654', '23764', '254552', '26010', '26227', '27250', '27346', '2744', '2767', '2791', '284119', '29969', '307', '30844', '30851', '3091', '3109', '3159', '3265', '3280', '3315', '3399', '3487', '3592', '3593', '3628', '3655', '367', '3675', '3690', '3710', '375790', '3915', '3932', '3949', '3958', '3959', '3992', '4000', '402', '4041', '4061', '4171', '4232', '4286', '4522', '4602', '4609', '4610', '471', '472', '4891', '4907', '4919', '5111', '51132', '51155', '51176', '51278', '51316', '51330', '51514', '5156', '5198', '5214', '5218', '5361', '53838', '55075', '55332', '55355', '55740', '5606', '57175', '5770', '57761', '5792', '5797', '58516', '595', '595', '5966', '5993', '6281', '6319', '6382', '6422', '64359', '64423', '6455', '6464', '6472', '650', '6509', '65108', '652', '6525', '6624', '6659', '6662', '667', '6678', '6776', '6921', '6926', '6929', '6932', '7026', '7039', '7128', '7132', '7157', '7298', '7407', '7422', '7428', '7428', '7430', '7465', '7466', '780', '790', '79780', '800', '811', '813', '81839', '83700', '840', '841', '8453', '84823', '84962', '8553', '8600', '8655', '8673', '8743', '8828', '894', '8985', '91768', '9423', '9601', '9788', '9830']\n",
      "204\n"
     ]
    }
   ],
   "source": [
    "print(newgenes)\n",
    "print(len(newgenes))"
   ]
  },
  {
   "cell_type": "markdown",
   "metadata": {
    "deletable": true,
    "editable": true
   },
   "source": [
    "## Module 2- Running Big GIM for the second round, now producing the interaction matrix (df) that can serve as an input for DDOT"
   ]
  },
  {
   "cell_type": "code",
   "execution_count": 7,
   "metadata": {
    "collapsed": false,
    "deletable": true,
    "editable": true
   },
   "outputs": [
    {
     "name": "stdout",
     "output_type": "stream",
     "text": [
      "Sent: GET http://biggim.ncats.io/api/metadata/tissue/esophagus?None\n",
      "Sent: GET http://biggim.ncats.io/api/metadata/tissue/hematopoietic_system?None\n",
      "Sent: GET http://biggim.ncats.io/api/metadata/tissue/neck?None\n",
      "Sent: GET http://biggim.ncats.io/api/metadata/tissue/trachea?None\n",
      "Returned 56 Big GIM columns\n",
      "['GIANT_macrophage_ProbabilityOfFunctionalInteraction', 'GTEx_Blood_Correlation', 'GIANT_tonsil_ProbabilityOfFunctionalInteraction', 'GIANT_monocyte_KnownFunctionalInteraction', 'GIANT_spleen_KnownFunctionalInteraction', 'GIANT_mononuclear_phagocyte_KnownFunctionalInteraction', 'GIANT_lymphocyte_KnownFunctionalInteraction', 'GIANT_natural_killer_cell_KnownFunctionalInteraction', 'GIANT_leukocyte_KnownFunctionalInteraction', 'GIANT_blood_ProbabilityOfFunctionalInteraction', 'GIANT_thyroid_gland_ProbabilityOfFunctionalInteraction', 'GIANT_eosinophil_KnownFunctionalInteraction', 'GIANT_hematopoietic_stem_cell_ProbabilityOfFunctionalInteraction', 'GIANT_t_lymphocyte_KnownFunctionalInteraction', 'GIANT_eosinophil_ProbabilityOfFunctionalInteraction', 'GIANT_esophagus_KnownFunctionalInteraction', 'GIANT_tonsil_KnownFunctionalInteraction', 'GIANT_neutrophil_ProbabilityOfFunctionalInteraction', 'GIANT_esophagus_ProbabilityOfFunctionalInteraction', 'GIANT_blood_platelet_KnownFunctionalInteraction', 'GIANT_blood_plasma_KnownFunctionalInteraction', 'GIANT_macrophage_KnownFunctionalInteraction', 'GIANT_b_lymphocyte_KnownFunctionalInteraction', 'GIANT_serum_KnownFunctionalInteraction', 'GIANT_dendritic_cell_KnownFunctionalInteraction', 'GIANT_dendritic_cell_ProbabilityOfFunctionalInteraction', 'GIANT_mononuclear_phagocyte_ProbabilityOfFunctionalInteraction', 'GIANT_trachea_KnownFunctionalInteraction', 'GIANT_blood_KnownFunctionalInteraction', 'GIANT_natural_killer_cell_ProbabilityOfFunctionalInteraction', 'GIANT_lymph_node_KnownFunctionalInteraction', 'GIANT_thyroid_gland_KnownFunctionalInteraction', 'GIANT_granulocyte_KnownFunctionalInteraction', 'GIANT_basophil_KnownFunctionalInteraction', 'GIANT_megakaryocyte_KnownFunctionalInteraction', 'GIANT_hematopoietic_stem_cell_KnownFunctionalInteraction', 'GIANT_thymocyte_ProbabilityOfFunctionalInteraction', 'GIANT_monocyte_ProbabilityOfFunctionalInteraction', 'GIANT_lymph_node_ProbabilityOfFunctionalInteraction', 'GIANT_megakaryocyte_ProbabilityOfFunctionalInteraction', 'GIANT_serum_ProbabilityOfFunctionalInteraction', 'GIANT_leukocyte_ProbabilityOfFunctionalInteraction', 'GIANT_blood_platelet_ProbabilityOfFunctionalInteraction', 'GIANT_thymocyte_KnownFunctionalInteraction', 'GIANT_spleen_ProbabilityOfFunctionalInteraction', 'GIANT_b_lymphocyte_ProbabilityOfFunctionalInteraction', 'GIANT_blood_plasma_ProbabilityOfFunctionalInteraction', 'GIANT_trachea_ProbabilityOfFunctionalInteraction', 'GTEx_Spleen_Correlation', 'GIANT_basophil_ProbabilityOfFunctionalInteraction', 'GIANT_neutrophil_KnownFunctionalInteraction', 'GTEx_Esophagus_Correlation', 'GIANT_lymphocyte_ProbabilityOfFunctionalInteraction', 'GIANT_granulocyte_ProbabilityOfFunctionalInteraction', 'GTEx_Thyroid_Correlation', 'GIANT_t_lymphocyte_ProbabilityOfFunctionalInteraction']\n",
      "Sent: GET http://biggim.ncats.io/api/biggim/query?restriction_gt=GIANT_macrophage_ProbabilityOfFunctionalInteraction%2C-2.0%2CGTEx_Blood_Correlation%2C-2.0%2CGIANT_tonsil_ProbabilityOfFunctionalInteraction%2C-2.0%2CGIANT_monocyte_KnownFunctionalInteraction%2C-2.0%2CGIANT_spleen_KnownFunctionalInteraction%2C-2.0%2CGIANT_mononuclear_phagocyte_KnownFunctionalInteraction%2C-2.0%2CGIANT_lymphocyte_KnownFunctionalInteraction%2C-2.0%2CGIANT_natural_killer_cell_KnownFunctionalInteraction%2C-2.0%2CGIANT_leukocyte_KnownFunctionalInteraction%2C-2.0%2CGIANT_blood_ProbabilityOfFunctionalInteraction%2C-2.0%2CGIANT_thyroid_gland_ProbabilityOfFunctionalInteraction%2C-2.0%2CGIANT_eosinophil_KnownFunctionalInteraction%2C-2.0%2CGIANT_hematopoietic_stem_cell_ProbabilityOfFunctionalInteraction%2C-2.0%2CGIANT_t_lymphocyte_KnownFunctionalInteraction%2C-2.0%2CGIANT_eosinophil_ProbabilityOfFunctionalInteraction%2C-2.0%2CGIANT_esophagus_KnownFunctionalInteraction%2C-2.0%2CGIANT_tonsil_KnownFunctionalInteraction%2C-2.0%2CGIANT_neutrophil_ProbabilityOfFunctionalInteraction%2C-2.0%2CGIANT_esophagus_ProbabilityOfFunctionalInteraction%2C-2.0%2CGIANT_blood_platelet_KnownFunctionalInteraction%2C-2.0%2CGIANT_blood_plasma_KnownFunctionalInteraction%2C-2.0%2CGIANT_macrophage_KnownFunctionalInteraction%2C-2.0%2CGIANT_b_lymphocyte_KnownFunctionalInteraction%2C-2.0%2CGIANT_serum_KnownFunctionalInteraction%2C-2.0%2CGIANT_dendritic_cell_KnownFunctionalInteraction%2C-2.0%2CGIANT_dendritic_cell_ProbabilityOfFunctionalInteraction%2C-2.0%2CGIANT_mononuclear_phagocyte_ProbabilityOfFunctionalInteraction%2C-2.0%2CGIANT_trachea_KnownFunctionalInteraction%2C-2.0%2CGIANT_blood_KnownFunctionalInteraction%2C-2.0%2CGIANT_natural_killer_cell_ProbabilityOfFunctionalInteraction%2C-2.0%2CGIANT_lymph_node_KnownFunctionalInteraction%2C-2.0%2CGIANT_thyroid_gland_KnownFunctionalInteraction%2C-2.0%2CGIANT_granulocyte_KnownFunctionalInteraction%2C-2.0%2CGIANT_basophil_KnownFunctionalInteraction%2C-2.0%2CGIANT_megakaryocyte_KnownFunctionalInteraction%2C-2.0%2CGIANT_hematopoietic_stem_cell_KnownFunctionalInteraction%2C-2.0%2CGIANT_thymocyte_ProbabilityOfFunctionalInteraction%2C-2.0%2CGIANT_monocyte_ProbabilityOfFunctionalInteraction%2C-2.0%2CGIANT_lymph_node_ProbabilityOfFunctionalInteraction%2C-2.0%2CGIANT_megakaryocyte_ProbabilityOfFunctionalInteraction%2C-2.0%2CGIANT_serum_ProbabilityOfFunctionalInteraction%2C-2.0%2CGIANT_leukocyte_ProbabilityOfFunctionalInteraction%2C-2.0%2CGIANT_blood_platelet_ProbabilityOfFunctionalInteraction%2C-2.0%2CGIANT_thymocyte_KnownFunctionalInteraction%2C-2.0%2CGIANT_spleen_ProbabilityOfFunctionalInteraction%2C-2.0%2CGIANT_b_lymphocyte_ProbabilityOfFunctionalInteraction%2C-2.0%2CGIANT_blood_plasma_ProbabilityOfFunctionalInteraction%2C-2.0%2CGIANT_trachea_ProbabilityOfFunctionalInteraction%2C-2.0%2CGTEx_Spleen_Correlation%2C-2.0%2CGIANT_basophil_ProbabilityOfFunctionalInteraction%2C-2.0%2CGIANT_neutrophil_KnownFunctionalInteraction%2C-2.0%2CGTEx_Esophagus_Correlation%2C-2.0%2CGIANT_lymphocyte_ProbabilityOfFunctionalInteraction%2C-2.0%2CGIANT_granulocyte_ProbabilityOfFunctionalInteraction%2C-2.0%2CGTEx_Thyroid_Correlation%2C-2.0%2CGIANT_t_lymphocyte_ProbabilityOfFunctionalInteraction%2C-2.0&table=BigGIM_70_v1&columns=GIANT_macrophage_ProbabilityOfFunctionalInteraction%2CGTEx_Blood_Correlation%2CGIANT_tonsil_ProbabilityOfFunctionalInteraction%2CGIANT_monocyte_KnownFunctionalInteraction%2CGIANT_spleen_KnownFunctionalInteraction%2CGIANT_mononuclear_phagocyte_KnownFunctionalInteraction%2CGIANT_lymphocyte_KnownFunctionalInteraction%2CGIANT_natural_killer_cell_KnownFunctionalInteraction%2CGIANT_leukocyte_KnownFunctionalInteraction%2CGIANT_blood_ProbabilityOfFunctionalInteraction%2CGIANT_thyroid_gland_ProbabilityOfFunctionalInteraction%2CGIANT_eosinophil_KnownFunctionalInteraction%2CGIANT_hematopoietic_stem_cell_ProbabilityOfFunctionalInteraction%2CGIANT_t_lymphocyte_KnownFunctionalInteraction%2CGIANT_eosinophil_ProbabilityOfFunctionalInteraction%2CGIANT_esophagus_KnownFunctionalInteraction%2CGIANT_tonsil_KnownFunctionalInteraction%2CGIANT_neutrophil_ProbabilityOfFunctionalInteraction%2CGIANT_esophagus_ProbabilityOfFunctionalInteraction%2CGIANT_blood_platelet_KnownFunctionalInteraction%2CGIANT_blood_plasma_KnownFunctionalInteraction%2CGIANT_macrophage_KnownFunctionalInteraction%2CGIANT_b_lymphocyte_KnownFunctionalInteraction%2CGIANT_serum_KnownFunctionalInteraction%2CGIANT_dendritic_cell_KnownFunctionalInteraction%2CGIANT_dendritic_cell_ProbabilityOfFunctionalInteraction%2CGIANT_mononuclear_phagocyte_ProbabilityOfFunctionalInteraction%2CGIANT_trachea_KnownFunctionalInteraction%2CGIANT_blood_KnownFunctionalInteraction%2CGIANT_natural_killer_cell_ProbabilityOfFunctionalInteraction%2CGIANT_lymph_node_KnownFunctionalInteraction%2CGIANT_thyroid_gland_KnownFunctionalInteraction%2CGIANT_granulocyte_KnownFunctionalInteraction%2CGIANT_basophil_KnownFunctionalInteraction%2CGIANT_megakaryocyte_KnownFunctionalInteraction%2CGIANT_hematopoietic_stem_cell_KnownFunctionalInteraction%2CGIANT_thymocyte_ProbabilityOfFunctionalInteraction%2CGIANT_monocyte_ProbabilityOfFunctionalInteraction%2CGIANT_lymph_node_ProbabilityOfFunctionalInteraction%2CGIANT_megakaryocyte_ProbabilityOfFunctionalInteraction%2CGIANT_serum_ProbabilityOfFunctionalInteraction%2CGIANT_leukocyte_ProbabilityOfFunctionalInteraction%2CGIANT_blood_platelet_ProbabilityOfFunctionalInteraction%2CGIANT_thymocyte_KnownFunctionalInteraction%2CGIANT_spleen_ProbabilityOfFunctionalInteraction%2CGIANT_b_lymphocyte_ProbabilityOfFunctionalInteraction%2CGIANT_blood_plasma_ProbabilityOfFunctionalInteraction%2CGIANT_trachea_ProbabilityOfFunctionalInteraction%2CGTEx_Spleen_Correlation%2CGIANT_basophil_ProbabilityOfFunctionalInteraction%2CGIANT_neutrophil_KnownFunctionalInteraction%2CGTEx_Esophagus_Correlation%2CGIANT_lymphocyte_ProbabilityOfFunctionalInteraction%2CGIANT_granulocyte_ProbabilityOfFunctionalInteraction%2CGTEx_Thyroid_Correlation%2CGIANT_t_lymphocyte_ProbabilityOfFunctionalInteraction&ids1=1009%2C10130%2C10131%2C1019%2C1021%2C10227%2C1026%2C1029%2C10492%2C10514%2C1063%2C10755%2C10769%2C10787%2C10970%2C11014%2C11031%2C11101%2C11332%2C11343%2C1163%2C1277%2C1282%2C1289%2C1291%2C1292%2C1312%2C136319%2C1435%2C1490%2C150684%2C1534%2C1540%2C154796%2C1605%2C1717%2C182%2C1841%2C1846%2C1847%2C1893%2C1901%2C203068%2C203547%2C2037%2C2131%2C2132%2C2146%2C2232%2C2247%2C2261%2C22809%2C22822%2C22839%2C2317%2C2335%2C23423%2C23607%2C23654%2C23764%2C254552%2C26010%2C26227%2C27250%2C27346%2C2744%2C2767%2C2791%2C284119%2C29969%2C307%2C30844%2C30851%2C3091%2C3109%2C3159%2C3265%2C3280%2C3315%2C3399%2C3487%2C3592%2C3593%2C3628%2C3655%2C367%2C3675%2C3690%2C3710%2C375790%2C3915%2C3932%2C3949%2C3958%2C3959%2C3992%2C4000%2C402%2C4041%2C4061%2C4171%2C4232%2C4286%2C4522%2C4602%2C4609%2C4610%2C471%2C472%2C4891%2C4907%2C4919%2C5111%2C51132%2C51155%2C51176%2C51278%2C51316%2C51330%2C51514%2C5156%2C5198%2C5214%2C5218%2C5361%2C53838%2C55075%2C55332%2C55355%2C55740%2C5606%2C57175%2C5770%2C57761%2C5792%2C5797%2C58516%2C595%2C595%2C5966%2C5993%2C6281%2C6319%2C6382%2C6422%2C64359%2C64423%2C6455%2C6464%2C6472%2C650%2C6509%2C65108%2C652%2C6525%2C6624%2C6659%2C6662%2C667%2C6678%2C6776%2C6921%2C6926%2C6929%2C6932%2C7026%2C7039%2C7128%2C7132%2C7157%2C7298%2C7407%2C7422%2C7428%2C7428%2C7430%2C7465%2C7466%2C780%2C790%2C79780%2C800%2C811%2C813%2C81839%2C83700%2C840%2C841%2C8453%2C84823%2C84962%2C8553%2C8600%2C8655%2C8673%2C8743%2C8828%2C894%2C8985%2C91768%2C9423%2C9601%2C9788%2C9830&limit=1000000&average_columns=True&ids2=1009%2C10130%2C10131%2C1019%2C1021%2C10227%2C1026%2C1029%2C10492%2C10514%2C1063%2C10755%2C10769%2C10787%2C10970%2C11014%2C11031%2C11101%2C11332%2C11343%2C1163%2C1277%2C1282%2C1289%2C1291%2C1292%2C1312%2C136319%2C1435%2C1490%2C150684%2C1534%2C1540%2C154796%2C1605%2C1717%2C182%2C1841%2C1846%2C1847%2C1893%2C1901%2C203068%2C203547%2C2037%2C2131%2C2132%2C2146%2C2232%2C2247%2C2261%2C22809%2C22822%2C22839%2C2317%2C2335%2C23423%2C23607%2C23654%2C23764%2C254552%2C26010%2C26227%2C27250%2C27346%2C2744%2C2767%2C2791%2C284119%2C29969%2C307%2C30844%2C30851%2C3091%2C3109%2C3159%2C3265%2C3280%2C3315%2C3399%2C3487%2C3592%2C3593%2C3628%2C3655%2C367%2C3675%2C3690%2C3710%2C375790%2C3915%2C3932%2C3949%2C3958%2C3959%2C3992%2C4000%2C402%2C4041%2C4061%2C4171%2C4232%2C4286%2C4522%2C4602%2C4609%2C4610%2C471%2C472%2C4891%2C4907%2C4919%2C5111%2C51132%2C51155%2C51176%2C51278%2C51316%2C51330%2C51514%2C5156%2C5198%2C5214%2C5218%2C5361%2C53838%2C55075%2C55332%2C55355%2C55740%2C5606%2C57175%2C5770%2C57761%2C5792%2C5797%2C58516%2C595%2C595%2C5966%2C5993%2C6281%2C6319%2C6382%2C6422%2C64359%2C64423%2C6455%2C6464%2C6472%2C650%2C6509%2C65108%2C652%2C6525%2C6624%2C6659%2C6662%2C667%2C6678%2C6776%2C6921%2C6926%2C6929%2C6932%2C7026%2C7039%2C7128%2C7132%2C7157%2C7298%2C7407%2C7422%2C7428%2C7428%2C7430%2C7465%2C7466%2C780%2C790%2C79780%2C800%2C811%2C813%2C81839%2C83700%2C840%2C841%2C8453%2C84823%2C84962%2C8553%2C8600%2C8655%2C8673%2C8743%2C8828%2C894%2C8985%2C91768%2C9423%2C9601%2C9788%2C9830\n",
      "{\n",
      "  \"status\": \"submitted\",\n",
      "  \"request_id\": \"074f35f4-ce26-4ed5-a4d0-746477cd457f\"\n",
      "}\n",
      "Sent: GET http://biggim.ncats.io/api/biggim/status/074f35f4-ce26-4ed5-a4d0-746477cd457f?None\n",
      "{\n",
      "  \"status\": \"running\",\n",
      "  \"message\": \"Query job is running.\",\n",
      "  \"request_id\": \"074f35f4-ce26-4ed5-a4d0-746477cd457f\"\n",
      "}\n",
      "Checking again\n",
      "Sent: GET http://biggim.ncats.io/api/biggim/status/074f35f4-ce26-4ed5-a4d0-746477cd457f?None\n",
      "{\n",
      "  \"status\": \"running\",\n",
      "  \"message\": \"Query job is running.\",\n",
      "  \"request_id\": \"074f35f4-ce26-4ed5-a4d0-746477cd457f\"\n",
      "}\n",
      "Checking again\n",
      "Sent: GET http://biggim.ncats.io/api/biggim/status/074f35f4-ce26-4ed5-a4d0-746477cd457f?None\n",
      "{\n",
      "  \"status\": \"running\",\n",
      "  \"message\": \"Query job is running.\",\n",
      "  \"request_id\": \"074f35f4-ce26-4ed5-a4d0-746477cd457f\"\n",
      "}\n",
      "Checking again\n",
      "Sent: GET http://biggim.ncats.io/api/biggim/status/074f35f4-ce26-4ed5-a4d0-746477cd457f?None\n",
      "{\n",
      "  \"status\": \"complete\",\n",
      "  \"rows\": 12243,\n",
      "  \"processed_data\": \"21.36 GB\",\n",
      "  \"request_id\": \"074f35f4-ce26-4ed5-a4d0-746477cd457f\",\n",
      "  \"request_uri\": [\n",
      "    \"https://storage.googleapis.com/ncats_bigquery_results/074f35f4-ce26-4ed5-a4d0-746477cd457f000000000000.csv\"\n",
      "  ],\n",
      "  \"size\": \"545.08 KB\"\n",
      "}\n"
     ]
    }
   ],
   "source": [
    "df = call_biggim(newgenes, tissues, average_columns=True, query_id2=newgenes)"
   ]
  },
  {
   "cell_type": "code",
   "execution_count": 8,
   "metadata": {
    "collapsed": false,
    "deletable": true,
    "editable": true
   },
   "outputs": [
    {
     "name": "stdout",
     "output_type": "stream",
     "text": [
      "        Gene1  Gene2      mean\n",
      "0       51316   1893  0.081370\n",
      "1       23607  23423  0.067045\n",
      "2       27346   5361  0.036999\n",
      "3      254552  22839  0.038157\n",
      "4       84823   1605  0.079750\n",
      "5        5792   2767  0.049509\n",
      "6       57175    780  0.126539\n",
      "7        4891   4609  0.113498\n",
      "8       83700   2037  0.133224\n",
      "9        1490    780  0.058370\n",
      "10      55740   1540  0.040862\n",
      "11     254552   2132  0.031823\n",
      "12      53838  51278  0.073008\n",
      "13       4919   1291  0.056709\n",
      "14      83700   6525  0.066237\n",
      "15      53838   6921  0.061935\n",
      "16      64359  10787  0.056275\n",
      "17      27346   7157  0.098288\n",
      "18       3487   2037  0.077611\n",
      "19       6422   2247  0.108057\n",
      "20       8553   1026  0.299829\n",
      "21      23607   6382  0.047003\n",
      "22      91768  10130  0.056405\n",
      "23      51316  22839  0.015092\n",
      "24     284119   3592  0.016198\n",
      "25       6455   1291  0.065042\n",
      "26      84823   6525  0.044636\n",
      "27       7026   6382  0.025958\n",
      "28      51132    841  0.051635\n",
      "29      23764   3315  0.150259\n",
      "...       ...    ...       ...\n",
      "12213    1277    894  0.094659\n",
      "12214   53838   6678  0.101239\n",
      "12215    3959   1605  0.131619\n",
      "12216   10970    800  0.058081\n",
      "12217    4041   1021  0.053108\n",
      "12218   11343   7039  0.064709\n",
      "12219   51278   6509  0.085470\n",
      "12220   23607   8743  0.123763\n",
      "12221  203068    800  0.036784\n",
      "12222   64423   5361  0.065864\n",
      "12223   23607   7430  0.089030\n",
      "12224    3949    894  0.048384\n",
      "12225   23607   9601  0.097383\n",
      "12226    7039   2131  0.053487\n",
      "12227   91768    811  0.076498\n",
      "12228    2261    307  0.056919\n",
      "12229    8985    800  0.083998\n",
      "12230    4609    780  0.040789\n",
      "12231   22839   1282  0.090800\n",
      "12232   57175   1312  0.099801\n",
      "12233    6472   1312  0.106606\n",
      "12234    4610    894  0.031537\n",
      "12235    5218   2791  0.075930\n",
      "12236   64359   1490  0.116149\n",
      "12237   55740   1277  0.068472\n",
      "12238    8453   2146  0.065619\n",
      "12239   83700   1009  0.104682\n",
      "12240    6509    813  0.113270\n",
      "12241   91768   6662  0.058675\n",
      "12242    5361   1540  0.060974\n",
      "\n",
      "[12243 rows x 3 columns]\n"
     ]
    }
   ],
   "source": [
    "print(df)\n"
   ]
  },
  {
   "cell_type": "markdown",
   "metadata": {
    "deletable": true,
    "editable": true
   },
   "source": [
    "### Create DDOT"
   ]
  },
  {
   "cell_type": "code",
   "execution_count": 9,
   "metadata": {
    "collapsed": false,
    "deletable": true,
    "editable": true
   },
   "outputs": [],
   "source": [
    "ddot = DDOT_Client.from_dataframe(df)"
   ]
  },
  {
   "cell_type": "code",
   "execution_count": 10,
   "metadata": {
    "collapsed": false,
    "deletable": true,
    "editable": true
   },
   "outputs": [
    {
     "data": {
      "text/plain": [
       "'http://hiview-test.ucsd.edu/5023f9bc-411e-11e9-9fc6-0660b7976219?type=test&server=http://dev2.ndexbio.org'"
      ]
     },
     "execution_count": 10,
     "metadata": {},
     "output_type": "execute_result"
    }
   ],
   "source": [
    "ddot.call(alpha=0.03, beta=0.8)\n",
    "ddot.wait_for_hiview_url()"
   ]
  },
  {
   "cell_type": "code",
   "execution_count": null,
   "metadata": {
    "collapsed": true,
    "deletable": true,
    "editable": true
   },
   "outputs": [],
   "source": []
  }
 ],
 "metadata": {
  "kernelspec": {
   "display_name": "Python 3",
   "language": "python",
   "name": "python3"
  },
  "language_info": {
   "codemirror_mode": {
    "name": "ipython",
    "version": 3
   },
   "file_extension": ".py",
   "mimetype": "text/x-python",
   "name": "python",
   "nbconvert_exporter": "python",
   "pygments_lexer": "ipython3",
   "version": "3.7.1"
  }
 },
 "nbformat": 4,
 "nbformat_minor": 2
}
