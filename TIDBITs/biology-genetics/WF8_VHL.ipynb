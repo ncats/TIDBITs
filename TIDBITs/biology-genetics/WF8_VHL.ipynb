{
 "cells": [
  {
   "cell_type": "markdown",
   "metadata": {
    "deletable": true,
    "editable": true
   },
   "source": [
    "# Workflow 8 - Von Hippel Lindau\n",
    "\n",
    "This notebook implements all three modules of Workflow 8 for Von Hippel Lindau disease. See <a href=\"https://docs.google.com/presentation/d/1IkAzjSrOMzOLx5z8GqRVKmVd1GKrpIEb_xF4g4RlI1U/edit?usp=sharing\">here</a> for an overview of Workflow 8.  \n",
    "\n",
    "Notebook written by: Samson Fong, John Earls, Theo Knijnenburg, Chris Churas and Aaron Gary.\n",
    "Adapted to VHL by Richard Bruskiewich"
   ]
  },
  {
   "cell_type": "markdown",
   "metadata": {
    "deletable": true,
    "editable": true
   },
   "source": [
    "## Libraries and such"
   ]
  },
  {
   "cell_type": "code",
   "execution_count": 1,
   "metadata": {
    "collapsed": false,
    "deletable": true,
    "editable": true
   },
   "outputs": [],
   "source": [
    "%load_ext autoreload\n",
    "%autoreload 2\n",
    "\n",
    "import json\n",
    "from pprint import pprint\n",
    "from wf8_module1 import doid_to_genes_and_tissues, doid_to_genes_direct\n",
    "from wf8_module2 import call_biggim\n",
    "import numpy as np\n",
    "import pandas as pd\n",
    "import time\n",
    "import sys\n",
    "sys.path.insert(0, \"wf8\")\n",
    "from wf8_module3 import DDOT_Client"
   ]
  },
  {
   "cell_type": "markdown",
   "metadata": {
    "deletable": true,
    "editable": true
   },
   "source": [
    "## Module 1 - Getting VHL genes and tissues"
   ]
  },
  {
   "cell_type": "code",
   "execution_count": 2,
   "metadata": {
    "collapsed": false,
    "deletable": true,
    "editable": true,
    "scrolled": true
   },
   "outputs": [
    {
     "name": "stderr",
     "output_type": "stream",
     "text": [
      "INFO:root:Getting HP ids from DOID\n"
     ]
    },
    {
     "name": "stdout",
     "output_type": "stream",
     "text": [
      "http://biothings.io/explorer/api/v2/directinput2output?input_prefix=doid&output_prefix=ncbigene&input_value=14175&format=translator\n",
      "Returned 2 genes\n"
     ]
    }
   ],
   "source": [
    "genes = doid_to_genes_direct('14175')"
   ]
  },
  {
   "cell_type": "code",
   "execution_count": 3,
   "metadata": {
    "collapsed": false,
    "deletable": true,
    "editable": true,
    "scrolled": true
   },
   "outputs": [
    {
     "name": "stderr",
     "output_type": "stream",
     "text": [
      "INFO:root:Getting HP ids from DOID\n"
     ]
    },
    {
     "name": "stdout",
     "output_type": "stream",
     "text": [
      "http://biothings.io/explorer/api/v2/directinput2output?input_prefix=doid&output_prefix=ncbigene&input_value=14175&format=translator\n"
     ]
    },
    {
     "name": "stderr",
     "output_type": "stream",
     "text": [
      "INFO:root:Getting HP ids from DOID\n"
     ]
    },
    {
     "name": "stdout",
     "output_type": "stream",
     "text": [
      "Returned 2 genes\n",
      "http://biothings.io/explorer/api/v2/directinput2output?input_prefix=doid&output_prefix=hp&input_value=14175&format=translator\n"
     ]
    },
    {
     "name": "stderr",
     "output_type": "stream",
     "text": [
      "INFO:root:Getting uberon from HP ids\n"
     ]
    },
    {
     "name": "stdout",
     "output_type": "stream",
     "text": [
      "Returned 54 phenotypes\n",
      "http://biothings.io/explorer/api/v2/directinput2output?input_prefix=hp&output_prefix=uberon&input_value=0005584&format=translator\n"
     ]
    },
    {
     "name": "stderr",
     "output_type": "stream",
     "text": [
      "WARNING:root:{'status': 400, 'error message': \"Endpoints could be located connecting hp to uberon. The endpoints are ['https://api.monarchinitiative.org/api/bioentity/phenotype/{phenotypeid}/anatomy']. However, no output could be found using the endpoint!\"}\n"
     ]
    },
    {
     "name": "stdout",
     "output_type": "stream",
     "text": [
      "http://biothings.io/explorer/api/v2/directinput2output?input_prefix=hp&output_prefix=uberon&input_value=0001392&format=translator\n",
      "http://biothings.io/explorer/api/v2/directinput2output?input_prefix=hp&output_prefix=uberon&input_value=0100799&format=translator\n"
     ]
    },
    {
     "name": "stderr",
     "output_type": "stream",
     "text": [
      "WARNING:root:{'status': 400, 'error message': \"Endpoints could be located connecting hp to uberon. The endpoints are ['https://api.monarchinitiative.org/api/bioentity/phenotype/{phenotypeid}/anatomy']. However, no output could be found using the endpoint!\"}\n"
     ]
    },
    {
     "name": "stdout",
     "output_type": "stream",
     "text": [
      "http://biothings.io/explorer/api/v2/directinput2output?input_prefix=hp&output_prefix=uberon&input_value=0000003&format=translator\n",
      "http://biothings.io/explorer/api/v2/directinput2output?input_prefix=hp&output_prefix=uberon&input_value=0002668&format=translator\n"
     ]
    },
    {
     "name": "stderr",
     "output_type": "stream",
     "text": [
      "WARNING:root:{'status': 400, 'error message': \"Endpoints could be located connecting hp to uberon. The endpoints are ['https://api.monarchinitiative.org/api/bioentity/phenotype/{phenotypeid}/anatomy']. However, no output could be found using the endpoint!\"}\n"
     ]
    },
    {
     "name": "stdout",
     "output_type": "stream",
     "text": [
      "http://biothings.io/explorer/api/v2/directinput2output?input_prefix=hp&output_prefix=uberon&input_value=0001737&format=translator\n"
     ]
    },
    {
     "name": "stderr",
     "output_type": "stream",
     "text": [
      "WARNING:root:{'status': 400, 'error message': \"Endpoints could be located connecting hp to uberon. The endpoints are ['https://api.monarchinitiative.org/api/bioentity/phenotype/{phenotypeid}/anatomy']. However, no output could be found using the endpoint!\"}\n"
     ]
    },
    {
     "name": "stdout",
     "output_type": "stream",
     "text": [
      "http://biothings.io/explorer/api/v2/directinput2output?input_prefix=hp&output_prefix=uberon&input_value=0000572&format=translator\n"
     ]
    },
    {
     "name": "stderr",
     "output_type": "stream",
     "text": [
      "WARNING:root:{'status': 400, 'error message': \"Endpoints could be located connecting hp to uberon. The endpoints are ['https://api.monarchinitiative.org/api/bioentity/phenotype/{phenotypeid}/anatomy']. However, no output could be found using the endpoint!\"}\n"
     ]
    },
    {
     "name": "stdout",
     "output_type": "stream",
     "text": [
      "http://biothings.io/explorer/api/v2/directinput2output?input_prefix=hp&output_prefix=uberon&input_value=0000113&format=translator\n"
     ]
    },
    {
     "name": "stderr",
     "output_type": "stream",
     "text": [
      "WARNING:root:{'status': 400, 'error message': \"Endpoints could be located connecting hp to uberon. The endpoints are ['https://api.monarchinitiative.org/api/bioentity/phenotype/{phenotypeid}/anatomy']. However, no output could be found using the endpoint!\"}\n"
     ]
    },
    {
     "name": "stdout",
     "output_type": "stream",
     "text": [
      "http://biothings.io/explorer/api/v2/directinput2output?input_prefix=hp&output_prefix=uberon&input_value=0000360&format=translator\n"
     ]
    },
    {
     "name": "stderr",
     "output_type": "stream",
     "text": [
      "WARNING:root:{'status': 400, 'error message': \"Endpoints could be located connecting hp to uberon. The endpoints are ['https://api.monarchinitiative.org/api/bioentity/phenotype/{phenotypeid}/anatomy']. However, no output could be found using the endpoint!\"}\n"
     ]
    },
    {
     "name": "stdout",
     "output_type": "stream",
     "text": [
      "http://biothings.io/explorer/api/v2/directinput2output?input_prefix=hp&output_prefix=uberon&input_value=0000365&format=translator\n"
     ]
    },
    {
     "name": "stderr",
     "output_type": "stream",
     "text": [
      "WARNING:root:{'status': 400, 'error message': \"Endpoints could be located connecting hp to uberon. The endpoints are ['https://api.monarchinitiative.org/api/bioentity/phenotype/{phenotypeid}/anatomy']. However, no output could be found using the endpoint!\"}\n"
     ]
    },
    {
     "name": "stdout",
     "output_type": "stream",
     "text": [
      "http://biothings.io/explorer/api/v2/directinput2output?input_prefix=hp&output_prefix=uberon&input_value=0000006&format=translator\n"
     ]
    },
    {
     "name": "stderr",
     "output_type": "stream",
     "text": [
      "WARNING:root:{'status': 400, 'error message': \"Endpoints could be located connecting hp to uberon. The endpoints are ['https://api.monarchinitiative.org/api/bioentity/phenotype/{phenotypeid}/anatomy']. However, no output could be found using the endpoint!\"}\n"
     ]
    },
    {
     "name": "stdout",
     "output_type": "stream",
     "text": [
      "http://biothings.io/explorer/api/v2/directinput2output?input_prefix=hp&output_prefix=uberon&input_value=0100742&format=translator\n"
     ]
    },
    {
     "name": "stderr",
     "output_type": "stream",
     "text": [
      "WARNING:root:{'status': 400, 'error message': \"Endpoints could be located connecting hp to uberon. The endpoints are ['https://api.monarchinitiative.org/api/bioentity/phenotype/{phenotypeid}/anatomy']. However, no output could be found using the endpoint!\"}\n"
     ]
    },
    {
     "name": "stdout",
     "output_type": "stream",
     "text": [
      "http://biothings.io/explorer/api/v2/directinput2output?input_prefix=hp&output_prefix=uberon&input_value=0001732&format=translator\n"
     ]
    },
    {
     "name": "stderr",
     "output_type": "stream",
     "text": [
      "WARNING:root:{'status': 400, 'error message': \"Endpoints could be located connecting hp to uberon. The endpoints are ['https://api.monarchinitiative.org/api/bioentity/phenotype/{phenotypeid}/anatomy']. However, no output could be found using the endpoint!\"}\n"
     ]
    },
    {
     "name": "stdout",
     "output_type": "stream",
     "text": [
      "http://biothings.io/explorer/api/v2/directinput2output?input_prefix=hp&output_prefix=uberon&input_value=0030424&format=translator\n"
     ]
    },
    {
     "name": "stderr",
     "output_type": "stream",
     "text": [
      "WARNING:root:{'status': 400, 'error message': \"Endpoints could be located connecting hp to uberon. The endpoints are ['https://api.monarchinitiative.org/api/bioentity/phenotype/{phenotypeid}/anatomy']. However, no output could be found using the endpoint!\"}\n"
     ]
    },
    {
     "name": "stdout",
     "output_type": "stream",
     "text": [
      "http://biothings.io/explorer/api/v2/directinput2output?input_prefix=hp&output_prefix=uberon&input_value=0002666&format=translator\n"
     ]
    },
    {
     "name": "stderr",
     "output_type": "stream",
     "text": [
      "WARNING:root:{'status': 400, 'error message': \"Endpoints could be located connecting hp to uberon. The endpoints are ['https://api.monarchinitiative.org/api/bioentity/phenotype/{phenotypeid}/anatomy']. However, no output could be found using the endpoint!\"}\n"
     ]
    },
    {
     "name": "stdout",
     "output_type": "stream",
     "text": [
      "http://biothings.io/explorer/api/v2/directinput2output?input_prefix=hp&output_prefix=uberon&input_value=0000501&format=translator\n"
     ]
    },
    {
     "name": "stderr",
     "output_type": "stream",
     "text": [
      "WARNING:root:{'status': 400, 'error message': \"Endpoints could be located connecting hp to uberon. The endpoints are ['https://api.monarchinitiative.org/api/bioentity/phenotype/{phenotypeid}/anatomy']. However, no output could be found using the endpoint!\"}\n"
     ]
    },
    {
     "name": "stdout",
     "output_type": "stream",
     "text": [
      "http://biothings.io/explorer/api/v2/directinput2output?input_prefix=hp&output_prefix=uberon&input_value=0002076&format=translator\n"
     ]
    },
    {
     "name": "stderr",
     "output_type": "stream",
     "text": [
      "WARNING:root:{'status': 400, 'error message': \"Endpoints could be located connecting hp to uberon. The endpoints are ['https://api.monarchinitiative.org/api/bioentity/phenotype/{phenotypeid}/anatomy']. However, no output could be found using the endpoint!\"}\n"
     ]
    },
    {
     "name": "stdout",
     "output_type": "stream",
     "text": [
      "http://biothings.io/explorer/api/v2/directinput2output?input_prefix=hp&output_prefix=uberon&input_value=0009711&format=translator\n"
     ]
    },
    {
     "name": "stderr",
     "output_type": "stream",
     "text": [
      "WARNING:root:{'status': 400, 'error message': \"Endpoints could be located connecting hp to uberon. The endpoints are ['https://api.monarchinitiative.org/api/bioentity/phenotype/{phenotypeid}/anatomy']. However, no output could be found using the endpoint!\"}\n"
     ]
    },
    {
     "name": "stdout",
     "output_type": "stream",
     "text": [
      "http://biothings.io/explorer/api/v2/directinput2output?input_prefix=hp&output_prefix=uberon&input_value=0000518&format=translator\n",
      "http://biothings.io/explorer/api/v2/directinput2output?input_prefix=hp&output_prefix=uberon&input_value=0000077&format=translator\n"
     ]
    },
    {
     "name": "stderr",
     "output_type": "stream",
     "text": [
      "WARNING:root:{'status': 400, 'error message': \"Endpoints could be located connecting hp to uberon. The endpoints are ['https://api.monarchinitiative.org/api/bioentity/phenotype/{phenotypeid}/anatomy']. However, no output could be found using the endpoint!\"}\n"
     ]
    },
    {
     "name": "stdout",
     "output_type": "stream",
     "text": [
      "http://biothings.io/explorer/api/v2/directinput2output?input_prefix=hp&output_prefix=uberon&input_value=0007360&format=translator\n",
      "http://biothings.io/explorer/api/v2/directinput2output?input_prefix=hp&output_prefix=uberon&input_value=0002321&format=translator\n"
     ]
    },
    {
     "name": "stderr",
     "output_type": "stream",
     "text": [
      "WARNING:root:{'status': 400, 'error message': \"Endpoints could be located connecting hp to uberon. The endpoints are ['https://api.monarchinitiative.org/api/bioentity/phenotype/{phenotypeid}/anatomy']. However, no output could be found using the endpoint!\"}\n"
     ]
    },
    {
     "name": "stdout",
     "output_type": "stream",
     "text": [
      "http://biothings.io/explorer/api/v2/directinput2output?input_prefix=hp&output_prefix=uberon&input_value=0001251&format=translator\n"
     ]
    },
    {
     "name": "stderr",
     "output_type": "stream",
     "text": [
      "WARNING:root:{'status': 400, 'error message': \"Endpoints could be located connecting hp to uberon. The endpoints are ['https://api.monarchinitiative.org/api/bioentity/phenotype/{phenotypeid}/anatomy']. However, no output could be found using the endpoint!\"}\n"
     ]
    },
    {
     "name": "stdout",
     "output_type": "stream",
     "text": [
      "http://biothings.io/explorer/api/v2/directinput2output?input_prefix=hp&output_prefix=uberon&input_value=0009713&format=translator\n"
     ]
    },
    {
     "name": "stderr",
     "output_type": "stream",
     "text": [
      "WARNING:root:{'status': 400, 'error message': \"Endpoints could be located connecting hp to uberon. The endpoints are ['https://api.monarchinitiative.org/api/bioentity/phenotype/{phenotypeid}/anatomy']. However, no output could be found using the endpoint!\"}\n"
     ]
    },
    {
     "name": "stdout",
     "output_type": "stream",
     "text": [
      "http://biothings.io/explorer/api/v2/directinput2output?input_prefix=hp&output_prefix=uberon&input_value=0000975&format=translator\n"
     ]
    },
    {
     "name": "stderr",
     "output_type": "stream",
     "text": [
      "WARNING:root:{'status': 400, 'error message': \"Endpoints could be located connecting hp to uberon. The endpoints are ['https://api.monarchinitiative.org/api/bioentity/phenotype/{phenotypeid}/anatomy']. However, no output could be found using the endpoint!\"}\n"
     ]
    },
    {
     "name": "stdout",
     "output_type": "stream",
     "text": [
      "http://biothings.io/explorer/api/v2/directinput2output?input_prefix=hp&output_prefix=uberon&input_value=0005954&format=translator\n",
      "http://biothings.io/explorer/api/v2/directinput2output?input_prefix=hp&output_prefix=uberon&input_value=0005562&format=translator\n"
     ]
    },
    {
     "name": "stderr",
     "output_type": "stream",
     "text": [
      "WARNING:root:{'status': 400, 'error message': \"Endpoints could be located connecting hp to uberon. The endpoints are ['https://api.monarchinitiative.org/api/bioentity/phenotype/{phenotypeid}/anatomy']. However, no output could be found using the endpoint!\"}\n"
     ]
    },
    {
     "name": "stdout",
     "output_type": "stream",
     "text": [
      "http://biothings.io/explorer/api/v2/directinput2output?input_prefix=hp&output_prefix=uberon&input_value=0000822&format=translator\n",
      "http://biothings.io/explorer/api/v2/directinput2output?input_prefix=hp&output_prefix=uberon&input_value=0004374&format=translator\n"
     ]
    },
    {
     "name": "stderr",
     "output_type": "stream",
     "text": [
      "WARNING:root:{'status': 400, 'error message': \"Endpoints could be located connecting hp to uberon. The endpoints are ['https://api.monarchinitiative.org/api/bioentity/phenotype/{phenotypeid}/anatomy']. However, no output could be found using the endpoint!\"}\n"
     ]
    },
    {
     "name": "stdout",
     "output_type": "stream",
     "text": [
      "http://biothings.io/explorer/api/v2/directinput2output?input_prefix=hp&output_prefix=uberon&input_value=0100026&format=translator\n",
      "http://biothings.io/explorer/api/v2/directinput2output?input_prefix=hp&output_prefix=uberon&input_value=0011675&format=translator\n"
     ]
    },
    {
     "name": "stderr",
     "output_type": "stream",
     "text": [
      "WARNING:root:{'status': 400, 'error message': \"Endpoints could be located connecting hp to uberon. The endpoints are ['https://api.monarchinitiative.org/api/bioentity/phenotype/{phenotypeid}/anatomy']. However, no output could be found using the endpoint!\"}\n"
     ]
    },
    {
     "name": "stdout",
     "output_type": "stream",
     "text": [
      "http://biothings.io/explorer/api/v2/directinput2output?input_prefix=hp&output_prefix=uberon&input_value=0100659&format=translator\n"
     ]
    },
    {
     "name": "stderr",
     "output_type": "stream",
     "text": [
      "WARNING:root:{'status': 400, 'error message': \"Endpoints could be located connecting hp to uberon. The endpoints are ['https://api.monarchinitiative.org/api/bioentity/phenotype/{phenotypeid}/anatomy']. However, no output could be found using the endpoint!\"}\n"
     ]
    },
    {
     "name": "stdout",
     "output_type": "stream",
     "text": [
      "http://biothings.io/explorer/api/v2/directinput2output?input_prefix=hp&output_prefix=uberon&input_value=0000407&format=translator\n",
      "http://biothings.io/explorer/api/v2/directinput2output?input_prefix=hp&output_prefix=uberon&input_value=0002664&format=translator\n"
     ]
    },
    {
     "name": "stderr",
     "output_type": "stream",
     "text": [
      "WARNING:root:{'status': 400, 'error message': \"Endpoints could be located connecting hp to uberon. The endpoints are ['https://api.monarchinitiative.org/api/bioentity/phenotype/{phenotypeid}/anatomy']. However, no output could be found using the endpoint!\"}\n"
     ]
    },
    {
     "name": "stdout",
     "output_type": "stream",
     "text": [
      "http://biothings.io/explorer/api/v2/directinput2output?input_prefix=hp&output_prefix=uberon&input_value=0001288&format=translator\n"
     ]
    },
    {
     "name": "stderr",
     "output_type": "stream",
     "text": [
      "WARNING:root:{'status': 400, 'error message': \"Endpoints could be located connecting hp to uberon. The endpoints are ['https://api.monarchinitiative.org/api/bioentity/phenotype/{phenotypeid}/anatomy']. However, no output could be found using the endpoint!\"}\n"
     ]
    },
    {
     "name": "stdout",
     "output_type": "stream",
     "text": [
      "http://biothings.io/explorer/api/v2/directinput2output?input_prefix=hp&output_prefix=uberon&input_value=0005306&format=translator\n",
      "http://biothings.io/explorer/api/v2/directinput2output?input_prefix=hp&output_prefix=uberon&input_value=0003812&format=translator\n"
     ]
    },
    {
     "name": "stderr",
     "output_type": "stream",
     "text": [
      "WARNING:root:{'status': 400, 'error message': \"Endpoints could be located connecting hp to uberon. The endpoints are ['https://api.monarchinitiative.org/api/bioentity/phenotype/{phenotypeid}/anatomy']. However, no output could be found using the endpoint!\"}\n"
     ]
    },
    {
     "name": "stdout",
     "output_type": "stream",
     "text": [
      "http://biothings.io/explorer/api/v2/directinput2output?input_prefix=hp&output_prefix=uberon&input_value=0000763&format=translator\n",
      "http://biothings.io/explorer/api/v2/directinput2output?input_prefix=hp&output_prefix=uberon&input_value=0000238&format=translator\n"
     ]
    },
    {
     "name": "stderr",
     "output_type": "stream",
     "text": [
      "WARNING:root:{'status': 400, 'error message': \"Endpoints could be located connecting hp to uberon. The endpoints are ['https://api.monarchinitiative.org/api/bioentity/phenotype/{phenotypeid}/anatomy']. However, no output could be found using the endpoint!\"}\n"
     ]
    },
    {
     "name": "stdout",
     "output_type": "stream",
     "text": [
      "http://biothings.io/explorer/api/v2/directinput2output?input_prefix=hp&output_prefix=uberon&input_value=0002017&format=translator\n"
     ]
    },
    {
     "name": "stderr",
     "output_type": "stream",
     "text": [
      "WARNING:root:{'status': 400, 'error message': \"Endpoints could be located connecting hp to uberon. The endpoints are ['https://api.monarchinitiative.org/api/bioentity/phenotype/{phenotypeid}/anatomy']. However, no output could be found using the endpoint!\"}\n"
     ]
    },
    {
     "name": "stdout",
     "output_type": "stream",
     "text": [
      "http://biothings.io/explorer/api/v2/directinput2output?input_prefix=hp&output_prefix=uberon&input_value=0002167&format=translator\n"
     ]
    },
    {
     "name": "stderr",
     "output_type": "stream",
     "text": [
      "WARNING:root:{'status': 400, 'error message': \"Endpoints could be located connecting hp to uberon. The endpoints are ['https://api.monarchinitiative.org/api/bioentity/phenotype/{phenotypeid}/anatomy']. However, no output could be found using the endpoint!\"}\n"
     ]
    },
    {
     "name": "stdout",
     "output_type": "stream",
     "text": [
      "http://biothings.io/explorer/api/v2/directinput2output?input_prefix=hp&output_prefix=uberon&input_value=0000505&format=translator\n"
     ]
    },
    {
     "name": "stderr",
     "output_type": "stream",
     "text": [
      "WARNING:root:{'status': 400, 'error message': \"Endpoints could be located connecting hp to uberon. The endpoints are ['https://api.monarchinitiative.org/api/bioentity/phenotype/{phenotypeid}/anatomy']. However, no output could be found using the endpoint!\"}\n"
     ]
    },
    {
     "name": "stdout",
     "output_type": "stream",
     "text": [
      "http://biothings.io/explorer/api/v2/directinput2output?input_prefix=hp&output_prefix=uberon&input_value=0100585&format=translator\n"
     ]
    },
    {
     "name": "stderr",
     "output_type": "stream",
     "text": [
      "WARNING:root:{'status': 400, 'error message': \"Endpoints could be located connecting hp to uberon. The endpoints are ['https://api.monarchinitiative.org/api/bioentity/phenotype/{phenotypeid}/anatomy']. However, no output could be found using the endpoint!\"}\n"
     ]
    },
    {
     "name": "stdout",
     "output_type": "stream",
     "text": [
      "http://biothings.io/explorer/api/v2/directinput2output?input_prefix=hp&output_prefix=uberon&input_value=0100634&format=translator\n"
     ]
    },
    {
     "name": "stderr",
     "output_type": "stream",
     "text": [
      "WARNING:root:{'status': 400, 'error message': \"Endpoints could be located connecting hp to uberon. The endpoints are ['https://api.monarchinitiative.org/api/bioentity/phenotype/{phenotypeid}/anatomy']. However, no output could be found using the endpoint!\"}\n"
     ]
    },
    {
     "name": "stdout",
     "output_type": "stream",
     "text": [
      "http://biothings.io/explorer/api/v2/directinput2output?input_prefix=hp&output_prefix=uberon&input_value=0001901&format=translator\n"
     ]
    },
    {
     "name": "stderr",
     "output_type": "stream",
     "text": [
      "WARNING:root:{'status': 400, 'error message': \"Endpoints could be located connecting hp to uberon. The endpoints are ['https://api.monarchinitiative.org/api/bioentity/phenotype/{phenotypeid}/anatomy']. However, no output could be found using the endpoint!\"}\n"
     ]
    },
    {
     "name": "stdout",
     "output_type": "stream",
     "text": [
      "http://biothings.io/explorer/api/v2/directinput2output?input_prefix=hp&output_prefix=uberon&input_value=0006880&format=translator\n"
     ]
    },
    {
     "name": "stderr",
     "output_type": "stream",
     "text": [
      "WARNING:root:{'status': 400, 'error message': \"Endpoints could be located connecting hp to uberon. The endpoints are ['https://api.monarchinitiative.org/api/bioentity/phenotype/{phenotypeid}/anatomy']. However, no output could be found using the endpoint!\"}\n"
     ]
    },
    {
     "name": "stdout",
     "output_type": "stream",
     "text": [
      "http://biothings.io/explorer/api/v2/directinput2output?input_prefix=hp&output_prefix=uberon&input_value=0002516&format=translator\n"
     ]
    },
    {
     "name": "stderr",
     "output_type": "stream",
     "text": [
      "WARNING:root:{'status': 400, 'error message': \"Endpoints could be located connecting hp to uberon. The endpoints are ['https://api.monarchinitiative.org/api/bioentity/phenotype/{phenotypeid}/anatomy']. However, no output could be found using the endpoint!\"}\n"
     ]
    },
    {
     "name": "stdout",
     "output_type": "stream",
     "text": [
      "http://biothings.io/explorer/api/v2/directinput2output?input_prefix=hp&output_prefix=uberon&input_value=0100761&format=translator\n"
     ]
    },
    {
     "name": "stderr",
     "output_type": "stream",
     "text": [
      "WARNING:root:{'status': 400, 'error message': \"Endpoints could be located connecting hp to uberon. The endpoints are ['https://api.monarchinitiative.org/api/bioentity/phenotype/{phenotypeid}/anatomy']. However, no output could be found using the endpoint!\"}\n"
     ]
    },
    {
     "name": "stdout",
     "output_type": "stream",
     "text": [
      "http://biothings.io/explorer/api/v2/directinput2output?input_prefix=hp&output_prefix=uberon&input_value=0008046&format=translator\n",
      "http://biothings.io/explorer/api/v2/directinput2output?input_prefix=hp&output_prefix=uberon&input_value=0000541&format=translator\n",
      "http://biothings.io/explorer/api/v2/directinput2output?input_prefix=hp&output_prefix=uberon&input_value=0009715&format=translator\n"
     ]
    },
    {
     "name": "stderr",
     "output_type": "stream",
     "text": [
      "WARNING:root:{'status': 400, 'error message': \"Endpoints could be located connecting hp to uberon. The endpoints are ['https://api.monarchinitiative.org/api/bioentity/phenotype/{phenotypeid}/anatomy']. However, no output could be found using the endpoint!\"}\n"
     ]
    },
    {
     "name": "stdout",
     "output_type": "stream",
     "text": [
      "http://biothings.io/explorer/api/v2/directinput2output?input_prefix=hp&output_prefix=uberon&input_value=0000639&format=translator\n"
     ]
    },
    {
     "name": "stderr",
     "output_type": "stream",
     "text": [
      "WARNING:root:{'status': 400, 'error message': \"Endpoints could be located connecting hp to uberon. The endpoints are ['https://api.monarchinitiative.org/api/bioentity/phenotype/{phenotypeid}/anatomy']. However, no output could be found using the endpoint!\"}\n"
     ]
    },
    {
     "name": "stdout",
     "output_type": "stream",
     "text": [
      "http://biothings.io/explorer/api/v2/directinput2output?input_prefix=hp&output_prefix=uberon&input_value=0002894&format=translator\n"
     ]
    },
    {
     "name": "stderr",
     "output_type": "stream",
     "text": [
      "WARNING:root:{'status': 400, 'error message': \"Endpoints could be located connecting hp to uberon. The endpoints are ['https://api.monarchinitiative.org/api/bioentity/phenotype/{phenotypeid}/anatomy']. However, no output could be found using the endpoint!\"}\n"
     ]
    },
    {
     "name": "stdout",
     "output_type": "stream",
     "text": [
      "http://biothings.io/explorer/api/v2/directinput2output?input_prefix=hp&output_prefix=uberon&input_value=0100763&format=translator\n"
     ]
    },
    {
     "name": "stderr",
     "output_type": "stream",
     "text": [
      "INFO:root:Getting brenda tissue names from uberon tissue identifiers\n"
     ]
    },
    {
     "name": "stdout",
     "output_type": "stream",
     "text": [
      "Returned 16 uberon tissues\n",
      "Returned 7 brenda tissues\n"
     ]
    }
   ],
   "source": [
    "genes,tissues = doid_to_genes_and_tissues('14175',direct=True,N=1000)\n",
    "#will return several tissues, this will take a while"
   ]
  },
  {
   "cell_type": "code",
   "execution_count": 4,
   "metadata": {
    "collapsed": false,
    "deletable": true,
    "editable": true,
    "scrolled": true
   },
   "outputs": [
    {
     "name": "stdout",
     "output_type": "stream",
     "text": [
      "['artery', 'blood', 'cerebellum', 'lens', 'liver', 'nerve', 'retina']\n"
     ]
    }
   ],
   "source": [
    "#here are the tissues returned\n",
    "print(tissues)"
   ]
  },
  {
   "cell_type": "code",
   "execution_count": 5,
   "metadata": {},
   "outputs": [
    {
     "name": "stdout",
     "output_type": "stream",
     "text": [
      "['artery', 'blood', 'cerebellum', 'retina']\n"
     ]
    }
   ],
   "source": [
    "# Most relevant VHL subset selected from those\n",
    "tissues = ['artery', 'blood', 'cerebellum', 'retina']\n",
    "print(tissues)"
   ]
  },
  {
   "cell_type": "markdown",
   "metadata": {
    "deletable": true,
    "editable": true
   },
   "source": [
    "## Module 2 - Getting VHL interacting genes\n",
    "We ask for N=200 new genes."
   ]
  },
  {
   "cell_type": "code",
   "execution_count": 6,
   "metadata": {
    "collapsed": false,
    "deletable": true,
    "editable": true,
    "scrolled": true
   },
   "outputs": [
    {
     "name": "stdout",
     "output_type": "stream",
     "text": [
      "Sent: GET http://biggim.ncats.io/api/metadata/tissue/artery?None\n",
      "Sent: GET http://biggim.ncats.io/api/metadata/tissue/blood?None\n",
      "Sent: GET http://biggim.ncats.io/api/metadata/tissue/cerebellum?None\n",
      "Sent: GET http://biggim.ncats.io/api/metadata/tissue/retina?None\n",
      "Returned 52 Big GIM columns\n",
      "['GIANT_lymphocyte_KnownFunctionalInteraction', 'GIANT_cerebellum_ProbabilityOfFunctionalInteraction', 'GIANT_hematopoietic_stem_cell_ProbabilityOfFunctionalInteraction', 'GIANT_monocyte_KnownFunctionalInteraction', 'GIANT_megakaryocyte_KnownFunctionalInteraction', 'GIANT_aorta_ProbabilityOfFunctionalInteraction', 'GIANT_leukocyte_KnownFunctionalInteraction', 'GIANT_natural_killer_cell_KnownFunctionalInteraction', 'GIANT_monocyte_ProbabilityOfFunctionalInteraction', 'GIANT_thymocyte_ProbabilityOfFunctionalInteraction', 'GIANT_megakaryocyte_ProbabilityOfFunctionalInteraction', 'GIANT_b_lymphocyte_ProbabilityOfFunctionalInteraction', 'GIANT_cerebellar_cortex_ProbabilityOfFunctionalInteraction', 'GIANT_retina_ProbabilityOfFunctionalInteraction', 'GIANT_leukocyte_ProbabilityOfFunctionalInteraction', 'GIANT_blood_ProbabilityOfFunctionalInteraction', 'GIANT_blood_platelet_KnownFunctionalInteraction', 'GIANT_lymphocyte_ProbabilityOfFunctionalInteraction', 'GIANT_eosinophil_KnownFunctionalInteraction', 'GIANT_artery_ProbabilityOfFunctionalInteraction', 'GTEx_Pituitary_Correlation', 'GIANT_thymocyte_KnownFunctionalInteraction', 'GIANT_natural_killer_cell_ProbabilityOfFunctionalInteraction', 'GIANT_blood_platelet_ProbabilityOfFunctionalInteraction', 'GIANT_dendritic_cell_ProbabilityOfFunctionalInteraction', 'GIANT_b_lymphocyte_KnownFunctionalInteraction', 'GIANT_basophil_KnownFunctionalInteraction', 'GIANT_cerebellar_cortex_KnownFunctionalInteraction', 'GTEx_Blood_Correlation', 'GIANT_basophil_ProbabilityOfFunctionalInteraction', 'GIANT_retina_KnownFunctionalInteraction', 'GIANT_neutrophil_ProbabilityOfFunctionalInteraction', 'GIANT_neutrophil_KnownFunctionalInteraction', 'GIANT_mononuclear_phagocyte_ProbabilityOfFunctionalInteraction', 'GIANT_hematopoietic_stem_cell_KnownFunctionalInteraction', 'GIANT_dendritic_cell_KnownFunctionalInteraction', 'GIANT_macrophage_KnownFunctionalInteraction', 'GIANT_t_lymphocyte_ProbabilityOfFunctionalInteraction', 'GIANT_blood_plasma_KnownFunctionalInteraction', 'GIANT_artery_KnownFunctionalInteraction', 'GIANT_hypophysis_KnownFunctionalInteraction', 'GIANT_eosinophil_ProbabilityOfFunctionalInteraction', 'GIANT_cerebellum_KnownFunctionalInteraction', 'GIANT_granulocyte_KnownFunctionalInteraction', 'GIANT_blood_KnownFunctionalInteraction', 'GIANT_hypophysis_ProbabilityOfFunctionalInteraction', 'GIANT_granulocyte_ProbabilityOfFunctionalInteraction', 'GIANT_macrophage_ProbabilityOfFunctionalInteraction', 'GIANT_mononuclear_phagocyte_KnownFunctionalInteraction', 'GIANT_t_lymphocyte_KnownFunctionalInteraction', 'GIANT_blood_plasma_ProbabilityOfFunctionalInteraction', 'GIANT_aorta_KnownFunctionalInteraction']\n",
      "Sent: GET http://biggim.ncats.io/api/biggim/query?restriction_gt=GIANT_lymphocyte_KnownFunctionalInteraction%2C-2.0%2CGIANT_cerebellum_ProbabilityOfFunctionalInteraction%2C-2.0%2CGIANT_hematopoietic_stem_cell_ProbabilityOfFunctionalInteraction%2C-2.0%2CGIANT_monocyte_KnownFunctionalInteraction%2C-2.0%2CGIANT_megakaryocyte_KnownFunctionalInteraction%2C-2.0%2CGIANT_aorta_ProbabilityOfFunctionalInteraction%2C-2.0%2CGIANT_leukocyte_KnownFunctionalInteraction%2C-2.0%2CGIANT_natural_killer_cell_KnownFunctionalInteraction%2C-2.0%2CGIANT_monocyte_ProbabilityOfFunctionalInteraction%2C-2.0%2CGIANT_thymocyte_ProbabilityOfFunctionalInteraction%2C-2.0%2CGIANT_megakaryocyte_ProbabilityOfFunctionalInteraction%2C-2.0%2CGIANT_b_lymphocyte_ProbabilityOfFunctionalInteraction%2C-2.0%2CGIANT_cerebellar_cortex_ProbabilityOfFunctionalInteraction%2C-2.0%2CGIANT_retina_ProbabilityOfFunctionalInteraction%2C-2.0%2CGIANT_leukocyte_ProbabilityOfFunctionalInteraction%2C-2.0%2CGIANT_blood_ProbabilityOfFunctionalInteraction%2C-2.0%2CGIANT_blood_platelet_KnownFunctionalInteraction%2C-2.0%2CGIANT_lymphocyte_ProbabilityOfFunctionalInteraction%2C-2.0%2CGIANT_eosinophil_KnownFunctionalInteraction%2C-2.0%2CGIANT_artery_ProbabilityOfFunctionalInteraction%2C-2.0%2CGTEx_Pituitary_Correlation%2C-2.0%2CGIANT_thymocyte_KnownFunctionalInteraction%2C-2.0%2CGIANT_natural_killer_cell_ProbabilityOfFunctionalInteraction%2C-2.0%2CGIANT_blood_platelet_ProbabilityOfFunctionalInteraction%2C-2.0%2CGIANT_dendritic_cell_ProbabilityOfFunctionalInteraction%2C-2.0%2CGIANT_b_lymphocyte_KnownFunctionalInteraction%2C-2.0%2CGIANT_basophil_KnownFunctionalInteraction%2C-2.0%2CGIANT_cerebellar_cortex_KnownFunctionalInteraction%2C-2.0%2CGTEx_Blood_Correlation%2C-2.0%2CGIANT_basophil_ProbabilityOfFunctionalInteraction%2C-2.0%2CGIANT_retina_KnownFunctionalInteraction%2C-2.0%2CGIANT_neutrophil_ProbabilityOfFunctionalInteraction%2C-2.0%2CGIANT_neutrophil_KnownFunctionalInteraction%2C-2.0%2CGIANT_mononuclear_phagocyte_ProbabilityOfFunctionalInteraction%2C-2.0%2CGIANT_hematopoietic_stem_cell_KnownFunctionalInteraction%2C-2.0%2CGIANT_dendritic_cell_KnownFunctionalInteraction%2C-2.0%2CGIANT_macrophage_KnownFunctionalInteraction%2C-2.0%2CGIANT_t_lymphocyte_ProbabilityOfFunctionalInteraction%2C-2.0%2CGIANT_blood_plasma_KnownFunctionalInteraction%2C-2.0%2CGIANT_artery_KnownFunctionalInteraction%2C-2.0%2CGIANT_hypophysis_KnownFunctionalInteraction%2C-2.0%2CGIANT_eosinophil_ProbabilityOfFunctionalInteraction%2C-2.0%2CGIANT_cerebellum_KnownFunctionalInteraction%2C-2.0%2CGIANT_granulocyte_KnownFunctionalInteraction%2C-2.0%2CGIANT_blood_KnownFunctionalInteraction%2C-2.0%2CGIANT_hypophysis_ProbabilityOfFunctionalInteraction%2C-2.0%2CGIANT_granulocyte_ProbabilityOfFunctionalInteraction%2C-2.0%2CGIANT_macrophage_ProbabilityOfFunctionalInteraction%2C-2.0%2CGIANT_mononuclear_phagocyte_KnownFunctionalInteraction%2C-2.0%2CGIANT_t_lymphocyte_KnownFunctionalInteraction%2C-2.0%2CGIANT_blood_plasma_ProbabilityOfFunctionalInteraction%2C-2.0%2CGIANT_aorta_KnownFunctionalInteraction%2C-2.0&table=BigGIM_70_v1&columns=GIANT_lymphocyte_KnownFunctionalInteraction%2CGIANT_cerebellum_ProbabilityOfFunctionalInteraction%2CGIANT_hematopoietic_stem_cell_ProbabilityOfFunctionalInteraction%2CGIANT_monocyte_KnownFunctionalInteraction%2CGIANT_megakaryocyte_KnownFunctionalInteraction%2CGIANT_aorta_ProbabilityOfFunctionalInteraction%2CGIANT_leukocyte_KnownFunctionalInteraction%2CGIANT_natural_killer_cell_KnownFunctionalInteraction%2CGIANT_monocyte_ProbabilityOfFunctionalInteraction%2CGIANT_thymocyte_ProbabilityOfFunctionalInteraction%2CGIANT_megakaryocyte_ProbabilityOfFunctionalInteraction%2CGIANT_b_lymphocyte_ProbabilityOfFunctionalInteraction%2CGIANT_cerebellar_cortex_ProbabilityOfFunctionalInteraction%2CGIANT_retina_ProbabilityOfFunctionalInteraction%2CGIANT_leukocyte_ProbabilityOfFunctionalInteraction%2CGIANT_blood_ProbabilityOfFunctionalInteraction%2CGIANT_blood_platelet_KnownFunctionalInteraction%2CGIANT_lymphocyte_ProbabilityOfFunctionalInteraction%2CGIANT_eosinophil_KnownFunctionalInteraction%2CGIANT_artery_ProbabilityOfFunctionalInteraction%2CGTEx_Pituitary_Correlation%2CGIANT_thymocyte_KnownFunctionalInteraction%2CGIANT_natural_killer_cell_ProbabilityOfFunctionalInteraction%2CGIANT_blood_platelet_ProbabilityOfFunctionalInteraction%2CGIANT_dendritic_cell_ProbabilityOfFunctionalInteraction%2CGIANT_b_lymphocyte_KnownFunctionalInteraction%2CGIANT_basophil_KnownFunctionalInteraction%2CGIANT_cerebellar_cortex_KnownFunctionalInteraction%2CGTEx_Blood_Correlation%2CGIANT_basophil_ProbabilityOfFunctionalInteraction%2CGIANT_retina_KnownFunctionalInteraction%2CGIANT_neutrophil_ProbabilityOfFunctionalInteraction%2CGIANT_neutrophil_KnownFunctionalInteraction%2CGIANT_mononuclear_phagocyte_ProbabilityOfFunctionalInteraction%2CGIANT_hematopoietic_stem_cell_KnownFunctionalInteraction%2CGIANT_dendritic_cell_KnownFunctionalInteraction%2CGIANT_macrophage_KnownFunctionalInteraction%2CGIANT_t_lymphocyte_ProbabilityOfFunctionalInteraction%2CGIANT_blood_plasma_KnownFunctionalInteraction%2CGIANT_artery_KnownFunctionalInteraction%2CGIANT_hypophysis_KnownFunctionalInteraction%2CGIANT_eosinophil_ProbabilityOfFunctionalInteraction%2CGIANT_cerebellum_KnownFunctionalInteraction%2CGIANT_granulocyte_KnownFunctionalInteraction%2CGIANT_blood_KnownFunctionalInteraction%2CGIANT_hypophysis_ProbabilityOfFunctionalInteraction%2CGIANT_granulocyte_ProbabilityOfFunctionalInteraction%2CGIANT_macrophage_ProbabilityOfFunctionalInteraction%2CGIANT_mononuclear_phagocyte_KnownFunctionalInteraction%2CGIANT_t_lymphocyte_KnownFunctionalInteraction%2CGIANT_blood_plasma_ProbabilityOfFunctionalInteraction%2CGIANT_aorta_KnownFunctionalInteraction&ids1=595%2C7428&limit=1000000&average_columns=True\n",
      "{\n",
      "  \"status\": \"submitted\",\n",
      "  \"request_id\": \"d66c0b54-c402-4e02-939b-1ef4eedc4757\"\n",
      "}\n",
      "Sent: GET http://biggim.ncats.io/api/biggim/status/d66c0b54-c402-4e02-939b-1ef4eedc4757?None\n",
      "{\n",
      "  \"status\": \"running\",\n",
      "  \"message\": \"Query job is running.\",\n",
      "  \"request_id\": \"d66c0b54-c402-4e02-939b-1ef4eedc4757\"\n",
      "}\n",
      "Checking again\n",
      "Sent: GET http://biggim.ncats.io/api/biggim/status/d66c0b54-c402-4e02-939b-1ef4eedc4757?None\n",
      "{\n",
      "  \"status\": \"running\",\n",
      "  \"message\": \"Query job is running.\",\n",
      "  \"request_id\": \"d66c0b54-c402-4e02-939b-1ef4eedc4757\"\n",
      "}\n",
      "Checking again\n",
      "Sent: GET http://biggim.ncats.io/api/biggim/status/d66c0b54-c402-4e02-939b-1ef4eedc4757?None\n",
      "{\n",
      "  \"status\": \"running\",\n",
      "  \"message\": \"Query job is running.\",\n",
      "  \"request_id\": \"d66c0b54-c402-4e02-939b-1ef4eedc4757\"\n",
      "}\n",
      "Checking again\n",
      "Sent: GET http://biggim.ncats.io/api/biggim/status/d66c0b54-c402-4e02-939b-1ef4eedc4757?None\n",
      "{\n",
      "  \"status\": \"running\",\n",
      "  \"message\": \"Query job is running.\",\n",
      "  \"request_id\": \"d66c0b54-c402-4e02-939b-1ef4eedc4757\"\n",
      "}\n",
      "Checking again\n",
      "Sent: GET http://biggim.ncats.io/api/biggim/status/d66c0b54-c402-4e02-939b-1ef4eedc4757?None\n",
      "{\n",
      "  \"status\": \"running\",\n",
      "  \"message\": \"Query job is running.\",\n",
      "  \"request_id\": \"d66c0b54-c402-4e02-939b-1ef4eedc4757\"\n",
      "}\n",
      "Checking again\n",
      "Sent: GET http://biggim.ncats.io/api/biggim/status/d66c0b54-c402-4e02-939b-1ef4eedc4757?None\n",
      "{\n",
      "  \"status\": \"running\",\n",
      "  \"message\": \"Query job is running.\",\n",
      "  \"request_id\": \"d66c0b54-c402-4e02-939b-1ef4eedc4757\"\n",
      "}\n",
      "Checking again\n",
      "Sent: GET http://biggim.ncats.io/api/biggim/status/d66c0b54-c402-4e02-939b-1ef4eedc4757?None\n",
      "{\n",
      "  \"status\": \"complete\",\n",
      "  \"rows\": 12948,\n",
      "  \"processed_data\": \"19.97 GB\",\n",
      "  \"request_id\": \"d66c0b54-c402-4e02-939b-1ef4eedc4757\",\n",
      "  \"request_uri\": [\n",
      "    \"https://storage.googleapis.com/ncats_bigquery_results/d66c0b54-c402-4e02-939b-1ef4eedc4757000000000000.csv\"\n",
      "  ],\n",
      "  \"size\": \"574.63 KB\"\n",
      "}\n",
      "        Gene1  Gene2      mean\n",
      "0      205428    595  0.056495\n",
      "1       80222    595  0.036630\n",
      "2       80311   7428  0.042104\n",
      "3       55610   7428  0.040247\n",
      "4        7428   7321  0.036005\n",
      "5       96459   7428  0.052488\n",
      "6       57152    595  0.032445\n",
      "7      115426    595  0.067399\n",
      "8       57520   7428  0.046748\n",
      "9       64951    595  0.030993\n",
      "10       7428    427  0.023502\n",
      "11       8674   7428  0.050510\n",
      "12     163049   7428  0.061775\n",
      "13      55728    595  0.061890\n",
      "14       8622   7428  0.033266\n",
      "15      23534   7428  0.061533\n",
      "16      79175    595  0.021656\n",
      "17      65999   7428  0.044325\n",
      "18      90268    595  0.030834\n",
      "19       9788   7428  0.034602\n",
      "20       6869    595  0.031928\n",
      "21      80025   7428  0.055211\n",
      "22     284695   7428  0.057575\n",
      "23      23016    595  0.083046\n",
      "24       3172    595  0.031157\n",
      "25     112752   7428  0.042457\n",
      "26      10605   7428  0.039832\n",
      "27      55486   7428  0.038406\n",
      "28     139322    595  0.031470\n",
      "29      51249    595  0.051381\n",
      "...       ...    ...       ...\n",
      "12918    7428   3417  0.039466\n",
      "12919   56946    595  0.029728\n",
      "12920  127396   7428  0.056519\n",
      "12921   93343   7428  0.036983\n",
      "12922    1975    595  0.088484\n",
      "12923   26015    595  0.037285\n",
      "12924   54995   7428  0.039426\n",
      "12925   51057    595  0.033670\n",
      "12926   23405   7428  0.049457\n",
      "12927   91147    595  0.038150\n",
      "12928   80381    595  0.088050\n",
      "12929    8906    595  0.042493\n",
      "12930   64969   7428  0.049712\n",
      "12931    1026    595  0.460992\n",
      "12932    7428   2194  0.030920\n",
      "12933  196441   7428  0.045942\n",
      "12934    7428   1280  0.039741\n",
      "12935  340527   7428  0.029329\n",
      "12936    7428   4437  0.040986\n",
      "12937    5357    595  0.042111\n",
      "12938    4076    595  0.064193\n",
      "12939   55731   7428  0.047199\n",
      "12940  374877   7428  0.028954\n",
      "12941   65082   7428  0.056095\n",
      "12942     706    595  0.076547\n",
      "12943    8506    595  0.034226\n",
      "12944   55620    595  0.056533\n",
      "12945    3985    595  0.014455\n",
      "12946    7428   2060  0.040678\n",
      "12947    8761   7428  0.027219\n",
      "\n",
      "[12948 rows x 3 columns]\n",
      "       index   Gene1  Gene2      mean\n",
      "0       5092    1021    595  0.466687\n",
      "1      12931    1026    595  0.460992\n",
      "2      11391    1019    595  0.329551\n",
      "3       4615    2317    595  0.262294\n",
      "4       5574    7128    595  0.227505\n",
      "5       5734    3593    595  0.226648\n",
      "6      11523    8453   7428  0.224808\n",
      "7       9736    3690    595  0.219148\n",
      "8       8015   10970    595  0.215667\n",
      "9      10982    1435    595  0.193410\n",
      "10     10299    4000    595  0.187494\n",
      "11      3726    7428   1901  0.185967\n",
      "12      7651  375790    595  0.180144\n",
      "13      9797    4286    595  0.176377\n",
      "14     12451    7428   5156  0.175807\n",
      "15      5486     894    595  0.175669\n",
      "16      9608    6678    595  0.174612\n",
      "17       316    8600    595  0.172782\n",
      "18      3352    3487    595  0.171399\n",
      "19       281   11031    595  0.170836\n",
      "20      9460    7428    472  0.169527\n",
      "21      9011    3069    595  0.166617\n",
      "22       153    6932    595  0.165144\n",
      "23      8897    7428   6659  0.164565\n",
      "24      7430    4907    595  0.163944\n",
      "25      9000   51176    595  0.163901\n",
      "26      5242    3399    595  0.162672\n",
      "27      4646    2744    595  0.162052\n",
      "28      8874    9423    595  0.160267\n",
      "29      5717    4232    595  0.159479\n",
      "...      ...     ...    ...       ...\n",
      "12918    532   81631   7428  0.007458\n",
      "12919  11853    9609    595  0.007245\n",
      "12920   1325    7428   6535  0.007148\n",
      "12921   2300    7428   3043  0.006978\n",
      "12922   7312   10404   7428  0.006919\n",
      "12923  10008    6813    595  0.006880\n",
      "12924   8282   10370   7428  0.006189\n",
      "12925   5000    7428   2166  0.006125\n",
      "12926   2294   23136   7428  0.006035\n",
      "12927   7514   57192   7428  0.005832\n",
      "12928    948    7428   2766  0.005783\n",
      "12929   2638   55957    595  0.005477\n",
      "12930   6822  146439    595  0.005440\n",
      "12931   3175   10894    595  0.004881\n",
      "12932    223   55957   7428  0.004775\n",
      "12933   1372    7428   2039  0.003882\n",
      "12934   7576   85462    595  0.003621\n",
      "12935   6741    2011    595  0.003405\n",
      "12936  10226   55061    595  0.003165\n",
      "12937   7109    5210    595  0.002827\n",
      "12938   4948    7428   3039  0.002493\n",
      "12939   6379    7428    216  0.002256\n",
      "12940   7079    7428   3040  0.001847\n",
      "12941  11847   91300   7428  0.001514\n",
      "12942   8910    6286    595 -0.000590\n",
      "12943   7632    7428    645 -0.001496\n",
      "12944   4207   84164    595 -0.002824\n",
      "12945     37    8408    595 -0.003082\n",
      "12946   8522  140803    595 -0.004127\n",
      "12947   1694   51734    595 -0.006902\n",
      "\n",
      "[12948 rows x 4 columns]\n"
     ]
    }
   ],
   "source": [
    "newgenes = call_biggim(genes, tissues, average_columns=True, return_genes=True, N=200)"
   ]
  },
  {
   "cell_type": "code",
   "execution_count": 7,
   "metadata": {
    "collapsed": false,
    "deletable": true,
    "editable": true,
    "scrolled": true
   },
   "outputs": [
    {
     "name": "stdout",
     "output_type": "stream",
     "text": [
      "['1009', '1012', '10131', '1019', '1021', '1026', '10276', '10362', '10492', '10618', '10627', '1063', '10755', '10769', '10787', '10801', '10970', '10979', '11030', '11031', '11101', '11328', '11332', '11343', '1163', '1277', '1281', '1282', '1289', '1290', '1291', '1292', '1312', '1435', '1462', '1490', '154796', '1717', '1729', '182', '1846', '1847', '1848', '1893', '1901', '203068', '2037', '2131', '2132', '2146', '2200', '2247', '2261', '22809', '22822', '22839', '2317', '23338', '2335', '23607', '23764', '2534', '25937', '26010', '26064', '26135', '26986', '27250', '27346', '2744', '2791', '284119', '2934', '3069', '307', '3073', '30844', '30851', '3091', '311', '3122', '3205', '3315', '3399', '3487', '3572', '3593', '3646', '367', '3685', '3688', '3690', '375790', '3915', '3949', '3959', '3992', '4000', '402', '4041', '4061', '4092', '4232', '4286', '4323', '4363', '4522', '4602', '4609', '4673', '47', '471', '472', '4772', '4891', '4907', '4919', '4926', '5036', '51155', '51176', '51232', '51330', '51514', '5156', '5218', '5245', '5361', '53838', '55075', '55332', '55740', '558', '5606', '5792', '5797', '581', '58516', '595', '595', '5993', '6319', '6382', '6385', '6422', '64359', '64423', '6464', '6480', '650', '65108', '652', '6525', '6624', '6659', '6662', '667', '6678', '6709', '6776', '6921', '6925', '6926', '6932', '7026', '7039', '7041', '7128', '7132', '7157', '7407', '7422', '7428', '7428', '7430', '7465', '7466', '780', '79083', '79780', '800', '813', '83700', '8453', '84962', '857', '8600', '8611', '8655', '8660', '8682', '87', '8743', '8761', '8828', '894', '8985', '90627', '91768', '9423', '9601', '9697', '9780', '9830']\n",
      "204\n"
     ]
    }
   ],
   "source": [
    "print(newgenes)\n",
    "print(len(newgenes))"
   ]
  },
  {
   "cell_type": "markdown",
   "metadata": {
    "deletable": true,
    "editable": true
   },
   "source": [
    "## Module 2- Running Big GIM for the second round, now producing the interaction matrix (df) that can serve as an input for DDOT"
   ]
  },
  {
   "cell_type": "code",
   "execution_count": 8,
   "metadata": {
    "collapsed": false,
    "deletable": true,
    "editable": true
   },
   "outputs": [
    {
     "name": "stdout",
     "output_type": "stream",
     "text": [
      "Sent: GET http://biggim.ncats.io/api/metadata/tissue/artery?None\n",
      "Sent: GET http://biggim.ncats.io/api/metadata/tissue/blood?None\n",
      "Sent: GET http://biggim.ncats.io/api/metadata/tissue/cerebellum?None\n",
      "Sent: GET http://biggim.ncats.io/api/metadata/tissue/retina?None\n",
      "Returned 52 Big GIM columns\n",
      "['GIANT_lymphocyte_KnownFunctionalInteraction', 'GIANT_cerebellum_ProbabilityOfFunctionalInteraction', 'GIANT_hematopoietic_stem_cell_ProbabilityOfFunctionalInteraction', 'GIANT_monocyte_KnownFunctionalInteraction', 'GIANT_megakaryocyte_KnownFunctionalInteraction', 'GIANT_aorta_ProbabilityOfFunctionalInteraction', 'GIANT_leukocyte_KnownFunctionalInteraction', 'GIANT_natural_killer_cell_KnownFunctionalInteraction', 'GIANT_monocyte_ProbabilityOfFunctionalInteraction', 'GIANT_thymocyte_ProbabilityOfFunctionalInteraction', 'GIANT_megakaryocyte_ProbabilityOfFunctionalInteraction', 'GIANT_b_lymphocyte_ProbabilityOfFunctionalInteraction', 'GIANT_cerebellar_cortex_ProbabilityOfFunctionalInteraction', 'GIANT_retina_ProbabilityOfFunctionalInteraction', 'GIANT_leukocyte_ProbabilityOfFunctionalInteraction', 'GIANT_blood_ProbabilityOfFunctionalInteraction', 'GIANT_blood_platelet_KnownFunctionalInteraction', 'GIANT_lymphocyte_ProbabilityOfFunctionalInteraction', 'GIANT_eosinophil_KnownFunctionalInteraction', 'GIANT_artery_ProbabilityOfFunctionalInteraction', 'GTEx_Pituitary_Correlation', 'GIANT_thymocyte_KnownFunctionalInteraction', 'GIANT_natural_killer_cell_ProbabilityOfFunctionalInteraction', 'GIANT_blood_platelet_ProbabilityOfFunctionalInteraction', 'GIANT_dendritic_cell_ProbabilityOfFunctionalInteraction', 'GIANT_b_lymphocyte_KnownFunctionalInteraction', 'GIANT_basophil_KnownFunctionalInteraction', 'GIANT_cerebellar_cortex_KnownFunctionalInteraction', 'GTEx_Blood_Correlation', 'GIANT_basophil_ProbabilityOfFunctionalInteraction', 'GIANT_retina_KnownFunctionalInteraction', 'GIANT_neutrophil_ProbabilityOfFunctionalInteraction', 'GIANT_neutrophil_KnownFunctionalInteraction', 'GIANT_mononuclear_phagocyte_ProbabilityOfFunctionalInteraction', 'GIANT_hematopoietic_stem_cell_KnownFunctionalInteraction', 'GIANT_dendritic_cell_KnownFunctionalInteraction', 'GIANT_macrophage_KnownFunctionalInteraction', 'GIANT_t_lymphocyte_ProbabilityOfFunctionalInteraction', 'GIANT_blood_plasma_KnownFunctionalInteraction', 'GIANT_artery_KnownFunctionalInteraction', 'GIANT_hypophysis_KnownFunctionalInteraction', 'GIANT_eosinophil_ProbabilityOfFunctionalInteraction', 'GIANT_cerebellum_KnownFunctionalInteraction', 'GIANT_granulocyte_KnownFunctionalInteraction', 'GIANT_blood_KnownFunctionalInteraction', 'GIANT_hypophysis_ProbabilityOfFunctionalInteraction', 'GIANT_granulocyte_ProbabilityOfFunctionalInteraction', 'GIANT_macrophage_ProbabilityOfFunctionalInteraction', 'GIANT_mononuclear_phagocyte_KnownFunctionalInteraction', 'GIANT_t_lymphocyte_KnownFunctionalInteraction', 'GIANT_blood_plasma_ProbabilityOfFunctionalInteraction', 'GIANT_aorta_KnownFunctionalInteraction']\n",
      "Sent: GET http://biggim.ncats.io/api/biggim/query?restriction_gt=GIANT_lymphocyte_KnownFunctionalInteraction%2C-2.0%2CGIANT_cerebellum_ProbabilityOfFunctionalInteraction%2C-2.0%2CGIANT_hematopoietic_stem_cell_ProbabilityOfFunctionalInteraction%2C-2.0%2CGIANT_monocyte_KnownFunctionalInteraction%2C-2.0%2CGIANT_megakaryocyte_KnownFunctionalInteraction%2C-2.0%2CGIANT_aorta_ProbabilityOfFunctionalInteraction%2C-2.0%2CGIANT_leukocyte_KnownFunctionalInteraction%2C-2.0%2CGIANT_natural_killer_cell_KnownFunctionalInteraction%2C-2.0%2CGIANT_monocyte_ProbabilityOfFunctionalInteraction%2C-2.0%2CGIANT_thymocyte_ProbabilityOfFunctionalInteraction%2C-2.0%2CGIANT_megakaryocyte_ProbabilityOfFunctionalInteraction%2C-2.0%2CGIANT_b_lymphocyte_ProbabilityOfFunctionalInteraction%2C-2.0%2CGIANT_cerebellar_cortex_ProbabilityOfFunctionalInteraction%2C-2.0%2CGIANT_retina_ProbabilityOfFunctionalInteraction%2C-2.0%2CGIANT_leukocyte_ProbabilityOfFunctionalInteraction%2C-2.0%2CGIANT_blood_ProbabilityOfFunctionalInteraction%2C-2.0%2CGIANT_blood_platelet_KnownFunctionalInteraction%2C-2.0%2CGIANT_lymphocyte_ProbabilityOfFunctionalInteraction%2C-2.0%2CGIANT_eosinophil_KnownFunctionalInteraction%2C-2.0%2CGIANT_artery_ProbabilityOfFunctionalInteraction%2C-2.0%2CGTEx_Pituitary_Correlation%2C-2.0%2CGIANT_thymocyte_KnownFunctionalInteraction%2C-2.0%2CGIANT_natural_killer_cell_ProbabilityOfFunctionalInteraction%2C-2.0%2CGIANT_blood_platelet_ProbabilityOfFunctionalInteraction%2C-2.0%2CGIANT_dendritic_cell_ProbabilityOfFunctionalInteraction%2C-2.0%2CGIANT_b_lymphocyte_KnownFunctionalInteraction%2C-2.0%2CGIANT_basophil_KnownFunctionalInteraction%2C-2.0%2CGIANT_cerebellar_cortex_KnownFunctionalInteraction%2C-2.0%2CGTEx_Blood_Correlation%2C-2.0%2CGIANT_basophil_ProbabilityOfFunctionalInteraction%2C-2.0%2CGIANT_retina_KnownFunctionalInteraction%2C-2.0%2CGIANT_neutrophil_ProbabilityOfFunctionalInteraction%2C-2.0%2CGIANT_neutrophil_KnownFunctionalInteraction%2C-2.0%2CGIANT_mononuclear_phagocyte_ProbabilityOfFunctionalInteraction%2C-2.0%2CGIANT_hematopoietic_stem_cell_KnownFunctionalInteraction%2C-2.0%2CGIANT_dendritic_cell_KnownFunctionalInteraction%2C-2.0%2CGIANT_macrophage_KnownFunctionalInteraction%2C-2.0%2CGIANT_t_lymphocyte_ProbabilityOfFunctionalInteraction%2C-2.0%2CGIANT_blood_plasma_KnownFunctionalInteraction%2C-2.0%2CGIANT_artery_KnownFunctionalInteraction%2C-2.0%2CGIANT_hypophysis_KnownFunctionalInteraction%2C-2.0%2CGIANT_eosinophil_ProbabilityOfFunctionalInteraction%2C-2.0%2CGIANT_cerebellum_KnownFunctionalInteraction%2C-2.0%2CGIANT_granulocyte_KnownFunctionalInteraction%2C-2.0%2CGIANT_blood_KnownFunctionalInteraction%2C-2.0%2CGIANT_hypophysis_ProbabilityOfFunctionalInteraction%2C-2.0%2CGIANT_granulocyte_ProbabilityOfFunctionalInteraction%2C-2.0%2CGIANT_macrophage_ProbabilityOfFunctionalInteraction%2C-2.0%2CGIANT_mononuclear_phagocyte_KnownFunctionalInteraction%2C-2.0%2CGIANT_t_lymphocyte_KnownFunctionalInteraction%2C-2.0%2CGIANT_blood_plasma_ProbabilityOfFunctionalInteraction%2C-2.0%2CGIANT_aorta_KnownFunctionalInteraction%2C-2.0&table=BigGIM_70_v1&columns=GIANT_lymphocyte_KnownFunctionalInteraction%2CGIANT_cerebellum_ProbabilityOfFunctionalInteraction%2CGIANT_hematopoietic_stem_cell_ProbabilityOfFunctionalInteraction%2CGIANT_monocyte_KnownFunctionalInteraction%2CGIANT_megakaryocyte_KnownFunctionalInteraction%2CGIANT_aorta_ProbabilityOfFunctionalInteraction%2CGIANT_leukocyte_KnownFunctionalInteraction%2CGIANT_natural_killer_cell_KnownFunctionalInteraction%2CGIANT_monocyte_ProbabilityOfFunctionalInteraction%2CGIANT_thymocyte_ProbabilityOfFunctionalInteraction%2CGIANT_megakaryocyte_ProbabilityOfFunctionalInteraction%2CGIANT_b_lymphocyte_ProbabilityOfFunctionalInteraction%2CGIANT_cerebellar_cortex_ProbabilityOfFunctionalInteraction%2CGIANT_retina_ProbabilityOfFunctionalInteraction%2CGIANT_leukocyte_ProbabilityOfFunctionalInteraction%2CGIANT_blood_ProbabilityOfFunctionalInteraction%2CGIANT_blood_platelet_KnownFunctionalInteraction%2CGIANT_lymphocyte_ProbabilityOfFunctionalInteraction%2CGIANT_eosinophil_KnownFunctionalInteraction%2CGIANT_artery_ProbabilityOfFunctionalInteraction%2CGTEx_Pituitary_Correlation%2CGIANT_thymocyte_KnownFunctionalInteraction%2CGIANT_natural_killer_cell_ProbabilityOfFunctionalInteraction%2CGIANT_blood_platelet_ProbabilityOfFunctionalInteraction%2CGIANT_dendritic_cell_ProbabilityOfFunctionalInteraction%2CGIANT_b_lymphocyte_KnownFunctionalInteraction%2CGIANT_basophil_KnownFunctionalInteraction%2CGIANT_cerebellar_cortex_KnownFunctionalInteraction%2CGTEx_Blood_Correlation%2CGIANT_basophil_ProbabilityOfFunctionalInteraction%2CGIANT_retina_KnownFunctionalInteraction%2CGIANT_neutrophil_ProbabilityOfFunctionalInteraction%2CGIANT_neutrophil_KnownFunctionalInteraction%2CGIANT_mononuclear_phagocyte_ProbabilityOfFunctionalInteraction%2CGIANT_hematopoietic_stem_cell_KnownFunctionalInteraction%2CGIANT_dendritic_cell_KnownFunctionalInteraction%2CGIANT_macrophage_KnownFunctionalInteraction%2CGIANT_t_lymphocyte_ProbabilityOfFunctionalInteraction%2CGIANT_blood_plasma_KnownFunctionalInteraction%2CGIANT_artery_KnownFunctionalInteraction%2CGIANT_hypophysis_KnownFunctionalInteraction%2CGIANT_eosinophil_ProbabilityOfFunctionalInteraction%2CGIANT_cerebellum_KnownFunctionalInteraction%2CGIANT_granulocyte_KnownFunctionalInteraction%2CGIANT_blood_KnownFunctionalInteraction%2CGIANT_hypophysis_ProbabilityOfFunctionalInteraction%2CGIANT_granulocyte_ProbabilityOfFunctionalInteraction%2CGIANT_macrophage_ProbabilityOfFunctionalInteraction%2CGIANT_mononuclear_phagocyte_KnownFunctionalInteraction%2CGIANT_t_lymphocyte_KnownFunctionalInteraction%2CGIANT_blood_plasma_ProbabilityOfFunctionalInteraction%2CGIANT_aorta_KnownFunctionalInteraction&ids1=1009%2C1012%2C10131%2C1019%2C1021%2C1026%2C10276%2C10362%2C10492%2C10618%2C10627%2C1063%2C10755%2C10769%2C10787%2C10801%2C10970%2C10979%2C11030%2C11031%2C11101%2C11328%2C11332%2C11343%2C1163%2C1277%2C1281%2C1282%2C1289%2C1290%2C1291%2C1292%2C1312%2C1435%2C1462%2C1490%2C154796%2C1717%2C1729%2C182%2C1846%2C1847%2C1848%2C1893%2C1901%2C203068%2C2037%2C2131%2C2132%2C2146%2C2200%2C2247%2C2261%2C22809%2C22822%2C22839%2C2317%2C23338%2C2335%2C23607%2C23764%2C2534%2C25937%2C26010%2C26064%2C26135%2C26986%2C27250%2C27346%2C2744%2C2791%2C284119%2C2934%2C3069%2C307%2C3073%2C30844%2C30851%2C3091%2C311%2C3122%2C3205%2C3315%2C3399%2C3487%2C3572%2C3593%2C3646%2C367%2C3685%2C3688%2C3690%2C375790%2C3915%2C3949%2C3959%2C3992%2C4000%2C402%2C4041%2C4061%2C4092%2C4232%2C4286%2C4323%2C4363%2C4522%2C4602%2C4609%2C4673%2C47%2C471%2C472%2C4772%2C4891%2C4907%2C4919%2C4926%2C5036%2C51155%2C51176%2C51232%2C51330%2C51514%2C5156%2C5218%2C5245%2C5361%2C53838%2C55075%2C55332%2C55740%2C558%2C5606%2C5792%2C5797%2C581%2C58516%2C595%2C595%2C5993%2C6319%2C6382%2C6385%2C6422%2C64359%2C64423%2C6464%2C6480%2C650%2C65108%2C652%2C6525%2C6624%2C6659%2C6662%2C667%2C6678%2C6709%2C6776%2C6921%2C6925%2C6926%2C6932%2C7026%2C7039%2C7041%2C7128%2C7132%2C7157%2C7407%2C7422%2C7428%2C7428%2C7430%2C7465%2C7466%2C780%2C79083%2C79780%2C800%2C813%2C83700%2C8453%2C84962%2C857%2C8600%2C8611%2C8655%2C8660%2C8682%2C87%2C8743%2C8761%2C8828%2C894%2C8985%2C90627%2C91768%2C9423%2C9601%2C9697%2C9780%2C9830&limit=1000000&average_columns=True&ids2=1009%2C1012%2C10131%2C1019%2C1021%2C1026%2C10276%2C10362%2C10492%2C10618%2C10627%2C1063%2C10755%2C10769%2C10787%2C10801%2C10970%2C10979%2C11030%2C11031%2C11101%2C11328%2C11332%2C11343%2C1163%2C1277%2C1281%2C1282%2C1289%2C1290%2C1291%2C1292%2C1312%2C1435%2C1462%2C1490%2C154796%2C1717%2C1729%2C182%2C1846%2C1847%2C1848%2C1893%2C1901%2C203068%2C2037%2C2131%2C2132%2C2146%2C2200%2C2247%2C2261%2C22809%2C22822%2C22839%2C2317%2C23338%2C2335%2C23607%2C23764%2C2534%2C25937%2C26010%2C26064%2C26135%2C26986%2C27250%2C27346%2C2744%2C2791%2C284119%2C2934%2C3069%2C307%2C3073%2C30844%2C30851%2C3091%2C311%2C3122%2C3205%2C3315%2C3399%2C3487%2C3572%2C3593%2C3646%2C367%2C3685%2C3688%2C3690%2C375790%2C3915%2C3949%2C3959%2C3992%2C4000%2C402%2C4041%2C4061%2C4092%2C4232%2C4286%2C4323%2C4363%2C4522%2C4602%2C4609%2C4673%2C47%2C471%2C472%2C4772%2C4891%2C4907%2C4919%2C4926%2C5036%2C51155%2C51176%2C51232%2C51330%2C51514%2C5156%2C5218%2C5245%2C5361%2C53838%2C55075%2C55332%2C55740%2C558%2C5606%2C5792%2C5797%2C581%2C58516%2C595%2C595%2C5993%2C6319%2C6382%2C6385%2C6422%2C64359%2C64423%2C6464%2C6480%2C650%2C65108%2C652%2C6525%2C6624%2C6659%2C6662%2C667%2C6678%2C6709%2C6776%2C6921%2C6925%2C6926%2C6932%2C7026%2C7039%2C7041%2C7128%2C7132%2C7157%2C7407%2C7422%2C7428%2C7428%2C7430%2C7465%2C7466%2C780%2C79083%2C79780%2C800%2C813%2C83700%2C8453%2C84962%2C857%2C8600%2C8611%2C8655%2C8660%2C8682%2C87%2C8743%2C8761%2C8828%2C894%2C8985%2C90627%2C91768%2C9423%2C9601%2C9697%2C9780%2C9830\n",
      "{\n",
      "  \"status\": \"submitted\",\n",
      "  \"request_id\": \"c7ce9dc7-f2a5-4f00-9b70-14ffe18772e0\"\n",
      "}\n",
      "Sent: GET http://biggim.ncats.io/api/biggim/status/c7ce9dc7-f2a5-4f00-9b70-14ffe18772e0?None\n",
      "{\n",
      "  \"status\": \"running\",\n",
      "  \"message\": \"Query job is running.\",\n",
      "  \"request_id\": \"c7ce9dc7-f2a5-4f00-9b70-14ffe18772e0\"\n",
      "}\n",
      "Checking again\n",
      "Sent: GET http://biggim.ncats.io/api/biggim/status/c7ce9dc7-f2a5-4f00-9b70-14ffe18772e0?None\n",
      "{\n",
      "  \"status\": \"running\",\n",
      "  \"message\": \"Query job is running.\",\n",
      "  \"request_id\": \"c7ce9dc7-f2a5-4f00-9b70-14ffe18772e0\"\n",
      "}\n",
      "Checking again\n",
      "Sent: GET http://biggim.ncats.io/api/biggim/status/c7ce9dc7-f2a5-4f00-9b70-14ffe18772e0?None\n",
      "{\n",
      "  \"status\": \"running\",\n",
      "  \"message\": \"Query job is running.\",\n",
      "  \"request_id\": \"c7ce9dc7-f2a5-4f00-9b70-14ffe18772e0\"\n",
      "}\n",
      "Checking again\n",
      "Sent: GET http://biggim.ncats.io/api/biggim/status/c7ce9dc7-f2a5-4f00-9b70-14ffe18772e0?None\n",
      "{\n",
      "  \"status\": \"running\",\n",
      "  \"message\": \"Query job is running.\",\n",
      "  \"request_id\": \"c7ce9dc7-f2a5-4f00-9b70-14ffe18772e0\"\n",
      "}\n",
      "Checking again\n",
      "Sent: GET http://biggim.ncats.io/api/biggim/status/c7ce9dc7-f2a5-4f00-9b70-14ffe18772e0?None\n",
      "{\n",
      "  \"status\": \"complete\",\n",
      "  \"rows\": 12763,\n",
      "  \"processed_data\": \"19.97 GB\",\n",
      "  \"request_id\": \"c7ce9dc7-f2a5-4f00-9b70-14ffe18772e0\",\n",
      "  \"request_uri\": [\n",
      "    \"https://storage.googleapis.com/ncats_bigquery_results/c7ce9dc7-f2a5-4f00-9b70-14ffe18772e0000000000000.csv\"\n",
      "  ],\n",
      "  \"size\": \"566.61 KB\"\n",
      "}\n"
     ]
    }
   ],
   "source": [
    "df = call_biggim(newgenes, tissues, average_columns=True, query_id2=newgenes)"
   ]
  },
  {
   "cell_type": "code",
   "execution_count": 9,
   "metadata": {
    "collapsed": false,
    "deletable": true,
    "editable": true
   },
   "outputs": [
    {
     "name": "stdout",
     "output_type": "stream",
     "text": [
      "       Gene1  Gene2      mean\n",
      "0       8611    558  0.122139\n",
      "1       3992   1847  0.088590\n",
      "2       2132    857  0.086024\n",
      "3      51155  26986  0.053504\n",
      "4      11031  10362  0.021208\n",
      "5      11328   5156  0.065093\n",
      "6      10979   3915  0.214354\n",
      "7       4919   3399  0.104757\n",
      "8       6678   2744  0.142365\n",
      "9      26064   4041  0.040291\n",
      "10     11031   1490  0.086902\n",
      "11      3399   1717  0.041905\n",
      "12      9601   7132  0.133089\n",
      "13      3685   2132  0.173499\n",
      "14     10970  10801  0.096443\n",
      "15      5797   1312  0.044874\n",
      "16      3959   3487  0.109844\n",
      "17      4926   1846  0.039151\n",
      "18     22839   2200  0.033567\n",
      "19     51155   8743  0.069055\n",
      "20     65108   2317  0.068474\n",
      "21      7039    894  0.027938\n",
      "22      4602   1846  0.082525\n",
      "23      6678   1435  0.096688\n",
      "24     10627   7039  0.075026\n",
      "25      8600   4092  0.168150\n",
      "26     11343   9780  0.057599\n",
      "27     64423   2791  0.026708\n",
      "28      3685   2037  0.120311\n",
      "29     10131   6525  0.063908\n",
      "...      ...    ...       ...\n",
      "12733   9423   5792  0.029380\n",
      "12734  91768  64423  0.076159\n",
      "12735  26986  26135  0.124996\n",
      "12736  51232   9697  0.167616\n",
      "12737   4609   3572  0.109190\n",
      "12738  83700   3959  0.062783\n",
      "12739   4609    182  0.148882\n",
      "12740  51176   6624  0.070175\n",
      "12741   2534    595  0.114496\n",
      "12742  27346   1292  0.015647\n",
      "12743   7466   6678  0.085611\n",
      "12744   3992   1026  0.162300\n",
      "12745   4061   3122  0.182652\n",
      "12746  10492     87  0.120104\n",
      "12747  25937   5606  0.052572\n",
      "12748   7465   1019  0.105674\n",
      "12749  22809    471  0.063909\n",
      "12750   3122   2317  0.087578\n",
      "12751  11328   1289  0.128598\n",
      "12752  53838  11332  0.048204\n",
      "12753   7428     47  0.058245\n",
      "12754   2131   1282  0.110896\n",
      "12755   7026   6422  0.114594\n",
      "12756   1292    558  0.186088\n",
      "12757   7430    857  0.065856\n",
      "12758  83700   1289  0.078134\n",
      "12759   9423   3487  0.055382\n",
      "12760   4919    800  0.115381\n",
      "12761  10970   3073  0.067058\n",
      "12762   3685    894  0.091283\n",
      "\n",
      "[12763 rows x 3 columns]\n"
     ]
    }
   ],
   "source": [
    "print(df)\n"
   ]
  },
  {
   "cell_type": "markdown",
   "metadata": {
    "deletable": true,
    "editable": true
   },
   "source": [
    "### Create DDOT"
   ]
  },
  {
   "cell_type": "code",
   "execution_count": 10,
   "metadata": {
    "collapsed": false,
    "deletable": true,
    "editable": true
   },
   "outputs": [],
   "source": [
    "ddot = DDOT_Client.from_dataframe(df)"
   ]
  },
  {
   "cell_type": "code",
   "execution_count": 11,
   "metadata": {
    "collapsed": false,
    "deletable": true,
    "editable": true
   },
   "outputs": [
    {
     "data": {
      "text/plain": [
       "'http://hiview-test.ucsd.edu/18a70db2-4124-11e9-9fc6-0660b7976219?type=test&server=http://dev2.ndexbio.org'"
      ]
     },
     "execution_count": 11,
     "metadata": {},
     "output_type": "execute_result"
    }
   ],
   "source": [
    "ddot.call(alpha=0.03, beta=0.8)\n",
    "ddot.wait_for_hiview_url()"
   ]
  },
  {
   "cell_type": "code",
   "execution_count": null,
   "metadata": {
    "collapsed": true,
    "deletable": true,
    "editable": true
   },
   "outputs": [],
   "source": []
  }
 ],
 "metadata": {
  "kernelspec": {
   "display_name": "Python 3",
   "language": "python",
   "name": "python3"
  },
  "language_info": {
   "codemirror_mode": {
    "name": "ipython",
    "version": 3
   },
   "file_extension": ".py",
   "mimetype": "text/x-python",
   "name": "python",
   "nbconvert_exporter": "python",
   "pygments_lexer": "ipython3",
   "version": "3.7.1"
  }
 },
 "nbformat": 4,
 "nbformat_minor": 2
}
