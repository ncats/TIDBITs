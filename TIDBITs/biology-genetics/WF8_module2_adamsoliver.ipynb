{
 "cells": [
  {
   "cell_type": "markdown",
   "metadata": {
    "deletable": true,
    "editable": true
   },
   "source": [
    "# Workflow 8 - module 2 - Adams Oliver\n",
    "\n",
    "This notebook implements Module 2 of Workflow 8 for Adams Oliver genes and tissues. See <a href=\"https://docs.google.com/presentation/d/1IkAzjSrOMzOLx5z8GqRVKmVd1GKrpIEb_xF4g4RlI1U/edit?usp=sharing\">here</a> for an overview of Workflow 8. Module 2 takes **genes and tissues** as input and **interacting genes** and/or a **gene interaction/similarrity matrix** that can be used as input for module 3 (DDOT). Module 2 uses Google BigQuery. Boilerplate code (API calls for instance) is wrapped in `wf8_module2.py`, which contains API calls written by John Earls and Theo Knijnenburg.  \n",
    "\n",
    "Notebook written by: Samson Fong, John Earls, Theo Knijnenburg, Chris Churas and Aaron Gary. "
   ]
  },
  {
   "cell_type": "markdown",
   "metadata": {
    "deletable": true,
    "editable": true
   },
   "source": [
    "## Libraries and such"
   ]
  },
  {
   "cell_type": "code",
   "execution_count": 1,
   "metadata": {
    "collapsed": false,
    "deletable": true,
    "editable": true
   },
   "outputs": [],
   "source": [
    "%load_ext autoreload \n",
    "%autoreload 2\n",
    "\n",
    "import json\n",
    "from pprint import pprint\n",
    "from wf8_module1 import doid_to_genes_and_tissues\n",
    "from wf8_module2 import call_biggim\n",
    "import numpy as np\n",
    "import pandas as pd\n",
    "import time"
   ]
  },
  {
   "cell_type": "markdown",
   "metadata": {
    "deletable": true,
    "editable": true
   },
   "source": [
    "The main function **call_biggim** has seven input arguments of which only the first two are required\n",
    "1. genes [required]  - List of input genes as a set of NCBI genes, e.g. genes = ['2188', '79728', '7124']\n",
    "2. tissues [required] - LIst of tissues, e.g. tissues = ['pancreas', 'liver']\n",
    "3. limit=1000000 - Maximum number of rows returned. Make smaller for quicker testing and smaller tables\n",
    "4. average_columns=False - If tissues are associated with multiple columns average the scores into one columns called 'mean'\n",
    "5. query_id2=False - List of input genes. Only pairs that are constituted of genes in 'genes' and 'query_id2' are returned\n",
    "6. return_genes=False - Return new genes (interacting with the original set of genes) as a list\n",
    "7. N=250 - Number of new genes returned"
   ]
  },
  {
   "cell_type": "markdown",
   "metadata": {
    "deletable": true,
    "editable": true
   },
   "source": [
    "# Testing for Adams Oliver\n",
    "\n",
    "Tissue and genes are from Jared."
   ]
  },
  {
   "cell_type": "markdown",
   "metadata": {
    "deletable": true,
    "editable": true
   },
   "source": [
    "## Getting Interacting Genes\n",
    "\n",
    " We are asking for N=10 genes that interact with the 6 seed genes."
   ]
  },
  {
   "cell_type": "code",
   "execution_count": 2,
   "metadata": {
    "collapsed": false,
    "deletable": true,
    "editable": true,
    "scrolled": true
   },
   "outputs": [
    {
     "name": "stdout",
     "output_type": "stream",
     "text": [
      "Sent: GET http://biggim.ncats.io/api/metadata/tissue/skin?None\n",
      "Returned 11 Big GIM columns\n",
      "['GIANT_epidermis_KnownFunctionalInteraction', 'GIANT_epidermis_ProbabilityOfFunctionalInteraction', 'GIANT_keratinocyte_KnownFunctionalInteraction', 'GIANT_skin_fibroblast_ProbabilityOfFunctionalInteraction', 'GIANT_hair_follicle_ProbabilityOfFunctionalInteraction', 'GIANT_hair_follicle_KnownFunctionalInteraction', 'GIANT_skin_fibroblast_KnownFunctionalInteraction', 'GTEx_Skin_Correlation', 'GIANT_skin_ProbabilityOfFunctionalInteraction', 'GIANT_keratinocyte_ProbabilityOfFunctionalInteraction', 'GIANT_skin_KnownFunctionalInteraction']\n",
      "Sent: GET http://biggim.ncats.io/api/biggim/query?table=BigGIM_70_v1&limit=1000000&ids1=285203%2C57572%2C57514%2C3516%2C4851%2C54567&restriction_gt=GIANT_epidermis_KnownFunctionalInteraction%2C-2.0%2CGIANT_epidermis_ProbabilityOfFunctionalInteraction%2C-2.0%2CGIANT_keratinocyte_KnownFunctionalInteraction%2C-2.0%2CGIANT_skin_fibroblast_ProbabilityOfFunctionalInteraction%2C-2.0%2CGIANT_hair_follicle_ProbabilityOfFunctionalInteraction%2C-2.0%2CGIANT_hair_follicle_KnownFunctionalInteraction%2C-2.0%2CGIANT_skin_fibroblast_KnownFunctionalInteraction%2C-2.0%2CGTEx_Skin_Correlation%2C-2.0%2CGIANT_skin_ProbabilityOfFunctionalInteraction%2C-2.0%2CGIANT_keratinocyte_ProbabilityOfFunctionalInteraction%2C-2.0%2CGIANT_skin_KnownFunctionalInteraction%2C-2.0&columns=GIANT_epidermis_KnownFunctionalInteraction%2CGIANT_epidermis_ProbabilityOfFunctionalInteraction%2CGIANT_keratinocyte_KnownFunctionalInteraction%2CGIANT_skin_fibroblast_ProbabilityOfFunctionalInteraction%2CGIANT_hair_follicle_ProbabilityOfFunctionalInteraction%2CGIANT_hair_follicle_KnownFunctionalInteraction%2CGIANT_skin_fibroblast_KnownFunctionalInteraction%2CGTEx_Skin_Correlation%2CGIANT_skin_ProbabilityOfFunctionalInteraction%2CGIANT_keratinocyte_ProbabilityOfFunctionalInteraction%2CGIANT_skin_KnownFunctionalInteraction&average_columns=True\n",
      "{\n",
      "  \"request_id\": \"558f2e2b-3609-4603-a85d-71b0826baf42\",\n",
      "  \"status\": \"submitted\"\n",
      "}\n",
      "Sent: GET http://biggim.ncats.io/api/biggim/status/558f2e2b-3609-4603-a85d-71b0826baf42?None\n",
      "{\n",
      "  \"message\": \"Query job is running.\",\n",
      "  \"status\": \"running\",\n",
      "  \"request_id\": \"558f2e2b-3609-4603-a85d-71b0826baf42\"\n",
      "}\n",
      "Checking again\n",
      "Sent: GET http://biggim.ncats.io/api/biggim/status/558f2e2b-3609-4603-a85d-71b0826baf42?None\n",
      "{\n",
      "  \"message\": \"Query job is running.\",\n",
      "  \"status\": \"running\",\n",
      "  \"request_id\": \"558f2e2b-3609-4603-a85d-71b0826baf42\"\n",
      "}\n",
      "Checking again\n",
      "Sent: GET http://biggim.ncats.io/api/biggim/status/558f2e2b-3609-4603-a85d-71b0826baf42?None\n",
      "{\n",
      "  \"message\": \"Extraction job is running.\",\n",
      "  \"status\": \"running\",\n",
      "  \"request_id\": \"558f2e2b-3609-4603-a85d-71b0826baf42\"\n",
      "}\n",
      "Checking again\n",
      "Sent: GET http://biggim.ncats.io/api/biggim/status/558f2e2b-3609-4603-a85d-71b0826baf42?None\n",
      "{\n",
      "  \"message\": \"Extraction job is running.\",\n",
      "  \"status\": \"running\",\n",
      "  \"request_id\": \"558f2e2b-3609-4603-a85d-71b0826baf42\"\n",
      "}\n",
      "Checking again\n",
      "Sent: GET http://biggim.ncats.io/api/biggim/status/558f2e2b-3609-4603-a85d-71b0826baf42?None\n",
      "{\n",
      "  \"size\": \"1.57 MB\",\n",
      "  \"request_id\": \"558f2e2b-3609-4603-a85d-71b0826baf42\",\n",
      "  \"request_uri\": [\n",
      "    \"https://storage.googleapis.com/ncats_bigquery_results/558f2e2b-3609-4603-a85d-71b0826baf42000000000000.csv\"\n",
      "  ],\n",
      "  \"processed_data\": \"5.14 GB\",\n",
      "  \"status\": \"complete\",\n",
      "  \"rows\": 34341\n",
      "}\n",
      "        Gene1  Gene2      mean\n",
      "0      220108  54567  0.107826\n",
      "1      159013  57514  0.051123\n",
      "2       79886  57514  0.018973\n",
      "3       54629   3516  0.055101\n",
      "4      123016  57514  0.018303\n",
      "5      148206  57514  0.047143\n",
      "6       57530   4851  0.088077\n",
      "7       23304   4851  0.133817\n",
      "8       57569  57514  0.048401\n",
      "9      144577  57514  0.027377\n",
      "10       5230   3516  0.168338\n",
      "11     285349   4851 -0.031111\n",
      "12     221178  57514  0.040822\n",
      "13     317671   4851  0.058416\n",
      "14     131616  57514  0.014590\n",
      "15      55063   3516  0.024391\n",
      "16     220729  57572  0.112696\n",
      "17      23048   4851  0.112539\n",
      "18     389320   3516  0.048211\n",
      "19      10019   4851 -0.041482\n",
      "20      83643   4851  0.101325\n",
      "21      11068   3516 -0.004172\n",
      "22      79673   3516  0.035872\n",
      "23      84514  57514  0.060956\n",
      "24      56975   4851 -0.011387\n",
      "25     124976  57514  0.022070\n",
      "26      11215   4851 -0.028524\n",
      "27      22976   3516  0.083714\n",
      "28      79041   4851  0.070927\n",
      "29     123096  57572  0.102634\n",
      "...       ...    ...       ...\n",
      "34311    4851   1514 -0.047941\n",
      "34312    4851    478  0.028248\n",
      "34313    4851   1139  0.348373\n",
      "34314    4851   4325 -0.024131\n",
      "34315    4851    558 -0.022073\n",
      "34316    4851    775 -0.030002\n",
      "34317    4851   2849  0.070556\n",
      "34318    4851    953  0.057757\n",
      "34319    4851   4134 -0.034150\n",
      "34320    4851   1911 -0.005875\n",
      "34321    4851   1272  0.062427\n",
      "34322    4851   3205  0.116904\n",
      "34323    4851   2975  0.078751\n",
      "34324    4851   3316  0.024513\n",
      "34325    4851    780  0.088307\n",
      "34326    4851   1025  0.043887\n",
      "34327    4851   1292  0.010073\n",
      "34328    4851    636 -0.042074\n",
      "34329    4851   2255  0.348820\n",
      "34330    4851   4214  0.092335\n",
      "34331    4851    146  0.061263\n",
      "34332    4851   2532  0.046088\n",
      "34333    4851   4017  0.015710\n",
      "34334    4851   1001  0.144466\n",
      "34335    4851   1136  0.070058\n",
      "34336    4851   1307  0.000304\n",
      "34337    4851   2275 -0.032460\n",
      "34338    4851   1381  0.107648\n",
      "34339    4851   2963  0.042867\n",
      "34340    4851   1942  0.099347\n",
      "\n",
      "[34341 rows x 3 columns]\n",
      "       index   Gene1   Gene2      mean\n",
      "0       9011   51176    4851  0.585011\n",
      "1      34249    4851    2150  0.552034\n",
      "2      30717    3516     688  0.473861\n",
      "3      33668    4851    1382  0.440380\n",
      "4      33651    4851    3201  0.403545\n",
      "5      10487    4254    3516  0.395726\n",
      "6       5152    5453    4851  0.376645\n",
      "7       2885    7053    3516  0.373559\n",
      "8      33800    4851    4222  0.353382\n",
      "9      33772    4851    4254  0.351235\n",
      "10     34329    4851    2255  0.348820\n",
      "11     34313    4851    1139  0.348373\n",
      "12     33711    4851    2125  0.340962\n",
      "13     34114    4851    3082  0.332730\n",
      "14     11582    7020    4851  0.331385\n",
      "15      7934    5328    4851  0.302443\n",
      "16      9466    8796    3516  0.293326\n",
      "17      2273    7045    3516  0.292371\n",
      "18      5904    6698    3516  0.285096\n",
      "19     12528   51366    3516  0.283989\n",
      "20     33687    4851    2260  0.282346\n",
      "21     11829    3713    3516  0.279301\n",
      "22     33667    4851    3479  0.276700\n",
      "23      9260    9444    3516  0.267084\n",
      "24     33867    4851    1012  0.261688\n",
      "25     30504    3516     718  0.256821\n",
      "26      2264    6310    3516  0.253580\n",
      "27      7678   57509    3516  0.252362\n",
      "28     30472    3516    1901  0.250971\n",
      "29     12735    4087    3516  0.247844\n",
      "...      ...     ...     ...       ...\n",
      "34311  20642  285203   10158 -0.062690\n",
      "34312  17657  285203   11012 -0.062733\n",
      "34313  17583  285203    8581 -0.062767\n",
      "34314  22641  285203    2125 -0.062967\n",
      "34315  14638  285203    6538 -0.062984\n",
      "34316  16448  285203    8456 -0.063106\n",
      "34317  17196  285203  284486 -0.063157\n",
      "34318  19821  285203     909 -0.063245\n",
      "34319  20370  285203   79690 -0.063546\n",
      "34320  18202  285203   57799 -0.063606\n",
      "34321  20845  285203   58985 -0.063654\n",
      "34322  18265  285203  113878 -0.063837\n",
      "34323  19909  285203     242 -0.063917\n",
      "34324  15510  285203    7477 -0.064130\n",
      "34325  13925  285203    7108 -0.064174\n",
      "34326  17667  285203    6820 -0.064322\n",
      "34327  14008  285203   23624 -0.064831\n",
      "34328  15150  285203     239 -0.065554\n",
      "34329  18152  285203   53637 -0.066661\n",
      "34330  17633  285203   26001 -0.066825\n",
      "34331  18084  285203    5639 -0.066852\n",
      "34332  14087  285203    3848 -0.066901\n",
      "34333  20219  285203   23616 -0.066957\n",
      "34334  21251  285203   51599 -0.067845\n",
      "34335  18185  285203   63928 -0.067929\n",
      "34336  16466  285203    1749 -0.068078\n",
      "34337  15642  285203   57111 -0.069457\n",
      "34338  21892  285203   79369 -0.069600\n",
      "34339  17072  285203   79852 -0.070060\n",
      "34340  15627  285203   10089 -0.070392\n",
      "\n",
      "[34341 rows x 4 columns]\n"
     ]
    }
   ],
   "source": [
    "genes = ['285203', '57572', '57514','3516', '4851','54567']\n",
    "tissues =  ['skin']\n",
    "genes2 = call_biggim(genes, tissues, average_columns=True, return_genes=True, N=5)\n"
   ]
  },
  {
   "cell_type": "code",
   "execution_count": 3,
   "metadata": {
    "collapsed": false,
    "deletable": true,
    "editable": true,
    "scrolled": true
   },
   "outputs": [
    {
     "name": "stdout",
     "output_type": "stream",
     "text": [
      "All genes\n",
      "['1382', '2150', '285203', '3201', '3516', '3516', '4851', '4851', '51176', '54567', '57514', '57572', '688']\n"
     ]
    }
   ],
   "source": [
    "print('All genes')\n",
    "print(genes2)"
   ]
  },
  {
   "cell_type": "code",
   "execution_count": 4,
   "metadata": {
    "collapsed": false,
    "deletable": true,
    "editable": true,
    "scrolled": true
   },
   "outputs": [
    {
     "name": "stdout",
     "output_type": "stream",
     "text": [
      "Here are the new genes\n",
      "['2150', '1382', '51176', '3201', '688']\n"
     ]
    }
   ],
   "source": [
    "print('Here are the new genes')\n",
    "print(list(set(genes2)-set(genes)))"
   ]
  },
  {
   "cell_type": "markdown",
   "metadata": {
    "deletable": true,
    "editable": true
   },
   "source": [
    "## Running Big GIM for the second round, now producing the interaction matrix (df) that can serve as an input for DDOT"
   ]
  },
  {
   "cell_type": "code",
   "execution_count": 5,
   "metadata": {
    "collapsed": false,
    "deletable": true,
    "editable": true
   },
   "outputs": [
    {
     "name": "stdout",
     "output_type": "stream",
     "text": [
      "Sent: GET http://biggim.ncats.io/api/metadata/tissue/pancreas?None\n",
      "Sent: GET http://biggim.ncats.io/api/metadata/tissue/liver?None\n",
      "Sent: GET http://biggim.ncats.io/api/metadata/tissue/muscle?None\n",
      "Sent: GET http://biggim.ncats.io/api/metadata/tissue/adipose?None\n",
      "Returned 21 Big GIM columns\n",
      "['GIANT_pancreas_KnownFunctionalInteraction', 'GIANT_hepatocyte_ProbabilityOfFunctionalInteraction', 'GIANT_hepatocyte_KnownFunctionalInteraction', 'GIANT_liver_KnownFunctionalInteraction', 'GIANT_skeletal_muscle_KnownFunctionalInteraction', 'GIANT_skeletal_muscle_ProbabilityOfFunctionalInteraction', 'GIANT_pancreatic_islet_KnownFunctionalInteraction', 'GTEx_Pancreas_Correlation', 'GIANT_pancreas_ProbabilityOfFunctionalInteraction', 'GTEx_Muscle_Correlation', 'GIANT_liver_ProbabilityOfFunctionalInteraction', 'GTEx_Liver_Correlation', 'GIANT_cardiac_muscle_ProbabilityOfFunctionalInteraction', 'GIANT_myometrium_KnownFunctionalInteraction', 'GIANT_pancreatic_islet_ProbabilityOfFunctionalInteraction', 'GIANT_muscle_ProbabilityOfFunctionalInteraction', 'GIANT_cardiac_muscle_KnownFunctionalInteraction', 'GIANT_smooth_muscle_ProbabilityOfFunctionalInteraction', 'GIANT_muscle_KnownFunctionalInteraction', 'GIANT_smooth_muscle_KnownFunctionalInteraction', 'GIANT_myometrium_ProbabilityOfFunctionalInteraction']\n",
      "Sent: GET http://biggim.ncats.io/api/biggim/query?ids2=10190%2C1021%2C10239%2C1029%2C1029%2C10395%2C10436%2C10492%2C10528%2C10539%2C10574%2C10576%2C10606%2C10694%2C10799%2C10923%2C10971%2C10987%2C11030%2C11137%2C11164%2C11222%2C1434%2C145741%2C158%2C169026%2C1736%2C2079%2C2107%2C2247%2C2261%2C2271%2C22919%2C22948%2C23560%2C24140%2C2487%2C2534%2C26135%2C2618%2C2665%2C27258%2C27303%2C2737%2C28985%2C29889%2C3087%2C3087%2C334%2C3396%2C3608%2C367%2C3735%2C3838%2C4172%2C4544%2C471%2C4853%2C4921%2C5052%2C5223%2C5464%2C54901%2C55759%2C5631%2C5663%2C5682%2C5683%2C5684%2C5685%2C5686%2C5689%2C5695%2C5701%2C5705%2C5707%2C5718%2C5901%2C5902%2C6059%2C6418%2C6632%2C6637%2C6731%2C6742%2C6790%2C6927%2C6934%2C6934%2C6950%2C7019%2C7334%2C7341%2C7371%2C7411%2C7520%2C7818%2C79084%2C8520%2C8533%2C8624%2C8660%2C87178%2C8833%2C8872%2C8872%2C8886%2C908%2C9184%2C9521%2C9775%2C9790&limit=1000000&restriction_gt=GIANT_pancreas_KnownFunctionalInteraction%2C-2.0%2CGIANT_hepatocyte_ProbabilityOfFunctionalInteraction%2C-2.0%2CGIANT_hepatocyte_KnownFunctionalInteraction%2C-2.0%2CGIANT_liver_KnownFunctionalInteraction%2C-2.0%2CGIANT_skeletal_muscle_KnownFunctionalInteraction%2C-2.0%2CGIANT_skeletal_muscle_ProbabilityOfFunctionalInteraction%2C-2.0%2CGIANT_pancreatic_islet_KnownFunctionalInteraction%2C-2.0%2CGTEx_Pancreas_Correlation%2C-2.0%2CGIANT_pancreas_ProbabilityOfFunctionalInteraction%2C-2.0%2CGTEx_Muscle_Correlation%2C-2.0%2CGIANT_liver_ProbabilityOfFunctionalInteraction%2C-2.0%2CGTEx_Liver_Correlation%2C-2.0%2CGIANT_cardiac_muscle_ProbabilityOfFunctionalInteraction%2C-2.0%2CGIANT_myometrium_KnownFunctionalInteraction%2C-2.0%2CGIANT_pancreatic_islet_ProbabilityOfFunctionalInteraction%2C-2.0%2CGIANT_muscle_ProbabilityOfFunctionalInteraction%2C-2.0%2CGIANT_cardiac_muscle_KnownFunctionalInteraction%2C-2.0%2CGIANT_smooth_muscle_ProbabilityOfFunctionalInteraction%2C-2.0%2CGIANT_muscle_KnownFunctionalInteraction%2C-2.0%2CGIANT_smooth_muscle_KnownFunctionalInteraction%2C-2.0%2CGIANT_myometrium_ProbabilityOfFunctionalInteraction%2C-2.0&columns=GIANT_pancreas_KnownFunctionalInteraction%2CGIANT_hepatocyte_ProbabilityOfFunctionalInteraction%2CGIANT_hepatocyte_KnownFunctionalInteraction%2CGIANT_liver_KnownFunctionalInteraction%2CGIANT_skeletal_muscle_KnownFunctionalInteraction%2CGIANT_skeletal_muscle_ProbabilityOfFunctionalInteraction%2CGIANT_pancreatic_islet_KnownFunctionalInteraction%2CGTEx_Pancreas_Correlation%2CGIANT_pancreas_ProbabilityOfFunctionalInteraction%2CGTEx_Muscle_Correlation%2CGIANT_liver_ProbabilityOfFunctionalInteraction%2CGTEx_Liver_Correlation%2CGIANT_cardiac_muscle_ProbabilityOfFunctionalInteraction%2CGIANT_myometrium_KnownFunctionalInteraction%2CGIANT_pancreatic_islet_ProbabilityOfFunctionalInteraction%2CGIANT_muscle_ProbabilityOfFunctionalInteraction%2CGIANT_cardiac_muscle_KnownFunctionalInteraction%2CGIANT_smooth_muscle_ProbabilityOfFunctionalInteraction%2CGIANT_muscle_KnownFunctionalInteraction%2CGIANT_smooth_muscle_KnownFunctionalInteraction%2CGIANT_myometrium_ProbabilityOfFunctionalInteraction&table=BigGIM_70_v1&average_columns=True&ids1=10190%2C1021%2C10239%2C1029%2C1029%2C10395%2C10436%2C10492%2C10528%2C10539%2C10574%2C10576%2C10606%2C10694%2C10799%2C10923%2C10971%2C10987%2C11030%2C11137%2C11164%2C11222%2C1434%2C145741%2C158%2C169026%2C1736%2C2079%2C2107%2C2247%2C2261%2C2271%2C22919%2C22948%2C23560%2C24140%2C2487%2C2534%2C26135%2C2618%2C2665%2C27258%2C27303%2C2737%2C28985%2C29889%2C3087%2C3087%2C334%2C3396%2C3608%2C367%2C3735%2C3838%2C4172%2C4544%2C471%2C4853%2C4921%2C5052%2C5223%2C5464%2C54901%2C55759%2C5631%2C5663%2C5682%2C5683%2C5684%2C5685%2C5686%2C5689%2C5695%2C5701%2C5705%2C5707%2C5718%2C5901%2C5902%2C6059%2C6418%2C6632%2C6637%2C6731%2C6742%2C6790%2C6927%2C6934%2C6934%2C6950%2C7019%2C7334%2C7341%2C7371%2C7411%2C7520%2C7818%2C79084%2C8520%2C8533%2C8624%2C8660%2C87178%2C8833%2C8872%2C8872%2C8886%2C908%2C9184%2C9521%2C9775%2C9790\n",
      "{\n",
      "  \"status\": \"submitted\",\n",
      "  \"request_id\": \"2d0462a2-7abc-4719-a61f-08dacdc3f6df\"\n",
      "}\n",
      "Sent: GET http://biggim.ncats.io/api/biggim/status/2d0462a2-7abc-4719-a61f-08dacdc3f6df?None\n",
      "{\n",
      "  \"status\": \"running\",\n",
      "  \"message\": \"Query job is running.\",\n",
      "  \"request_id\": \"2d0462a2-7abc-4719-a61f-08dacdc3f6df\"\n",
      "}\n",
      "Checking again\n",
      "Sent: GET http://biggim.ncats.io/api/biggim/status/2d0462a2-7abc-4719-a61f-08dacdc3f6df?None\n",
      "{\n",
      "  \"status\": \"running\",\n",
      "  \"message\": \"Query job is running.\",\n",
      "  \"request_id\": \"2d0462a2-7abc-4719-a61f-08dacdc3f6df\"\n",
      "}\n",
      "Checking again\n",
      "Sent: GET http://biggim.ncats.io/api/biggim/status/2d0462a2-7abc-4719-a61f-08dacdc3f6df?None\n",
      "{\n",
      "  \"status\": \"running\",\n",
      "  \"message\": \"Extraction job is running.\",\n",
      "  \"request_id\": \"2d0462a2-7abc-4719-a61f-08dacdc3f6df\"\n",
      "}\n",
      "Checking again\n",
      "Sent: GET http://biggim.ncats.io/api/biggim/status/2d0462a2-7abc-4719-a61f-08dacdc3f6df?None\n",
      "{\n",
      "  \"rows\": 4004,\n",
      "  \"request_id\": \"2d0462a2-7abc-4719-a61f-08dacdc3f6df\",\n",
      "  \"status\": \"complete\",\n",
      "  \"request_uri\": [\n",
      "    \"https://storage.googleapis.com/ncats_bigquery_results/2d0462a2-7abc-4719-a61f-08dacdc3f6df000000000000.csv\"\n",
      "  ],\n",
      "  \"processed_data\": \"8.79 GB\",\n",
      "  \"size\": \"177.17 KB\"\n",
      "}\n"
     ]
    }
   ],
   "source": [
    "df = call_biggim(genes2, tissues, average_columns=True, query_id2=genes2)"
   ]
  },
  {
   "cell_type": "code",
   "execution_count": 11,
   "metadata": {
    "collapsed": false,
    "deletable": true,
    "editable": true
   },
   "outputs": [
    {
     "name": "stdout",
     "output_type": "stream",
     "text": [
      "     Gene1  Gene2      mean\n",
      "0     2177   2176  0.126488\n",
      "1    11065    675  0.214483\n",
      "2    29089   2188  0.089574\n",
      "3     5889   3161  0.143898\n",
      "4    79728   7516  0.057075\n",
      "5    11065   2178  0.095352\n",
      "6     5889   2176  0.049106\n",
      "7     5889   2178  0.085579\n",
      "8    55120    580  0.216469\n",
      "9    55215   2175  0.186829\n",
      "10    2175   1479  0.079013\n",
      "11    2176    675  0.078430\n",
      "12   81620   4939  0.066903\n",
      "13   83990  79728  0.071995\n",
      "14    4939    675  0.071992\n",
      "15    7516   3161  0.081837\n",
      "16   84464  57697  0.080099\n",
      "17   29089    580  0.187491\n",
      "18    2178    580  0.067098\n",
      "19   57697  55215  0.112632\n",
      "20    7124   4599  0.073832\n",
      "21   84464   2178  0.058176\n",
      "22   57697   7516  0.084148\n",
      "23    5888   2176  0.069216\n",
      "24    2176   2175  0.256351\n",
      "25    2188    675  0.071333\n",
      "26   55215   7516  0.094710\n",
      "27   84464   2175  0.095109\n",
      "28   79728  57697  0.081342\n",
      "29   29089   3161  0.265825\n",
      "..     ...    ...       ...\n",
      "299  83990    580  0.092860\n",
      "300   8317   2189  0.230804\n",
      "301   9246   7124  0.096379\n",
      "302   2189   2176  0.082665\n",
      "303  55215   5889  0.163618\n",
      "304  55120   2177  0.123499\n",
      "305   3161    675  0.281940\n",
      "306   2178    675  0.183534\n",
      "307  29089   7516  0.068288\n",
      "308  10459   5888  0.158437\n",
      "309   8317   7516  0.060717\n",
      "310   2187   2072  0.110381\n",
      "311   8317    675  0.248360\n",
      "312   2189   2177  0.214795\n",
      "313   7516   5888  0.141125\n",
      "314   3161    580  0.239946\n",
      "315  81620    675  0.197331\n",
      "316   2178   1479  0.077168\n",
      "317  83990   2176  0.076242\n",
      "318  84464   2072  0.178726\n",
      "319  10459   2189  0.125037\n",
      "320   7516   2176  0.052773\n",
      "321   7516   2189  0.091899\n",
      "322  79728   4939  0.049030\n",
      "323   2187   1479  0.079022\n",
      "324   2189    580  0.193605\n",
      "325  55215   3161  0.313611\n",
      "326   5888    675  0.493868\n",
      "327  79728  29089  0.094300\n",
      "328   2178   2177  0.391341\n",
      "\n",
      "[329 rows x 3 columns]\n"
     ]
    }
   ],
   "source": [
    "print(df)"
   ]
  }
 ],
 "metadata": {
  "kernelspec": {
   "display_name": "Python 3",
   "language": "python",
   "name": "python3"
  },
  "language_info": {
   "codemirror_mode": {
    "name": "ipython",
    "version": 3
   },
   "file_extension": ".py",
   "mimetype": "text/x-python",
   "name": "python",
   "nbconvert_exporter": "python",
   "pygments_lexer": "ipython3",
   "version": "3.4.2"
  }
 },
 "nbformat": 4,
 "nbformat_minor": 2
}
