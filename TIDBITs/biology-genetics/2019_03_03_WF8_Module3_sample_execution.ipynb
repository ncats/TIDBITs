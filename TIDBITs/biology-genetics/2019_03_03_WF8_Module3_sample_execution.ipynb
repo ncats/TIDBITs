{
 "cells": [
  {
   "cell_type": "markdown",
   "metadata": {},
   "source": [
    "This notebook will demonstrate how Module 3 of Workflow 8 can be executed using the `DDOT_Client`. To learn more about the "
   ]
  },
  {
   "cell_type": "code",
   "execution_count": 1,
   "metadata": {},
   "outputs": [],
   "source": [
    "%load_ext autoreload\n",
    "%autoreload 2"
   ]
  },
  {
   "cell_type": "code",
   "execution_count": 2,
   "metadata": {},
   "outputs": [],
   "source": [
    "import sys\n",
    "sys.path.insert(0, \"wf8\")\n",
    "\n",
    "from wf8_module3 import DDOT_Client"
   ]
  },
  {
   "cell_type": "markdown",
   "metadata": {},
   "source": [
    "We will submit this three column file to the DDOT API. The first two columns are expected to be the node names while the third column is the similarity score between the nodes. No header and indices are expected. "
   ]
  },
  {
   "cell_type": "code",
   "execution_count": 3,
   "metadata": {},
   "outputs": [
    {
     "name": "stdout",
     "output_type": "stream",
     "text": [
      "57463\t22883\t0.9121\n",
      "25999\t23080\t0.8227\n",
      "79137\t64112\t0.8763\n",
      "148808\t23163\t0.7909999999999999\n",
      "149603\t57578\t0.7363\n",
      "25830\t23261\t0.7883\n",
      "376267\t84461\t0.914\n",
      "79734\t79012\t0.8952\n",
      "64112\t22980\t0.8296\n",
      "26155\t23025\t0.8319\n"
     ]
    }
   ],
   "source": [
    "%%bash \n",
    "\n",
    "head tmp.csv"
   ]
  },
  {
   "cell_type": "markdown",
   "metadata": {},
   "source": [
    "Construct the client to DDOT simply by calling the constructor. "
   ]
  },
  {
   "cell_type": "code",
   "execution_count": 4,
   "metadata": {},
   "outputs": [],
   "source": [
    "ddot = DDOT_Client(\"tmp.csv\")"
   ]
  },
  {
   "cell_type": "markdown",
   "metadata": {},
   "source": [
    "To submit the file to the server, run the `call` method. There, you can customize how the deep (`alpha`) and wide (`beta`) the hierarchy is. Additionally, you can provide a name by adding an `ndexname` field. "
   ]
  },
  {
   "cell_type": "code",
   "execution_count": 5,
   "metadata": {},
   "outputs": [
    {
     "data": {
      "text/plain": [
       "<wf8_module3.DDOT_Client at 0x10a5b5748>"
      ]
     },
     "execution_count": 5,
     "metadata": {},
     "output_type": "execute_result"
    }
   ],
   "source": [
    "ddot.call(alpha=0.05, beta=0.5, ndexname=\"Test Ontology\")"
   ]
  },
  {
   "cell_type": "markdown",
   "metadata": {},
   "source": [
    "To check on the job status, use the `get_job_status()` method. "
   ]
  },
  {
   "cell_type": "code",
   "execution_count": 6,
   "metadata": {},
   "outputs": [
    {
     "data": {
      "text/plain": [
       "'processing'"
      ]
     },
     "execution_count": 6,
     "metadata": {},
     "output_type": "execute_result"
    }
   ],
   "source": [
    "ddot.get_job_status()"
   ]
  },
  {
   "cell_type": "markdown",
   "metadata": {},
   "source": [
    "Alternatively, if you want to just wait until the job is complete, you can use the `wait_for_hiview_url()` method call instead. This will occupy the thread until the job is complete. "
   ]
  },
  {
   "cell_type": "code",
   "execution_count": 7,
   "metadata": {},
   "outputs": [
    {
     "name": "stdout",
     "output_type": "stream",
     "text": [
      "200\n"
     ]
    },
    {
     "data": {
      "text/plain": [
       "'http://hiview-test.ucsd.edu/b695b6a9-3e88-11e9-9fc6-0660b7976219?type=test&server=http://dev2.ndexbio.org'"
      ]
     },
     "execution_count": 7,
     "metadata": {},
     "output_type": "execute_result"
    }
   ],
   "source": [
    "ddot.wait_for_hiview_url()"
   ]
  },
  {
   "cell_type": "markdown",
   "metadata": {},
   "source": [
    "For help, you can do the following. "
   ]
  },
  {
   "cell_type": "code",
   "execution_count": 10,
   "metadata": {},
   "outputs": [
    {
     "name": "stdout",
     "output_type": "stream",
     "text": [
      "Help on class DDOT_Client in module wf8_module3:\n",
      "\n",
      "class DDOT_Client(builtins.object)\n",
      " |  Methods defined here:\n",
      " |  \n",
      " |  __init__(self, filename, verbose=False)\n",
      " |      Constructs the DDOT_caller object from file\n",
      " |      \n",
      " |      Parameters\n",
      " |      ----------\n",
      " |      filename : str\n",
      " |          System path to the file to be sent to DDOT server. \n",
      " |          The file is expected to have 3 columns with no headers\n",
      " |          and no indices. The first two columns represent the node\n",
      " |          names and the third column represent the similarity score \n",
      " |          between the nodes\n",
      " |  \n",
      " |  call(alpha=0.05, beta=0.5, ndexname='MyOntology')\n",
      " |      Calls the ddot API\n",
      " |      \n",
      " |      Parameters\n",
      " |      ----------\n",
      " |      alpha : float \n",
      " |          Controls the depth of the hierarchy \n",
      " |      beta : float \n",
      " |          Controls the breadth of the hierarchy\n",
      " |      ndexname : str\n",
      " |          The name of the hierarchy designated in NDEx\n",
      " |  \n",
      " |  get_job_status(self)\n",
      " |      Gets CliXO job status\n",
      " |  \n",
      " |  wait_for_hiview_url(self)\n",
      " |      Continuously polls the DDOT server for job status\n",
      " |      \n",
      " |      If the API call is sucessful, the hiview url will be found as an \n",
      " |      attribute called `hiview_url`.\n",
      " |      \n",
      " |      TODO\n",
      " |      ----\n",
      " |      - Return the error code\n",
      " |  \n",
      " |  ----------------------------------------------------------------------\n",
      " |  Class methods defined here:\n",
      " |  \n",
      " |  from_dataframe(dataframe, verbose=False) from builtins.type\n",
      " |      Constructs the DDOT_caller object from pandas DataFrame\n",
      " |      \n",
      " |      Parameters\n",
      " |      ----------\n",
      " |      dataframe : pd.DataFrame\n",
      " |          Three column file dataframe. Header and indices are ignored. \n",
      " |          The first two columns represent the node name and the third\n",
      " |          column is the similarity score between the two nodes (edge\n",
      " |          weight). \n",
      " |      verbose : bool\n",
      " |          Determines whether the status will be output to standard out\n",
      " |  \n",
      " |  ----------------------------------------------------------------------\n",
      " |  Data descriptors defined here:\n",
      " |  \n",
      " |  __dict__\n",
      " |      dictionary for instance variables (if defined)\n",
      " |  \n",
      " |  __weakref__\n",
      " |      list of weak references to the object (if defined)\n",
      " |  \n",
      " |  ----------------------------------------------------------------------\n",
      " |  Data and other attributes defined here:\n",
      " |  \n",
      " |  DDOT_API = 'http://ddot.ucsd.edu/ddot/rest/v1/ontology/'\n",
      "\n"
     ]
    }
   ],
   "source": [
    "help(DDOT_Client)"
   ]
  }
 ],
 "metadata": {
  "kernelspec": {
   "display_name": "Python 3",
   "language": "python",
   "name": "python3"
  },
  "language_info": {
   "codemirror_mode": {
    "name": "ipython",
    "version": 3
   },
   "file_extension": ".py",
   "mimetype": "text/x-python",
   "name": "python",
   "nbconvert_exporter": "python",
   "pygments_lexer": "ipython3",
   "version": "3.6.4"
  }
 },
 "nbformat": 4,
 "nbformat_minor": 2
}
