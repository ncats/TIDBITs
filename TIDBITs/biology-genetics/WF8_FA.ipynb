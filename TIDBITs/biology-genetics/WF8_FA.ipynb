{
 "cells": [
  {
   "cell_type": "markdown",
   "metadata": {
    "deletable": true,
    "editable": true
   },
   "source": [
    "# Workflow 8 - FA\n",
    "\n",
    "This notebook implements all three modeuls of Workflow 8 for Fanconi Anemia. See <a href=\"https://docs.google.com/presentation/d/1IkAzjSrOMzOLx5z8GqRVKmVd1GKrpIEb_xF4g4RlI1U/edit?usp=sharing\">here</a> for an overview of Workflow 8.  \n",
    "\n",
    "Notebook written by: Samson Fong, John Earls, Theo Knijnenburg, Chris Churas and Aaron Gary. "
   ]
  },
  {
   "cell_type": "markdown",
   "metadata": {
    "deletable": true,
    "editable": true
   },
   "source": [
    "## Libraries and such"
   ]
  },
  {
   "cell_type": "code",
   "execution_count": 1,
   "metadata": {
    "collapsed": false,
    "deletable": true,
    "editable": true
   },
   "outputs": [
    {
     "ename": "ModuleNotFoundError",
     "evalue": "No module named 'autoreload '",
     "output_type": "error",
     "traceback": [
      "\u001b[0;31m---------------------------------------------------------------------------\u001b[0m",
      "\u001b[0;31mModuleNotFoundError\u001b[0m                       Traceback (most recent call last)",
      "\u001b[0;32m<ipython-input-1-89699e1bcb79>\u001b[0m in \u001b[0;36m<module>\u001b[0;34m\u001b[0m\n\u001b[0;32m----> 1\u001b[0;31m \u001b[0mget_ipython\u001b[0m\u001b[0;34m(\u001b[0m\u001b[0;34m)\u001b[0m\u001b[0;34m.\u001b[0m\u001b[0mrun_line_magic\u001b[0m\u001b[0;34m(\u001b[0m\u001b[0;34m'load_ext'\u001b[0m\u001b[0;34m,\u001b[0m \u001b[0;34m'autoreload '\u001b[0m\u001b[0;34m)\u001b[0m\u001b[0;34m\u001b[0m\u001b[0;34m\u001b[0m\u001b[0m\n\u001b[0m\u001b[1;32m      2\u001b[0m \u001b[0mget_ipython\u001b[0m\u001b[0;34m(\u001b[0m\u001b[0;34m)\u001b[0m\u001b[0;34m.\u001b[0m\u001b[0mrun_line_magic\u001b[0m\u001b[0;34m(\u001b[0m\u001b[0;34m'autoreload'\u001b[0m\u001b[0;34m,\u001b[0m \u001b[0;34m'2'\u001b[0m\u001b[0;34m)\u001b[0m\u001b[0;34m\u001b[0m\u001b[0;34m\u001b[0m\u001b[0m\n\u001b[1;32m      3\u001b[0m \u001b[0;34m\u001b[0m\u001b[0m\n\u001b[1;32m      4\u001b[0m \u001b[0;32mimport\u001b[0m \u001b[0mjson\u001b[0m\u001b[0;34m\u001b[0m\u001b[0;34m\u001b[0m\u001b[0m\n\u001b[1;32m      5\u001b[0m \u001b[0;32mfrom\u001b[0m \u001b[0mpprint\u001b[0m \u001b[0;32mimport\u001b[0m \u001b[0mpprint\u001b[0m\u001b[0;34m\u001b[0m\u001b[0;34m\u001b[0m\u001b[0m\n",
      "\u001b[0;32m/anaconda3/lib/python3.7/site-packages/IPython/core/interactiveshell.py\u001b[0m in \u001b[0;36mrun_line_magic\u001b[0;34m(self, magic_name, line, _stack_depth)\u001b[0m\n\u001b[1;32m   2285\u001b[0m                 \u001b[0mkwargs\u001b[0m\u001b[0;34m[\u001b[0m\u001b[0;34m'local_ns'\u001b[0m\u001b[0;34m]\u001b[0m \u001b[0;34m=\u001b[0m \u001b[0msys\u001b[0m\u001b[0;34m.\u001b[0m\u001b[0m_getframe\u001b[0m\u001b[0;34m(\u001b[0m\u001b[0mstack_depth\u001b[0m\u001b[0;34m)\u001b[0m\u001b[0;34m.\u001b[0m\u001b[0mf_locals\u001b[0m\u001b[0;34m\u001b[0m\u001b[0;34m\u001b[0m\u001b[0m\n\u001b[1;32m   2286\u001b[0m             \u001b[0;32mwith\u001b[0m \u001b[0mself\u001b[0m\u001b[0;34m.\u001b[0m\u001b[0mbuiltin_trap\u001b[0m\u001b[0;34m:\u001b[0m\u001b[0;34m\u001b[0m\u001b[0;34m\u001b[0m\u001b[0m\n\u001b[0;32m-> 2287\u001b[0;31m                 \u001b[0mresult\u001b[0m \u001b[0;34m=\u001b[0m \u001b[0mfn\u001b[0m\u001b[0;34m(\u001b[0m\u001b[0;34m*\u001b[0m\u001b[0margs\u001b[0m\u001b[0;34m,\u001b[0m\u001b[0;34m**\u001b[0m\u001b[0mkwargs\u001b[0m\u001b[0;34m)\u001b[0m\u001b[0;34m\u001b[0m\u001b[0;34m\u001b[0m\u001b[0m\n\u001b[0m\u001b[1;32m   2288\u001b[0m             \u001b[0;32mreturn\u001b[0m \u001b[0mresult\u001b[0m\u001b[0;34m\u001b[0m\u001b[0;34m\u001b[0m\u001b[0m\n\u001b[1;32m   2289\u001b[0m \u001b[0;34m\u001b[0m\u001b[0m\n",
      "\u001b[0;32m</anaconda3/lib/python3.7/site-packages/decorator.py:decorator-gen-65>\u001b[0m in \u001b[0;36mload_ext\u001b[0;34m(self, module_str)\u001b[0m\n",
      "\u001b[0;32m/anaconda3/lib/python3.7/site-packages/IPython/core/magic.py\u001b[0m in \u001b[0;36m<lambda>\u001b[0;34m(f, *a, **k)\u001b[0m\n\u001b[1;32m    185\u001b[0m     \u001b[0;31m# but it's overkill for just that one bit of state.\u001b[0m\u001b[0;34m\u001b[0m\u001b[0;34m\u001b[0m\u001b[0;34m\u001b[0m\u001b[0m\n\u001b[1;32m    186\u001b[0m     \u001b[0;32mdef\u001b[0m \u001b[0mmagic_deco\u001b[0m\u001b[0;34m(\u001b[0m\u001b[0marg\u001b[0m\u001b[0;34m)\u001b[0m\u001b[0;34m:\u001b[0m\u001b[0;34m\u001b[0m\u001b[0;34m\u001b[0m\u001b[0m\n\u001b[0;32m--> 187\u001b[0;31m         \u001b[0mcall\u001b[0m \u001b[0;34m=\u001b[0m \u001b[0;32mlambda\u001b[0m \u001b[0mf\u001b[0m\u001b[0;34m,\u001b[0m \u001b[0;34m*\u001b[0m\u001b[0ma\u001b[0m\u001b[0;34m,\u001b[0m \u001b[0;34m**\u001b[0m\u001b[0mk\u001b[0m\u001b[0;34m:\u001b[0m \u001b[0mf\u001b[0m\u001b[0;34m(\u001b[0m\u001b[0;34m*\u001b[0m\u001b[0ma\u001b[0m\u001b[0;34m,\u001b[0m \u001b[0;34m**\u001b[0m\u001b[0mk\u001b[0m\u001b[0;34m)\u001b[0m\u001b[0;34m\u001b[0m\u001b[0;34m\u001b[0m\u001b[0m\n\u001b[0m\u001b[1;32m    188\u001b[0m \u001b[0;34m\u001b[0m\u001b[0m\n\u001b[1;32m    189\u001b[0m         \u001b[0;32mif\u001b[0m \u001b[0mcallable\u001b[0m\u001b[0;34m(\u001b[0m\u001b[0marg\u001b[0m\u001b[0;34m)\u001b[0m\u001b[0;34m:\u001b[0m\u001b[0;34m\u001b[0m\u001b[0;34m\u001b[0m\u001b[0m\n",
      "\u001b[0;32m/anaconda3/lib/python3.7/site-packages/IPython/core/magics/extension.py\u001b[0m in \u001b[0;36mload_ext\u001b[0;34m(self, module_str)\u001b[0m\n\u001b[1;32m     31\u001b[0m         \u001b[0;32mif\u001b[0m \u001b[0;32mnot\u001b[0m \u001b[0mmodule_str\u001b[0m\u001b[0;34m:\u001b[0m\u001b[0;34m\u001b[0m\u001b[0;34m\u001b[0m\u001b[0m\n\u001b[1;32m     32\u001b[0m             \u001b[0;32mraise\u001b[0m \u001b[0mUsageError\u001b[0m\u001b[0;34m(\u001b[0m\u001b[0;34m'Missing module name.'\u001b[0m\u001b[0;34m)\u001b[0m\u001b[0;34m\u001b[0m\u001b[0;34m\u001b[0m\u001b[0m\n\u001b[0;32m---> 33\u001b[0;31m         \u001b[0mres\u001b[0m \u001b[0;34m=\u001b[0m \u001b[0mself\u001b[0m\u001b[0;34m.\u001b[0m\u001b[0mshell\u001b[0m\u001b[0;34m.\u001b[0m\u001b[0mextension_manager\u001b[0m\u001b[0;34m.\u001b[0m\u001b[0mload_extension\u001b[0m\u001b[0;34m(\u001b[0m\u001b[0mmodule_str\u001b[0m\u001b[0;34m)\u001b[0m\u001b[0;34m\u001b[0m\u001b[0;34m\u001b[0m\u001b[0m\n\u001b[0m\u001b[1;32m     34\u001b[0m \u001b[0;34m\u001b[0m\u001b[0m\n\u001b[1;32m     35\u001b[0m         \u001b[0;32mif\u001b[0m \u001b[0mres\u001b[0m \u001b[0;34m==\u001b[0m \u001b[0;34m'already loaded'\u001b[0m\u001b[0;34m:\u001b[0m\u001b[0;34m\u001b[0m\u001b[0;34m\u001b[0m\u001b[0m\n",
      "\u001b[0;32m/anaconda3/lib/python3.7/site-packages/IPython/core/extensions.py\u001b[0m in \u001b[0;36mload_extension\u001b[0;34m(self, module_str)\u001b[0m\n\u001b[1;32m     78\u001b[0m             \u001b[0;32mif\u001b[0m \u001b[0mmodule_str\u001b[0m \u001b[0;32mnot\u001b[0m \u001b[0;32min\u001b[0m \u001b[0msys\u001b[0m\u001b[0;34m.\u001b[0m\u001b[0mmodules\u001b[0m\u001b[0;34m:\u001b[0m\u001b[0;34m\u001b[0m\u001b[0;34m\u001b[0m\u001b[0m\n\u001b[1;32m     79\u001b[0m                 \u001b[0;32mwith\u001b[0m \u001b[0mprepended_to_syspath\u001b[0m\u001b[0;34m(\u001b[0m\u001b[0mself\u001b[0m\u001b[0;34m.\u001b[0m\u001b[0mipython_extension_dir\u001b[0m\u001b[0;34m)\u001b[0m\u001b[0;34m:\u001b[0m\u001b[0;34m\u001b[0m\u001b[0;34m\u001b[0m\u001b[0m\n\u001b[0;32m---> 80\u001b[0;31m                     \u001b[0mmod\u001b[0m \u001b[0;34m=\u001b[0m \u001b[0mimport_module\u001b[0m\u001b[0;34m(\u001b[0m\u001b[0mmodule_str\u001b[0m\u001b[0;34m)\u001b[0m\u001b[0;34m\u001b[0m\u001b[0;34m\u001b[0m\u001b[0m\n\u001b[0m\u001b[1;32m     81\u001b[0m                     \u001b[0;32mif\u001b[0m \u001b[0mmod\u001b[0m\u001b[0;34m.\u001b[0m\u001b[0m__file__\u001b[0m\u001b[0;34m.\u001b[0m\u001b[0mstartswith\u001b[0m\u001b[0;34m(\u001b[0m\u001b[0mself\u001b[0m\u001b[0;34m.\u001b[0m\u001b[0mipython_extension_dir\u001b[0m\u001b[0;34m)\u001b[0m\u001b[0;34m:\u001b[0m\u001b[0;34m\u001b[0m\u001b[0;34m\u001b[0m\u001b[0m\n\u001b[1;32m     82\u001b[0m                         print((\"Loading extensions from {dir} is deprecated. \"\n",
      "\u001b[0;32m/anaconda3/lib/python3.7/importlib/__init__.py\u001b[0m in \u001b[0;36mimport_module\u001b[0;34m(name, package)\u001b[0m\n\u001b[1;32m    125\u001b[0m                 \u001b[0;32mbreak\u001b[0m\u001b[0;34m\u001b[0m\u001b[0;34m\u001b[0m\u001b[0m\n\u001b[1;32m    126\u001b[0m             \u001b[0mlevel\u001b[0m \u001b[0;34m+=\u001b[0m \u001b[0;36m1\u001b[0m\u001b[0;34m\u001b[0m\u001b[0;34m\u001b[0m\u001b[0m\n\u001b[0;32m--> 127\u001b[0;31m     \u001b[0;32mreturn\u001b[0m \u001b[0m_bootstrap\u001b[0m\u001b[0;34m.\u001b[0m\u001b[0m_gcd_import\u001b[0m\u001b[0;34m(\u001b[0m\u001b[0mname\u001b[0m\u001b[0;34m[\u001b[0m\u001b[0mlevel\u001b[0m\u001b[0;34m:\u001b[0m\u001b[0;34m]\u001b[0m\u001b[0;34m,\u001b[0m \u001b[0mpackage\u001b[0m\u001b[0;34m,\u001b[0m \u001b[0mlevel\u001b[0m\u001b[0;34m)\u001b[0m\u001b[0;34m\u001b[0m\u001b[0;34m\u001b[0m\u001b[0m\n\u001b[0m\u001b[1;32m    128\u001b[0m \u001b[0;34m\u001b[0m\u001b[0m\n\u001b[1;32m    129\u001b[0m \u001b[0;34m\u001b[0m\u001b[0m\n",
      "\u001b[0;32m/anaconda3/lib/python3.7/importlib/_bootstrap.py\u001b[0m in \u001b[0;36m_gcd_import\u001b[0;34m(name, package, level)\u001b[0m\n",
      "\u001b[0;32m/anaconda3/lib/python3.7/importlib/_bootstrap.py\u001b[0m in \u001b[0;36m_find_and_load\u001b[0;34m(name, import_)\u001b[0m\n",
      "\u001b[0;32m/anaconda3/lib/python3.7/importlib/_bootstrap.py\u001b[0m in \u001b[0;36m_find_and_load_unlocked\u001b[0;34m(name, import_)\u001b[0m\n",
      "\u001b[0;31mModuleNotFoundError\u001b[0m: No module named 'autoreload '"
     ]
    }
   ],
   "source": [
    "%load_ext autoreload\n",
    "%autoreload 2\n",
    "\n",
    "import json\n",
    "from pprint import pprint\n",
    "from wf8_module1 import doid_to_genes_and_tissues, doid_to_genes_direct\n",
    "from wf8_module2 import call_biggim\n",
    "import numpy as np\n",
    "import pandas as pd\n",
    "import time\n",
    "import sys\n",
    "sys.path.insert(0, \"wf8\")\n",
    "from wf8_module3 import DDOT_Client"
   ]
  },
  {
   "cell_type": "markdown",
   "metadata": {
    "deletable": true,
    "editable": true
   },
   "source": [
    "## Module 1 - Getting FA genes and tissues"
   ]
  },
  {
   "cell_type": "code",
   "execution_count": 2,
   "metadata": {
    "collapsed": false,
    "deletable": true,
    "editable": true,
    "scrolled": true
   },
   "outputs": [
    {
     "name": "stderr",
     "output_type": "stream",
     "text": [
      "INFO:root:Geting HP ids from DOID\n"
     ]
    },
    {
     "name": "stdout",
     "output_type": "stream",
     "text": [
      "http://biothings.io/explorer/api/v2/directinput2output?input_prefix=doid&output_prefix=ncbigene&input_value=13636&format=translator\n",
      "Returned 22 genes\n"
     ]
    }
   ],
   "source": [
    "genes = doid_to_genes_direct('13636')"
   ]
  },
  {
   "cell_type": "code",
   "execution_count": 5,
   "metadata": {
    "collapsed": false,
    "deletable": true,
    "editable": true,
    "scrolled": true
   },
   "outputs": [
    {
     "name": "stderr",
     "output_type": "stream",
     "text": [
      "INFO:root:Geting HP ids from DOID\n"
     ]
    },
    {
     "name": "stdout",
     "output_type": "stream",
     "text": [
      "http://biothings.io/explorer/api/v2/directinput2output?input_prefix=doid&output_prefix=ncbigene&input_value=13636&format=translator\n",
      "Returned 22 genes\n"
     ]
    }
   ],
   "source": [
    "genes,tissues = doid_to_genes_and_tissues('13636',direct=True,N=1000)\n",
    "#will return 20 tissues, this will take a while"
   ]
  },
  {
   "cell_type": "code",
   "execution_count": 3,
   "metadata": {
    "collapsed": false,
    "deletable": true,
    "editable": true,
    "scrolled": true
   },
   "outputs": [
    {
     "name": "stdout",
     "output_type": "stream",
     "text": [
      "['animal', 'aorta', 'artery', 'bone', 'brain_ventricle', 'cardiovascular_system', 'cornea', 'duodenum', 'esophagus', 'gonad', 'head', 'heart', 'hematopoietic_system', 'lens', 'liver', 'neck', 'testis', 'trachea', 'umbilical_cord', 'uterus']\n",
      "20\n",
      "['esophagus', 'hematopoietic_system', 'neck', 'trachea']\n"
     ]
    }
   ],
   "source": [
    "#here are the 20 tissues; Maureen selected 4 from thos\n",
    "tissues = ['animal', 'aorta', 'artery', 'bone', 'brain_ventricle', 'cardiovascular_system', 'cornea', 'duodenum', 'esophagus', 'gonad', 'head', 'heart', 'hematopoietic_system', 'lens', 'liver', 'neck', 'testis', 'trachea', 'umbilical_cord', 'uterus']\n",
    "print(tissues)\n",
    "print(len(tissues))\n",
    "tissues = ['esophagus','hematopoietic_system', 'neck', 'trachea']\n",
    "print(tissues)"
   ]
  },
  {
   "cell_type": "markdown",
   "metadata": {
    "deletable": true,
    "editable": true
   },
   "source": [
    "## Module 2 - Getting FA interacting genes\n",
    "We ask for N=200 new genes."
   ]
  },
  {
   "cell_type": "code",
   "execution_count": 4,
   "metadata": {
    "collapsed": false,
    "deletable": true,
    "editable": true,
    "scrolled": true
   },
   "outputs": [
    {
     "name": "stdout",
     "output_type": "stream",
     "text": [
      "Sent: GET http://biggim.ncats.io/api/metadata/tissue/esophagus?None\n",
      "Sent: GET http://biggim.ncats.io/api/metadata/tissue/hematopoietic_system?None\n",
      "Sent: GET http://biggim.ncats.io/api/metadata/tissue/neck?None\n",
      "Sent: GET http://biggim.ncats.io/api/metadata/tissue/trachea?None\n",
      "Returned 56 Big GIM columns\n",
      "['GIANT_eosinophil_KnownFunctionalInteraction', 'GIANT_trachea_KnownFunctionalInteraction', 'GIANT_hematopoietic_stem_cell_ProbabilityOfFunctionalInteraction', 'GIANT_blood_plasma_ProbabilityOfFunctionalInteraction', 'GIANT_esophagus_KnownFunctionalInteraction', 'GTEx_Esophagus_Correlation', 'GTEx_Spleen_Correlation', 'GIANT_leukocyte_ProbabilityOfFunctionalInteraction', 'GIANT_basophil_KnownFunctionalInteraction', 'GIANT_dendritic_cell_ProbabilityOfFunctionalInteraction', 'GIANT_lymphocyte_KnownFunctionalInteraction', 'GIANT_tonsil_KnownFunctionalInteraction', 'GIANT_spleen_ProbabilityOfFunctionalInteraction', 'GIANT_dendritic_cell_KnownFunctionalInteraction', 'GIANT_lymphocyte_ProbabilityOfFunctionalInteraction', 'GIANT_esophagus_ProbabilityOfFunctionalInteraction', 'GIANT_blood_ProbabilityOfFunctionalInteraction', 'GIANT_tonsil_ProbabilityOfFunctionalInteraction', 'GIANT_blood_plasma_KnownFunctionalInteraction', 'GIANT_megakaryocyte_ProbabilityOfFunctionalInteraction', 'GIANT_serum_KnownFunctionalInteraction', 'GIANT_neutrophil_KnownFunctionalInteraction', 'GIANT_eosinophil_ProbabilityOfFunctionalInteraction', 'GIANT_neutrophil_ProbabilityOfFunctionalInteraction', 'GIANT_lymph_node_KnownFunctionalInteraction', 'GIANT_granulocyte_ProbabilityOfFunctionalInteraction', 'GIANT_mononuclear_phagocyte_ProbabilityOfFunctionalInteraction', 'GIANT_leukocyte_KnownFunctionalInteraction', 'GIANT_granulocyte_KnownFunctionalInteraction', 'GIANT_trachea_ProbabilityOfFunctionalInteraction', 'GIANT_spleen_KnownFunctionalInteraction', 'GIANT_serum_ProbabilityOfFunctionalInteraction', 'GIANT_basophil_ProbabilityOfFunctionalInteraction', 'GIANT_blood_KnownFunctionalInteraction', 'GTEx_Blood_Correlation', 'GIANT_t_lymphocyte_ProbabilityOfFunctionalInteraction', 'GIANT_thyroid_gland_ProbabilityOfFunctionalInteraction', 'GTEx_Thyroid_Correlation', 'GIANT_natural_killer_cell_ProbabilityOfFunctionalInteraction', 'GIANT_monocyte_ProbabilityOfFunctionalInteraction', 'GIANT_macrophage_KnownFunctionalInteraction', 'GIANT_monocyte_KnownFunctionalInteraction', 'GIANT_b_lymphocyte_ProbabilityOfFunctionalInteraction', 'GIANT_natural_killer_cell_KnownFunctionalInteraction', 'GIANT_macrophage_ProbabilityOfFunctionalInteraction', 'GIANT_hematopoietic_stem_cell_KnownFunctionalInteraction', 'GIANT_lymph_node_ProbabilityOfFunctionalInteraction', 'GIANT_blood_platelet_KnownFunctionalInteraction', 'GIANT_blood_platelet_ProbabilityOfFunctionalInteraction', 'GIANT_b_lymphocyte_KnownFunctionalInteraction', 'GIANT_t_lymphocyte_KnownFunctionalInteraction', 'GIANT_megakaryocyte_KnownFunctionalInteraction', 'GIANT_mononuclear_phagocyte_KnownFunctionalInteraction', 'GIANT_thymocyte_KnownFunctionalInteraction', 'GIANT_thyroid_gland_KnownFunctionalInteraction', 'GIANT_thymocyte_ProbabilityOfFunctionalInteraction']\n",
      "Sent: GET http://biggim.ncats.io/api/biggim/query?limit=1000000&ids1=83990%2C2072%2C4599%2C2188%2C57697%2C675%2C7124%2C29089%2C55215%2C2187%2C2175%2C2177%2C55120%2C7516%2C5889%2C2178%2C84464%2C10459%2C2176%2C5888%2C2189%2C79728&columns=GIANT_eosinophil_KnownFunctionalInteraction%2CGIANT_trachea_KnownFunctionalInteraction%2CGIANT_hematopoietic_stem_cell_ProbabilityOfFunctionalInteraction%2CGIANT_blood_plasma_ProbabilityOfFunctionalInteraction%2CGIANT_esophagus_KnownFunctionalInteraction%2CGTEx_Esophagus_Correlation%2CGTEx_Spleen_Correlation%2CGIANT_leukocyte_ProbabilityOfFunctionalInteraction%2CGIANT_basophil_KnownFunctionalInteraction%2CGIANT_dendritic_cell_ProbabilityOfFunctionalInteraction%2CGIANT_lymphocyte_KnownFunctionalInteraction%2CGIANT_tonsil_KnownFunctionalInteraction%2CGIANT_spleen_ProbabilityOfFunctionalInteraction%2CGIANT_dendritic_cell_KnownFunctionalInteraction%2CGIANT_lymphocyte_ProbabilityOfFunctionalInteraction%2CGIANT_esophagus_ProbabilityOfFunctionalInteraction%2CGIANT_blood_ProbabilityOfFunctionalInteraction%2CGIANT_tonsil_ProbabilityOfFunctionalInteraction%2CGIANT_blood_plasma_KnownFunctionalInteraction%2CGIANT_megakaryocyte_ProbabilityOfFunctionalInteraction%2CGIANT_serum_KnownFunctionalInteraction%2CGIANT_neutrophil_KnownFunctionalInteraction%2CGIANT_eosinophil_ProbabilityOfFunctionalInteraction%2CGIANT_neutrophil_ProbabilityOfFunctionalInteraction%2CGIANT_lymph_node_KnownFunctionalInteraction%2CGIANT_granulocyte_ProbabilityOfFunctionalInteraction%2CGIANT_mononuclear_phagocyte_ProbabilityOfFunctionalInteraction%2CGIANT_leukocyte_KnownFunctionalInteraction%2CGIANT_granulocyte_KnownFunctionalInteraction%2CGIANT_trachea_ProbabilityOfFunctionalInteraction%2CGIANT_spleen_KnownFunctionalInteraction%2CGIANT_serum_ProbabilityOfFunctionalInteraction%2CGIANT_basophil_ProbabilityOfFunctionalInteraction%2CGIANT_blood_KnownFunctionalInteraction%2CGTEx_Blood_Correlation%2CGIANT_t_lymphocyte_ProbabilityOfFunctionalInteraction%2CGIANT_thyroid_gland_ProbabilityOfFunctionalInteraction%2CGTEx_Thyroid_Correlation%2CGIANT_natural_killer_cell_ProbabilityOfFunctionalInteraction%2CGIANT_monocyte_ProbabilityOfFunctionalInteraction%2CGIANT_macrophage_KnownFunctionalInteraction%2CGIANT_monocyte_KnownFunctionalInteraction%2CGIANT_b_lymphocyte_ProbabilityOfFunctionalInteraction%2CGIANT_natural_killer_cell_KnownFunctionalInteraction%2CGIANT_macrophage_ProbabilityOfFunctionalInteraction%2CGIANT_hematopoietic_stem_cell_KnownFunctionalInteraction%2CGIANT_lymph_node_ProbabilityOfFunctionalInteraction%2CGIANT_blood_platelet_KnownFunctionalInteraction%2CGIANT_blood_platelet_ProbabilityOfFunctionalInteraction%2CGIANT_b_lymphocyte_KnownFunctionalInteraction%2CGIANT_t_lymphocyte_KnownFunctionalInteraction%2CGIANT_megakaryocyte_KnownFunctionalInteraction%2CGIANT_mononuclear_phagocyte_KnownFunctionalInteraction%2CGIANT_thymocyte_KnownFunctionalInteraction%2CGIANT_thyroid_gland_KnownFunctionalInteraction%2CGIANT_thymocyte_ProbabilityOfFunctionalInteraction&average_columns=True&table=BigGIM_70_v1&restriction_gt=GIANT_eosinophil_KnownFunctionalInteraction%2C-2.0%2CGIANT_trachea_KnownFunctionalInteraction%2C-2.0%2CGIANT_hematopoietic_stem_cell_ProbabilityOfFunctionalInteraction%2C-2.0%2CGIANT_blood_plasma_ProbabilityOfFunctionalInteraction%2C-2.0%2CGIANT_esophagus_KnownFunctionalInteraction%2C-2.0%2CGTEx_Esophagus_Correlation%2C-2.0%2CGTEx_Spleen_Correlation%2C-2.0%2CGIANT_leukocyte_ProbabilityOfFunctionalInteraction%2C-2.0%2CGIANT_basophil_KnownFunctionalInteraction%2C-2.0%2CGIANT_dendritic_cell_ProbabilityOfFunctionalInteraction%2C-2.0%2CGIANT_lymphocyte_KnownFunctionalInteraction%2C-2.0%2CGIANT_tonsil_KnownFunctionalInteraction%2C-2.0%2CGIANT_spleen_ProbabilityOfFunctionalInteraction%2C-2.0%2CGIANT_dendritic_cell_KnownFunctionalInteraction%2C-2.0%2CGIANT_lymphocyte_ProbabilityOfFunctionalInteraction%2C-2.0%2CGIANT_esophagus_ProbabilityOfFunctionalInteraction%2C-2.0%2CGIANT_blood_ProbabilityOfFunctionalInteraction%2C-2.0%2CGIANT_tonsil_ProbabilityOfFunctionalInteraction%2C-2.0%2CGIANT_blood_plasma_KnownFunctionalInteraction%2C-2.0%2CGIANT_megakaryocyte_ProbabilityOfFunctionalInteraction%2C-2.0%2CGIANT_serum_KnownFunctionalInteraction%2C-2.0%2CGIANT_neutrophil_KnownFunctionalInteraction%2C-2.0%2CGIANT_eosinophil_ProbabilityOfFunctionalInteraction%2C-2.0%2CGIANT_neutrophil_ProbabilityOfFunctionalInteraction%2C-2.0%2CGIANT_lymph_node_KnownFunctionalInteraction%2C-2.0%2CGIANT_granulocyte_ProbabilityOfFunctionalInteraction%2C-2.0%2CGIANT_mononuclear_phagocyte_ProbabilityOfFunctionalInteraction%2C-2.0%2CGIANT_leukocyte_KnownFunctionalInteraction%2C-2.0%2CGIANT_granulocyte_KnownFunctionalInteraction%2C-2.0%2CGIANT_trachea_ProbabilityOfFunctionalInteraction%2C-2.0%2CGIANT_spleen_KnownFunctionalInteraction%2C-2.0%2CGIANT_serum_ProbabilityOfFunctionalInteraction%2C-2.0%2CGIANT_basophil_ProbabilityOfFunctionalInteraction%2C-2.0%2CGIANT_blood_KnownFunctionalInteraction%2C-2.0%2CGTEx_Blood_Correlation%2C-2.0%2CGIANT_t_lymphocyte_ProbabilityOfFunctionalInteraction%2C-2.0%2CGIANT_thyroid_gland_ProbabilityOfFunctionalInteraction%2C-2.0%2CGTEx_Thyroid_Correlation%2C-2.0%2CGIANT_natural_killer_cell_ProbabilityOfFunctionalInteraction%2C-2.0%2CGIANT_monocyte_ProbabilityOfFunctionalInteraction%2C-2.0%2CGIANT_macrophage_KnownFunctionalInteraction%2C-2.0%2CGIANT_monocyte_KnownFunctionalInteraction%2C-2.0%2CGIANT_b_lymphocyte_ProbabilityOfFunctionalInteraction%2C-2.0%2CGIANT_natural_killer_cell_KnownFunctionalInteraction%2C-2.0%2CGIANT_macrophage_ProbabilityOfFunctionalInteraction%2C-2.0%2CGIANT_hematopoietic_stem_cell_KnownFunctionalInteraction%2C-2.0%2CGIANT_lymph_node_ProbabilityOfFunctionalInteraction%2C-2.0%2CGIANT_blood_platelet_KnownFunctionalInteraction%2C-2.0%2CGIANT_blood_platelet_ProbabilityOfFunctionalInteraction%2C-2.0%2CGIANT_b_lymphocyte_KnownFunctionalInteraction%2C-2.0%2CGIANT_t_lymphocyte_KnownFunctionalInteraction%2C-2.0%2CGIANT_megakaryocyte_KnownFunctionalInteraction%2C-2.0%2CGIANT_mononuclear_phagocyte_KnownFunctionalInteraction%2C-2.0%2CGIANT_thymocyte_KnownFunctionalInteraction%2C-2.0%2CGIANT_thyroid_gland_KnownFunctionalInteraction%2C-2.0%2CGIANT_thymocyte_ProbabilityOfFunctionalInteraction%2C-2.0\n",
      "{\n",
      "  \"request_id\": \"a2b1c22e-3fe5-407b-99ed-c48777e47665\",\n",
      "  \"status\": \"submitted\"\n",
      "}\n",
      "Sent: GET http://biggim.ncats.io/api/biggim/status/a2b1c22e-3fe5-407b-99ed-c48777e47665?None\n",
      "{\n",
      "  \"request_id\": \"a2b1c22e-3fe5-407b-99ed-c48777e47665\",\n",
      "  \"message\": \"Query job is running.\",\n",
      "  \"status\": \"running\"\n",
      "}\n",
      "Checking again\n",
      "Sent: GET http://biggim.ncats.io/api/biggim/status/a2b1c22e-3fe5-407b-99ed-c48777e47665?None\n",
      "{\n",
      "  \"request_id\": \"a2b1c22e-3fe5-407b-99ed-c48777e47665\",\n",
      "  \"message\": \"Query job is running.\",\n",
      "  \"status\": \"running\"\n",
      "}\n",
      "Checking again\n",
      "Sent: GET http://biggim.ncats.io/api/biggim/status/a2b1c22e-3fe5-407b-99ed-c48777e47665?None\n",
      "{\n",
      "  \"request_id\": \"a2b1c22e-3fe5-407b-99ed-c48777e47665\",\n",
      "  \"message\": \"Query job is running.\",\n",
      "  \"status\": \"running\"\n",
      "}\n",
      "Checking again\n",
      "Sent: GET http://biggim.ncats.io/api/biggim/status/a2b1c22e-3fe5-407b-99ed-c48777e47665?None\n",
      "{\n",
      "  \"request_id\": \"a2b1c22e-3fe5-407b-99ed-c48777e47665\",\n",
      "  \"message\": \"Query job is running.\",\n",
      "  \"status\": \"running\"\n",
      "}\n",
      "Checking again\n",
      "Sent: GET http://biggim.ncats.io/api/biggim/status/a2b1c22e-3fe5-407b-99ed-c48777e47665?None\n",
      "{\n",
      "  \"size\": \"6.13 MB\",\n",
      "  \"request_uri\": [\n",
      "    \"https://storage.googleapis.com/ncats_bigquery_results/a2b1c22e-3fe5-407b-99ed-c48777e47665000000000000.csv\"\n",
      "  ],\n",
      "  \"processed_data\": \"21.36 GB\",\n",
      "  \"request_id\": \"a2b1c22e-3fe5-407b-99ed-c48777e47665\",\n",
      "  \"status\": \"complete\",\n",
      "  \"rows\": 137341\n",
      "}\n",
      "         Gene1  Gene2      mean\n",
      "0        55120  54620  0.052894\n",
      "1        83990    636  0.033784\n",
      "2        83990  10896  0.032336\n",
      "3        55120   6240  0.149740\n",
      "4        55215   2005  0.064280\n",
      "5         2177   2119  0.041244\n",
      "6          675    210  0.046095\n",
      "7        57697   1876  0.044703\n",
      "8        83990   8975  0.028021\n",
      "9        57697   8994  0.052233\n",
      "10       55120  50618  0.073721\n",
      "11       84464  23082  0.063235\n",
      "12       79728    952  0.055476\n",
      "13       55215   5897  0.022203\n",
      "14       55120   1977  0.152403\n",
      "15       83990  23555  0.017563\n",
      "16       29089   9702  0.069003\n",
      "17       83990   5074  0.046284\n",
      "18       55215   5771  0.141467\n",
      "19       83990   5789  0.029645\n",
      "20       57697  29789  0.083115\n",
      "21       55120   3815  0.031100\n",
      "22       57697    132  0.060667\n",
      "23       83990   3339  0.016345\n",
      "24       57697   4293  0.042819\n",
      "25       10459   5986  0.045843\n",
      "26       55215   4690  0.082552\n",
      "27       79728    330  0.036924\n",
      "28        2187   1364  0.040907\n",
      "29       84464    399  0.066958\n",
      "...        ...    ...       ...\n",
      "137311   56252   4599  0.033651\n",
      "137312  339175   4599  0.042411\n",
      "137313   79648   4599  0.051472\n",
      "137314  255426   4599  0.027784\n",
      "137315   57696   4599  0.037303\n",
      "137316   55626   4599  0.036628\n",
      "137317    5558   4599  0.054476\n",
      "137318    9143   4599  0.028786\n",
      "137319    6832   4599  0.038515\n",
      "137320  146206   4599  0.058326\n",
      "137321   51478   4599  0.053172\n",
      "137322   56994   4599  0.008637\n",
      "137323   57134   4599  0.039641\n",
      "137324    5341   4599  0.237118\n",
      "137325   55721   4599  0.051034\n",
      "137326  112752   4599  0.037483\n",
      "137327    9397   4599  0.036306\n",
      "137328   83695   4599  0.058164\n",
      "137329   85012   4599  0.041878\n",
      "137330  114898   4599  0.035257\n",
      "137331    5822   4599  0.052254\n",
      "137332   54739   4599  0.331678\n",
      "137333   23495   4599  0.061182\n",
      "137334   11278   4599  0.039482\n",
      "137335   23076   4599  0.038895\n",
      "137336   57761   4599  0.049057\n",
      "137337  203427   4599  0.076007\n",
      "137338   91107   4599  0.063785\n",
      "137339  144097   4599  0.032887\n",
      "137340   80313   4599  0.042965\n",
      "\n",
      "[137341 rows x 3 columns]\n",
      "         index  Gene1  Gene2      mean\n",
      "0       125626   5888    675  0.493868\n",
      "1        73486   2189   2175  0.480905\n",
      "2        35466  83990    672  0.454132\n",
      "3        23353   5888    641  0.449780\n",
      "4        94071   2189   2178  0.446432\n",
      "5       125042   2177    675  0.434108\n",
      "6         7256   5888    672  0.428837\n",
      "7        75931   2178   2175  0.423257\n",
      "8        17196   2175    672  0.410507\n",
      "9        43777   7153   5888  0.400558\n",
      "10       91795   2178   2177  0.391341\n",
      "11       19734   4599   3430  0.387923\n",
      "12       22495   5888   4175  0.385983\n",
      "13       37720   5888   4173  0.384679\n",
      "14       80982   2178   2176  0.384392\n",
      "15       18007   4599   3434  0.383398\n",
      "16       18877    675    672  0.380543\n",
      "17       23998   2189    890  0.379373\n",
      "18      127077  79682  55215  0.379271\n",
      "19       11744   4599   3437  0.378202\n",
      "20       44285  79682   5888  0.372223\n",
      "21      136472   4600   4599  0.372173\n",
      "22       23872  55215   4085  0.371241\n",
      "23       26359  55215   7153  0.369765\n",
      "24       23147  55215  51203  0.367382\n",
      "25       28094   5889   1434  0.366892\n",
      "26       30693   4599   3431  0.365500\n",
      "27      136575  10561   4599  0.365062\n",
      "28       40372   7083   5888  0.364190\n",
      "29      135861  10346   4599  0.364008\n",
      "...        ...    ...    ...       ...\n",
      "137311   77530   6252   2175 -0.020917\n",
      "137312  114010   4240   2189 -0.021005\n",
      "137313   33069  83990  51257 -0.021028\n",
      "137314  122546   3029    675 -0.021074\n",
      "137315   21601  55215   8742 -0.021078\n",
      "137316   77741   6840   2175 -0.021106\n",
      "137317   22498  83990  11070 -0.021180\n",
      "137318   41973  64748   5888 -0.021189\n",
      "137319   92790   3745   2178 -0.021263\n",
      "137320  111853  83716   2189 -0.021623\n",
      "137321   78326   5577   2175 -0.021632\n",
      "137322  123055  64748    675 -0.021805\n",
      "137323   47425   6337   5889 -0.021826\n",
      "137324   12348  55120   6272 -0.021852\n",
      "137325  126690  64748  55215 -0.021948\n",
      "137326  112050   8660   2189 -0.022250\n",
      "137327  121628  79641    675 -0.022922\n",
      "137328  109955   7099   2189 -0.023024\n",
      "137329  113912   9332   2189 -0.023219\n",
      "137330  112788   2799   2189 -0.023246\n",
      "137331  115982   5997   2189 -0.023439\n",
      "137332   75129   4128   2175 -0.023441\n",
      "137333   22821  83990  65018 -0.023564\n",
      "137334   75661   9236   2175 -0.023875\n",
      "137335   35362  55215  51257 -0.024790\n",
      "137336   94869  23500   2178 -0.026011\n",
      "137337   93440  84981   2178 -0.026329\n",
      "137338   95002   7079   2178 -0.026662\n",
      "137339   73843   8660   2175 -0.027695\n",
      "137340  112948   6272   2189 -0.033044\n",
      "\n",
      "[137341 rows x 4 columns]\n"
     ]
    }
   ],
   "source": [
    "newgenes = call_biggim(genes, tissues, average_columns=True, return_genes=True, N=200)"
   ]
  },
  {
   "cell_type": "code",
   "execution_count": 5,
   "metadata": {
    "collapsed": false,
    "deletable": true,
    "editable": true,
    "scrolled": true
   },
   "outputs": [
    {
     "name": "stdout",
     "output_type": "stream",
     "text": [
      "['10036', '10038', '10051', '10112', '10198', '1033', '10346', '10403', '10459', '10459', '10561', '1058', '10592', '10615', '1062', '1063', '1070', '10733', '10926', '10964', '11004', '11065', '11073', '1111', '11130', '11169', '11200', '11339', '1164', '1434', '146909', '1479', '1633', '1719', '1786', '1854', '2072', '2146', '2175', '2175', '2176', '2176', '2177', '2177', '2178', '2178', '2187', '2188', '2189', '2189', '2237', '22974', '23234', '23262', '23310', '23586', '24137', '2537', '25788', '25842', '259266', '26271', '2633', '27338', '29028', '29089', '29089', '29127', '3014', '3070', '3109', '3123', '3148', '3161', '3383', '3429', '3430', '3431', '3433', '3434', '3437', '3553', '3627', '3659', '3832', '3838', '3965', '4001', '4061', '4085', '4171', '4172', '4173', '4174', '4175', '4176', '4288', '4436', '4599', '4599', '4600', '4605', '4678', '4938', '4939', '4998', '5001', '51001', '51053', '5111', '51203', '51512', '51514', '51659', '5359', '5378', '5427', '5437', '54739', '54809', '54892', '55055', '55120', '55120', '55143', '55165', '55215', '55215', '55319', '55355', '55388', '5557', '55601', '55635', '55706', '55723', '55839', '55872', '56992', '57405', '57697', '580', '5888', '5888', '5889', '5889', '5932', '5983', '5984', '5985', '6119', '6240', '6241', '641', '64108', '64135', '64151', '64761', '6491', '6672', '672', '6737', '675', '675', '6772', '6790', '684', '699', '701', '7072', '7083', '7112', '7124', '7124', '7128', '7153', '7157', '7272', '7298', '7398', '7411', '7468', '7516', '79017', '79682', '79728', '81620', '8317', '834', '83461', '83990', '83990', '84464', '8458', '8519', '8542', '86', '8624', '8638', '8726', '890', '891', '899', '90417', '9055', '91543', '9156', '9212', '9232', '9246', '9319', '958', '9631', '9636', '9700', '9735', '9768', '9787', '9833', '9837', '990', '991', '9918', '9928']\n",
      "224\n"
     ]
    }
   ],
   "source": [
    "print(newgenes)\n",
    "print(len(newgenes))"
   ]
  },
  {
   "cell_type": "markdown",
   "metadata": {
    "deletable": true,
    "editable": true
   },
   "source": [
    "## Module 2- Running Big GIM for the second round, now producing the interaction matrix (df) that can serve as an input for DDOT"
   ]
  },
  {
   "cell_type": "code",
   "execution_count": 6,
   "metadata": {
    "collapsed": false,
    "deletable": true,
    "editable": true
   },
   "outputs": [
    {
     "name": "stdout",
     "output_type": "stream",
     "text": [
      "Sent: GET http://biggim.ncats.io/api/metadata/tissue/esophagus?None\n",
      "Sent: GET http://biggim.ncats.io/api/metadata/tissue/hematopoietic_system?None\n",
      "Sent: GET http://biggim.ncats.io/api/metadata/tissue/neck?None\n",
      "Sent: GET http://biggim.ncats.io/api/metadata/tissue/trachea?None\n",
      "Returned 56 Big GIM columns\n",
      "['GIANT_eosinophil_KnownFunctionalInteraction', 'GIANT_trachea_KnownFunctionalInteraction', 'GIANT_hematopoietic_stem_cell_ProbabilityOfFunctionalInteraction', 'GIANT_blood_plasma_ProbabilityOfFunctionalInteraction', 'GIANT_esophagus_KnownFunctionalInteraction', 'GTEx_Esophagus_Correlation', 'GTEx_Spleen_Correlation', 'GIANT_leukocyte_ProbabilityOfFunctionalInteraction', 'GIANT_basophil_KnownFunctionalInteraction', 'GIANT_dendritic_cell_ProbabilityOfFunctionalInteraction', 'GIANT_lymphocyte_KnownFunctionalInteraction', 'GIANT_tonsil_KnownFunctionalInteraction', 'GIANT_spleen_ProbabilityOfFunctionalInteraction', 'GIANT_dendritic_cell_KnownFunctionalInteraction', 'GIANT_lymphocyte_ProbabilityOfFunctionalInteraction', 'GIANT_esophagus_ProbabilityOfFunctionalInteraction', 'GIANT_blood_ProbabilityOfFunctionalInteraction', 'GIANT_tonsil_ProbabilityOfFunctionalInteraction', 'GIANT_blood_plasma_KnownFunctionalInteraction', 'GIANT_megakaryocyte_ProbabilityOfFunctionalInteraction', 'GIANT_serum_KnownFunctionalInteraction', 'GIANT_neutrophil_KnownFunctionalInteraction', 'GIANT_eosinophil_ProbabilityOfFunctionalInteraction', 'GIANT_neutrophil_ProbabilityOfFunctionalInteraction', 'GIANT_lymph_node_KnownFunctionalInteraction', 'GIANT_granulocyte_ProbabilityOfFunctionalInteraction', 'GIANT_mononuclear_phagocyte_ProbabilityOfFunctionalInteraction', 'GIANT_leukocyte_KnownFunctionalInteraction', 'GIANT_granulocyte_KnownFunctionalInteraction', 'GIANT_trachea_ProbabilityOfFunctionalInteraction', 'GIANT_spleen_KnownFunctionalInteraction', 'GIANT_serum_ProbabilityOfFunctionalInteraction', 'GIANT_basophil_ProbabilityOfFunctionalInteraction', 'GIANT_blood_KnownFunctionalInteraction', 'GTEx_Blood_Correlation', 'GIANT_t_lymphocyte_ProbabilityOfFunctionalInteraction', 'GIANT_thyroid_gland_ProbabilityOfFunctionalInteraction', 'GTEx_Thyroid_Correlation', 'GIANT_natural_killer_cell_ProbabilityOfFunctionalInteraction', 'GIANT_monocyte_ProbabilityOfFunctionalInteraction', 'GIANT_macrophage_KnownFunctionalInteraction', 'GIANT_monocyte_KnownFunctionalInteraction', 'GIANT_b_lymphocyte_ProbabilityOfFunctionalInteraction', 'GIANT_natural_killer_cell_KnownFunctionalInteraction', 'GIANT_macrophage_ProbabilityOfFunctionalInteraction', 'GIANT_hematopoietic_stem_cell_KnownFunctionalInteraction', 'GIANT_lymph_node_ProbabilityOfFunctionalInteraction', 'GIANT_blood_platelet_KnownFunctionalInteraction', 'GIANT_blood_platelet_ProbabilityOfFunctionalInteraction', 'GIANT_b_lymphocyte_KnownFunctionalInteraction', 'GIANT_t_lymphocyte_KnownFunctionalInteraction', 'GIANT_megakaryocyte_KnownFunctionalInteraction', 'GIANT_mononuclear_phagocyte_KnownFunctionalInteraction', 'GIANT_thymocyte_KnownFunctionalInteraction', 'GIANT_thyroid_gland_KnownFunctionalInteraction', 'GIANT_thymocyte_ProbabilityOfFunctionalInteraction']\n",
      "Sent: GET http://biggim.ncats.io/api/biggim/query?ids2=10036%2C10038%2C10051%2C10112%2C10198%2C1033%2C10346%2C10403%2C10459%2C10459%2C10561%2C1058%2C10592%2C10615%2C1062%2C1063%2C1070%2C10733%2C10926%2C10964%2C11004%2C11065%2C11073%2C1111%2C11130%2C11169%2C11200%2C11339%2C1164%2C1434%2C146909%2C1479%2C1633%2C1719%2C1786%2C1854%2C2072%2C2146%2C2175%2C2175%2C2176%2C2176%2C2177%2C2177%2C2178%2C2178%2C2187%2C2188%2C2189%2C2189%2C2237%2C22974%2C23234%2C23262%2C23310%2C23586%2C24137%2C2537%2C25788%2C25842%2C259266%2C26271%2C2633%2C27338%2C29028%2C29089%2C29089%2C29127%2C3014%2C3070%2C3109%2C3123%2C3148%2C3161%2C3383%2C3429%2C3430%2C3431%2C3433%2C3434%2C3437%2C3553%2C3627%2C3659%2C3832%2C3838%2C3965%2C4001%2C4061%2C4085%2C4171%2C4172%2C4173%2C4174%2C4175%2C4176%2C4288%2C4436%2C4599%2C4599%2C4600%2C4605%2C4678%2C4938%2C4939%2C4998%2C5001%2C51001%2C51053%2C5111%2C51203%2C51512%2C51514%2C51659%2C5359%2C5378%2C5427%2C5437%2C54739%2C54809%2C54892%2C55055%2C55120%2C55120%2C55143%2C55165%2C55215%2C55215%2C55319%2C55355%2C55388%2C5557%2C55601%2C55635%2C55706%2C55723%2C55839%2C55872%2C56992%2C57405%2C57697%2C580%2C5888%2C5888%2C5889%2C5889%2C5932%2C5983%2C5984%2C5985%2C6119%2C6240%2C6241%2C641%2C64108%2C64135%2C64151%2C64761%2C6491%2C6672%2C672%2C6737%2C675%2C675%2C6772%2C6790%2C684%2C699%2C701%2C7072%2C7083%2C7112%2C7124%2C7124%2C7128%2C7153%2C7157%2C7272%2C7298%2C7398%2C7411%2C7468%2C7516%2C79017%2C79682%2C79728%2C81620%2C8317%2C834%2C83461%2C83990%2C83990%2C84464%2C8458%2C8519%2C8542%2C86%2C8624%2C8638%2C8726%2C890%2C891%2C899%2C90417%2C9055%2C91543%2C9156%2C9212%2C9232%2C9246%2C9319%2C958%2C9631%2C9636%2C9700%2C9735%2C9768%2C9787%2C9833%2C9837%2C990%2C991%2C9918%2C9928&limit=1000000&ids1=10036%2C10038%2C10051%2C10112%2C10198%2C1033%2C10346%2C10403%2C10459%2C10459%2C10561%2C1058%2C10592%2C10615%2C1062%2C1063%2C1070%2C10733%2C10926%2C10964%2C11004%2C11065%2C11073%2C1111%2C11130%2C11169%2C11200%2C11339%2C1164%2C1434%2C146909%2C1479%2C1633%2C1719%2C1786%2C1854%2C2072%2C2146%2C2175%2C2175%2C2176%2C2176%2C2177%2C2177%2C2178%2C2178%2C2187%2C2188%2C2189%2C2189%2C2237%2C22974%2C23234%2C23262%2C23310%2C23586%2C24137%2C2537%2C25788%2C25842%2C259266%2C26271%2C2633%2C27338%2C29028%2C29089%2C29089%2C29127%2C3014%2C3070%2C3109%2C3123%2C3148%2C3161%2C3383%2C3429%2C3430%2C3431%2C3433%2C3434%2C3437%2C3553%2C3627%2C3659%2C3832%2C3838%2C3965%2C4001%2C4061%2C4085%2C4171%2C4172%2C4173%2C4174%2C4175%2C4176%2C4288%2C4436%2C4599%2C4599%2C4600%2C4605%2C4678%2C4938%2C4939%2C4998%2C5001%2C51001%2C51053%2C5111%2C51203%2C51512%2C51514%2C51659%2C5359%2C5378%2C5427%2C5437%2C54739%2C54809%2C54892%2C55055%2C55120%2C55120%2C55143%2C55165%2C55215%2C55215%2C55319%2C55355%2C55388%2C5557%2C55601%2C55635%2C55706%2C55723%2C55839%2C55872%2C56992%2C57405%2C57697%2C580%2C5888%2C5888%2C5889%2C5889%2C5932%2C5983%2C5984%2C5985%2C6119%2C6240%2C6241%2C641%2C64108%2C64135%2C64151%2C64761%2C6491%2C6672%2C672%2C6737%2C675%2C675%2C6772%2C6790%2C684%2C699%2C701%2C7072%2C7083%2C7112%2C7124%2C7124%2C7128%2C7153%2C7157%2C7272%2C7298%2C7398%2C7411%2C7468%2C7516%2C79017%2C79682%2C79728%2C81620%2C8317%2C834%2C83461%2C83990%2C83990%2C84464%2C8458%2C8519%2C8542%2C86%2C8624%2C8638%2C8726%2C890%2C891%2C899%2C90417%2C9055%2C91543%2C9156%2C9212%2C9232%2C9246%2C9319%2C958%2C9631%2C9636%2C9700%2C9735%2C9768%2C9787%2C9833%2C9837%2C990%2C991%2C9918%2C9928&columns=GIANT_eosinophil_KnownFunctionalInteraction%2CGIANT_trachea_KnownFunctionalInteraction%2CGIANT_hematopoietic_stem_cell_ProbabilityOfFunctionalInteraction%2CGIANT_blood_plasma_ProbabilityOfFunctionalInteraction%2CGIANT_esophagus_KnownFunctionalInteraction%2CGTEx_Esophagus_Correlation%2CGTEx_Spleen_Correlation%2CGIANT_leukocyte_ProbabilityOfFunctionalInteraction%2CGIANT_basophil_KnownFunctionalInteraction%2CGIANT_dendritic_cell_ProbabilityOfFunctionalInteraction%2CGIANT_lymphocyte_KnownFunctionalInteraction%2CGIANT_tonsil_KnownFunctionalInteraction%2CGIANT_spleen_ProbabilityOfFunctionalInteraction%2CGIANT_dendritic_cell_KnownFunctionalInteraction%2CGIANT_lymphocyte_ProbabilityOfFunctionalInteraction%2CGIANT_esophagus_ProbabilityOfFunctionalInteraction%2CGIANT_blood_ProbabilityOfFunctionalInteraction%2CGIANT_tonsil_ProbabilityOfFunctionalInteraction%2CGIANT_blood_plasma_KnownFunctionalInteraction%2CGIANT_megakaryocyte_ProbabilityOfFunctionalInteraction%2CGIANT_serum_KnownFunctionalInteraction%2CGIANT_neutrophil_KnownFunctionalInteraction%2CGIANT_eosinophil_ProbabilityOfFunctionalInteraction%2CGIANT_neutrophil_ProbabilityOfFunctionalInteraction%2CGIANT_lymph_node_KnownFunctionalInteraction%2CGIANT_granulocyte_ProbabilityOfFunctionalInteraction%2CGIANT_mononuclear_phagocyte_ProbabilityOfFunctionalInteraction%2CGIANT_leukocyte_KnownFunctionalInteraction%2CGIANT_granulocyte_KnownFunctionalInteraction%2CGIANT_trachea_ProbabilityOfFunctionalInteraction%2CGIANT_spleen_KnownFunctionalInteraction%2CGIANT_serum_ProbabilityOfFunctionalInteraction%2CGIANT_basophil_ProbabilityOfFunctionalInteraction%2CGIANT_blood_KnownFunctionalInteraction%2CGTEx_Blood_Correlation%2CGIANT_t_lymphocyte_ProbabilityOfFunctionalInteraction%2CGIANT_thyroid_gland_ProbabilityOfFunctionalInteraction%2CGTEx_Thyroid_Correlation%2CGIANT_natural_killer_cell_ProbabilityOfFunctionalInteraction%2CGIANT_monocyte_ProbabilityOfFunctionalInteraction%2CGIANT_macrophage_KnownFunctionalInteraction%2CGIANT_monocyte_KnownFunctionalInteraction%2CGIANT_b_lymphocyte_ProbabilityOfFunctionalInteraction%2CGIANT_natural_killer_cell_KnownFunctionalInteraction%2CGIANT_macrophage_ProbabilityOfFunctionalInteraction%2CGIANT_hematopoietic_stem_cell_KnownFunctionalInteraction%2CGIANT_lymph_node_ProbabilityOfFunctionalInteraction%2CGIANT_blood_platelet_KnownFunctionalInteraction%2CGIANT_blood_platelet_ProbabilityOfFunctionalInteraction%2CGIANT_b_lymphocyte_KnownFunctionalInteraction%2CGIANT_t_lymphocyte_KnownFunctionalInteraction%2CGIANT_megakaryocyte_KnownFunctionalInteraction%2CGIANT_mononuclear_phagocyte_KnownFunctionalInteraction%2CGIANT_thymocyte_KnownFunctionalInteraction%2CGIANT_thyroid_gland_KnownFunctionalInteraction%2CGIANT_thymocyte_ProbabilityOfFunctionalInteraction&average_columns=True&table=BigGIM_70_v1&restriction_gt=GIANT_eosinophil_KnownFunctionalInteraction%2C-2.0%2CGIANT_trachea_KnownFunctionalInteraction%2C-2.0%2CGIANT_hematopoietic_stem_cell_ProbabilityOfFunctionalInteraction%2C-2.0%2CGIANT_blood_plasma_ProbabilityOfFunctionalInteraction%2C-2.0%2CGIANT_esophagus_KnownFunctionalInteraction%2C-2.0%2CGTEx_Esophagus_Correlation%2C-2.0%2CGTEx_Spleen_Correlation%2C-2.0%2CGIANT_leukocyte_ProbabilityOfFunctionalInteraction%2C-2.0%2CGIANT_basophil_KnownFunctionalInteraction%2C-2.0%2CGIANT_dendritic_cell_ProbabilityOfFunctionalInteraction%2C-2.0%2CGIANT_lymphocyte_KnownFunctionalInteraction%2C-2.0%2CGIANT_tonsil_KnownFunctionalInteraction%2C-2.0%2CGIANT_spleen_ProbabilityOfFunctionalInteraction%2C-2.0%2CGIANT_dendritic_cell_KnownFunctionalInteraction%2C-2.0%2CGIANT_lymphocyte_ProbabilityOfFunctionalInteraction%2C-2.0%2CGIANT_esophagus_ProbabilityOfFunctionalInteraction%2C-2.0%2CGIANT_blood_ProbabilityOfFunctionalInteraction%2C-2.0%2CGIANT_tonsil_ProbabilityOfFunctionalInteraction%2C-2.0%2CGIANT_blood_plasma_KnownFunctionalInteraction%2C-2.0%2CGIANT_megakaryocyte_ProbabilityOfFunctionalInteraction%2C-2.0%2CGIANT_serum_KnownFunctionalInteraction%2C-2.0%2CGIANT_neutrophil_KnownFunctionalInteraction%2C-2.0%2CGIANT_eosinophil_ProbabilityOfFunctionalInteraction%2C-2.0%2CGIANT_neutrophil_ProbabilityOfFunctionalInteraction%2C-2.0%2CGIANT_lymph_node_KnownFunctionalInteraction%2C-2.0%2CGIANT_granulocyte_ProbabilityOfFunctionalInteraction%2C-2.0%2CGIANT_mononuclear_phagocyte_ProbabilityOfFunctionalInteraction%2C-2.0%2CGIANT_leukocyte_KnownFunctionalInteraction%2C-2.0%2CGIANT_granulocyte_KnownFunctionalInteraction%2C-2.0%2CGIANT_trachea_ProbabilityOfFunctionalInteraction%2C-2.0%2CGIANT_spleen_KnownFunctionalInteraction%2C-2.0%2CGIANT_serum_ProbabilityOfFunctionalInteraction%2C-2.0%2CGIANT_basophil_ProbabilityOfFunctionalInteraction%2C-2.0%2CGIANT_blood_KnownFunctionalInteraction%2C-2.0%2CGTEx_Blood_Correlation%2C-2.0%2CGIANT_t_lymphocyte_ProbabilityOfFunctionalInteraction%2C-2.0%2CGIANT_thyroid_gland_ProbabilityOfFunctionalInteraction%2C-2.0%2CGTEx_Thyroid_Correlation%2C-2.0%2CGIANT_natural_killer_cell_ProbabilityOfFunctionalInteraction%2C-2.0%2CGIANT_monocyte_ProbabilityOfFunctionalInteraction%2C-2.0%2CGIANT_macrophage_KnownFunctionalInteraction%2C-2.0%2CGIANT_monocyte_KnownFunctionalInteraction%2C-2.0%2CGIANT_b_lymphocyte_ProbabilityOfFunctionalInteraction%2C-2.0%2CGIANT_natural_killer_cell_KnownFunctionalInteraction%2C-2.0%2CGIANT_macrophage_ProbabilityOfFunctionalInteraction%2C-2.0%2CGIANT_hematopoietic_stem_cell_KnownFunctionalInteraction%2C-2.0%2CGIANT_lymph_node_ProbabilityOfFunctionalInteraction%2C-2.0%2CGIANT_blood_platelet_KnownFunctionalInteraction%2C-2.0%2CGIANT_blood_platelet_ProbabilityOfFunctionalInteraction%2C-2.0%2CGIANT_b_lymphocyte_KnownFunctionalInteraction%2C-2.0%2CGIANT_t_lymphocyte_KnownFunctionalInteraction%2C-2.0%2CGIANT_megakaryocyte_KnownFunctionalInteraction%2C-2.0%2CGIANT_mononuclear_phagocyte_KnownFunctionalInteraction%2C-2.0%2CGIANT_thymocyte_KnownFunctionalInteraction%2C-2.0%2CGIANT_thyroid_gland_KnownFunctionalInteraction%2C-2.0%2CGIANT_thymocyte_ProbabilityOfFunctionalInteraction%2C-2.0\n",
      "{\n",
      "  \"request_id\": \"eab8240c-5244-4c71-835e-bc7b868754ac\",\n",
      "  \"status\": \"submitted\"\n",
      "}\n",
      "Sent: GET http://biggim.ncats.io/api/biggim/status/eab8240c-5244-4c71-835e-bc7b868754ac?None\n",
      "{\n",
      "  \"request_id\": \"eab8240c-5244-4c71-835e-bc7b868754ac\",\n",
      "  \"message\": \"Query job is running.\",\n",
      "  \"status\": \"running\"\n",
      "}\n",
      "Checking again\n",
      "Sent: GET http://biggim.ncats.io/api/biggim/status/eab8240c-5244-4c71-835e-bc7b868754ac?None\n",
      "{\n",
      "  \"request_id\": \"eab8240c-5244-4c71-835e-bc7b868754ac\",\n",
      "  \"message\": \"Query job is running.\",\n",
      "  \"status\": \"running\"\n",
      "}\n",
      "Checking again\n",
      "Sent: GET http://biggim.ncats.io/api/biggim/status/eab8240c-5244-4c71-835e-bc7b868754ac?None\n",
      "{\n",
      "  \"request_id\": \"eab8240c-5244-4c71-835e-bc7b868754ac\",\n",
      "  \"message\": \"Query job is running.\",\n",
      "  \"status\": \"running\"\n",
      "}\n",
      "Checking again\n",
      "Sent: GET http://biggim.ncats.io/api/biggim/status/eab8240c-5244-4c71-835e-bc7b868754ac?None\n",
      "{\n",
      "  \"request_id\": \"eab8240c-5244-4c71-835e-bc7b868754ac\",\n",
      "  \"message\": \"Query job is running.\",\n",
      "  \"status\": \"running\"\n",
      "}\n",
      "Checking again\n",
      "Sent: GET http://biggim.ncats.io/api/biggim/status/eab8240c-5244-4c71-835e-bc7b868754ac?None\n",
      "{\n",
      "  \"request_id\": \"eab8240c-5244-4c71-835e-bc7b868754ac\",\n",
      "  \"message\": \"Extraction job is running.\",\n",
      "  \"status\": \"running\"\n",
      "}\n",
      "Checking again\n",
      "Sent: GET http://biggim.ncats.io/api/biggim/status/eab8240c-5244-4c71-835e-bc7b868754ac?None\n",
      "{\n",
      "  \"size\": \"676.33 KB\",\n",
      "  \"request_uri\": [\n",
      "    \"https://storage.googleapis.com/ncats_bigquery_results/eab8240c-5244-4c71-835e-bc7b868754ac000000000000.csv\"\n",
      "  ],\n",
      "  \"processed_data\": \"21.36 GB\",\n",
      "  \"request_id\": \"eab8240c-5244-4c71-835e-bc7b868754ac\",\n",
      "  \"status\": \"complete\",\n",
      "  \"rows\": 15292\n",
      "}\n"
     ]
    }
   ],
   "source": [
    "df = call_biggim(newgenes, tissues, average_columns=True, query_id2=newgenes)"
   ]
  },
  {
   "cell_type": "code",
   "execution_count": 7,
   "metadata": {
    "collapsed": false,
    "deletable": true,
    "editable": true
   },
   "outputs": [
    {
     "name": "stdout",
     "output_type": "stream",
     "text": [
      "        Gene1  Gene2      mean\n",
      "0       83990   9055  0.172713\n",
      "1        8638   5359  0.235809\n",
      "2       55055  24137  0.210224\n",
      "3        4436   2177  0.142053\n",
      "4        8726   6772  0.153772\n",
      "5       23262    891  0.066324\n",
      "6        7157   3109  0.072104\n",
      "7        9232    991  0.379232\n",
      "8       25788   6241  0.255296\n",
      "9         899    890  0.355783\n",
      "10       9246   6672  0.348175\n",
      "11       9700   1062  0.248130\n",
      "12       4176   2237  0.277309\n",
      "13      25842    891  0.179842\n",
      "14       9232    890  0.368362\n",
      "15      64151  10733  0.333228\n",
      "16      55143    990  0.313073\n",
      "17       2176   1479  0.050917\n",
      "18      10561   1070  0.064060\n",
      "19      24137   5427  0.327218\n",
      "20      51512   5557  0.288119\n",
      "21      55723   2188  0.035606\n",
      "22       6790   3965  0.041469\n",
      "23     146909   4998  0.220369\n",
      "24       3014   2237  0.278706\n",
      "25      10561  10346  0.371767\n",
      "26       4172    991  0.320819\n",
      "27       8624   5932  0.245307\n",
      "28     146909   5437  0.084050\n",
      "29       9700   8638  0.054235\n",
      "...       ...    ...       ...\n",
      "15262    7112   4288  0.311593\n",
      "15263  259266  10733  0.351451\n",
      "15264   10038   8624  0.183525\n",
      "15265   55055  51514  0.338138\n",
      "15266    9735   5984  0.290624\n",
      "15267    9636   2537  0.355312\n",
      "15268   25788   8458  0.163121\n",
      "15269    6240   2189  0.263615\n",
      "15270   55055  10403  0.302402\n",
      "15271   64151    899  0.310894\n",
      "15272   25842   4172  0.137419\n",
      "15273    9918   1786  0.268297\n",
      "15274   55215  25788  0.216330\n",
      "15275   55215   9319  0.264851\n",
      "15276   29028    890  0.338162\n",
      "15277   83461   9700  0.290199\n",
      "15278  146909   4172  0.192286\n",
      "15279   26271   7083  0.314105\n",
      "15280   55143   9918  0.260340\n",
      "15281   54809   9246  0.244131\n",
      "15282   79682  64761  0.081341\n",
      "15283   11339   4605  0.181688\n",
      "15284   64151   9928  0.342624\n",
      "15285   10926   2072  0.044938\n",
      "15286   25842   3832  0.230214\n",
      "15287    7157   2188  0.086423\n",
      "15288     991    675  0.213468\n",
      "15289   51053  10198  0.252372\n",
      "15290   23262   1786  0.062425\n",
      "15291   55635   9055  0.227088\n",
      "\n",
      "[15292 rows x 3 columns]\n"
     ]
    }
   ],
   "source": [
    "print(df)\n"
   ]
  },
  {
   "cell_type": "markdown",
   "metadata": {
    "deletable": true,
    "editable": true
   },
   "source": [
    "### Create DDOT"
   ]
  },
  {
   "cell_type": "code",
   "execution_count": 8,
   "metadata": {
    "collapsed": false,
    "deletable": true,
    "editable": true
   },
   "outputs": [],
   "source": [
    "ddot = DDOT_Client.from_dataframe(df)"
   ]
  },
  {
   "cell_type": "code",
   "execution_count": 12,
   "metadata": {
    "collapsed": false,
    "deletable": true,
    "editable": true
   },
   "outputs": [
    {
     "data": {
      "text/plain": [
       "'http://hiview-test.ucsd.edu/64e86f23-410f-11e9-9fc6-0660b7976219?type=test&server=http://dev2.ndexbio.org'"
      ]
     },
     "execution_count": 12,
     "metadata": {},
     "output_type": "execute_result"
    }
   ],
   "source": [
    "ddot.call(alpha=0.03, beta=0.8)\n",
    "ddot.wait_for_hiview_url()"
   ]
  },
  {
   "cell_type": "code",
   "execution_count": null,
   "metadata": {
    "collapsed": true,
    "deletable": true,
    "editable": true
   },
   "outputs": [],
   "source": []
  }
 ],
 "metadata": {
  "kernelspec": {
   "display_name": "Python 3",
   "language": "python",
   "name": "python3"
  },
  "language_info": {
   "codemirror_mode": {
    "name": "ipython",
    "version": 3
   },
   "file_extension": ".py",
   "mimetype": "text/x-python",
   "name": "python",
   "nbconvert_exporter": "python",
   "pygments_lexer": "ipython3",
   "version": "3.7.1"
  }
 },
 "nbformat": 4,
 "nbformat_minor": 2
}
