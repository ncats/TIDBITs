{
 "cells": [
  {
   "cell_type": "markdown",
   "metadata": {
    "deletable": true,
    "editable": true
   },
   "source": [
    "# Workflow 8 - FA\n",
    "\n",
    "This notebook implements all three modeuls of Workflow 8 for Fanconi Anemia. See <a href=\"https://docs.google.com/presentation/d/1IkAzjSrOMzOLx5z8GqRVKmVd1GKrpIEb_xF4g4RlI1U/edit?usp=sharing\">here</a> for an overview of Workflow 8.  \n",
    "\n",
    "Notebook written by: Samson Fong, John Earls, Theo Knijnenburg, Chris Churas and Aaron Gary. "
   ]
  },
  {
   "cell_type": "markdown",
   "metadata": {
    "deletable": true,
    "editable": true
   },
   "source": [
    "## Libraries and such"
   ]
  },
  {
   "cell_type": "code",
   "execution_count": 13,
   "metadata": {
    "collapsed": false,
    "deletable": true,
    "editable": true
   },
   "outputs": [
    {
     "name": "stdout",
     "output_type": "stream",
     "text": [
      "The autoreload extension is already loaded. To reload it, use:\n",
      "  %reload_ext autoreload\n"
     ]
    }
   ],
   "source": [
    "%load_ext autoreload \n",
    "%autoreload 2\n",
    "\n",
    "import json\n",
    "from pprint import pprint\n",
    "from wf8_module1 import doid_to_genes_and_tissues, doid_to_genes_direct\n",
    "from wf8_module2 import call_biggim\n",
    "import numpy as np\n",
    "import pandas as pd\n",
    "import time\n",
    "import sys\n",
    "sys.path.insert(0, \"wf8\")\n",
    "from wf8_module3 import DDOT_Client"
   ]
  },
  {
   "cell_type": "markdown",
   "metadata": {
    "deletable": true,
    "editable": true
   },
   "source": [
    "## Module 1 - Getting FA genes and tissues"
   ]
  },
  {
   "cell_type": "code",
   "execution_count": 14,
   "metadata": {
    "collapsed": false,
    "deletable": true,
    "editable": true,
    "scrolled": true
   },
   "outputs": [
    {
     "name": "stderr",
     "output_type": "stream",
     "text": [
      "INFO:root:Geting HP ids from DOID\n"
     ]
    },
    {
     "name": "stdout",
     "output_type": "stream",
     "text": [
      "http://biothings.io/explorer/api/v2/directinput2output?input_prefix=doid&output_prefix=ncbigene&input_value=13636&format=translator\n",
      "Returned 22 genes\n"
     ]
    }
   ],
   "source": [
    "genes = doid_to_genes_direct('13636')"
   ]
  },
  {
   "cell_type": "code",
   "execution_count": 5,
   "metadata": {
    "collapsed": false,
    "deletable": true,
    "editable": true,
    "scrolled": true
   },
   "outputs": [
    {
     "name": "stderr",
     "output_type": "stream",
     "text": [
      "INFO:root:Geting HP ids from DOID\n"
     ]
    },
    {
     "name": "stdout",
     "output_type": "stream",
     "text": [
      "http://biothings.io/explorer/api/v2/directinput2output?input_prefix=doid&output_prefix=ncbigene&input_value=13636&format=translator\n",
      "Returned 22 genes\n"
     ]
    }
   ],
   "source": [
    "genes,tissues = doid_to_genes_and_tissues('13636',direct=True,N=1000)\n",
    "#will return 20 tissues, this will take a while"
   ]
  },
  {
   "cell_type": "code",
   "execution_count": 15,
   "metadata": {
    "collapsed": false,
    "deletable": true,
    "editable": true,
    "scrolled": true
   },
   "outputs": [
    {
     "name": "stdout",
     "output_type": "stream",
     "text": [
      "['animal', 'aorta', 'artery', 'bone', 'brain_ventricle', 'cardiovascular_system', 'cornea', 'duodenum', 'esophagus', 'gonad', 'head', 'heart', 'hematopoietic_system', 'lens', 'liver', 'neck', 'testis', 'trachea', 'umbilical_cord', 'uterus']\n",
      "20\n",
      "['esophagus', 'hematopoietic_system', 'neck', 'trachea']\n"
     ]
    }
   ],
   "source": [
    "#here are the 20 tissues; Maureen selected 4 from thos\n",
    "tissues = ['animal', 'aorta', 'artery', 'bone', 'brain_ventricle', 'cardiovascular_system', 'cornea', 'duodenum', 'esophagus', 'gonad', 'head', 'heart', 'hematopoietic_system', 'lens', 'liver', 'neck', 'testis', 'trachea', 'umbilical_cord', 'uterus']\n",
    "print(tissues)\n",
    "print(len(tissues))\n",
    "tissues = ['esophagus','hematopoietic_system', 'neck', 'trachea']\n",
    "print(tissues)"
   ]
  },
  {
   "cell_type": "markdown",
   "metadata": {},
   "source": [
    "## Module 2 - Getting FA interacting genes\n",
    "We ask for N=200 new genes."
   ]
  },
  {
   "cell_type": "code",
   "execution_count": 16,
   "metadata": {
    "collapsed": false,
    "deletable": true,
    "editable": true,
    "scrolled": true
   },
   "outputs": [
    {
     "name": "stdout",
     "output_type": "stream",
     "text": [
      "Sent: GET http://biggim.ncats.io/api/metadata/tissue/esophagus?None\n",
      "Sent: GET http://biggim.ncats.io/api/metadata/tissue/hematopoietic_system?None\n",
      "Sent: GET http://biggim.ncats.io/api/metadata/tissue/neck?None\n",
      "Sent: GET http://biggim.ncats.io/api/metadata/tissue/trachea?None\n",
      "Returned 56 Big GIM columns\n",
      "['GIANT_trachea_KnownFunctionalInteraction', 'GIANT_esophagus_ProbabilityOfFunctionalInteraction', 'GIANT_thyroid_gland_KnownFunctionalInteraction', 'GIANT_spleen_KnownFunctionalInteraction', 'GIANT_leukocyte_KnownFunctionalInteraction', 'GIANT_serum_KnownFunctionalInteraction', 'GIANT_macrophage_ProbabilityOfFunctionalInteraction', 'GIANT_tonsil_ProbabilityOfFunctionalInteraction', 'GIANT_b_lymphocyte_KnownFunctionalInteraction', 'GIANT_hematopoietic_stem_cell_KnownFunctionalInteraction', 'GIANT_thymocyte_KnownFunctionalInteraction', 'GIANT_megakaryocyte_ProbabilityOfFunctionalInteraction', 'GIANT_granulocyte_ProbabilityOfFunctionalInteraction', 'GIANT_mononuclear_phagocyte_ProbabilityOfFunctionalInteraction', 'GIANT_neutrophil_ProbabilityOfFunctionalInteraction', 'GIANT_spleen_ProbabilityOfFunctionalInteraction', 'GIANT_blood_platelet_KnownFunctionalInteraction', 'GIANT_natural_killer_cell_ProbabilityOfFunctionalInteraction', 'GIANT_t_lymphocyte_KnownFunctionalInteraction', 'GTEx_Esophagus_Correlation', 'GIANT_t_lymphocyte_ProbabilityOfFunctionalInteraction', 'GIANT_neutrophil_KnownFunctionalInteraction', 'GTEx_Thyroid_Correlation', 'GIANT_macrophage_KnownFunctionalInteraction', 'GIANT_blood_platelet_ProbabilityOfFunctionalInteraction', 'GIANT_monocyte_KnownFunctionalInteraction', 'GIANT_serum_ProbabilityOfFunctionalInteraction', 'GIANT_natural_killer_cell_KnownFunctionalInteraction', 'GIANT_trachea_ProbabilityOfFunctionalInteraction', 'GIANT_megakaryocyte_KnownFunctionalInteraction', 'GIANT_hematopoietic_stem_cell_ProbabilityOfFunctionalInteraction', 'GIANT_b_lymphocyte_ProbabilityOfFunctionalInteraction', 'GIANT_tonsil_KnownFunctionalInteraction', 'GIANT_monocyte_ProbabilityOfFunctionalInteraction', 'GIANT_blood_plasma_KnownFunctionalInteraction', 'GIANT_blood_KnownFunctionalInteraction', 'GIANT_lymphocyte_KnownFunctionalInteraction', 'GIANT_thymocyte_ProbabilityOfFunctionalInteraction', 'GIANT_basophil_ProbabilityOfFunctionalInteraction', 'GIANT_leukocyte_ProbabilityOfFunctionalInteraction', 'GIANT_thyroid_gland_ProbabilityOfFunctionalInteraction', 'GIANT_dendritic_cell_ProbabilityOfFunctionalInteraction', 'GIANT_granulocyte_KnownFunctionalInteraction', 'GTEx_Spleen_Correlation', 'GIANT_basophil_KnownFunctionalInteraction', 'GIANT_mononuclear_phagocyte_KnownFunctionalInteraction', 'GTEx_Blood_Correlation', 'GIANT_eosinophil_ProbabilityOfFunctionalInteraction', 'GIANT_blood_ProbabilityOfFunctionalInteraction', 'GIANT_dendritic_cell_KnownFunctionalInteraction', 'GIANT_blood_plasma_ProbabilityOfFunctionalInteraction', 'GIANT_lymph_node_KnownFunctionalInteraction', 'GIANT_esophagus_KnownFunctionalInteraction', 'GIANT_eosinophil_KnownFunctionalInteraction', 'GIANT_lymph_node_ProbabilityOfFunctionalInteraction', 'GIANT_lymphocyte_ProbabilityOfFunctionalInteraction']\n",
      "Sent: GET http://biggim.ncats.io/api/biggim/query?restriction_gt=GIANT_trachea_KnownFunctionalInteraction%2C-2.0%2CGIANT_esophagus_ProbabilityOfFunctionalInteraction%2C-2.0%2CGIANT_thyroid_gland_KnownFunctionalInteraction%2C-2.0%2CGIANT_spleen_KnownFunctionalInteraction%2C-2.0%2CGIANT_leukocyte_KnownFunctionalInteraction%2C-2.0%2CGIANT_serum_KnownFunctionalInteraction%2C-2.0%2CGIANT_macrophage_ProbabilityOfFunctionalInteraction%2C-2.0%2CGIANT_tonsil_ProbabilityOfFunctionalInteraction%2C-2.0%2CGIANT_b_lymphocyte_KnownFunctionalInteraction%2C-2.0%2CGIANT_hematopoietic_stem_cell_KnownFunctionalInteraction%2C-2.0%2CGIANT_thymocyte_KnownFunctionalInteraction%2C-2.0%2CGIANT_megakaryocyte_ProbabilityOfFunctionalInteraction%2C-2.0%2CGIANT_granulocyte_ProbabilityOfFunctionalInteraction%2C-2.0%2CGIANT_mononuclear_phagocyte_ProbabilityOfFunctionalInteraction%2C-2.0%2CGIANT_neutrophil_ProbabilityOfFunctionalInteraction%2C-2.0%2CGIANT_spleen_ProbabilityOfFunctionalInteraction%2C-2.0%2CGIANT_blood_platelet_KnownFunctionalInteraction%2C-2.0%2CGIANT_natural_killer_cell_ProbabilityOfFunctionalInteraction%2C-2.0%2CGIANT_t_lymphocyte_KnownFunctionalInteraction%2C-2.0%2CGTEx_Esophagus_Correlation%2C-2.0%2CGIANT_t_lymphocyte_ProbabilityOfFunctionalInteraction%2C-2.0%2CGIANT_neutrophil_KnownFunctionalInteraction%2C-2.0%2CGTEx_Thyroid_Correlation%2C-2.0%2CGIANT_macrophage_KnownFunctionalInteraction%2C-2.0%2CGIANT_blood_platelet_ProbabilityOfFunctionalInteraction%2C-2.0%2CGIANT_monocyte_KnownFunctionalInteraction%2C-2.0%2CGIANT_serum_ProbabilityOfFunctionalInteraction%2C-2.0%2CGIANT_natural_killer_cell_KnownFunctionalInteraction%2C-2.0%2CGIANT_trachea_ProbabilityOfFunctionalInteraction%2C-2.0%2CGIANT_megakaryocyte_KnownFunctionalInteraction%2C-2.0%2CGIANT_hematopoietic_stem_cell_ProbabilityOfFunctionalInteraction%2C-2.0%2CGIANT_b_lymphocyte_ProbabilityOfFunctionalInteraction%2C-2.0%2CGIANT_tonsil_KnownFunctionalInteraction%2C-2.0%2CGIANT_monocyte_ProbabilityOfFunctionalInteraction%2C-2.0%2CGIANT_blood_plasma_KnownFunctionalInteraction%2C-2.0%2CGIANT_blood_KnownFunctionalInteraction%2C-2.0%2CGIANT_lymphocyte_KnownFunctionalInteraction%2C-2.0%2CGIANT_thymocyte_ProbabilityOfFunctionalInteraction%2C-2.0%2CGIANT_basophil_ProbabilityOfFunctionalInteraction%2C-2.0%2CGIANT_leukocyte_ProbabilityOfFunctionalInteraction%2C-2.0%2CGIANT_thyroid_gland_ProbabilityOfFunctionalInteraction%2C-2.0%2CGIANT_dendritic_cell_ProbabilityOfFunctionalInteraction%2C-2.0%2CGIANT_granulocyte_KnownFunctionalInteraction%2C-2.0%2CGTEx_Spleen_Correlation%2C-2.0%2CGIANT_basophil_KnownFunctionalInteraction%2C-2.0%2CGIANT_mononuclear_phagocyte_KnownFunctionalInteraction%2C-2.0%2CGTEx_Blood_Correlation%2C-2.0%2CGIANT_eosinophil_ProbabilityOfFunctionalInteraction%2C-2.0%2CGIANT_blood_ProbabilityOfFunctionalInteraction%2C-2.0%2CGIANT_dendritic_cell_KnownFunctionalInteraction%2C-2.0%2CGIANT_blood_plasma_ProbabilityOfFunctionalInteraction%2C-2.0%2CGIANT_lymph_node_KnownFunctionalInteraction%2C-2.0%2CGIANT_esophagus_KnownFunctionalInteraction%2C-2.0%2CGIANT_eosinophil_KnownFunctionalInteraction%2C-2.0%2CGIANT_lymph_node_ProbabilityOfFunctionalInteraction%2C-2.0%2CGIANT_lymphocyte_ProbabilityOfFunctionalInteraction%2C-2.0&columns=GIANT_trachea_KnownFunctionalInteraction%2CGIANT_esophagus_ProbabilityOfFunctionalInteraction%2CGIANT_thyroid_gland_KnownFunctionalInteraction%2CGIANT_spleen_KnownFunctionalInteraction%2CGIANT_leukocyte_KnownFunctionalInteraction%2CGIANT_serum_KnownFunctionalInteraction%2CGIANT_macrophage_ProbabilityOfFunctionalInteraction%2CGIANT_tonsil_ProbabilityOfFunctionalInteraction%2CGIANT_b_lymphocyte_KnownFunctionalInteraction%2CGIANT_hematopoietic_stem_cell_KnownFunctionalInteraction%2CGIANT_thymocyte_KnownFunctionalInteraction%2CGIANT_megakaryocyte_ProbabilityOfFunctionalInteraction%2CGIANT_granulocyte_ProbabilityOfFunctionalInteraction%2CGIANT_mononuclear_phagocyte_ProbabilityOfFunctionalInteraction%2CGIANT_neutrophil_ProbabilityOfFunctionalInteraction%2CGIANT_spleen_ProbabilityOfFunctionalInteraction%2CGIANT_blood_platelet_KnownFunctionalInteraction%2CGIANT_natural_killer_cell_ProbabilityOfFunctionalInteraction%2CGIANT_t_lymphocyte_KnownFunctionalInteraction%2CGTEx_Esophagus_Correlation%2CGIANT_t_lymphocyte_ProbabilityOfFunctionalInteraction%2CGIANT_neutrophil_KnownFunctionalInteraction%2CGTEx_Thyroid_Correlation%2CGIANT_macrophage_KnownFunctionalInteraction%2CGIANT_blood_platelet_ProbabilityOfFunctionalInteraction%2CGIANT_monocyte_KnownFunctionalInteraction%2CGIANT_serum_ProbabilityOfFunctionalInteraction%2CGIANT_natural_killer_cell_KnownFunctionalInteraction%2CGIANT_trachea_ProbabilityOfFunctionalInteraction%2CGIANT_megakaryocyte_KnownFunctionalInteraction%2CGIANT_hematopoietic_stem_cell_ProbabilityOfFunctionalInteraction%2CGIANT_b_lymphocyte_ProbabilityOfFunctionalInteraction%2CGIANT_tonsil_KnownFunctionalInteraction%2CGIANT_monocyte_ProbabilityOfFunctionalInteraction%2CGIANT_blood_plasma_KnownFunctionalInteraction%2CGIANT_blood_KnownFunctionalInteraction%2CGIANT_lymphocyte_KnownFunctionalInteraction%2CGIANT_thymocyte_ProbabilityOfFunctionalInteraction%2CGIANT_basophil_ProbabilityOfFunctionalInteraction%2CGIANT_leukocyte_ProbabilityOfFunctionalInteraction%2CGIANT_thyroid_gland_ProbabilityOfFunctionalInteraction%2CGIANT_dendritic_cell_ProbabilityOfFunctionalInteraction%2CGIANT_granulocyte_KnownFunctionalInteraction%2CGTEx_Spleen_Correlation%2CGIANT_basophil_KnownFunctionalInteraction%2CGIANT_mononuclear_phagocyte_KnownFunctionalInteraction%2CGTEx_Blood_Correlation%2CGIANT_eosinophil_ProbabilityOfFunctionalInteraction%2CGIANT_blood_ProbabilityOfFunctionalInteraction%2CGIANT_dendritic_cell_KnownFunctionalInteraction%2CGIANT_blood_plasma_ProbabilityOfFunctionalInteraction%2CGIANT_lymph_node_KnownFunctionalInteraction%2CGIANT_esophagus_KnownFunctionalInteraction%2CGIANT_eosinophil_KnownFunctionalInteraction%2CGIANT_lymph_node_ProbabilityOfFunctionalInteraction%2CGIANT_lymphocyte_ProbabilityOfFunctionalInteraction&limit=1000000&table=BigGIM_70_v1&ids1=5888%2C2189%2C55215%2C10459%2C57697%2C675%2C2072%2C2188%2C83990%2C7124%2C7516%2C79728%2C4599%2C2177%2C55120%2C29089%2C2178%2C5889%2C2175%2C84464%2C2187%2C2176&average_columns=True\n",
      "{\n",
      "  \"request_id\": \"0eeba3a8-994d-4b24-9c67-bce44cdcbb6e\",\n",
      "  \"status\": \"submitted\"\n",
      "}\n",
      "Sent: GET http://biggim.ncats.io/api/biggim/status/0eeba3a8-994d-4b24-9c67-bce44cdcbb6e?None\n",
      "{\n",
      "  \"request_uri\": [\n",
      "    \"https://storage.googleapis.com/ncats_bigquery_results/0eeba3a8-994d-4b24-9c67-bce44cdcbb6e000000000000.csv\"\n",
      "  ],\n",
      "  \"size\": \"6.12 MB\",\n",
      "  \"processed_data\": \"0B\",\n",
      "  \"rows\": 137341,\n",
      "  \"status\": \"complete\",\n",
      "  \"request_id\": \"0eeba3a8-994d-4b24-9c67-bce44cdcbb6e\"\n",
      "}\n",
      "         Gene1  Gene2      mean\n",
      "0        84464  23354  0.084812\n",
      "1        57697    322  0.000872\n",
      "2        10459   6927  0.033787\n",
      "3        55215   5332  0.056363\n",
      "4        57697  10298  0.040383\n",
      "5        84464  83856  0.062737\n",
      "6        84464   2230  0.031605\n",
      "7        55215  23492 -0.000954\n",
      "8         5889   4646  0.012994\n",
      "9         2176   2166  0.030518\n",
      "10       83990   2631  0.010705\n",
      "11       79728  55170  0.088198\n",
      "12       83990    572 -0.005014\n",
      "13       55120   6504  0.053099\n",
      "14       84464  63925  0.069087\n",
      "15       84464  83889  0.047948\n",
      "16       83990  54801  0.097157\n",
      "17       29089   2150  0.023305\n",
      "18        7516   6240  0.067369\n",
      "19       57697  22800  0.035999\n",
      "20       84464   6120  0.053116\n",
      "21       79728   2038  0.000467\n",
      "22       83990  57121  0.049337\n",
      "23       55120   1286  0.033993\n",
      "24       84464  54677  0.044477\n",
      "25       83990   4051  0.039256\n",
      "26       55120  54522  0.062739\n",
      "27        2175    662  0.059869\n",
      "28       84464   1794  0.054028\n",
      "29       55120   5074  0.067606\n",
      "...        ...    ...       ...\n",
      "137311  112752   4599  0.037483\n",
      "137312    9397   4599  0.036306\n",
      "137313   83695   4599  0.058164\n",
      "137314   85012   4599  0.041878\n",
      "137315  114898   4599  0.035257\n",
      "137316    5822   4599  0.052254\n",
      "137317   54739   4599  0.331678\n",
      "137318   55222   4599  0.057451\n",
      "137319    4938   4599  0.355721\n",
      "137320   79954   4599  0.050226\n",
      "137321   23166   4599  0.064771\n",
      "137322   85395   4599  0.030049\n",
      "137323  115557   4599  0.037577\n",
      "137324    6300   4599  0.030114\n",
      "137325    7430   4599  0.055457\n",
      "137326   65979   4599  0.063923\n",
      "137327    7371   4599  0.026301\n",
      "137328  140564   4599  0.045809\n",
      "137329   10044   4599  0.046063\n",
      "137330   55734   4599  0.052977\n",
      "137331   79879   4599  0.050481\n",
      "137332   57559   4599  0.046258\n",
      "137333    8607   4599  0.052171\n",
      "137334  474343   4599  0.041169\n",
      "137335  114786   4599  0.034459\n",
      "137336    7701   4599  0.053937\n",
      "137337   50650   4599  0.075790\n",
      "137338   55689   4599  0.042373\n",
      "137339   84102   4599  0.041423\n",
      "137340   10172   4599  0.036928\n",
      "\n",
      "[137341 rows x 3 columns]\n",
      "         index  Gene1  Gene2      mean\n",
      "0       122240   5888    675  0.493868\n",
      "1        76960   2189   2175  0.480905\n",
      "2        22220  83990    672  0.454132\n",
      "3        33348   5888    641  0.449780\n",
      "4        94529   2189   2178  0.446432\n",
      "5       125528   2177    675  0.434108\n",
      "6         8034   5888    672  0.428837\n",
      "7        73126   2178   2175  0.423257\n",
      "8        12775   2175    672  0.410507\n",
      "9        43181   7153   5888  0.400558\n",
      "10       88128   2178   2177  0.391341\n",
      "11       24235   4599   3430  0.387923\n",
      "12        8869   5888   4175  0.385983\n",
      "13       21638   5888   4173  0.384679\n",
      "14       79492   2178   2176  0.384392\n",
      "15       31071   4599   3434  0.383398\n",
      "16       18547    675    672  0.380543\n",
      "17       24119   2189    890  0.379373\n",
      "18      128305  79682  55215  0.379271\n",
      "19       17353   4599   3437  0.378202\n",
      "20       44350  79682   5888  0.372223\n",
      "21      136288   4600   4599  0.372173\n",
      "22       14947  55215   4085  0.371241\n",
      "23       31214  55215   7153  0.369765\n",
      "24       25578  55215  51203  0.367382\n",
      "25       36234   5889   1434  0.366892\n",
      "26       24941   4599   3431  0.365500\n",
      "27      136886  10561   4599  0.365062\n",
      "28       40038   7083   5888  0.364190\n",
      "29      135953  10346   4599  0.364008\n",
      "...        ...    ...    ...       ...\n",
      "137311   78306   6252   2175 -0.020917\n",
      "137312  112700   4240   2189 -0.021005\n",
      "137313   31655  83990  51257 -0.021028\n",
      "137314  119317   3029    675 -0.021074\n",
      "137315    7956  55215   8742 -0.021078\n",
      "137316   75383   6840   2175 -0.021106\n",
      "137317    8872  83990  11070 -0.021180\n",
      "137318   43898  64748   5888 -0.021189\n",
      "137319   92468   3745   2178 -0.021263\n",
      "137320  115466  83716   2189 -0.021623\n",
      "137321   78463   5577   2175 -0.021632\n",
      "137322  120524  64748    675 -0.021805\n",
      "137323   47643   6337   5889 -0.021826\n",
      "137324    7026  55120   6272 -0.021852\n",
      "137325  128496  64748  55215 -0.021948\n",
      "137326  114845   8660   2189 -0.022250\n",
      "137327  124641  79641    675 -0.022922\n",
      "137328  110951   7099   2189 -0.023024\n",
      "137329  113700   9332   2189 -0.023219\n",
      "137330  112036   2799   2189 -0.023246\n",
      "137331  114059   5997   2189 -0.023439\n",
      "137332   76995   4128   2175 -0.023441\n",
      "137333   17078  83990  65018 -0.023564\n",
      "137334   71894   9236   2175 -0.023875\n",
      "137335   28054  55215  51257 -0.024790\n",
      "137336   92796  23500   2178 -0.026011\n",
      "137337   93927  84981   2178 -0.026329\n",
      "137338   94776   7079   2178 -0.026662\n",
      "137339   73279   8660   2175 -0.027695\n",
      "137340  112298   6272   2189 -0.033044\n",
      "\n",
      "[137341 rows x 4 columns]\n"
     ]
    }
   ],
   "source": [
    "newgenes = call_biggim(genes, tissues, average_columns=True, return_genes=True, N=200)"
   ]
  },
  {
   "cell_type": "code",
   "execution_count": 17,
   "metadata": {
    "collapsed": false,
    "deletable": true,
    "editable": true,
    "scrolled": true
   },
   "outputs": [
    {
     "name": "stdout",
     "output_type": "stream",
     "text": [
      "['10036', '10038', '10051', '10112', '10198', '1033', '10346', '10403', '10459', '10459', '10561', '1058', '10592', '10615', '1062', '1063', '1070', '10733', '10926', '10964', '11004', '11065', '11073', '1111', '11130', '11169', '11200', '11339', '1164', '1434', '146909', '1479', '1633', '1719', '1786', '1854', '2072', '2146', '2175', '2175', '2176', '2176', '2177', '2177', '2178', '2178', '2187', '2188', '2189', '2189', '2237', '22974', '23234', '23262', '23310', '23586', '24137', '2537', '25788', '25842', '259266', '26271', '2633', '27338', '29028', '29089', '29089', '29127', '3014', '3070', '3109', '3123', '3148', '3161', '3383', '3429', '3430', '3431', '3433', '3434', '3437', '3553', '3627', '3659', '3832', '3838', '3965', '4001', '4061', '4085', '4171', '4172', '4173', '4174', '4175', '4176', '4288', '4436', '4599', '4599', '4600', '4605', '4678', '4938', '4939', '4998', '5001', '51001', '51053', '5111', '51203', '51512', '51514', '51659', '5359', '5378', '5427', '5437', '54739', '54809', '54892', '55055', '55120', '55120', '55143', '55165', '55215', '55215', '55319', '55355', '55388', '5557', '55601', '55635', '55706', '55723', '55839', '55872', '56992', '57405', '57697', '580', '5888', '5888', '5889', '5889', '5932', '5983', '5984', '5985', '6119', '6240', '6241', '641', '64108', '64135', '64151', '64761', '6491', '6672', '672', '6737', '675', '675', '6772', '6790', '684', '699', '701', '7072', '7083', '7112', '7124', '7124', '7128', '7153', '7157', '7272', '7298', '7398', '7411', '7468', '7516', '79017', '79682', '79728', '81620', '8317', '834', '83461', '83990', '83990', '84464', '8458', '8519', '8542', '86', '8624', '8638', '8726', '890', '891', '899', '90417', '9055', '91543', '9156', '9212', '9232', '9246', '9319', '958', '9631', '9636', '9700', '9735', '9768', '9787', '9833', '9837', '990', '991', '9918', '9928']\n",
      "224\n"
     ]
    }
   ],
   "source": [
    "print(newgenes)\n",
    "print(len(newgenes))"
   ]
  },
  {
   "cell_type": "markdown",
   "metadata": {
    "deletable": true,
    "editable": true
   },
   "source": [
    "## Module 2- Running Big GIM for the second round, now producing the interaction matrix (df) that can serve as an input for DDOT"
   ]
  },
  {
   "cell_type": "code",
   "execution_count": 18,
   "metadata": {
    "collapsed": false,
    "deletable": true,
    "editable": true
   },
   "outputs": [
    {
     "name": "stdout",
     "output_type": "stream",
     "text": [
      "Sent: GET http://biggim.ncats.io/api/metadata/tissue/esophagus?None\n",
      "Sent: GET http://biggim.ncats.io/api/metadata/tissue/hematopoietic_system?None\n",
      "Sent: GET http://biggim.ncats.io/api/metadata/tissue/neck?None\n",
      "Sent: GET http://biggim.ncats.io/api/metadata/tissue/trachea?None\n",
      "Returned 56 Big GIM columns\n",
      "['GIANT_trachea_KnownFunctionalInteraction', 'GIANT_esophagus_ProbabilityOfFunctionalInteraction', 'GIANT_thyroid_gland_KnownFunctionalInteraction', 'GIANT_spleen_KnownFunctionalInteraction', 'GIANT_leukocyte_KnownFunctionalInteraction', 'GIANT_serum_KnownFunctionalInteraction', 'GIANT_macrophage_ProbabilityOfFunctionalInteraction', 'GIANT_tonsil_ProbabilityOfFunctionalInteraction', 'GIANT_b_lymphocyte_KnownFunctionalInteraction', 'GIANT_hematopoietic_stem_cell_KnownFunctionalInteraction', 'GIANT_thymocyte_KnownFunctionalInteraction', 'GIANT_megakaryocyte_ProbabilityOfFunctionalInteraction', 'GIANT_granulocyte_ProbabilityOfFunctionalInteraction', 'GIANT_mononuclear_phagocyte_ProbabilityOfFunctionalInteraction', 'GIANT_neutrophil_ProbabilityOfFunctionalInteraction', 'GIANT_spleen_ProbabilityOfFunctionalInteraction', 'GIANT_blood_platelet_KnownFunctionalInteraction', 'GIANT_natural_killer_cell_ProbabilityOfFunctionalInteraction', 'GIANT_t_lymphocyte_KnownFunctionalInteraction', 'GTEx_Esophagus_Correlation', 'GIANT_t_lymphocyte_ProbabilityOfFunctionalInteraction', 'GIANT_neutrophil_KnownFunctionalInteraction', 'GTEx_Thyroid_Correlation', 'GIANT_macrophage_KnownFunctionalInteraction', 'GIANT_blood_platelet_ProbabilityOfFunctionalInteraction', 'GIANT_monocyte_KnownFunctionalInteraction', 'GIANT_serum_ProbabilityOfFunctionalInteraction', 'GIANT_natural_killer_cell_KnownFunctionalInteraction', 'GIANT_trachea_ProbabilityOfFunctionalInteraction', 'GIANT_megakaryocyte_KnownFunctionalInteraction', 'GIANT_hematopoietic_stem_cell_ProbabilityOfFunctionalInteraction', 'GIANT_b_lymphocyte_ProbabilityOfFunctionalInteraction', 'GIANT_tonsil_KnownFunctionalInteraction', 'GIANT_monocyte_ProbabilityOfFunctionalInteraction', 'GIANT_blood_plasma_KnownFunctionalInteraction', 'GIANT_blood_KnownFunctionalInteraction', 'GIANT_lymphocyte_KnownFunctionalInteraction', 'GIANT_thymocyte_ProbabilityOfFunctionalInteraction', 'GIANT_basophil_ProbabilityOfFunctionalInteraction', 'GIANT_leukocyte_ProbabilityOfFunctionalInteraction', 'GIANT_thyroid_gland_ProbabilityOfFunctionalInteraction', 'GIANT_dendritic_cell_ProbabilityOfFunctionalInteraction', 'GIANT_granulocyte_KnownFunctionalInteraction', 'GTEx_Spleen_Correlation', 'GIANT_basophil_KnownFunctionalInteraction', 'GIANT_mononuclear_phagocyte_KnownFunctionalInteraction', 'GTEx_Blood_Correlation', 'GIANT_eosinophil_ProbabilityOfFunctionalInteraction', 'GIANT_blood_ProbabilityOfFunctionalInteraction', 'GIANT_dendritic_cell_KnownFunctionalInteraction', 'GIANT_blood_plasma_ProbabilityOfFunctionalInteraction', 'GIANT_lymph_node_KnownFunctionalInteraction', 'GIANT_esophagus_KnownFunctionalInteraction', 'GIANT_eosinophil_KnownFunctionalInteraction', 'GIANT_lymph_node_ProbabilityOfFunctionalInteraction', 'GIANT_lymphocyte_ProbabilityOfFunctionalInteraction']\n",
      "Sent: GET http://biggim.ncats.io/api/biggim/query?ids2=10036%2C10038%2C10051%2C10112%2C10198%2C1033%2C10346%2C10403%2C10459%2C10459%2C10561%2C1058%2C10592%2C10615%2C1062%2C1063%2C1070%2C10733%2C10926%2C10964%2C11004%2C11065%2C11073%2C1111%2C11130%2C11169%2C11200%2C11339%2C1164%2C1434%2C146909%2C1479%2C1633%2C1719%2C1786%2C1854%2C2072%2C2146%2C2175%2C2175%2C2176%2C2176%2C2177%2C2177%2C2178%2C2178%2C2187%2C2188%2C2189%2C2189%2C2237%2C22974%2C23234%2C23262%2C23310%2C23586%2C24137%2C2537%2C25788%2C25842%2C259266%2C26271%2C2633%2C27338%2C29028%2C29089%2C29089%2C29127%2C3014%2C3070%2C3109%2C3123%2C3148%2C3161%2C3383%2C3429%2C3430%2C3431%2C3433%2C3434%2C3437%2C3553%2C3627%2C3659%2C3832%2C3838%2C3965%2C4001%2C4061%2C4085%2C4171%2C4172%2C4173%2C4174%2C4175%2C4176%2C4288%2C4436%2C4599%2C4599%2C4600%2C4605%2C4678%2C4938%2C4939%2C4998%2C5001%2C51001%2C51053%2C5111%2C51203%2C51512%2C51514%2C51659%2C5359%2C5378%2C5427%2C5437%2C54739%2C54809%2C54892%2C55055%2C55120%2C55120%2C55143%2C55165%2C55215%2C55215%2C55319%2C55355%2C55388%2C5557%2C55601%2C55635%2C55706%2C55723%2C55839%2C55872%2C56992%2C57405%2C57697%2C580%2C5888%2C5888%2C5889%2C5889%2C5932%2C5983%2C5984%2C5985%2C6119%2C6240%2C6241%2C641%2C64108%2C64135%2C64151%2C64761%2C6491%2C6672%2C672%2C6737%2C675%2C675%2C6772%2C6790%2C684%2C699%2C701%2C7072%2C7083%2C7112%2C7124%2C7124%2C7128%2C7153%2C7157%2C7272%2C7298%2C7398%2C7411%2C7468%2C7516%2C79017%2C79682%2C79728%2C81620%2C8317%2C834%2C83461%2C83990%2C83990%2C84464%2C8458%2C8519%2C8542%2C86%2C8624%2C8638%2C8726%2C890%2C891%2C899%2C90417%2C9055%2C91543%2C9156%2C9212%2C9232%2C9246%2C9319%2C958%2C9631%2C9636%2C9700%2C9735%2C9768%2C9787%2C9833%2C9837%2C990%2C991%2C9918%2C9928&restriction_gt=GIANT_trachea_KnownFunctionalInteraction%2C-2.0%2CGIANT_esophagus_ProbabilityOfFunctionalInteraction%2C-2.0%2CGIANT_thyroid_gland_KnownFunctionalInteraction%2C-2.0%2CGIANT_spleen_KnownFunctionalInteraction%2C-2.0%2CGIANT_leukocyte_KnownFunctionalInteraction%2C-2.0%2CGIANT_serum_KnownFunctionalInteraction%2C-2.0%2CGIANT_macrophage_ProbabilityOfFunctionalInteraction%2C-2.0%2CGIANT_tonsil_ProbabilityOfFunctionalInteraction%2C-2.0%2CGIANT_b_lymphocyte_KnownFunctionalInteraction%2C-2.0%2CGIANT_hematopoietic_stem_cell_KnownFunctionalInteraction%2C-2.0%2CGIANT_thymocyte_KnownFunctionalInteraction%2C-2.0%2CGIANT_megakaryocyte_ProbabilityOfFunctionalInteraction%2C-2.0%2CGIANT_granulocyte_ProbabilityOfFunctionalInteraction%2C-2.0%2CGIANT_mononuclear_phagocyte_ProbabilityOfFunctionalInteraction%2C-2.0%2CGIANT_neutrophil_ProbabilityOfFunctionalInteraction%2C-2.0%2CGIANT_spleen_ProbabilityOfFunctionalInteraction%2C-2.0%2CGIANT_blood_platelet_KnownFunctionalInteraction%2C-2.0%2CGIANT_natural_killer_cell_ProbabilityOfFunctionalInteraction%2C-2.0%2CGIANT_t_lymphocyte_KnownFunctionalInteraction%2C-2.0%2CGTEx_Esophagus_Correlation%2C-2.0%2CGIANT_t_lymphocyte_ProbabilityOfFunctionalInteraction%2C-2.0%2CGIANT_neutrophil_KnownFunctionalInteraction%2C-2.0%2CGTEx_Thyroid_Correlation%2C-2.0%2CGIANT_macrophage_KnownFunctionalInteraction%2C-2.0%2CGIANT_blood_platelet_ProbabilityOfFunctionalInteraction%2C-2.0%2CGIANT_monocyte_KnownFunctionalInteraction%2C-2.0%2CGIANT_serum_ProbabilityOfFunctionalInteraction%2C-2.0%2CGIANT_natural_killer_cell_KnownFunctionalInteraction%2C-2.0%2CGIANT_trachea_ProbabilityOfFunctionalInteraction%2C-2.0%2CGIANT_megakaryocyte_KnownFunctionalInteraction%2C-2.0%2CGIANT_hematopoietic_stem_cell_ProbabilityOfFunctionalInteraction%2C-2.0%2CGIANT_b_lymphocyte_ProbabilityOfFunctionalInteraction%2C-2.0%2CGIANT_tonsil_KnownFunctionalInteraction%2C-2.0%2CGIANT_monocyte_ProbabilityOfFunctionalInteraction%2C-2.0%2CGIANT_blood_plasma_KnownFunctionalInteraction%2C-2.0%2CGIANT_blood_KnownFunctionalInteraction%2C-2.0%2CGIANT_lymphocyte_KnownFunctionalInteraction%2C-2.0%2CGIANT_thymocyte_ProbabilityOfFunctionalInteraction%2C-2.0%2CGIANT_basophil_ProbabilityOfFunctionalInteraction%2C-2.0%2CGIANT_leukocyte_ProbabilityOfFunctionalInteraction%2C-2.0%2CGIANT_thyroid_gland_ProbabilityOfFunctionalInteraction%2C-2.0%2CGIANT_dendritic_cell_ProbabilityOfFunctionalInteraction%2C-2.0%2CGIANT_granulocyte_KnownFunctionalInteraction%2C-2.0%2CGTEx_Spleen_Correlation%2C-2.0%2CGIANT_basophil_KnownFunctionalInteraction%2C-2.0%2CGIANT_mononuclear_phagocyte_KnownFunctionalInteraction%2C-2.0%2CGTEx_Blood_Correlation%2C-2.0%2CGIANT_eosinophil_ProbabilityOfFunctionalInteraction%2C-2.0%2CGIANT_blood_ProbabilityOfFunctionalInteraction%2C-2.0%2CGIANT_dendritic_cell_KnownFunctionalInteraction%2C-2.0%2CGIANT_blood_plasma_ProbabilityOfFunctionalInteraction%2C-2.0%2CGIANT_lymph_node_KnownFunctionalInteraction%2C-2.0%2CGIANT_esophagus_KnownFunctionalInteraction%2C-2.0%2CGIANT_eosinophil_KnownFunctionalInteraction%2C-2.0%2CGIANT_lymph_node_ProbabilityOfFunctionalInteraction%2C-2.0%2CGIANT_lymphocyte_ProbabilityOfFunctionalInteraction%2C-2.0&columns=GIANT_trachea_KnownFunctionalInteraction%2CGIANT_esophagus_ProbabilityOfFunctionalInteraction%2CGIANT_thyroid_gland_KnownFunctionalInteraction%2CGIANT_spleen_KnownFunctionalInteraction%2CGIANT_leukocyte_KnownFunctionalInteraction%2CGIANT_serum_KnownFunctionalInteraction%2CGIANT_macrophage_ProbabilityOfFunctionalInteraction%2CGIANT_tonsil_ProbabilityOfFunctionalInteraction%2CGIANT_b_lymphocyte_KnownFunctionalInteraction%2CGIANT_hematopoietic_stem_cell_KnownFunctionalInteraction%2CGIANT_thymocyte_KnownFunctionalInteraction%2CGIANT_megakaryocyte_ProbabilityOfFunctionalInteraction%2CGIANT_granulocyte_ProbabilityOfFunctionalInteraction%2CGIANT_mononuclear_phagocyte_ProbabilityOfFunctionalInteraction%2CGIANT_neutrophil_ProbabilityOfFunctionalInteraction%2CGIANT_spleen_ProbabilityOfFunctionalInteraction%2CGIANT_blood_platelet_KnownFunctionalInteraction%2CGIANT_natural_killer_cell_ProbabilityOfFunctionalInteraction%2CGIANT_t_lymphocyte_KnownFunctionalInteraction%2CGTEx_Esophagus_Correlation%2CGIANT_t_lymphocyte_ProbabilityOfFunctionalInteraction%2CGIANT_neutrophil_KnownFunctionalInteraction%2CGTEx_Thyroid_Correlation%2CGIANT_macrophage_KnownFunctionalInteraction%2CGIANT_blood_platelet_ProbabilityOfFunctionalInteraction%2CGIANT_monocyte_KnownFunctionalInteraction%2CGIANT_serum_ProbabilityOfFunctionalInteraction%2CGIANT_natural_killer_cell_KnownFunctionalInteraction%2CGIANT_trachea_ProbabilityOfFunctionalInteraction%2CGIANT_megakaryocyte_KnownFunctionalInteraction%2CGIANT_hematopoietic_stem_cell_ProbabilityOfFunctionalInteraction%2CGIANT_b_lymphocyte_ProbabilityOfFunctionalInteraction%2CGIANT_tonsil_KnownFunctionalInteraction%2CGIANT_monocyte_ProbabilityOfFunctionalInteraction%2CGIANT_blood_plasma_KnownFunctionalInteraction%2CGIANT_blood_KnownFunctionalInteraction%2CGIANT_lymphocyte_KnownFunctionalInteraction%2CGIANT_thymocyte_ProbabilityOfFunctionalInteraction%2CGIANT_basophil_ProbabilityOfFunctionalInteraction%2CGIANT_leukocyte_ProbabilityOfFunctionalInteraction%2CGIANT_thyroid_gland_ProbabilityOfFunctionalInteraction%2CGIANT_dendritic_cell_ProbabilityOfFunctionalInteraction%2CGIANT_granulocyte_KnownFunctionalInteraction%2CGTEx_Spleen_Correlation%2CGIANT_basophil_KnownFunctionalInteraction%2CGIANT_mononuclear_phagocyte_KnownFunctionalInteraction%2CGTEx_Blood_Correlation%2CGIANT_eosinophil_ProbabilityOfFunctionalInteraction%2CGIANT_blood_ProbabilityOfFunctionalInteraction%2CGIANT_dendritic_cell_KnownFunctionalInteraction%2CGIANT_blood_plasma_ProbabilityOfFunctionalInteraction%2CGIANT_lymph_node_KnownFunctionalInteraction%2CGIANT_esophagus_KnownFunctionalInteraction%2CGIANT_eosinophil_KnownFunctionalInteraction%2CGIANT_lymph_node_ProbabilityOfFunctionalInteraction%2CGIANT_lymphocyte_ProbabilityOfFunctionalInteraction&limit=1000000&table=BigGIM_70_v1&ids1=10036%2C10038%2C10051%2C10112%2C10198%2C1033%2C10346%2C10403%2C10459%2C10459%2C10561%2C1058%2C10592%2C10615%2C1062%2C1063%2C1070%2C10733%2C10926%2C10964%2C11004%2C11065%2C11073%2C1111%2C11130%2C11169%2C11200%2C11339%2C1164%2C1434%2C146909%2C1479%2C1633%2C1719%2C1786%2C1854%2C2072%2C2146%2C2175%2C2175%2C2176%2C2176%2C2177%2C2177%2C2178%2C2178%2C2187%2C2188%2C2189%2C2189%2C2237%2C22974%2C23234%2C23262%2C23310%2C23586%2C24137%2C2537%2C25788%2C25842%2C259266%2C26271%2C2633%2C27338%2C29028%2C29089%2C29089%2C29127%2C3014%2C3070%2C3109%2C3123%2C3148%2C3161%2C3383%2C3429%2C3430%2C3431%2C3433%2C3434%2C3437%2C3553%2C3627%2C3659%2C3832%2C3838%2C3965%2C4001%2C4061%2C4085%2C4171%2C4172%2C4173%2C4174%2C4175%2C4176%2C4288%2C4436%2C4599%2C4599%2C4600%2C4605%2C4678%2C4938%2C4939%2C4998%2C5001%2C51001%2C51053%2C5111%2C51203%2C51512%2C51514%2C51659%2C5359%2C5378%2C5427%2C5437%2C54739%2C54809%2C54892%2C55055%2C55120%2C55120%2C55143%2C55165%2C55215%2C55215%2C55319%2C55355%2C55388%2C5557%2C55601%2C55635%2C55706%2C55723%2C55839%2C55872%2C56992%2C57405%2C57697%2C580%2C5888%2C5888%2C5889%2C5889%2C5932%2C5983%2C5984%2C5985%2C6119%2C6240%2C6241%2C641%2C64108%2C64135%2C64151%2C64761%2C6491%2C6672%2C672%2C6737%2C675%2C675%2C6772%2C6790%2C684%2C699%2C701%2C7072%2C7083%2C7112%2C7124%2C7124%2C7128%2C7153%2C7157%2C7272%2C7298%2C7398%2C7411%2C7468%2C7516%2C79017%2C79682%2C79728%2C81620%2C8317%2C834%2C83461%2C83990%2C83990%2C84464%2C8458%2C8519%2C8542%2C86%2C8624%2C8638%2C8726%2C890%2C891%2C899%2C90417%2C9055%2C91543%2C9156%2C9212%2C9232%2C9246%2C9319%2C958%2C9631%2C9636%2C9700%2C9735%2C9768%2C9787%2C9833%2C9837%2C990%2C991%2C9918%2C9928&average_columns=True\n",
      "{\n",
      "  \"request_id\": \"5003e206-fb13-42cb-b81a-fe7e164c5741\",\n",
      "  \"status\": \"submitted\"\n",
      "}\n",
      "Sent: GET http://biggim.ncats.io/api/biggim/status/5003e206-fb13-42cb-b81a-fe7e164c5741?None\n",
      "{\n",
      "  \"request_uri\": [\n",
      "    \"https://storage.googleapis.com/ncats_bigquery_results/5003e206-fb13-42cb-b81a-fe7e164c5741000000000000.csv\"\n",
      "  ],\n",
      "  \"size\": \"676.24 KB\",\n",
      "  \"processed_data\": \"0B\",\n",
      "  \"rows\": 15292,\n",
      "  \"status\": \"complete\",\n",
      "  \"request_id\": \"5003e206-fb13-42cb-b81a-fe7e164c5741\"\n",
      "}\n"
     ]
    }
   ],
   "source": [
    "df = call_biggim(newgenes, tissues, average_columns=True, query_id2=newgenes)"
   ]
  },
  {
   "cell_type": "code",
   "execution_count": 19,
   "metadata": {
    "collapsed": false,
    "deletable": true,
    "editable": true
   },
   "outputs": [
    {
     "name": "stdout",
     "output_type": "stream",
     "text": [
      "        Gene1  Gene2      mean\n",
      "0       11004   9232  0.368221\n",
      "1        6672   4061  0.129451\n",
      "2        6119   1062  0.234955\n",
      "3       90417   7468  0.211236\n",
      "4        4938   3627  0.319159\n",
      "5        9700   9212  0.345341\n",
      "6       79017  11200  0.138107\n",
      "7        3832   2178  0.111251\n",
      "8       51001   7398  0.220075\n",
      "9       55723  10926  0.180632\n",
      "10       7516   6240  0.067369\n",
      "11      11339   4436  0.261415\n",
      "12       4288   4175  0.337594\n",
      "13      29028   9787  0.331672\n",
      "14     146909   6240  0.237392\n",
      "15      51053   5427  0.335962\n",
      "16       7072     86  0.215559\n",
      "17       2176    990  0.055694\n",
      "18      29089   4288  0.157703\n",
      "19      54809   1164  0.058256\n",
      "20     259266   7112  0.266163\n",
      "21      54892   4061  0.037102\n",
      "22     146909   9700  0.270933\n",
      "23       4176    672  0.336263\n",
      "24      10733   9055  0.287064\n",
      "25      10038   4171  0.252080\n",
      "26      10112   5984  0.330004\n",
      "27       8624   5111  0.275214\n",
      "28      81620  22974  0.319053\n",
      "29      55215   4436  0.291501\n",
      "...       ...    ...       ...\n",
      "15262    1058    699  0.303545\n",
      "15263   10036   9055  0.306284\n",
      "15264  259266   4939  0.069901\n",
      "15265   57405  55055  0.234680\n",
      "15266    4171   2175  0.204725\n",
      "15267   10112   8458  0.165028\n",
      "15268   55872  27338  0.261497\n",
      "15269    4605   3553  0.020268\n",
      "15270   10592   4174  0.328508\n",
      "15271    7112    641  0.293532\n",
      "15272    9768   4171  0.312005\n",
      "15273    6790    699  0.312711\n",
      "15274   25842   5889  0.294015\n",
      "15275    9918   1062  0.216959\n",
      "15276   57405    701  0.302207\n",
      "15277   23234   7272  0.307526\n",
      "15278   79682  10198  0.245109\n",
      "15279    1854    701  0.265208\n",
      "15280    4173   3014  0.319422\n",
      "15281   23234   5983  0.312939\n",
      "15282    4998   3832  0.213733\n",
      "15283   64135   9918  0.055310\n",
      "15284   55165   1164  0.335728\n",
      "15285   11169  10592  0.319043\n",
      "15286    4174   1033  0.296360\n",
      "15287    5985   2175  0.192604\n",
      "15288   55055   3838  0.313798\n",
      "15289   10038   4678  0.266259\n",
      "15290   29127  27338  0.270278\n",
      "15291   81620   8638  0.051736\n",
      "\n",
      "[15292 rows x 3 columns]\n"
     ]
    }
   ],
   "source": [
    "print(df)\n"
   ]
  },
  {
   "cell_type": "markdown",
   "metadata": {
    "deletable": true,
    "editable": true
   },
   "source": [
    "### Create DDOT"
   ]
  },
  {
   "cell_type": "code",
   "execution_count": 20,
   "metadata": {
    "collapsed": false,
    "deletable": true,
    "editable": true
   },
   "outputs": [],
   "source": [
    "ddot = DDOT_Client.from_dataframe(df)"
   ]
  },
  {
   "cell_type": "code",
   "execution_count": 21,
   "metadata": {
    "collapsed": false,
    "deletable": true,
    "editable": true
   },
   "outputs": [
    {
     "data": {
      "text/plain": [
       "'http://hiview-test.ucsd.edu/26316667-410e-11e9-9fc6-0660b7976219?type=test&server=http://dev2.ndexbio.org'"
      ]
     },
     "execution_count": 21,
     "metadata": {},
     "output_type": "execute_result"
    }
   ],
   "source": [
    "ddot.call(alpha=0.03, beta=0.8)\n",
    "ddot.wait_for_hiview_url()"
   ]
  },
  {
   "cell_type": "code",
   "execution_count": null,
   "metadata": {
    "collapsed": true
   },
   "outputs": [],
   "source": []
  }
 ],
 "metadata": {
  "kernelspec": {
   "display_name": "Python 3",
   "language": "python",
   "name": "python3"
  },
  "language_info": {
   "codemirror_mode": {
    "name": "ipython",
    "version": 3
   },
   "file_extension": ".py",
   "mimetype": "text/x-python",
   "name": "python",
   "nbconvert_exporter": "python",
   "pygments_lexer": "ipython3",
   "version": "3.4.2"
  }
 },
 "nbformat": 4,
 "nbformat_minor": 2
}
