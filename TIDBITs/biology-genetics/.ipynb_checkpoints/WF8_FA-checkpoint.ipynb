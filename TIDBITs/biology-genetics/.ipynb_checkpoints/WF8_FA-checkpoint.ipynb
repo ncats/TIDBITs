{
 "cells": [
  {
   "cell_type": "markdown",
   "metadata": {
    "deletable": true,
    "editable": true
   },
   "source": [
    "# Workflow 8 - FA\n",
    "\n",
    "This notebook implements all three modeuls of Workflow 8 for Fanconi Anemia. See <a href=\"https://docs.google.com/presentation/d/1IkAzjSrOMzOLx5z8GqRVKmVd1GKrpIEb_xF4g4RlI1U/edit?usp=sharing\">here</a> for an overview of Workflow 8.  \n",
    "\n",
    "Notebook written by: Samson Fong, John Earls, Theo Knijnenburg, Chris Churas and Aaron Gary. "
   ]
  },
  {
   "cell_type": "markdown",
   "metadata": {
    "deletable": true,
    "editable": true
   },
   "source": [
    "## Libraries and such"
   ]
  },
  {
   "cell_type": "code",
   "execution_count": 39,
   "metadata": {
    "collapsed": false,
    "deletable": true,
    "editable": true
   },
   "outputs": [
    {
     "name": "stdout",
     "output_type": "stream",
     "text": [
      "The autoreload extension is already loaded. To reload it, use:\n",
      "  %reload_ext autoreload\n"
     ]
    }
   ],
   "source": [
    "%load_ext autoreload \n",
    "%autoreload 2\n",
    "\n",
    "import json\n",
    "from pprint import pprint\n",
    "from wf8_module1 import doid_to_genes_and_tissues, doid_to_genes_direct\n",
    "from wf8_module2 import call_biggim\n",
    "import numpy as np\n",
    "import pandas as pd\n",
    "import time\n",
    "import sys\n",
    "sys.path.insert(0, \"wf8\")\n",
    "from wf8_module3 import DDOT_Client"
   ]
  },
  {
   "cell_type": "markdown",
   "metadata": {},
   "source": [
    "## Getting FA genes and tissues"
   ]
  },
  {
   "cell_type": "code",
   "execution_count": 13,
   "metadata": {
    "collapsed": false,
    "scrolled": true
   },
   "outputs": [
    {
     "name": "stderr",
     "output_type": "stream",
     "text": [
      "INFO:root:Geting HP ids from DOID\n"
     ]
    },
    {
     "name": "stdout",
     "output_type": "stream",
     "text": [
      "http://biothings.io/explorer/api/v2/directinput2output?input_prefix=doid&output_prefix=ncbigene&input_value=13636&format=translator\n",
      "Returned 22 genes\n"
     ]
    }
   ],
   "source": [
    "genes = doid_to_genes_direct('13636')"
   ]
  },
  {
   "cell_type": "code",
   "execution_count": 5,
   "metadata": {
    "collapsed": false,
    "deletable": true,
    "editable": true,
    "scrolled": true
   },
   "outputs": [
    {
     "name": "stderr",
     "output_type": "stream",
     "text": [
      "INFO:root:Geting HP ids from DOID\n"
     ]
    },
    {
     "name": "stdout",
     "output_type": "stream",
     "text": [
      "http://biothings.io/explorer/api/v2/directinput2output?input_prefix=doid&output_prefix=ncbigene&input_value=13636&format=translator\n",
      "Returned 22 genes\n"
     ]
    }
   ],
   "source": [
    "genes,tissues = doid_to_genes_and_tissues('13636',direct=True,N=1000)"
   ]
  },
  {
   "cell_type": "code",
   "execution_count": 14,
   "metadata": {
    "collapsed": false,
    "deletable": true,
    "editable": true,
    "scrolled": true
   },
   "outputs": [
    {
     "name": "stdout",
     "output_type": "stream",
     "text": [
      "['animal', 'aorta', 'artery', 'bone', 'brain_ventricle', 'cardiovascular_system', 'cornea', 'duodenum', 'esophagus', 'gonad', 'head', 'heart', 'hematopoietic_system', 'lens', 'liver', 'neck', 'testis', 'trachea', 'umbilical_cord', 'uterus']\n",
      "20\n",
      "['esophagus', 'hematopoietic_system', 'neck', 'trachea']\n"
     ]
    }
   ],
   "source": [
    "tissues = ['animal', 'aorta', 'artery', 'bone', 'brain_ventricle', 'cardiovascular_system', 'cornea', 'duodenum', 'esophagus', 'gonad', 'head', 'heart', 'hematopoietic_system', 'lens', 'liver', 'neck', 'testis', 'trachea', 'umbilical_cord', 'uterus']\n",
    "print(tissues)\n",
    "print(len(tissues))\n",
    "tissues = ['esophagus','hematopoietic_system', 'neck', 'trachea']\n",
    "print(tissues)"
   ]
  },
  {
   "cell_type": "markdown",
   "metadata": {
    "deletable": true,
    "editable": true
   },
   "source": [
    "## Getting Interacting Genes \n",
    "Input 12 FA genes, do we find back the other 10?"
   ]
  },
  {
   "cell_type": "code",
   "execution_count": 32,
   "metadata": {
    "collapsed": false,
    "deletable": true,
    "editable": true,
    "scrolled": true
   },
   "outputs": [
    {
     "name": "stdout",
     "output_type": "stream",
     "text": [
      "['10459', '4599', '675', '7516', '79728', '57697', '29089', '2189', '2177', '84464', '2188', '55215']\n",
      "Sent: GET http://biggim.ncats.io/api/metadata/tissue/esophagus?None\n",
      "Sent: GET http://biggim.ncats.io/api/metadata/tissue/hematopoietic_system?None\n",
      "Sent: GET http://biggim.ncats.io/api/metadata/tissue/neck?None\n",
      "Sent: GET http://biggim.ncats.io/api/metadata/tissue/trachea?None\n",
      "Returned 56 Big GIM columns\n",
      "['GIANT_hematopoietic_stem_cell_KnownFunctionalInteraction', 'GIANT_blood_platelet_KnownFunctionalInteraction', 'GIANT_lymphocyte_ProbabilityOfFunctionalInteraction', 'GTEx_Blood_Correlation', 'GIANT_neutrophil_KnownFunctionalInteraction', 'GIANT_natural_killer_cell_ProbabilityOfFunctionalInteraction', 'GIANT_serum_KnownFunctionalInteraction', 'GIANT_granulocyte_ProbabilityOfFunctionalInteraction', 'GIANT_esophagus_KnownFunctionalInteraction', 'GTEx_Spleen_Correlation', 'GIANT_megakaryocyte_KnownFunctionalInteraction', 'GIANT_mononuclear_phagocyte_KnownFunctionalInteraction', 'GIANT_monocyte_ProbabilityOfFunctionalInteraction', 'GIANT_tonsil_KnownFunctionalInteraction', 'GIANT_lymphocyte_KnownFunctionalInteraction', 'GIANT_dendritic_cell_KnownFunctionalInteraction', 'GIANT_blood_plasma_KnownFunctionalInteraction', 'GIANT_dendritic_cell_ProbabilityOfFunctionalInteraction', 'GIANT_blood_KnownFunctionalInteraction', 'GIANT_t_lymphocyte_KnownFunctionalInteraction', 'GIANT_blood_platelet_ProbabilityOfFunctionalInteraction', 'GIANT_blood_ProbabilityOfFunctionalInteraction', 'GIANT_megakaryocyte_ProbabilityOfFunctionalInteraction', 'GIANT_hematopoietic_stem_cell_ProbabilityOfFunctionalInteraction', 'GIANT_natural_killer_cell_KnownFunctionalInteraction', 'GIANT_trachea_KnownFunctionalInteraction', 'GIANT_b_lymphocyte_ProbabilityOfFunctionalInteraction', 'GIANT_thyroid_gland_KnownFunctionalInteraction', 'GIANT_lymph_node_KnownFunctionalInteraction', 'GIANT_trachea_ProbabilityOfFunctionalInteraction', 'GIANT_neutrophil_ProbabilityOfFunctionalInteraction', 'GIANT_macrophage_ProbabilityOfFunctionalInteraction', 'GIANT_monocyte_KnownFunctionalInteraction', 'GIANT_thymocyte_KnownFunctionalInteraction', 'GIANT_esophagus_ProbabilityOfFunctionalInteraction', 'GIANT_macrophage_KnownFunctionalInteraction', 'GIANT_blood_plasma_ProbabilityOfFunctionalInteraction', 'GIANT_serum_ProbabilityOfFunctionalInteraction', 'GIANT_spleen_KnownFunctionalInteraction', 'GIANT_b_lymphocyte_KnownFunctionalInteraction', 'GIANT_eosinophil_KnownFunctionalInteraction', 'GIANT_leukocyte_KnownFunctionalInteraction', 'GIANT_granulocyte_KnownFunctionalInteraction', 'GIANT_thymocyte_ProbabilityOfFunctionalInteraction', 'GIANT_mononuclear_phagocyte_ProbabilityOfFunctionalInteraction', 'GIANT_lymph_node_ProbabilityOfFunctionalInteraction', 'GIANT_basophil_ProbabilityOfFunctionalInteraction', 'GIANT_thyroid_gland_ProbabilityOfFunctionalInteraction', 'GIANT_basophil_KnownFunctionalInteraction', 'GIANT_tonsil_ProbabilityOfFunctionalInteraction', 'GIANT_t_lymphocyte_ProbabilityOfFunctionalInteraction', 'GIANT_spleen_ProbabilityOfFunctionalInteraction', 'GIANT_eosinophil_ProbabilityOfFunctionalInteraction', 'GIANT_leukocyte_ProbabilityOfFunctionalInteraction', 'GTEx_Esophagus_Correlation', 'GTEx_Thyroid_Correlation']\n",
      "Sent: GET http://biggim.ncats.io/api/biggim/query?restriction_gt=GIANT_hematopoietic_stem_cell_KnownFunctionalInteraction%2C-2.0%2CGIANT_blood_platelet_KnownFunctionalInteraction%2C-2.0%2CGIANT_lymphocyte_ProbabilityOfFunctionalInteraction%2C-2.0%2CGTEx_Blood_Correlation%2C-2.0%2CGIANT_neutrophil_KnownFunctionalInteraction%2C-2.0%2CGIANT_natural_killer_cell_ProbabilityOfFunctionalInteraction%2C-2.0%2CGIANT_serum_KnownFunctionalInteraction%2C-2.0%2CGIANT_granulocyte_ProbabilityOfFunctionalInteraction%2C-2.0%2CGIANT_esophagus_KnownFunctionalInteraction%2C-2.0%2CGTEx_Spleen_Correlation%2C-2.0%2CGIANT_megakaryocyte_KnownFunctionalInteraction%2C-2.0%2CGIANT_mononuclear_phagocyte_KnownFunctionalInteraction%2C-2.0%2CGIANT_monocyte_ProbabilityOfFunctionalInteraction%2C-2.0%2CGIANT_tonsil_KnownFunctionalInteraction%2C-2.0%2CGIANT_lymphocyte_KnownFunctionalInteraction%2C-2.0%2CGIANT_dendritic_cell_KnownFunctionalInteraction%2C-2.0%2CGIANT_blood_plasma_KnownFunctionalInteraction%2C-2.0%2CGIANT_dendritic_cell_ProbabilityOfFunctionalInteraction%2C-2.0%2CGIANT_blood_KnownFunctionalInteraction%2C-2.0%2CGIANT_t_lymphocyte_KnownFunctionalInteraction%2C-2.0%2CGIANT_blood_platelet_ProbabilityOfFunctionalInteraction%2C-2.0%2CGIANT_blood_ProbabilityOfFunctionalInteraction%2C-2.0%2CGIANT_megakaryocyte_ProbabilityOfFunctionalInteraction%2C-2.0%2CGIANT_hematopoietic_stem_cell_ProbabilityOfFunctionalInteraction%2C-2.0%2CGIANT_natural_killer_cell_KnownFunctionalInteraction%2C-2.0%2CGIANT_trachea_KnownFunctionalInteraction%2C-2.0%2CGIANT_b_lymphocyte_ProbabilityOfFunctionalInteraction%2C-2.0%2CGIANT_thyroid_gland_KnownFunctionalInteraction%2C-2.0%2CGIANT_lymph_node_KnownFunctionalInteraction%2C-2.0%2CGIANT_trachea_ProbabilityOfFunctionalInteraction%2C-2.0%2CGIANT_neutrophil_ProbabilityOfFunctionalInteraction%2C-2.0%2CGIANT_macrophage_ProbabilityOfFunctionalInteraction%2C-2.0%2CGIANT_monocyte_KnownFunctionalInteraction%2C-2.0%2CGIANT_thymocyte_KnownFunctionalInteraction%2C-2.0%2CGIANT_esophagus_ProbabilityOfFunctionalInteraction%2C-2.0%2CGIANT_macrophage_KnownFunctionalInteraction%2C-2.0%2CGIANT_blood_plasma_ProbabilityOfFunctionalInteraction%2C-2.0%2CGIANT_serum_ProbabilityOfFunctionalInteraction%2C-2.0%2CGIANT_spleen_KnownFunctionalInteraction%2C-2.0%2CGIANT_b_lymphocyte_KnownFunctionalInteraction%2C-2.0%2CGIANT_eosinophil_KnownFunctionalInteraction%2C-2.0%2CGIANT_leukocyte_KnownFunctionalInteraction%2C-2.0%2CGIANT_granulocyte_KnownFunctionalInteraction%2C-2.0%2CGIANT_thymocyte_ProbabilityOfFunctionalInteraction%2C-2.0%2CGIANT_mononuclear_phagocyte_ProbabilityOfFunctionalInteraction%2C-2.0%2CGIANT_lymph_node_ProbabilityOfFunctionalInteraction%2C-2.0%2CGIANT_basophil_ProbabilityOfFunctionalInteraction%2C-2.0%2CGIANT_thyroid_gland_ProbabilityOfFunctionalInteraction%2C-2.0%2CGIANT_basophil_KnownFunctionalInteraction%2C-2.0%2CGIANT_tonsil_ProbabilityOfFunctionalInteraction%2C-2.0%2CGIANT_t_lymphocyte_ProbabilityOfFunctionalInteraction%2C-2.0%2CGIANT_spleen_ProbabilityOfFunctionalInteraction%2C-2.0%2CGIANT_eosinophil_ProbabilityOfFunctionalInteraction%2C-2.0%2CGIANT_leukocyte_ProbabilityOfFunctionalInteraction%2C-2.0%2CGTEx_Esophagus_Correlation%2C-2.0%2CGTEx_Thyroid_Correlation%2C-2.0&average_columns=True&table=BigGIM_70_v1&columns=GIANT_hematopoietic_stem_cell_KnownFunctionalInteraction%2CGIANT_blood_platelet_KnownFunctionalInteraction%2CGIANT_lymphocyte_ProbabilityOfFunctionalInteraction%2CGTEx_Blood_Correlation%2CGIANT_neutrophil_KnownFunctionalInteraction%2CGIANT_natural_killer_cell_ProbabilityOfFunctionalInteraction%2CGIANT_serum_KnownFunctionalInteraction%2CGIANT_granulocyte_ProbabilityOfFunctionalInteraction%2CGIANT_esophagus_KnownFunctionalInteraction%2CGTEx_Spleen_Correlation%2CGIANT_megakaryocyte_KnownFunctionalInteraction%2CGIANT_mononuclear_phagocyte_KnownFunctionalInteraction%2CGIANT_monocyte_ProbabilityOfFunctionalInteraction%2CGIANT_tonsil_KnownFunctionalInteraction%2CGIANT_lymphocyte_KnownFunctionalInteraction%2CGIANT_dendritic_cell_KnownFunctionalInteraction%2CGIANT_blood_plasma_KnownFunctionalInteraction%2CGIANT_dendritic_cell_ProbabilityOfFunctionalInteraction%2CGIANT_blood_KnownFunctionalInteraction%2CGIANT_t_lymphocyte_KnownFunctionalInteraction%2CGIANT_blood_platelet_ProbabilityOfFunctionalInteraction%2CGIANT_blood_ProbabilityOfFunctionalInteraction%2CGIANT_megakaryocyte_ProbabilityOfFunctionalInteraction%2CGIANT_hematopoietic_stem_cell_ProbabilityOfFunctionalInteraction%2CGIANT_natural_killer_cell_KnownFunctionalInteraction%2CGIANT_trachea_KnownFunctionalInteraction%2CGIANT_b_lymphocyte_ProbabilityOfFunctionalInteraction%2CGIANT_thyroid_gland_KnownFunctionalInteraction%2CGIANT_lymph_node_KnownFunctionalInteraction%2CGIANT_trachea_ProbabilityOfFunctionalInteraction%2CGIANT_neutrophil_ProbabilityOfFunctionalInteraction%2CGIANT_macrophage_ProbabilityOfFunctionalInteraction%2CGIANT_monocyte_KnownFunctionalInteraction%2CGIANT_thymocyte_KnownFunctionalInteraction%2CGIANT_esophagus_ProbabilityOfFunctionalInteraction%2CGIANT_macrophage_KnownFunctionalInteraction%2CGIANT_blood_plasma_ProbabilityOfFunctionalInteraction%2CGIANT_serum_ProbabilityOfFunctionalInteraction%2CGIANT_spleen_KnownFunctionalInteraction%2CGIANT_b_lymphocyte_KnownFunctionalInteraction%2CGIANT_eosinophil_KnownFunctionalInteraction%2CGIANT_leukocyte_KnownFunctionalInteraction%2CGIANT_granulocyte_KnownFunctionalInteraction%2CGIANT_thymocyte_ProbabilityOfFunctionalInteraction%2CGIANT_mononuclear_phagocyte_ProbabilityOfFunctionalInteraction%2CGIANT_lymph_node_ProbabilityOfFunctionalInteraction%2CGIANT_basophil_ProbabilityOfFunctionalInteraction%2CGIANT_thyroid_gland_ProbabilityOfFunctionalInteraction%2CGIANT_basophil_KnownFunctionalInteraction%2CGIANT_tonsil_ProbabilityOfFunctionalInteraction%2CGIANT_t_lymphocyte_ProbabilityOfFunctionalInteraction%2CGIANT_spleen_ProbabilityOfFunctionalInteraction%2CGIANT_eosinophil_ProbabilityOfFunctionalInteraction%2CGIANT_leukocyte_ProbabilityOfFunctionalInteraction%2CGTEx_Esophagus_Correlation%2CGTEx_Thyroid_Correlation&ids1=10459%2C4599%2C675%2C7516%2C79728%2C57697%2C29089%2C2189%2C2177%2C84464%2C2188%2C55215&limit=1000000\n",
      "{\n",
      "  \"status\": \"submitted\",\n",
      "  \"request_id\": \"ab7b3c8d-5242-4a91-8ae8-3789272fbbd1\"\n",
      "}\n",
      "Sent: GET http://biggim.ncats.io/api/biggim/status/ab7b3c8d-5242-4a91-8ae8-3789272fbbd1?None\n",
      "{\n",
      "  \"status\": \"complete\",\n",
      "  \"request_uri\": [\n",
      "    \"https://storage.googleapis.com/ncats_bigquery_results/ab7b3c8d-5242-4a91-8ae8-3789272fbbd1000000000000.csv\"\n",
      "  ],\n",
      "  \"size\": \"3.25 MB\",\n",
      "  \"request_id\": \"ab7b3c8d-5242-4a91-8ae8-3789272fbbd1\",\n",
      "  \"processed_data\": \"0B\",\n",
      "  \"rows\": 72697\n",
      "}\n",
      "           Gene1  Gene2      mean\n",
      "0           2177    585  0.041751\n",
      "1           7516   2169  0.039808\n",
      "2          55215   4074  0.079789\n",
      "3          55215    685  0.006250\n",
      "4          29089   5606  0.025399\n",
      "5          29089  10514  0.082956\n",
      "6          84464  79665  0.033690\n",
      "7          29089   6173  0.078497\n",
      "8          55215   7746  0.030155\n",
      "9           2188   1147  0.027810\n",
      "10         10459   1039  0.053324\n",
      "11           675    178  0.036215\n",
      "12         29089   1163  0.202574\n",
      "13          7516   4796  0.076242\n",
      "14         29089   7745  0.009018\n",
      "15          2188   1267  0.048814\n",
      "16         84464  55425  0.047730\n",
      "17          2177   2120  0.044772\n",
      "18         79728  26043  0.067746\n",
      "19         84464  79969  0.065532\n",
      "20         55215   3934  0.042278\n",
      "21         84464  25809  0.059375\n",
      "22         84464  57210  0.048975\n",
      "23         79728  23259  0.085406\n",
      "24         29089  24149  0.049789\n",
      "25         10459   9058  0.023648\n",
      "26         79728  10733  0.112822\n",
      "27         84464   7637  0.053306\n",
      "28         29089   4607 -0.005285\n",
      "29         57697  10114  0.038308\n",
      "...          ...    ...       ...\n",
      "72667       9933   4599  0.049449\n",
      "72668      60386   4599  0.036261\n",
      "72669     151636   4599  0.216350\n",
      "72670      23138   4599  0.050328\n",
      "72671      27043   4599  0.046806\n",
      "72672      85440   4599  0.036977\n",
      "72673      26995   4599  0.049215\n",
      "72674       9901   4599  0.069140\n",
      "72675      51524   4599  0.043745\n",
      "72676      55449   4599  0.040513\n",
      "72677      79600   4599  0.039720\n",
      "72678      11221   4599  0.056770\n",
      "72679      11119   4599  0.184225\n",
      "72680      64434   4599  0.037578\n",
      "72681       8506   4599  0.035073\n",
      "72682       7374   4599  0.040434\n",
      "72683      80224   4599  0.054354\n",
      "72684       9500   4599  0.053782\n",
      "72685      23274   4599  0.060202\n",
      "72686      10892   4599  0.074482\n",
      "72687      23491   4599  0.050094\n",
      "72688      55340   4599  0.059065\n",
      "72689     158160   4599  0.061109\n",
      "72690       5996   4599  0.154677\n",
      "72691     171425   4599  0.051343\n",
      "72692      55720   4599  0.026071\n",
      "72693      79583   4599  0.045862\n",
      "72694  100131211   4599  0.042465\n",
      "72695      25766   4599  0.036926\n",
      "72696      23279   4599  0.025574\n",
      "\n",
      "[72697 rows x 3 columns]\n",
      "       index   Gene1  Gene2      mean\n",
      "0      60516    5888    675  0.493868\n",
      "1      12453    2189   2175  0.480905\n",
      "2      10800    2189   2178  0.446432\n",
      "3      63383    2177    675  0.434108\n",
      "4      37269    2178   2177  0.391341\n",
      "5      17643    4599   3430  0.387923\n",
      "6      20084    4599   3434  0.383398\n",
      "7       1540     675    672  0.380543\n",
      "8      17105    2189    890  0.379373\n",
      "9      65704   79682  55215  0.379271\n",
      "10     10449    4599   3437  0.378202\n",
      "11     71440    4600   4599  0.372173\n",
      "12      9068   55215   4085  0.371241\n",
      "13     13475   55215   7153  0.369765\n",
      "14      9888   55215  51203  0.367382\n",
      "15     16610    4599   3431  0.365500\n",
      "16     71885   10561   4599  0.365062\n",
      "17     71280   10346   4599  0.364008\n",
      "18     23287   55215   6241  0.362531\n",
      "19     72285    6672   4599  0.358626\n",
      "20     72484    4938   4599  0.355721\n",
      "21      3273   55215   4001  0.355421\n",
      "22      5773   55215   7298  0.355130\n",
      "23     66405  259266  55215  0.354992\n",
      "24     14359   55215  29028  0.354101\n",
      "25      4112   55215   9928  0.353530\n",
      "26      2174    4599   3433  0.353425\n",
      "27      7086   55215  26271  0.353180\n",
      "28      8701   55215   9232  0.353108\n",
      "29     72482   10964   4599  0.353024\n",
      "...      ...     ...    ...       ...\n",
      "72667  46344   23710   2188 -0.017946\n",
      "72668  45809    6535   2188 -0.017952\n",
      "72669  15861   55215   6237 -0.018019\n",
      "72670   3510   29089   9260 -0.018178\n",
      "72671  53295   11342   2189 -0.018336\n",
      "72672  24134   29089   5829 -0.018412\n",
      "72673  65916  168544  55215 -0.018476\n",
      "72674  48980    5577   2189 -0.018573\n",
      "72675  59054   51257    675 -0.018595\n",
      "72676   2232     675    203 -0.018979\n",
      "72677  65820   80301  55215 -0.019295\n",
      "72678  53143    7414   2189 -0.019428\n",
      "72679   9850    7516   1346 -0.019755\n",
      "72680  60884   65018    675 -0.020032\n",
      "72681   8038    7516   3705 -0.020134\n",
      "72682  13633   55215   5837 -0.020230\n",
      "72683  51167    4240   2189 -0.021005\n",
      "72684  58127    3029    675 -0.021074\n",
      "72685  10070   55215   8742 -0.021078\n",
      "72686  48265   83716   2189 -0.021623\n",
      "72687  60072   64748    675 -0.021805\n",
      "72688  65526   64748  55215 -0.021948\n",
      "72689  51247    8660   2189 -0.022250\n",
      "72690  60405   79641    675 -0.022922\n",
      "72691  50128    7099   2189 -0.023024\n",
      "72692  52315    9332   2189 -0.023219\n",
      "72693  49230    2799   2189 -0.023246\n",
      "72694  51399    5997   2189 -0.023439\n",
      "72695  19387   55215  51257 -0.024790\n",
      "72696  49474    6272   2189 -0.033044\n",
      "\n",
      "[72697 rows x 4 columns]\n"
     ]
    }
   ],
   "source": [
    "input_genes = genes[0:12]\n",
    "print(input_genes)\n",
    "newgenes = call_biggim(input_genes, tissues, average_columns=True, return_genes=True, N=13)\n"
   ]
  },
  {
   "cell_type": "code",
   "execution_count": 33,
   "metadata": {
    "collapsed": false,
    "deletable": true,
    "editable": true,
    "scrolled": true
   },
   "outputs": [
    {
     "name": "stdout",
     "output_type": "stream",
     "text": [
      "All genes\n",
      "['2178', '890', '3434', '5888', '672', '3430', '2175', '4600', '79682', '3437']\n",
      "10\n",
      "['5888', '2175', '2178']\n",
      "3\n"
     ]
    }
   ],
   "source": [
    "print('All genes')\n",
    "newgenes = list(set(newgenes))\n",
    "newgenes = list(set(newgenes)-set(input_genes))\n",
    "print(newgenes)\n",
    "print(len(newgenes))\n",
    "overlapgenes = list(set(newgenes).intersection(genes[12:]))\n",
    "print(overlapgenes)\n",
    "print(len(overlapgenes))"
   ]
  },
  {
   "cell_type": "markdown",
   "metadata": {
    "deletable": true,
    "editable": true
   },
   "source": [
    "## Getting Interacting Genes \n",
    "Input all 22 FA genes, add 200"
   ]
  },
  {
   "cell_type": "code",
   "execution_count": 34,
   "metadata": {
    "collapsed": false,
    "deletable": true,
    "editable": true,
    "scrolled": true
   },
   "outputs": [
    {
     "name": "stdout",
     "output_type": "stream",
     "text": [
      "Sent: GET http://biggim.ncats.io/api/metadata/tissue/esophagus?None\n",
      "Sent: GET http://biggim.ncats.io/api/metadata/tissue/hematopoietic_system?None\n",
      "Sent: GET http://biggim.ncats.io/api/metadata/tissue/neck?None\n",
      "Sent: GET http://biggim.ncats.io/api/metadata/tissue/trachea?None\n",
      "Returned 56 Big GIM columns\n",
      "['GIANT_hematopoietic_stem_cell_KnownFunctionalInteraction', 'GIANT_blood_platelet_KnownFunctionalInteraction', 'GIANT_lymphocyte_ProbabilityOfFunctionalInteraction', 'GTEx_Blood_Correlation', 'GIANT_neutrophil_KnownFunctionalInteraction', 'GIANT_natural_killer_cell_ProbabilityOfFunctionalInteraction', 'GIANT_serum_KnownFunctionalInteraction', 'GIANT_granulocyte_ProbabilityOfFunctionalInteraction', 'GIANT_esophagus_KnownFunctionalInteraction', 'GTEx_Spleen_Correlation', 'GIANT_megakaryocyte_KnownFunctionalInteraction', 'GIANT_mononuclear_phagocyte_KnownFunctionalInteraction', 'GIANT_monocyte_ProbabilityOfFunctionalInteraction', 'GIANT_tonsil_KnownFunctionalInteraction', 'GIANT_lymphocyte_KnownFunctionalInteraction', 'GIANT_dendritic_cell_KnownFunctionalInteraction', 'GIANT_blood_plasma_KnownFunctionalInteraction', 'GIANT_dendritic_cell_ProbabilityOfFunctionalInteraction', 'GIANT_blood_KnownFunctionalInteraction', 'GIANT_t_lymphocyte_KnownFunctionalInteraction', 'GIANT_blood_platelet_ProbabilityOfFunctionalInteraction', 'GIANT_blood_ProbabilityOfFunctionalInteraction', 'GIANT_megakaryocyte_ProbabilityOfFunctionalInteraction', 'GIANT_hematopoietic_stem_cell_ProbabilityOfFunctionalInteraction', 'GIANT_natural_killer_cell_KnownFunctionalInteraction', 'GIANT_trachea_KnownFunctionalInteraction', 'GIANT_b_lymphocyte_ProbabilityOfFunctionalInteraction', 'GIANT_thyroid_gland_KnownFunctionalInteraction', 'GIANT_lymph_node_KnownFunctionalInteraction', 'GIANT_trachea_ProbabilityOfFunctionalInteraction', 'GIANT_neutrophil_ProbabilityOfFunctionalInteraction', 'GIANT_macrophage_ProbabilityOfFunctionalInteraction', 'GIANT_monocyte_KnownFunctionalInteraction', 'GIANT_thymocyte_KnownFunctionalInteraction', 'GIANT_esophagus_ProbabilityOfFunctionalInteraction', 'GIANT_macrophage_KnownFunctionalInteraction', 'GIANT_blood_plasma_ProbabilityOfFunctionalInteraction', 'GIANT_serum_ProbabilityOfFunctionalInteraction', 'GIANT_spleen_KnownFunctionalInteraction', 'GIANT_b_lymphocyte_KnownFunctionalInteraction', 'GIANT_eosinophil_KnownFunctionalInteraction', 'GIANT_leukocyte_KnownFunctionalInteraction', 'GIANT_granulocyte_KnownFunctionalInteraction', 'GIANT_thymocyte_ProbabilityOfFunctionalInteraction', 'GIANT_mononuclear_phagocyte_ProbabilityOfFunctionalInteraction', 'GIANT_lymph_node_ProbabilityOfFunctionalInteraction', 'GIANT_basophil_ProbabilityOfFunctionalInteraction', 'GIANT_thyroid_gland_ProbabilityOfFunctionalInteraction', 'GIANT_basophil_KnownFunctionalInteraction', 'GIANT_tonsil_ProbabilityOfFunctionalInteraction', 'GIANT_t_lymphocyte_ProbabilityOfFunctionalInteraction', 'GIANT_spleen_ProbabilityOfFunctionalInteraction', 'GIANT_eosinophil_ProbabilityOfFunctionalInteraction', 'GIANT_leukocyte_ProbabilityOfFunctionalInteraction', 'GTEx_Esophagus_Correlation', 'GTEx_Thyroid_Correlation']\n",
      "Sent: GET http://biggim.ncats.io/api/biggim/query?restriction_gt=GIANT_hematopoietic_stem_cell_KnownFunctionalInteraction%2C-2.0%2CGIANT_blood_platelet_KnownFunctionalInteraction%2C-2.0%2CGIANT_lymphocyte_ProbabilityOfFunctionalInteraction%2C-2.0%2CGTEx_Blood_Correlation%2C-2.0%2CGIANT_neutrophil_KnownFunctionalInteraction%2C-2.0%2CGIANT_natural_killer_cell_ProbabilityOfFunctionalInteraction%2C-2.0%2CGIANT_serum_KnownFunctionalInteraction%2C-2.0%2CGIANT_granulocyte_ProbabilityOfFunctionalInteraction%2C-2.0%2CGIANT_esophagus_KnownFunctionalInteraction%2C-2.0%2CGTEx_Spleen_Correlation%2C-2.0%2CGIANT_megakaryocyte_KnownFunctionalInteraction%2C-2.0%2CGIANT_mononuclear_phagocyte_KnownFunctionalInteraction%2C-2.0%2CGIANT_monocyte_ProbabilityOfFunctionalInteraction%2C-2.0%2CGIANT_tonsil_KnownFunctionalInteraction%2C-2.0%2CGIANT_lymphocyte_KnownFunctionalInteraction%2C-2.0%2CGIANT_dendritic_cell_KnownFunctionalInteraction%2C-2.0%2CGIANT_blood_plasma_KnownFunctionalInteraction%2C-2.0%2CGIANT_dendritic_cell_ProbabilityOfFunctionalInteraction%2C-2.0%2CGIANT_blood_KnownFunctionalInteraction%2C-2.0%2CGIANT_t_lymphocyte_KnownFunctionalInteraction%2C-2.0%2CGIANT_blood_platelet_ProbabilityOfFunctionalInteraction%2C-2.0%2CGIANT_blood_ProbabilityOfFunctionalInteraction%2C-2.0%2CGIANT_megakaryocyte_ProbabilityOfFunctionalInteraction%2C-2.0%2CGIANT_hematopoietic_stem_cell_ProbabilityOfFunctionalInteraction%2C-2.0%2CGIANT_natural_killer_cell_KnownFunctionalInteraction%2C-2.0%2CGIANT_trachea_KnownFunctionalInteraction%2C-2.0%2CGIANT_b_lymphocyte_ProbabilityOfFunctionalInteraction%2C-2.0%2CGIANT_thyroid_gland_KnownFunctionalInteraction%2C-2.0%2CGIANT_lymph_node_KnownFunctionalInteraction%2C-2.0%2CGIANT_trachea_ProbabilityOfFunctionalInteraction%2C-2.0%2CGIANT_neutrophil_ProbabilityOfFunctionalInteraction%2C-2.0%2CGIANT_macrophage_ProbabilityOfFunctionalInteraction%2C-2.0%2CGIANT_monocyte_KnownFunctionalInteraction%2C-2.0%2CGIANT_thymocyte_KnownFunctionalInteraction%2C-2.0%2CGIANT_esophagus_ProbabilityOfFunctionalInteraction%2C-2.0%2CGIANT_macrophage_KnownFunctionalInteraction%2C-2.0%2CGIANT_blood_plasma_ProbabilityOfFunctionalInteraction%2C-2.0%2CGIANT_serum_ProbabilityOfFunctionalInteraction%2C-2.0%2CGIANT_spleen_KnownFunctionalInteraction%2C-2.0%2CGIANT_b_lymphocyte_KnownFunctionalInteraction%2C-2.0%2CGIANT_eosinophil_KnownFunctionalInteraction%2C-2.0%2CGIANT_leukocyte_KnownFunctionalInteraction%2C-2.0%2CGIANT_granulocyte_KnownFunctionalInteraction%2C-2.0%2CGIANT_thymocyte_ProbabilityOfFunctionalInteraction%2C-2.0%2CGIANT_mononuclear_phagocyte_ProbabilityOfFunctionalInteraction%2C-2.0%2CGIANT_lymph_node_ProbabilityOfFunctionalInteraction%2C-2.0%2CGIANT_basophil_ProbabilityOfFunctionalInteraction%2C-2.0%2CGIANT_thyroid_gland_ProbabilityOfFunctionalInteraction%2C-2.0%2CGIANT_basophil_KnownFunctionalInteraction%2C-2.0%2CGIANT_tonsil_ProbabilityOfFunctionalInteraction%2C-2.0%2CGIANT_t_lymphocyte_ProbabilityOfFunctionalInteraction%2C-2.0%2CGIANT_spleen_ProbabilityOfFunctionalInteraction%2C-2.0%2CGIANT_eosinophil_ProbabilityOfFunctionalInteraction%2C-2.0%2CGIANT_leukocyte_ProbabilityOfFunctionalInteraction%2C-2.0%2CGTEx_Esophagus_Correlation%2C-2.0%2CGTEx_Thyroid_Correlation%2C-2.0&average_columns=True&table=BigGIM_70_v1&columns=GIANT_hematopoietic_stem_cell_KnownFunctionalInteraction%2CGIANT_blood_platelet_KnownFunctionalInteraction%2CGIANT_lymphocyte_ProbabilityOfFunctionalInteraction%2CGTEx_Blood_Correlation%2CGIANT_neutrophil_KnownFunctionalInteraction%2CGIANT_natural_killer_cell_ProbabilityOfFunctionalInteraction%2CGIANT_serum_KnownFunctionalInteraction%2CGIANT_granulocyte_ProbabilityOfFunctionalInteraction%2CGIANT_esophagus_KnownFunctionalInteraction%2CGTEx_Spleen_Correlation%2CGIANT_megakaryocyte_KnownFunctionalInteraction%2CGIANT_mononuclear_phagocyte_KnownFunctionalInteraction%2CGIANT_monocyte_ProbabilityOfFunctionalInteraction%2CGIANT_tonsil_KnownFunctionalInteraction%2CGIANT_lymphocyte_KnownFunctionalInteraction%2CGIANT_dendritic_cell_KnownFunctionalInteraction%2CGIANT_blood_plasma_KnownFunctionalInteraction%2CGIANT_dendritic_cell_ProbabilityOfFunctionalInteraction%2CGIANT_blood_KnownFunctionalInteraction%2CGIANT_t_lymphocyte_KnownFunctionalInteraction%2CGIANT_blood_platelet_ProbabilityOfFunctionalInteraction%2CGIANT_blood_ProbabilityOfFunctionalInteraction%2CGIANT_megakaryocyte_ProbabilityOfFunctionalInteraction%2CGIANT_hematopoietic_stem_cell_ProbabilityOfFunctionalInteraction%2CGIANT_natural_killer_cell_KnownFunctionalInteraction%2CGIANT_trachea_KnownFunctionalInteraction%2CGIANT_b_lymphocyte_ProbabilityOfFunctionalInteraction%2CGIANT_thyroid_gland_KnownFunctionalInteraction%2CGIANT_lymph_node_KnownFunctionalInteraction%2CGIANT_trachea_ProbabilityOfFunctionalInteraction%2CGIANT_neutrophil_ProbabilityOfFunctionalInteraction%2CGIANT_macrophage_ProbabilityOfFunctionalInteraction%2CGIANT_monocyte_KnownFunctionalInteraction%2CGIANT_thymocyte_KnownFunctionalInteraction%2CGIANT_esophagus_ProbabilityOfFunctionalInteraction%2CGIANT_macrophage_KnownFunctionalInteraction%2CGIANT_blood_plasma_ProbabilityOfFunctionalInteraction%2CGIANT_serum_ProbabilityOfFunctionalInteraction%2CGIANT_spleen_KnownFunctionalInteraction%2CGIANT_b_lymphocyte_KnownFunctionalInteraction%2CGIANT_eosinophil_KnownFunctionalInteraction%2CGIANT_leukocyte_KnownFunctionalInteraction%2CGIANT_granulocyte_KnownFunctionalInteraction%2CGIANT_thymocyte_ProbabilityOfFunctionalInteraction%2CGIANT_mononuclear_phagocyte_ProbabilityOfFunctionalInteraction%2CGIANT_lymph_node_ProbabilityOfFunctionalInteraction%2CGIANT_basophil_ProbabilityOfFunctionalInteraction%2CGIANT_thyroid_gland_ProbabilityOfFunctionalInteraction%2CGIANT_basophil_KnownFunctionalInteraction%2CGIANT_tonsil_ProbabilityOfFunctionalInteraction%2CGIANT_t_lymphocyte_ProbabilityOfFunctionalInteraction%2CGIANT_spleen_ProbabilityOfFunctionalInteraction%2CGIANT_eosinophil_ProbabilityOfFunctionalInteraction%2CGIANT_leukocyte_ProbabilityOfFunctionalInteraction%2CGTEx_Esophagus_Correlation%2CGTEx_Thyroid_Correlation&ids1=10459%2C4599%2C675%2C7516%2C79728%2C57697%2C29089%2C2189%2C2177%2C84464%2C2188%2C55215%2C55120%2C5888%2C2072%2C2175%2C2176%2C2187%2C2178%2C5889%2C7124%2C83990&limit=1000000\n",
      "{\n",
      "  \"status\": \"submitted\",\n",
      "  \"request_id\": \"c76dc9d9-3d00-4016-8e56-d4844351d9bf\"\n",
      "}\n",
      "Sent: GET http://biggim.ncats.io/api/biggim/status/c76dc9d9-3d00-4016-8e56-d4844351d9bf?None\n",
      "{\n",
      "  \"status\": \"running\",\n",
      "  \"request_id\": \"c76dc9d9-3d00-4016-8e56-d4844351d9bf\",\n",
      "  \"message\": \"Query job is running.\"\n",
      "}\n",
      "Checking again\n",
      "Sent: GET http://biggim.ncats.io/api/biggim/status/c76dc9d9-3d00-4016-8e56-d4844351d9bf?None\n",
      "{\n",
      "  \"status\": \"running\",\n",
      "  \"request_id\": \"c76dc9d9-3d00-4016-8e56-d4844351d9bf\",\n",
      "  \"message\": \"Query job is running.\"\n",
      "}\n",
      "Checking again\n",
      "Sent: GET http://biggim.ncats.io/api/biggim/status/c76dc9d9-3d00-4016-8e56-d4844351d9bf?None\n",
      "{\n",
      "  \"status\": \"running\",\n",
      "  \"request_id\": \"c76dc9d9-3d00-4016-8e56-d4844351d9bf\",\n",
      "  \"message\": \"Query job is running.\"\n",
      "}\n",
      "Checking again\n",
      "Sent: GET http://biggim.ncats.io/api/biggim/status/c76dc9d9-3d00-4016-8e56-d4844351d9bf?None\n",
      "{\n",
      "  \"status\": \"running\",\n",
      "  \"request_id\": \"c76dc9d9-3d00-4016-8e56-d4844351d9bf\",\n",
      "  \"message\": \"Query job is running.\"\n",
      "}\n",
      "Checking again\n",
      "Sent: GET http://biggim.ncats.io/api/biggim/status/c76dc9d9-3d00-4016-8e56-d4844351d9bf?None\n",
      "{\n",
      "  \"status\": \"running\",\n",
      "  \"request_id\": \"c76dc9d9-3d00-4016-8e56-d4844351d9bf\",\n",
      "  \"message\": \"Query job is running.\"\n",
      "}\n",
      "Checking again\n",
      "Sent: GET http://biggim.ncats.io/api/biggim/status/c76dc9d9-3d00-4016-8e56-d4844351d9bf?None\n",
      "{\n",
      "  \"status\": \"complete\",\n",
      "  \"request_uri\": [\n",
      "    \"https://storage.googleapis.com/ncats_bigquery_results/c76dc9d9-3d00-4016-8e56-d4844351d9bf000000000000.csv\"\n",
      "  ],\n",
      "  \"size\": \"6.13 MB\",\n",
      "  \"request_id\": \"c76dc9d9-3d00-4016-8e56-d4844351d9bf\",\n",
      "  \"processed_data\": \"21.36 GB\",\n",
      "  \"rows\": 137341\n",
      "}\n",
      "            Gene1  Gene2      mean\n",
      "0           84464  23354  0.084812\n",
      "1           57697    322  0.000872\n",
      "2           10459   6927  0.033787\n",
      "3           55215   5332  0.056363\n",
      "4           57697  10298  0.040383\n",
      "5           84464  83856  0.062737\n",
      "6           84464   2230  0.031605\n",
      "7           55215  23492 -0.000954\n",
      "8            5889   4646  0.012994\n",
      "9            2176   2166  0.030518\n",
      "10          83990   2631  0.010705\n",
      "11          79728  55170  0.088198\n",
      "12          83990    572 -0.005014\n",
      "13          55120   6504  0.053099\n",
      "14          84464  63925  0.069087\n",
      "15          84464  83889  0.047948\n",
      "16          83990  54801  0.097157\n",
      "17          29089   2150  0.023305\n",
      "18           7516   6240  0.067369\n",
      "19          57697  22800  0.035999\n",
      "20          84464   6120  0.053116\n",
      "21          79728   2038  0.000467\n",
      "22          83990  57121  0.049337\n",
      "23          55120   1286  0.033993\n",
      "24          84464  54677  0.044477\n",
      "25          83990   4051  0.039256\n",
      "26          55120  54522  0.062739\n",
      "27           2175    662  0.059869\n",
      "28          84464   1794  0.054028\n",
      "29          55120   5074  0.067606\n",
      "...           ...    ...       ...\n",
      "137311       7023   4599  0.058569\n",
      "137312      91574   4599  0.032720\n",
      "137313     130340   4599  0.047521\n",
      "137314      56006   4599  0.038389\n",
      "137315       5996   4599  0.154677\n",
      "137316     171425   4599  0.051343\n",
      "137317      55720   4599  0.026071\n",
      "137318      79583   4599  0.045862\n",
      "137319  100131211   4599  0.042465\n",
      "137320      25766   4599  0.036926\n",
      "137321      23279   4599  0.025574\n",
      "137322     115557   4599  0.037577\n",
      "137323       6300   4599  0.030114\n",
      "137324       7430   4599  0.055457\n",
      "137325      65979   4599  0.063923\n",
      "137326       7371   4599  0.026301\n",
      "137327     127943   4599  0.051047\n",
      "137328     219293   4599  0.045663\n",
      "137329       6624   4599  0.066144\n",
      "137330      25942   4599  0.037284\n",
      "137331       6627   4599  0.047672\n",
      "137332     126282   4599  0.038350\n",
      "137333      79701   4599  0.050194\n",
      "137334     197258   4599  0.047387\n",
      "137335      27074   4599  0.220402\n",
      "137336      23729   4599  0.057292\n",
      "137337      54496   4599  0.044385\n",
      "137338      90060   4599  0.043032\n",
      "137339      55601   4599  0.303286\n",
      "137340      64769   4599  0.038869\n",
      "\n",
      "[137341 rows x 3 columns]\n",
      "         index  Gene1  Gene2      mean\n",
      "0       124228   5888    675  0.493868\n",
      "1        75108   2189   2175  0.480905\n",
      "2        35971  83990    672  0.454132\n",
      "3        37831   5888    641  0.449780\n",
      "4        93653   2189   2178  0.446432\n",
      "5       124835   2177    675  0.434108\n",
      "6        11052   5888    672  0.428837\n",
      "7        72720   2178   2175  0.423257\n",
      "8         5208   2175    672  0.410507\n",
      "9        43082   7153   5888  0.400558\n",
      "10       90273   2178   2177  0.391341\n",
      "11       30438   4599   3430  0.387923\n",
      "12       17948   5888   4175  0.385983\n",
      "13       34687   5888   4173  0.384679\n",
      "14       82318   2178   2176  0.384392\n",
      "15       33441   4599   3434  0.383398\n",
      "16        1970    675    672  0.380543\n",
      "17       21387   2189    890  0.379373\n",
      "18      127670  79682  55215  0.379271\n",
      "19        9624   4599   3437  0.378202\n",
      "20       44350  79682   5888  0.372223\n",
      "21      135963   4600   4599  0.372173\n",
      "22       11922  55215   4085  0.371241\n",
      "23       27027  55215   7153  0.369765\n",
      "24       15843  55215  51203  0.367382\n",
      "25       14688   5889   1434  0.366892\n",
      "26       32312   4599   3431  0.365500\n",
      "27      136783  10561   4599  0.365062\n",
      "28       41395   7083   5888  0.364190\n",
      "29      136242  10346   4599  0.364008\n",
      "...        ...    ...    ...       ...\n",
      "137311   78721   6252   2175 -0.020917\n",
      "137312  112428   4240   2189 -0.021005\n",
      "137313   37999  83990  51257 -0.021028\n",
      "137314  119329   3029    675 -0.021074\n",
      "137315   19860  55215   8742 -0.021078\n",
      "137316   75889   6840   2175 -0.021106\n",
      "137317   17951  83990  11070 -0.021180\n",
      "137318   44361  64748   5888 -0.021189\n",
      "137319   94141   3745   2178 -0.021263\n",
      "137320  110575  83716   2189 -0.021623\n",
      "137321   77578   5577   2175 -0.021632\n",
      "137322  122703  64748    675 -0.021805\n",
      "137323   47975   6337   5889 -0.021826\n",
      "137324   11494  55120   6272 -0.021852\n",
      "137325  127777  64748  55215 -0.021948\n",
      "137326  113351   8660   2189 -0.022250\n",
      "137327  120960  79641    675 -0.022922\n",
      "137328  111193   7099   2189 -0.023024\n",
      "137329  116006   9332   2189 -0.023219\n",
      "137330  110750   2799   2189 -0.023246\n",
      "137331  113975   5997   2189 -0.023439\n",
      "137332   76990   4128   2175 -0.023441\n",
      "137333    6114  83990  65018 -0.023564\n",
      "137334   74079   9236   2175 -0.023875\n",
      "137335   16831  55215  51257 -0.024790\n",
      "137336   94485  23500   2178 -0.026011\n",
      "137337   93608  84981   2178 -0.026329\n",
      "137338   94605   7079   2178 -0.026662\n",
      "137339   74670   8660   2175 -0.027695\n",
      "137340  111899   6272   2189 -0.033044\n",
      "\n",
      "[137341 rows x 4 columns]\n"
     ]
    }
   ],
   "source": [
    "newgenes = call_biggim(genes, tissues, average_columns=True, return_genes=True, N=200)"
   ]
  },
  {
   "cell_type": "code",
   "execution_count": 35,
   "metadata": {
    "collapsed": false,
    "deletable": true,
    "editable": true,
    "scrolled": true
   },
   "outputs": [
    {
     "name": "stdout",
     "output_type": "stream",
     "text": [
      "['10036', '10038', '10051', '10112', '10198', '1033', '10346', '10403', '10459', '10459', '10561', '1058', '10592', '10615', '1062', '1063', '1070', '10733', '10926', '10964', '11004', '11065', '11073', '1111', '11130', '11169', '11200', '11339', '1164', '1434', '146909', '1479', '1633', '1719', '1786', '1854', '2072', '2146', '2175', '2175', '2176', '2176', '2177', '2177', '2178', '2178', '2187', '2188', '2189', '2189', '2237', '22974', '23234', '23262', '23310', '23586', '24137', '2537', '25788', '25842', '259266', '26271', '2633', '27338', '29028', '29089', '29089', '29127', '3014', '3070', '3109', '3123', '3148', '3161', '3383', '3429', '3430', '3431', '3433', '3434', '3437', '3553', '3627', '3659', '3832', '3838', '3965', '4001', '4061', '4085', '4171', '4172', '4173', '4174', '4175', '4176', '4288', '4436', '4599', '4599', '4600', '4605', '4678', '4938', '4939', '4998', '5001', '51001', '51053', '5111', '51203', '51512', '51514', '51659', '5359', '5378', '5427', '5437', '54739', '54809', '54892', '55055', '55120', '55120', '55143', '55165', '55215', '55215', '55319', '55355', '55388', '5557', '55601', '55635', '55706', '55723', '55839', '55872', '56992', '57405', '57697', '580', '5888', '5888', '5889', '5889', '5932', '5983', '5984', '5985', '6119', '6240', '6241', '641', '64108', '64135', '64151', '64761', '6491', '6672', '672', '6737', '675', '675', '6772', '6790', '684', '699', '701', '7072', '7083', '7112', '7124', '7124', '7128', '7153', '7157', '7272', '7298', '7398', '7411', '7468', '7516', '79017', '79682', '79728', '81620', '8317', '834', '83461', '83990', '83990', '84464', '8458', '8519', '8542', '86', '8624', '8638', '8726', '890', '891', '899', '90417', '9055', '91543', '9156', '9212', '9232', '9246', '9319', '958', '9631', '9636', '9700', '9735', '9768', '9787', '9833', '9837', '990', '991', '9918', '9928']\n",
      "224\n"
     ]
    }
   ],
   "source": [
    "print(newgenes)\n",
    "print(len(newgenes))"
   ]
  },
  {
   "cell_type": "markdown",
   "metadata": {
    "deletable": true,
    "editable": true
   },
   "source": [
    "## Running Big GIM for the second round, now producing the interaction matrix (df) that can serve as an input for DDOT"
   ]
  },
  {
   "cell_type": "code",
   "execution_count": 37,
   "metadata": {
    "collapsed": false,
    "deletable": true,
    "editable": true
   },
   "outputs": [
    {
     "name": "stdout",
     "output_type": "stream",
     "text": [
      "Sent: GET http://biggim.ncats.io/api/metadata/tissue/esophagus?None\n",
      "Sent: GET http://biggim.ncats.io/api/metadata/tissue/hematopoietic_system?None\n",
      "Sent: GET http://biggim.ncats.io/api/metadata/tissue/neck?None\n",
      "Sent: GET http://biggim.ncats.io/api/metadata/tissue/trachea?None\n",
      "Returned 56 Big GIM columns\n",
      "['GIANT_hematopoietic_stem_cell_KnownFunctionalInteraction', 'GIANT_blood_platelet_KnownFunctionalInteraction', 'GIANT_lymphocyte_ProbabilityOfFunctionalInteraction', 'GTEx_Blood_Correlation', 'GIANT_neutrophil_KnownFunctionalInteraction', 'GIANT_natural_killer_cell_ProbabilityOfFunctionalInteraction', 'GIANT_serum_KnownFunctionalInteraction', 'GIANT_granulocyte_ProbabilityOfFunctionalInteraction', 'GIANT_esophagus_KnownFunctionalInteraction', 'GTEx_Spleen_Correlation', 'GIANT_megakaryocyte_KnownFunctionalInteraction', 'GIANT_mononuclear_phagocyte_KnownFunctionalInteraction', 'GIANT_monocyte_ProbabilityOfFunctionalInteraction', 'GIANT_tonsil_KnownFunctionalInteraction', 'GIANT_lymphocyte_KnownFunctionalInteraction', 'GIANT_dendritic_cell_KnownFunctionalInteraction', 'GIANT_blood_plasma_KnownFunctionalInteraction', 'GIANT_dendritic_cell_ProbabilityOfFunctionalInteraction', 'GIANT_blood_KnownFunctionalInteraction', 'GIANT_t_lymphocyte_KnownFunctionalInteraction', 'GIANT_blood_platelet_ProbabilityOfFunctionalInteraction', 'GIANT_blood_ProbabilityOfFunctionalInteraction', 'GIANT_megakaryocyte_ProbabilityOfFunctionalInteraction', 'GIANT_hematopoietic_stem_cell_ProbabilityOfFunctionalInteraction', 'GIANT_natural_killer_cell_KnownFunctionalInteraction', 'GIANT_trachea_KnownFunctionalInteraction', 'GIANT_b_lymphocyte_ProbabilityOfFunctionalInteraction', 'GIANT_thyroid_gland_KnownFunctionalInteraction', 'GIANT_lymph_node_KnownFunctionalInteraction', 'GIANT_trachea_ProbabilityOfFunctionalInteraction', 'GIANT_neutrophil_ProbabilityOfFunctionalInteraction', 'GIANT_macrophage_ProbabilityOfFunctionalInteraction', 'GIANT_monocyte_KnownFunctionalInteraction', 'GIANT_thymocyte_KnownFunctionalInteraction', 'GIANT_esophagus_ProbabilityOfFunctionalInteraction', 'GIANT_macrophage_KnownFunctionalInteraction', 'GIANT_blood_plasma_ProbabilityOfFunctionalInteraction', 'GIANT_serum_ProbabilityOfFunctionalInteraction', 'GIANT_spleen_KnownFunctionalInteraction', 'GIANT_b_lymphocyte_KnownFunctionalInteraction', 'GIANT_eosinophil_KnownFunctionalInteraction', 'GIANT_leukocyte_KnownFunctionalInteraction', 'GIANT_granulocyte_KnownFunctionalInteraction', 'GIANT_thymocyte_ProbabilityOfFunctionalInteraction', 'GIANT_mononuclear_phagocyte_ProbabilityOfFunctionalInteraction', 'GIANT_lymph_node_ProbabilityOfFunctionalInteraction', 'GIANT_basophil_ProbabilityOfFunctionalInteraction', 'GIANT_thyroid_gland_ProbabilityOfFunctionalInteraction', 'GIANT_basophil_KnownFunctionalInteraction', 'GIANT_tonsil_ProbabilityOfFunctionalInteraction', 'GIANT_t_lymphocyte_ProbabilityOfFunctionalInteraction', 'GIANT_spleen_ProbabilityOfFunctionalInteraction', 'GIANT_eosinophil_ProbabilityOfFunctionalInteraction', 'GIANT_leukocyte_ProbabilityOfFunctionalInteraction', 'GTEx_Esophagus_Correlation', 'GTEx_Thyroid_Correlation']\n",
      "Sent: GET http://biggim.ncats.io/api/biggim/query?restriction_gt=GIANT_hematopoietic_stem_cell_KnownFunctionalInteraction%2C-2.0%2CGIANT_blood_platelet_KnownFunctionalInteraction%2C-2.0%2CGIANT_lymphocyte_ProbabilityOfFunctionalInteraction%2C-2.0%2CGTEx_Blood_Correlation%2C-2.0%2CGIANT_neutrophil_KnownFunctionalInteraction%2C-2.0%2CGIANT_natural_killer_cell_ProbabilityOfFunctionalInteraction%2C-2.0%2CGIANT_serum_KnownFunctionalInteraction%2C-2.0%2CGIANT_granulocyte_ProbabilityOfFunctionalInteraction%2C-2.0%2CGIANT_esophagus_KnownFunctionalInteraction%2C-2.0%2CGTEx_Spleen_Correlation%2C-2.0%2CGIANT_megakaryocyte_KnownFunctionalInteraction%2C-2.0%2CGIANT_mononuclear_phagocyte_KnownFunctionalInteraction%2C-2.0%2CGIANT_monocyte_ProbabilityOfFunctionalInteraction%2C-2.0%2CGIANT_tonsil_KnownFunctionalInteraction%2C-2.0%2CGIANT_lymphocyte_KnownFunctionalInteraction%2C-2.0%2CGIANT_dendritic_cell_KnownFunctionalInteraction%2C-2.0%2CGIANT_blood_plasma_KnownFunctionalInteraction%2C-2.0%2CGIANT_dendritic_cell_ProbabilityOfFunctionalInteraction%2C-2.0%2CGIANT_blood_KnownFunctionalInteraction%2C-2.0%2CGIANT_t_lymphocyte_KnownFunctionalInteraction%2C-2.0%2CGIANT_blood_platelet_ProbabilityOfFunctionalInteraction%2C-2.0%2CGIANT_blood_ProbabilityOfFunctionalInteraction%2C-2.0%2CGIANT_megakaryocyte_ProbabilityOfFunctionalInteraction%2C-2.0%2CGIANT_hematopoietic_stem_cell_ProbabilityOfFunctionalInteraction%2C-2.0%2CGIANT_natural_killer_cell_KnownFunctionalInteraction%2C-2.0%2CGIANT_trachea_KnownFunctionalInteraction%2C-2.0%2CGIANT_b_lymphocyte_ProbabilityOfFunctionalInteraction%2C-2.0%2CGIANT_thyroid_gland_KnownFunctionalInteraction%2C-2.0%2CGIANT_lymph_node_KnownFunctionalInteraction%2C-2.0%2CGIANT_trachea_ProbabilityOfFunctionalInteraction%2C-2.0%2CGIANT_neutrophil_ProbabilityOfFunctionalInteraction%2C-2.0%2CGIANT_macrophage_ProbabilityOfFunctionalInteraction%2C-2.0%2CGIANT_monocyte_KnownFunctionalInteraction%2C-2.0%2CGIANT_thymocyte_KnownFunctionalInteraction%2C-2.0%2CGIANT_esophagus_ProbabilityOfFunctionalInteraction%2C-2.0%2CGIANT_macrophage_KnownFunctionalInteraction%2C-2.0%2CGIANT_blood_plasma_ProbabilityOfFunctionalInteraction%2C-2.0%2CGIANT_serum_ProbabilityOfFunctionalInteraction%2C-2.0%2CGIANT_spleen_KnownFunctionalInteraction%2C-2.0%2CGIANT_b_lymphocyte_KnownFunctionalInteraction%2C-2.0%2CGIANT_eosinophil_KnownFunctionalInteraction%2C-2.0%2CGIANT_leukocyte_KnownFunctionalInteraction%2C-2.0%2CGIANT_granulocyte_KnownFunctionalInteraction%2C-2.0%2CGIANT_thymocyte_ProbabilityOfFunctionalInteraction%2C-2.0%2CGIANT_mononuclear_phagocyte_ProbabilityOfFunctionalInteraction%2C-2.0%2CGIANT_lymph_node_ProbabilityOfFunctionalInteraction%2C-2.0%2CGIANT_basophil_ProbabilityOfFunctionalInteraction%2C-2.0%2CGIANT_thyroid_gland_ProbabilityOfFunctionalInteraction%2C-2.0%2CGIANT_basophil_KnownFunctionalInteraction%2C-2.0%2CGIANT_tonsil_ProbabilityOfFunctionalInteraction%2C-2.0%2CGIANT_t_lymphocyte_ProbabilityOfFunctionalInteraction%2C-2.0%2CGIANT_spleen_ProbabilityOfFunctionalInteraction%2C-2.0%2CGIANT_eosinophil_ProbabilityOfFunctionalInteraction%2C-2.0%2CGIANT_leukocyte_ProbabilityOfFunctionalInteraction%2C-2.0%2CGTEx_Esophagus_Correlation%2C-2.0%2CGTEx_Thyroid_Correlation%2C-2.0&average_columns=True&table=BigGIM_70_v1&columns=GIANT_hematopoietic_stem_cell_KnownFunctionalInteraction%2CGIANT_blood_platelet_KnownFunctionalInteraction%2CGIANT_lymphocyte_ProbabilityOfFunctionalInteraction%2CGTEx_Blood_Correlation%2CGIANT_neutrophil_KnownFunctionalInteraction%2CGIANT_natural_killer_cell_ProbabilityOfFunctionalInteraction%2CGIANT_serum_KnownFunctionalInteraction%2CGIANT_granulocyte_ProbabilityOfFunctionalInteraction%2CGIANT_esophagus_KnownFunctionalInteraction%2CGTEx_Spleen_Correlation%2CGIANT_megakaryocyte_KnownFunctionalInteraction%2CGIANT_mononuclear_phagocyte_KnownFunctionalInteraction%2CGIANT_monocyte_ProbabilityOfFunctionalInteraction%2CGIANT_tonsil_KnownFunctionalInteraction%2CGIANT_lymphocyte_KnownFunctionalInteraction%2CGIANT_dendritic_cell_KnownFunctionalInteraction%2CGIANT_blood_plasma_KnownFunctionalInteraction%2CGIANT_dendritic_cell_ProbabilityOfFunctionalInteraction%2CGIANT_blood_KnownFunctionalInteraction%2CGIANT_t_lymphocyte_KnownFunctionalInteraction%2CGIANT_blood_platelet_ProbabilityOfFunctionalInteraction%2CGIANT_blood_ProbabilityOfFunctionalInteraction%2CGIANT_megakaryocyte_ProbabilityOfFunctionalInteraction%2CGIANT_hematopoietic_stem_cell_ProbabilityOfFunctionalInteraction%2CGIANT_natural_killer_cell_KnownFunctionalInteraction%2CGIANT_trachea_KnownFunctionalInteraction%2CGIANT_b_lymphocyte_ProbabilityOfFunctionalInteraction%2CGIANT_thyroid_gland_KnownFunctionalInteraction%2CGIANT_lymph_node_KnownFunctionalInteraction%2CGIANT_trachea_ProbabilityOfFunctionalInteraction%2CGIANT_neutrophil_ProbabilityOfFunctionalInteraction%2CGIANT_macrophage_ProbabilityOfFunctionalInteraction%2CGIANT_monocyte_KnownFunctionalInteraction%2CGIANT_thymocyte_KnownFunctionalInteraction%2CGIANT_esophagus_ProbabilityOfFunctionalInteraction%2CGIANT_macrophage_KnownFunctionalInteraction%2CGIANT_blood_plasma_ProbabilityOfFunctionalInteraction%2CGIANT_serum_ProbabilityOfFunctionalInteraction%2CGIANT_spleen_KnownFunctionalInteraction%2CGIANT_b_lymphocyte_KnownFunctionalInteraction%2CGIANT_eosinophil_KnownFunctionalInteraction%2CGIANT_leukocyte_KnownFunctionalInteraction%2CGIANT_granulocyte_KnownFunctionalInteraction%2CGIANT_thymocyte_ProbabilityOfFunctionalInteraction%2CGIANT_mononuclear_phagocyte_ProbabilityOfFunctionalInteraction%2CGIANT_lymph_node_ProbabilityOfFunctionalInteraction%2CGIANT_basophil_ProbabilityOfFunctionalInteraction%2CGIANT_thyroid_gland_ProbabilityOfFunctionalInteraction%2CGIANT_basophil_KnownFunctionalInteraction%2CGIANT_tonsil_ProbabilityOfFunctionalInteraction%2CGIANT_t_lymphocyte_ProbabilityOfFunctionalInteraction%2CGIANT_spleen_ProbabilityOfFunctionalInteraction%2CGIANT_eosinophil_ProbabilityOfFunctionalInteraction%2CGIANT_leukocyte_ProbabilityOfFunctionalInteraction%2CGTEx_Esophagus_Correlation%2CGTEx_Thyroid_Correlation&ids1=10036%2C10038%2C10051%2C10112%2C10198%2C1033%2C10346%2C10403%2C10459%2C10459%2C10561%2C1058%2C10592%2C10615%2C1062%2C1063%2C1070%2C10733%2C10926%2C10964%2C11004%2C11065%2C11073%2C1111%2C11130%2C11169%2C11200%2C11339%2C1164%2C1434%2C146909%2C1479%2C1633%2C1719%2C1786%2C1854%2C2072%2C2146%2C2175%2C2175%2C2176%2C2176%2C2177%2C2177%2C2178%2C2178%2C2187%2C2188%2C2189%2C2189%2C2237%2C22974%2C23234%2C23262%2C23310%2C23586%2C24137%2C2537%2C25788%2C25842%2C259266%2C26271%2C2633%2C27338%2C29028%2C29089%2C29089%2C29127%2C3014%2C3070%2C3109%2C3123%2C3148%2C3161%2C3383%2C3429%2C3430%2C3431%2C3433%2C3434%2C3437%2C3553%2C3627%2C3659%2C3832%2C3838%2C3965%2C4001%2C4061%2C4085%2C4171%2C4172%2C4173%2C4174%2C4175%2C4176%2C4288%2C4436%2C4599%2C4599%2C4600%2C4605%2C4678%2C4938%2C4939%2C4998%2C5001%2C51001%2C51053%2C5111%2C51203%2C51512%2C51514%2C51659%2C5359%2C5378%2C5427%2C5437%2C54739%2C54809%2C54892%2C55055%2C55120%2C55120%2C55143%2C55165%2C55215%2C55215%2C55319%2C55355%2C55388%2C5557%2C55601%2C55635%2C55706%2C55723%2C55839%2C55872%2C56992%2C57405%2C57697%2C580%2C5888%2C5888%2C5889%2C5889%2C5932%2C5983%2C5984%2C5985%2C6119%2C6240%2C6241%2C641%2C64108%2C64135%2C64151%2C64761%2C6491%2C6672%2C672%2C6737%2C675%2C675%2C6772%2C6790%2C684%2C699%2C701%2C7072%2C7083%2C7112%2C7124%2C7124%2C7128%2C7153%2C7157%2C7272%2C7298%2C7398%2C7411%2C7468%2C7516%2C79017%2C79682%2C79728%2C81620%2C8317%2C834%2C83461%2C83990%2C83990%2C84464%2C8458%2C8519%2C8542%2C86%2C8624%2C8638%2C8726%2C890%2C891%2C899%2C90417%2C9055%2C91543%2C9156%2C9212%2C9232%2C9246%2C9319%2C958%2C9631%2C9636%2C9700%2C9735%2C9768%2C9787%2C9833%2C9837%2C990%2C991%2C9918%2C9928&limit=1000000&ids2=10036%2C10038%2C10051%2C10112%2C10198%2C1033%2C10346%2C10403%2C10459%2C10459%2C10561%2C1058%2C10592%2C10615%2C1062%2C1063%2C1070%2C10733%2C10926%2C10964%2C11004%2C11065%2C11073%2C1111%2C11130%2C11169%2C11200%2C11339%2C1164%2C1434%2C146909%2C1479%2C1633%2C1719%2C1786%2C1854%2C2072%2C2146%2C2175%2C2175%2C2176%2C2176%2C2177%2C2177%2C2178%2C2178%2C2187%2C2188%2C2189%2C2189%2C2237%2C22974%2C23234%2C23262%2C23310%2C23586%2C24137%2C2537%2C25788%2C25842%2C259266%2C26271%2C2633%2C27338%2C29028%2C29089%2C29089%2C29127%2C3014%2C3070%2C3109%2C3123%2C3148%2C3161%2C3383%2C3429%2C3430%2C3431%2C3433%2C3434%2C3437%2C3553%2C3627%2C3659%2C3832%2C3838%2C3965%2C4001%2C4061%2C4085%2C4171%2C4172%2C4173%2C4174%2C4175%2C4176%2C4288%2C4436%2C4599%2C4599%2C4600%2C4605%2C4678%2C4938%2C4939%2C4998%2C5001%2C51001%2C51053%2C5111%2C51203%2C51512%2C51514%2C51659%2C5359%2C5378%2C5427%2C5437%2C54739%2C54809%2C54892%2C55055%2C55120%2C55120%2C55143%2C55165%2C55215%2C55215%2C55319%2C55355%2C55388%2C5557%2C55601%2C55635%2C55706%2C55723%2C55839%2C55872%2C56992%2C57405%2C57697%2C580%2C5888%2C5888%2C5889%2C5889%2C5932%2C5983%2C5984%2C5985%2C6119%2C6240%2C6241%2C641%2C64108%2C64135%2C64151%2C64761%2C6491%2C6672%2C672%2C6737%2C675%2C675%2C6772%2C6790%2C684%2C699%2C701%2C7072%2C7083%2C7112%2C7124%2C7124%2C7128%2C7153%2C7157%2C7272%2C7298%2C7398%2C7411%2C7468%2C7516%2C79017%2C79682%2C79728%2C81620%2C8317%2C834%2C83461%2C83990%2C83990%2C84464%2C8458%2C8519%2C8542%2C86%2C8624%2C8638%2C8726%2C890%2C891%2C899%2C90417%2C9055%2C91543%2C9156%2C9212%2C9232%2C9246%2C9319%2C958%2C9631%2C9636%2C9700%2C9735%2C9768%2C9787%2C9833%2C9837%2C990%2C991%2C9918%2C9928\n",
      "{\n",
      "  \"status\": \"submitted\",\n",
      "  \"request_id\": \"ee7acb60-c56d-42f0-92ab-062258a736e0\"\n",
      "}\n",
      "Sent: GET http://biggim.ncats.io/api/biggim/status/ee7acb60-c56d-42f0-92ab-062258a736e0?None\n",
      "{\n",
      "  \"status\": \"running\",\n",
      "  \"request_id\": \"ee7acb60-c56d-42f0-92ab-062258a736e0\",\n",
      "  \"message\": \"Query job is running.\"\n",
      "}\n",
      "Checking again\n",
      "Sent: GET http://biggim.ncats.io/api/biggim/status/ee7acb60-c56d-42f0-92ab-062258a736e0?None\n",
      "{\n",
      "  \"status\": \"running\",\n",
      "  \"request_id\": \"ee7acb60-c56d-42f0-92ab-062258a736e0\",\n",
      "  \"message\": \"Query job is running.\"\n",
      "}\n",
      "Checking again\n",
      "Sent: GET http://biggim.ncats.io/api/biggim/status/ee7acb60-c56d-42f0-92ab-062258a736e0?None\n",
      "{\n",
      "  \"status\": \"running\",\n",
      "  \"request_id\": \"ee7acb60-c56d-42f0-92ab-062258a736e0\",\n",
      "  \"message\": \"Query job is running.\"\n",
      "}\n",
      "Checking again\n",
      "Sent: GET http://biggim.ncats.io/api/biggim/status/ee7acb60-c56d-42f0-92ab-062258a736e0?None\n",
      "{\n",
      "  \"status\": \"running\",\n",
      "  \"request_id\": \"ee7acb60-c56d-42f0-92ab-062258a736e0\",\n",
      "  \"message\": \"Query job is running.\"\n",
      "}\n",
      "Checking again\n",
      "Sent: GET http://biggim.ncats.io/api/biggim/status/ee7acb60-c56d-42f0-92ab-062258a736e0?None\n",
      "{\n",
      "  \"status\": \"complete\",\n",
      "  \"request_uri\": [\n",
      "    \"https://storage.googleapis.com/ncats_bigquery_results/ee7acb60-c56d-42f0-92ab-062258a736e0000000000000.csv\"\n",
      "  ],\n",
      "  \"size\": \"676.41 KB\",\n",
      "  \"request_id\": \"ee7acb60-c56d-42f0-92ab-062258a736e0\",\n",
      "  \"processed_data\": \"21.36 GB\",\n",
      "  \"rows\": 15292\n",
      "}\n"
     ]
    }
   ],
   "source": [
    "df = call_biggim(newgenes, tissues, average_columns=True, query_id2=newgenes)"
   ]
  },
  {
   "cell_type": "code",
   "execution_count": 38,
   "metadata": {
    "collapsed": false,
    "deletable": true,
    "editable": true
   },
   "outputs": [
    {
     "name": "stdout",
     "output_type": "stream",
     "text": [
      "       Gene1  Gene2      mean\n",
      "0       6672   3437  0.369842\n",
      "1      10112   9212  0.365025\n",
      "2      11169    701  0.306675\n",
      "3       4998   4085  0.261642\n",
      "4       9631   7468  0.161310\n",
      "5       8624   4173  0.294672\n",
      "6      51514  11130  0.347015\n",
      "7      10926   8726  0.171461\n",
      "8      25788   1479  0.179319\n",
      "9       7516    958  0.035341\n",
      "10     55601   5557  0.047271\n",
      "11      7153   1062  0.359875\n",
      "12      1786    672  0.287041\n",
      "13      9319    991  0.351701\n",
      "14     51203  10733  0.358018\n",
      "15      9055   1063  0.362539\n",
      "16      1719    701  0.336715\n",
      "17      7398   3148  0.356658\n",
      "18      7153   2189  0.344566\n",
      "19     83461   3832  0.265698\n",
      "20      9768   5378  0.084232\n",
      "21     64761  10561  0.308546\n",
      "22     11200   4288  0.169668\n",
      "23     55055   4288  0.231922\n",
      "24      4172   1633  0.223758\n",
      "25      4600    684  0.351222\n",
      "26      8624    684  0.028384\n",
      "27     10198   1111  0.201263\n",
      "28      7468   1633  0.119350\n",
      "29      3838     86  0.318380\n",
      "...      ...    ...       ...\n",
      "15262  26271   5001  0.170229\n",
      "15263   1164    890  0.383501\n",
      "15264  55319    684  0.023682\n",
      "15265   8458   3431  0.053210\n",
      "15266  51203   9768  0.349592\n",
      "15267   5427    641  0.300651\n",
      "15268  64108   9246  0.288429\n",
      "15269  11065   5932  0.111608\n",
      "15270   5111   1719  0.367380\n",
      "15271   3553   2146  0.036743\n",
      "15272  55165   8726  0.114775\n",
      "15273  55120  29127  0.184184\n",
      "15274  10036   4001  0.301710\n",
      "15275   5359   4939  0.320642\n",
      "15276  22974   1854  0.251330\n",
      "15277   5984   1063  0.351643\n",
      "15278   5001     86  0.331672\n",
      "15279  51514   7516  0.078059\n",
      "15280  25788   5378  0.139787\n",
      "15281  55388  55215  0.273959\n",
      "15282  83990   2146  0.152022\n",
      "15283   5888   2187  0.138026\n",
      "15284  51659   4176  0.331578\n",
      "15285   3070    641  0.274389\n",
      "15286   9833   5889  0.145025\n",
      "15287   2176   1434  0.041463\n",
      "15288   4085   1063  0.369106\n",
      "15289  55120   2146  0.232782\n",
      "15290  51053   5111  0.324747\n",
      "15291  11339  10051  0.365825\n",
      "\n",
      "[15292 rows x 3 columns]\n"
     ]
    }
   ],
   "source": [
    "print(df)\n"
   ]
  },
  {
   "cell_type": "markdown",
   "metadata": {},
   "source": [
    "### Create DDOT"
   ]
  },
  {
   "cell_type": "code",
   "execution_count": 40,
   "metadata": {
    "collapsed": false
   },
   "outputs": [
    {
     "ename": "NameError",
     "evalue": "name 'self' is not defined",
     "output_type": "error",
     "traceback": [
      "\u001b[1;31m---------------------------------------------------------------------------\u001b[0m",
      "\u001b[1;31mNameError\u001b[0m                                 Traceback (most recent call last)",
      "\u001b[1;32m<ipython-input-40-a2cacb760a2d>\u001b[0m in \u001b[0;36m<module>\u001b[1;34m()\u001b[0m\n\u001b[1;32m----> 1\u001b[1;33m \u001b[0mddot\u001b[0m \u001b[1;33m=\u001b[0m \u001b[0mDDOT_Client\u001b[0m\u001b[1;33m.\u001b[0m\u001b[0mfrom_dataframe\u001b[0m\u001b[1;33m(\u001b[0m\u001b[0mdf\u001b[0m\u001b[1;33m)\u001b[0m\u001b[1;33m\u001b[0m\u001b[0m\n\u001b[0m",
      "\u001b[1;32m/home/tknijnen/RENCIhackathonGithub/TIDBITs/TIDBITs/biology-genetics/wf8_module3.py\u001b[0m in \u001b[0;36mfrom_dataframe\u001b[1;34m(cls, dataframe, verbose)\u001b[0m\n\u001b[0;32m     52\u001b[0m             \u001b[1;32mraise\u001b[0m \u001b[0mValueError\u001b[0m\u001b[1;33m(\u001b[0m\u001b[1;34m\"dataframe must be a pandas DataFrame!\"\u001b[0m\u001b[1;33m)\u001b[0m\u001b[1;33m\u001b[0m\u001b[0m\n\u001b[0;32m     53\u001b[0m \u001b[1;33m\u001b[0m\u001b[0m\n\u001b[1;32m---> 54\u001b[1;33m         \u001b[0mself\u001b[0m\u001b[1;33m.\u001b[0m\u001b[0mdataframe\u001b[0m \u001b[1;33m=\u001b[0m \u001b[0mdataframe\u001b[0m\u001b[1;33m\u001b[0m\u001b[0m\n\u001b[0m\u001b[0;32m     55\u001b[0m         \u001b[0mfilename\u001b[0m \u001b[1;33m=\u001b[0m \u001b[0mself\u001b[0m\u001b[1;33m.\u001b[0m\u001b[0m_save_dataframe\u001b[0m\u001b[1;33m(\u001b[0m\u001b[0mdataframe\u001b[0m\u001b[1;33m)\u001b[0m\u001b[1;33m\u001b[0m\u001b[0m\n\u001b[0;32m     56\u001b[0m \u001b[1;33m\u001b[0m\u001b[0m\n",
      "\u001b[1;31mNameError\u001b[0m: name 'self' is not defined"
     ]
    }
   ],
   "source": [
    "ddot = DDOT_Client.from_dataframe(df)"
   ]
  },
  {
   "cell_type": "code",
   "execution_count": null,
   "metadata": {
    "collapsed": true
   },
   "outputs": [],
   "source": []
  }
 ],
 "metadata": {
  "kernelspec": {
   "display_name": "Python 3",
   "language": "python",
   "name": "python3"
  },
  "language_info": {
   "codemirror_mode": {
    "name": "ipython",
    "version": 3
   },
   "file_extension": ".py",
   "mimetype": "text/x-python",
   "name": "python",
   "nbconvert_exporter": "python",
   "pygments_lexer": "ipython3",
   "version": "3.4.2"
  }
 },
 "nbformat": 4,
 "nbformat_minor": 2
}
