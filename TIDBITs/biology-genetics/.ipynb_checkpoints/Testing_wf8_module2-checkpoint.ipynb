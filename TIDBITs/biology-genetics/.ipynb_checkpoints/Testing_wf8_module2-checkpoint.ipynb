{
 "cells": [
  {
   "cell_type": "markdown",
   "metadata": {
    "deletable": true,
    "editable": true
   },
   "source": [
    "# Workflow 8 - module 2 - initial testing\n",
    "\n",
    "This notebook tests and gives examples for Module 2 of Workflow 8. See <a href=\"https://docs.google.com/presentation/d/1IkAzjSrOMzOLx5z8GqRVKmVd1GKrpIEb_xF4g4RlI1U/edit?usp=sharing\">here</a> for an overview of Workflow 8. Module 2 takes **genes and tissues** as input and **interacting genes** and/or a **gene interaction/similarrity matrix** that can be used as input for module 3 (DDOT). Module 2 uses Google BigQuery. Boilerplate code (API calls for instance) is wrapped in `wf8_module2.py`, which contains API calls written by John Earls and Theo Knijnenburg.  \n",
    "\n",
    "Notebook written by: Samson Fong, John Earls, Theo Knijnenburg, Chris Churas and Aaron Gary. "
   ]
  },
  {
   "cell_type": "markdown",
   "metadata": {
    "deletable": true,
    "editable": true
   },
   "source": [
    "## Libraries and such"
   ]
  },
  {
   "cell_type": "code",
   "execution_count": 3,
   "metadata": {
    "collapsed": false,
    "deletable": true,
    "editable": true
   },
   "outputs": [
    {
     "name": "stdout",
     "output_type": "stream",
     "text": [
      "The autoreload extension is already loaded. To reload it, use:\n",
      "  %reload_ext autoreload\n"
     ]
    }
   ],
   "source": [
    "%load_ext autoreload \n",
    "%autoreload 2\n",
    "\n",
    "import json\n",
    "from pprint import pprint\n",
    "from wf8_module1 import doid_to_genes_and_tissues\n",
    "from wf8_module2 import call_biggim\n",
    "import numpy as np\n",
    "import pandas as pd\n",
    "import time"
   ]
  },
  {
   "cell_type": "markdown",
   "metadata": {
    "deletable": true,
    "editable": true
   },
   "source": [
    "The main function **call_biggim** has seven input arguments of which only the first two are required\n",
    "1. genes [required]  - List of input genes as a set of NCBI genes, e.g. genes = ['2188', '79728', '7124']\n",
    "2. tissues [required] - LIst of tissues, e.g. tissues = ['pancreas', 'liver']\n",
    "3. limit=1000000 - Maximum number of rows returned. Make smaller for quicker testing and smaller tables\n",
    "4. average_columns=False - If tissues are associated with multiple columns average the scores into one columns called 'mean'\n",
    "5. query_id2=False - List of input genes. Only pairs that are constituted of genes in 'genes' and 'query_id2' are returned\n",
    "6. return_genes=False - Return new genes (interacting with the original set of genes) as a list\n",
    "7. N=250 - Number of new genes returned"
   ]
  },
  {
   "cell_type": "markdown",
   "metadata": {
    "deletable": true,
    "editable": true
   },
   "source": [
    "# Testing for Fanconi Anemia\n",
    "\n",
    "Tissue and genes are from module 1. Tissues were filtered with the help of Maureen."
   ]
  },
  {
   "cell_type": "markdown",
   "metadata": {
    "deletable": true,
    "editable": true
   },
   "source": [
    "## Getting Interacting Genes\n",
    "\n",
    "Tissue and genes are from module 1. Tissues were filtered with the help of Maureen."
   ]
  },
  {
   "cell_type": "code",
   "execution_count": 12,
   "metadata": {
    "collapsed": false,
    "deletable": true,
    "editable": true,
    "scrolled": true
   },
   "outputs": [
    {
     "name": "stdout",
     "output_type": "stream",
     "text": [
      "Sent: GET http://biggim.ncats.io/api/metadata/tissue/esophagus?None\n",
      "Sent: GET http://biggim.ncats.io/api/metadata/tissue/hematopoietic_system?None\n",
      "Sent: GET http://biggim.ncats.io/api/metadata/tissue/neck?None\n",
      "Sent: GET http://biggim.ncats.io/api/metadata/tissue/trachea?None\n",
      "Returned 56 Big GIM columns\n",
      "['GIANT_dendritic_cell_KnownFunctionalInteraction', 'GIANT_megakaryocyte_KnownFunctionalInteraction', 'GIANT_megakaryocyte_ProbabilityOfFunctionalInteraction', 'GTEx_Esophagus_Correlation', 'GIANT_thyroid_gland_KnownFunctionalInteraction', 'GIANT_blood_platelet_KnownFunctionalInteraction', 'GIANT_lymphocyte_ProbabilityOfFunctionalInteraction', 'GIANT_t_lymphocyte_ProbabilityOfFunctionalInteraction', 'GIANT_b_lymphocyte_ProbabilityOfFunctionalInteraction', 'GIANT_hematopoietic_stem_cell_KnownFunctionalInteraction', 'GIANT_blood_KnownFunctionalInteraction', 'GIANT_lymph_node_ProbabilityOfFunctionalInteraction', 'GIANT_neutrophil_ProbabilityOfFunctionalInteraction', 'GIANT_spleen_ProbabilityOfFunctionalInteraction', 'GIANT_thymocyte_ProbabilityOfFunctionalInteraction', 'GIANT_blood_ProbabilityOfFunctionalInteraction', 'GIANT_t_lymphocyte_KnownFunctionalInteraction', 'GTEx_Blood_Correlation', 'GIANT_blood_platelet_ProbabilityOfFunctionalInteraction', 'GIANT_basophil_KnownFunctionalInteraction', 'GTEx_Thyroid_Correlation', 'GIANT_eosinophil_KnownFunctionalInteraction', 'GIANT_macrophage_KnownFunctionalInteraction', 'GIANT_esophagus_ProbabilityOfFunctionalInteraction', 'GIANT_monocyte_ProbabilityOfFunctionalInteraction', 'GIANT_blood_plasma_KnownFunctionalInteraction', 'GIANT_trachea_KnownFunctionalInteraction', 'GIANT_b_lymphocyte_KnownFunctionalInteraction', 'GIANT_hematopoietic_stem_cell_ProbabilityOfFunctionalInteraction', 'GIANT_dendritic_cell_ProbabilityOfFunctionalInteraction', 'GIANT_natural_killer_cell_ProbabilityOfFunctionalInteraction', 'GIANT_tonsil_ProbabilityOfFunctionalInteraction', 'GIANT_mononuclear_phagocyte_ProbabilityOfFunctionalInteraction', 'GIANT_lymphocyte_KnownFunctionalInteraction', 'GIANT_neutrophil_KnownFunctionalInteraction', 'GIANT_macrophage_ProbabilityOfFunctionalInteraction', 'GIANT_trachea_ProbabilityOfFunctionalInteraction', 'GIANT_blood_plasma_ProbabilityOfFunctionalInteraction', 'GIANT_tonsil_KnownFunctionalInteraction', 'GIANT_spleen_KnownFunctionalInteraction', 'GIANT_thyroid_gland_ProbabilityOfFunctionalInteraction', 'GIANT_serum_KnownFunctionalInteraction', 'GIANT_monocyte_KnownFunctionalInteraction', 'GIANT_thymocyte_KnownFunctionalInteraction', 'GIANT_granulocyte_ProbabilityOfFunctionalInteraction', 'GIANT_basophil_ProbabilityOfFunctionalInteraction', 'GIANT_leukocyte_ProbabilityOfFunctionalInteraction', 'GIANT_eosinophil_ProbabilityOfFunctionalInteraction', 'GIANT_natural_killer_cell_KnownFunctionalInteraction', 'GIANT_granulocyte_KnownFunctionalInteraction', 'GIANT_serum_ProbabilityOfFunctionalInteraction', 'GTEx_Spleen_Correlation', 'GIANT_mononuclear_phagocyte_KnownFunctionalInteraction', 'GIANT_esophagus_KnownFunctionalInteraction', 'GIANT_leukocyte_KnownFunctionalInteraction', 'GIANT_lymph_node_KnownFunctionalInteraction']\n",
      "Sent: GET http://biggim.ncats.io/api/biggim/query?average_columns=True&columns=GIANT_dendritic_cell_KnownFunctionalInteraction%2CGIANT_megakaryocyte_KnownFunctionalInteraction%2CGIANT_megakaryocyte_ProbabilityOfFunctionalInteraction%2CGTEx_Esophagus_Correlation%2CGIANT_thyroid_gland_KnownFunctionalInteraction%2CGIANT_blood_platelet_KnownFunctionalInteraction%2CGIANT_lymphocyte_ProbabilityOfFunctionalInteraction%2CGIANT_t_lymphocyte_ProbabilityOfFunctionalInteraction%2CGIANT_b_lymphocyte_ProbabilityOfFunctionalInteraction%2CGIANT_hematopoietic_stem_cell_KnownFunctionalInteraction%2CGIANT_blood_KnownFunctionalInteraction%2CGIANT_lymph_node_ProbabilityOfFunctionalInteraction%2CGIANT_neutrophil_ProbabilityOfFunctionalInteraction%2CGIANT_spleen_ProbabilityOfFunctionalInteraction%2CGIANT_thymocyte_ProbabilityOfFunctionalInteraction%2CGIANT_blood_ProbabilityOfFunctionalInteraction%2CGIANT_t_lymphocyte_KnownFunctionalInteraction%2CGTEx_Blood_Correlation%2CGIANT_blood_platelet_ProbabilityOfFunctionalInteraction%2CGIANT_basophil_KnownFunctionalInteraction%2CGTEx_Thyroid_Correlation%2CGIANT_eosinophil_KnownFunctionalInteraction%2CGIANT_macrophage_KnownFunctionalInteraction%2CGIANT_esophagus_ProbabilityOfFunctionalInteraction%2CGIANT_monocyte_ProbabilityOfFunctionalInteraction%2CGIANT_blood_plasma_KnownFunctionalInteraction%2CGIANT_trachea_KnownFunctionalInteraction%2CGIANT_b_lymphocyte_KnownFunctionalInteraction%2CGIANT_hematopoietic_stem_cell_ProbabilityOfFunctionalInteraction%2CGIANT_dendritic_cell_ProbabilityOfFunctionalInteraction%2CGIANT_natural_killer_cell_ProbabilityOfFunctionalInteraction%2CGIANT_tonsil_ProbabilityOfFunctionalInteraction%2CGIANT_mononuclear_phagocyte_ProbabilityOfFunctionalInteraction%2CGIANT_lymphocyte_KnownFunctionalInteraction%2CGIANT_neutrophil_KnownFunctionalInteraction%2CGIANT_macrophage_ProbabilityOfFunctionalInteraction%2CGIANT_trachea_ProbabilityOfFunctionalInteraction%2CGIANT_blood_plasma_ProbabilityOfFunctionalInteraction%2CGIANT_tonsil_KnownFunctionalInteraction%2CGIANT_spleen_KnownFunctionalInteraction%2CGIANT_thyroid_gland_ProbabilityOfFunctionalInteraction%2CGIANT_serum_KnownFunctionalInteraction%2CGIANT_monocyte_KnownFunctionalInteraction%2CGIANT_thymocyte_KnownFunctionalInteraction%2CGIANT_granulocyte_ProbabilityOfFunctionalInteraction%2CGIANT_basophil_ProbabilityOfFunctionalInteraction%2CGIANT_leukocyte_ProbabilityOfFunctionalInteraction%2CGIANT_eosinophil_ProbabilityOfFunctionalInteraction%2CGIANT_natural_killer_cell_KnownFunctionalInteraction%2CGIANT_granulocyte_KnownFunctionalInteraction%2CGIANT_serum_ProbabilityOfFunctionalInteraction%2CGTEx_Spleen_Correlation%2CGIANT_mononuclear_phagocyte_KnownFunctionalInteraction%2CGIANT_esophagus_KnownFunctionalInteraction%2CGIANT_leukocyte_KnownFunctionalInteraction%2CGIANT_lymph_node_KnownFunctionalInteraction&restriction_gt=GIANT_dendritic_cell_KnownFunctionalInteraction%2C-2.0%2CGIANT_megakaryocyte_KnownFunctionalInteraction%2C-2.0%2CGIANT_megakaryocyte_ProbabilityOfFunctionalInteraction%2C-2.0%2CGTEx_Esophagus_Correlation%2C-2.0%2CGIANT_thyroid_gland_KnownFunctionalInteraction%2C-2.0%2CGIANT_blood_platelet_KnownFunctionalInteraction%2C-2.0%2CGIANT_lymphocyte_ProbabilityOfFunctionalInteraction%2C-2.0%2CGIANT_t_lymphocyte_ProbabilityOfFunctionalInteraction%2C-2.0%2CGIANT_b_lymphocyte_ProbabilityOfFunctionalInteraction%2C-2.0%2CGIANT_hematopoietic_stem_cell_KnownFunctionalInteraction%2C-2.0%2CGIANT_blood_KnownFunctionalInteraction%2C-2.0%2CGIANT_lymph_node_ProbabilityOfFunctionalInteraction%2C-2.0%2CGIANT_neutrophil_ProbabilityOfFunctionalInteraction%2C-2.0%2CGIANT_spleen_ProbabilityOfFunctionalInteraction%2C-2.0%2CGIANT_thymocyte_ProbabilityOfFunctionalInteraction%2C-2.0%2CGIANT_blood_ProbabilityOfFunctionalInteraction%2C-2.0%2CGIANT_t_lymphocyte_KnownFunctionalInteraction%2C-2.0%2CGTEx_Blood_Correlation%2C-2.0%2CGIANT_blood_platelet_ProbabilityOfFunctionalInteraction%2C-2.0%2CGIANT_basophil_KnownFunctionalInteraction%2C-2.0%2CGTEx_Thyroid_Correlation%2C-2.0%2CGIANT_eosinophil_KnownFunctionalInteraction%2C-2.0%2CGIANT_macrophage_KnownFunctionalInteraction%2C-2.0%2CGIANT_esophagus_ProbabilityOfFunctionalInteraction%2C-2.0%2CGIANT_monocyte_ProbabilityOfFunctionalInteraction%2C-2.0%2CGIANT_blood_plasma_KnownFunctionalInteraction%2C-2.0%2CGIANT_trachea_KnownFunctionalInteraction%2C-2.0%2CGIANT_b_lymphocyte_KnownFunctionalInteraction%2C-2.0%2CGIANT_hematopoietic_stem_cell_ProbabilityOfFunctionalInteraction%2C-2.0%2CGIANT_dendritic_cell_ProbabilityOfFunctionalInteraction%2C-2.0%2CGIANT_natural_killer_cell_ProbabilityOfFunctionalInteraction%2C-2.0%2CGIANT_tonsil_ProbabilityOfFunctionalInteraction%2C-2.0%2CGIANT_mononuclear_phagocyte_ProbabilityOfFunctionalInteraction%2C-2.0%2CGIANT_lymphocyte_KnownFunctionalInteraction%2C-2.0%2CGIANT_neutrophil_KnownFunctionalInteraction%2C-2.0%2CGIANT_macrophage_ProbabilityOfFunctionalInteraction%2C-2.0%2CGIANT_trachea_ProbabilityOfFunctionalInteraction%2C-2.0%2CGIANT_blood_plasma_ProbabilityOfFunctionalInteraction%2C-2.0%2CGIANT_tonsil_KnownFunctionalInteraction%2C-2.0%2CGIANT_spleen_KnownFunctionalInteraction%2C-2.0%2CGIANT_thyroid_gland_ProbabilityOfFunctionalInteraction%2C-2.0%2CGIANT_serum_KnownFunctionalInteraction%2C-2.0%2CGIANT_monocyte_KnownFunctionalInteraction%2C-2.0%2CGIANT_thymocyte_KnownFunctionalInteraction%2C-2.0%2CGIANT_granulocyte_ProbabilityOfFunctionalInteraction%2C-2.0%2CGIANT_basophil_ProbabilityOfFunctionalInteraction%2C-2.0%2CGIANT_leukocyte_ProbabilityOfFunctionalInteraction%2C-2.0%2CGIANT_eosinophil_ProbabilityOfFunctionalInteraction%2C-2.0%2CGIANT_natural_killer_cell_KnownFunctionalInteraction%2C-2.0%2CGIANT_granulocyte_KnownFunctionalInteraction%2C-2.0%2CGIANT_serum_ProbabilityOfFunctionalInteraction%2C-2.0%2CGTEx_Spleen_Correlation%2C-2.0%2CGIANT_mononuclear_phagocyte_KnownFunctionalInteraction%2C-2.0%2CGIANT_esophagus_KnownFunctionalInteraction%2C-2.0%2CGIANT_leukocyte_KnownFunctionalInteraction%2C-2.0%2CGIANT_lymph_node_KnownFunctionalInteraction%2C-2.0&ids1=7516%2C5889%2C2175%2C84464%2C83990%2C2178%2C55120%2C55215%2C79728%2C2187%2C2177%2C7124%2C2188%2C10459%2C2176%2C57697%2C2189%2C4599%2C2072%2C29089%2C5888%2C675&limit=1000000&table=BigGIM_70_v1\n",
      "{\n",
      "  \"request_id\": \"26716ac3-29e4-4717-8502-9a398d9d0a35\",\n",
      "  \"status\": \"submitted\"\n",
      "}\n",
      "Sent: GET http://biggim.ncats.io/api/biggim/status/26716ac3-29e4-4717-8502-9a398d9d0a35?None\n",
      "{\n",
      "  \"request_id\": \"26716ac3-29e4-4717-8502-9a398d9d0a35\",\n",
      "  \"message\": \"Query job is running.\",\n",
      "  \"status\": \"running\"\n",
      "}\n",
      "Checking again\n",
      "Sent: GET http://biggim.ncats.io/api/biggim/status/26716ac3-29e4-4717-8502-9a398d9d0a35?None\n",
      "{\n",
      "  \"request_id\": \"26716ac3-29e4-4717-8502-9a398d9d0a35\",\n",
      "  \"message\": \"Query job is running.\",\n",
      "  \"status\": \"running\"\n",
      "}\n",
      "Checking again\n",
      "Sent: GET http://biggim.ncats.io/api/biggim/status/26716ac3-29e4-4717-8502-9a398d9d0a35?None\n",
      "{\n",
      "  \"request_id\": \"26716ac3-29e4-4717-8502-9a398d9d0a35\",\n",
      "  \"message\": \"Query job is running.\",\n",
      "  \"status\": \"running\"\n",
      "}\n",
      "Checking again\n",
      "Sent: GET http://biggim.ncats.io/api/biggim/status/26716ac3-29e4-4717-8502-9a398d9d0a35?None\n",
      "{\n",
      "  \"request_id\": \"26716ac3-29e4-4717-8502-9a398d9d0a35\",\n",
      "  \"message\": \"Query job is running.\",\n",
      "  \"status\": \"running\"\n",
      "}\n",
      "Checking again\n",
      "Sent: GET http://biggim.ncats.io/api/biggim/status/26716ac3-29e4-4717-8502-9a398d9d0a35?None\n",
      "{\n",
      "  \"request_id\": \"26716ac3-29e4-4717-8502-9a398d9d0a35\",\n",
      "  \"message\": \"Query job is running.\",\n",
      "  \"status\": \"running\"\n",
      "}\n",
      "Checking again\n",
      "Sent: GET http://biggim.ncats.io/api/biggim/status/26716ac3-29e4-4717-8502-9a398d9d0a35?None\n",
      "{\n",
      "  \"request_id\": \"26716ac3-29e4-4717-8502-9a398d9d0a35\",\n",
      "  \"message\": \"Extraction job is running.\",\n",
      "  \"status\": \"running\"\n",
      "}\n",
      "Checking again\n",
      "Sent: GET http://biggim.ncats.io/api/biggim/status/26716ac3-29e4-4717-8502-9a398d9d0a35?None\n",
      "{\n",
      "  \"size\": \"6.13 MB\",\n",
      "  \"rows\": 137341,\n",
      "  \"request_id\": \"26716ac3-29e4-4717-8502-9a398d9d0a35\",\n",
      "  \"processed_data\": \"21.36 GB\",\n",
      "  \"request_uri\": [\n",
      "    \"https://storage.googleapis.com/ncats_bigquery_results/26716ac3-29e4-4717-8502-9a398d9d0a35000000000000.csv\"\n",
      "  ],\n",
      "  \"status\": \"complete\"\n",
      "}\n",
      "            Gene1  Gene2      mean\n",
      "0           55215    949  0.038985\n",
      "1           83990   9055  0.172713\n",
      "2            5888    341  0.038779\n",
      "3           57697   7582  0.065821\n",
      "4           55215   9448  0.083819\n",
      "5            7516   1287  0.005737\n",
      "6            5888    474  0.025412\n",
      "7            5888   4286  0.012566\n",
      "8            5888   5118  0.015574\n",
      "9           83990  55036  0.000847\n",
      "10          83990  80095  0.025667\n",
      "11          83990  80195  0.038114\n",
      "12          83990   2736  0.009191\n",
      "13           2188   1429  0.063466\n",
      "14           5889   5801  0.037943\n",
      "15          84464   5193  0.042554\n",
      "16          79728  55330  0.063088\n",
      "17          84464  79832  0.054404\n",
      "18          84464   9925  0.047415\n",
      "19          29089   1850  0.017673\n",
      "20           5888   1627  0.024558\n",
      "21           2177    245  0.061218\n",
      "22           2176   1479  0.050917\n",
      "23          55215   9519  0.042645\n",
      "24          57697  11157  0.054727\n",
      "25          83990  23142  0.018155\n",
      "26          83990   5096  0.056090\n",
      "27          83990   9607  0.008454\n",
      "28          29089  11260  0.082139\n",
      "29           2189    953  0.038728\n",
      "...           ...    ...       ...\n",
      "137311      79583   4599  0.045862\n",
      "137312  100131211   4599  0.042465\n",
      "137313      25766   4599  0.036926\n",
      "137314      23279   4599  0.025574\n",
      "137315     115557   4599  0.037577\n",
      "137316       6300   4599  0.030114\n",
      "137317       7430   4599  0.055457\n",
      "137318      65979   4599  0.063923\n",
      "137319       7371   4599  0.026301\n",
      "137320       9495   4599  0.033885\n",
      "137321       7798   4599  0.054857\n",
      "137322     126917   4599  0.049695\n",
      "137323      79096   4599  0.041429\n",
      "137324     162514   4599  0.042616\n",
      "137325      23612   4599  0.061443\n",
      "137326     339448   4599  0.032890\n",
      "137327       5155   4599  0.049411\n",
      "137328      30835   4599  0.026502\n",
      "137329      84881   4599  0.038600\n",
      "137330      51463   4599  0.044312\n",
      "137331     115677   4599  0.025366\n",
      "137332     148327   4599  0.054592\n",
      "137333      64794   4599  0.043399\n",
      "137334       8882   4599  0.027862\n",
      "137335       6280   4599  0.076046\n",
      "137336      53838   4599  0.071772\n",
      "137337     401207   4599  0.047501\n",
      "137338       9442   4599  0.024003\n",
      "137339      54929   4599  0.044336\n",
      "137340     129563   4599  0.067875\n",
      "\n",
      "[137341 rows x 3 columns]\n",
      "         index  Gene1  Gene2      mean\n",
      "0       120388   5888    675  0.493868\n",
      "1        76547   2189   2175  0.480905\n",
      "2        31990  83990    672  0.454132\n",
      "3        36958   5888    641  0.449780\n",
      "4        94607   2189   2178  0.446432\n",
      "5       125280   2177    675  0.434108\n",
      "6        13042   5888    672  0.428837\n",
      "7        72708   2178   2175  0.423257\n",
      "8         6327   2175    672  0.410507\n",
      "9        43470   7153   5888  0.400558\n",
      "10       86081   2178   2177  0.391341\n",
      "11       34230   4599   3430  0.387923\n",
      "12        2481   5888   4175  0.385983\n",
      "13       36353   5888   4173  0.384679\n",
      "14       81865   2178   2176  0.384392\n",
      "15        8256   4599   3434  0.383398\n",
      "16        5862    675    672  0.380543\n",
      "17       24688   2189    890  0.379373\n",
      "18      128136  79682  55215  0.379271\n",
      "19        9574   4599   3437  0.378202\n",
      "20       44321  79682   5888  0.372223\n",
      "21      136027   4600   4599  0.372173\n",
      "22       23600  55215   4085  0.371241\n",
      "23       25598  55215   7153  0.369765\n",
      "24       12647  55215  51203  0.367382\n",
      "25       34849   5889   1434  0.366892\n",
      "26       23886   4599   3431  0.365500\n",
      "27      136919  10561   4599  0.365062\n",
      "28       44363   7083   5888  0.364190\n",
      "29      135896  10346   4599  0.364008\n",
      "...        ...    ...    ...       ...\n",
      "137311   78689   6252   2175 -0.020917\n",
      "137312  112907   4240   2189 -0.021005\n",
      "137313   35687  83990  51257 -0.021028\n",
      "137314  121082   3029    675 -0.021074\n",
      "137315   21777  55215   8742 -0.021078\n",
      "137316   76659   6840   2175 -0.021106\n",
      "137317    2484  83990  11070 -0.021180\n",
      "137318   43076  64748   5888 -0.021189\n",
      "137319   92423   3745   2178 -0.021263\n",
      "137320  110271  83716   2189 -0.021623\n",
      "137321   77332   5577   2175 -0.021632\n",
      "137322  123066  64748    675 -0.021805\n",
      "137323   48187   6337   5889 -0.021826\n",
      "137324   15943  55120   6272 -0.021852\n",
      "137325  127288  64748  55215 -0.021948\n",
      "137326  114480   8660   2189 -0.022250\n",
      "137327  122645  79641    675 -0.022922\n",
      "137328  110821   7099   2189 -0.023024\n",
      "137329  112303   9332   2189 -0.023219\n",
      "137330  110968   2799   2189 -0.023246\n",
      "137331  115458   5997   2189 -0.023439\n",
      "137332   78042   4128   2175 -0.023441\n",
      "137333   26533  83990  65018 -0.023564\n",
      "137334   72543   9236   2175 -0.023875\n",
      "137335   30480  55215  51257 -0.024790\n",
      "137336   94705  23500   2178 -0.026011\n",
      "137337   93151  84981   2178 -0.026329\n",
      "137338   96783   7079   2178 -0.026662\n",
      "137339   77338   8660   2175 -0.027695\n",
      "137340  114425   6272   2189 -0.033044\n",
      "\n",
      "[137341 rows x 4 columns]\n"
     ]
    }
   ],
   "source": [
    "genes = ['2188', '79728', '7124', '675', '83990', '29089', '2178', '57697', '2187', '84464', '2175', '5889', '2177', '55120', '2072', '2189', '5888', '7516', '4599', '2176', '55215', '10459']\n",
    "genes = list(set(genes))\n",
    "tissues =  ['esophagus','hematopoietic_system', 'neck', 'trachea']\n",
    "genes2 = call_biggim(genes, tissues, average_columns=True, return_genes=True, N=100)\n"
   ]
  },
  {
   "cell_type": "code",
   "execution_count": 13,
   "metadata": {
    "collapsed": false,
    "deletable": true,
    "editable": true,
    "scrolled": true
   },
   "outputs": [
    {
     "name": "stdout",
     "output_type": "stream",
     "text": [
      "All genes\n",
      "['10036', '10051', '10346', '10459', '10561', '10592', '1062', '1070', '10964', '11065', '11073', '1111', '11130', '1434', '1479', '1854', '2072', '2146', '2175', '2175', '2176', '2176', '2177', '2177', '2178', '2178', '2187', '2188', '2189', '2189', '2237', '22974', '23310', '24137', '259266', '26271', '29028', '29089', '3014', '3148', '3383', '3430', '3431', '3433', '3434', '3437', '3553', '3627', '3838', '4001', '4061', '4085', '4171', '4173', '4174', '4175', '4176', '4436', '4599', '4599', '4600', '4678', '4938', '4939', '51203', '51514', '5427', '54739', '55120', '55120', '55215', '55215', '55355', '55706', '55872', '57697', '5888', '5888', '5889', '5889', '5984', '5985', '6240', '6241', '641', '64151', '64761', '6672', '672', '6737', '675', '675', '6772', '6790', '701', '7083', '7124', '7124', '7128', '7153', '7157', '7298', '7411', '7468', '7516', '79682', '79728', '81620', '8317', '83990', '83990', '84464', '86', '8638', '890', '9055', '9232', '9246', '9319', '9636', '9768', '9833', '9918', '9928']\n"
     ]
    }
   ],
   "source": [
    "print('All genes')\n",
    "print(genes2)"
   ]
  },
  {
   "cell_type": "code",
   "execution_count": 14,
   "metadata": {
    "collapsed": false,
    "deletable": true,
    "editable": true,
    "scrolled": true
   },
   "outputs": [
    {
     "name": "stdout",
     "output_type": "stream",
     "text": [
      "Here are the new genes\n",
      "['26271', '5427', '4938', '9833', '1854', '7128', '51514', '1062', '3838', '9918', '5984', '3437', '51203', '4061', '9768', '10036', '10964', '4085', '4174', '3627', '8638', '10592', '3383', '6672', '3433', '7083', '2146', '4173', '9232', '3434', '64151', '10051', '7298', '6737', '7157', '9246', '1070', '4176', '81620', '24137', '4939', '1434', '55872', '9055', '3014', '4171', '9928', '3431', '3148', '5985', '6240', '7468', '3553', '3430', '701', '11065', '2237', '641', '7153', '4436', '259266', '4175', '6772', '79682', '8317', '6790', '11073', '54739', '1111', '4001', '55706', '64761', '6241', '29028', '10346', '9319', '11130', '86', '672', '1479', '23310', '4678', '4600', '7411', '9636', '55355', '10561', '22974', '890']\n"
     ]
    }
   ],
   "source": [
    "print('Here are the new genes')\n",
    "print(list(set(genes2)-set(genes)))"
   ]
  },
  {
   "cell_type": "markdown",
   "metadata": {},
   "source": [
    "## Running Big GIM for the second round, now producing the interaction matrix (df) that can serve as an input for DDOT"
   ]
  },
  {
   "cell_type": "code",
   "execution_count": 15,
   "metadata": {
    "collapsed": false,
    "deletable": true,
    "editable": true
   },
   "outputs": [
    {
     "name": "stdout",
     "output_type": "stream",
     "text": [
      "Sent: GET http://biggim.ncats.io/api/metadata/tissue/esophagus?None\n",
      "Sent: GET http://biggim.ncats.io/api/metadata/tissue/hematopoietic_system?None\n",
      "Sent: GET http://biggim.ncats.io/api/metadata/tissue/neck?None\n",
      "Sent: GET http://biggim.ncats.io/api/metadata/tissue/trachea?None\n",
      "Returned 56 Big GIM columns\n",
      "['GIANT_dendritic_cell_KnownFunctionalInteraction', 'GIANT_megakaryocyte_KnownFunctionalInteraction', 'GIANT_megakaryocyte_ProbabilityOfFunctionalInteraction', 'GTEx_Esophagus_Correlation', 'GIANT_thyroid_gland_KnownFunctionalInteraction', 'GIANT_blood_platelet_KnownFunctionalInteraction', 'GIANT_lymphocyte_ProbabilityOfFunctionalInteraction', 'GIANT_t_lymphocyte_ProbabilityOfFunctionalInteraction', 'GIANT_b_lymphocyte_ProbabilityOfFunctionalInteraction', 'GIANT_hematopoietic_stem_cell_KnownFunctionalInteraction', 'GIANT_blood_KnownFunctionalInteraction', 'GIANT_lymph_node_ProbabilityOfFunctionalInteraction', 'GIANT_neutrophil_ProbabilityOfFunctionalInteraction', 'GIANT_spleen_ProbabilityOfFunctionalInteraction', 'GIANT_thymocyte_ProbabilityOfFunctionalInteraction', 'GIANT_blood_ProbabilityOfFunctionalInteraction', 'GIANT_t_lymphocyte_KnownFunctionalInteraction', 'GTEx_Blood_Correlation', 'GIANT_blood_platelet_ProbabilityOfFunctionalInteraction', 'GIANT_basophil_KnownFunctionalInteraction', 'GTEx_Thyroid_Correlation', 'GIANT_eosinophil_KnownFunctionalInteraction', 'GIANT_macrophage_KnownFunctionalInteraction', 'GIANT_esophagus_ProbabilityOfFunctionalInteraction', 'GIANT_monocyte_ProbabilityOfFunctionalInteraction', 'GIANT_blood_plasma_KnownFunctionalInteraction', 'GIANT_trachea_KnownFunctionalInteraction', 'GIANT_b_lymphocyte_KnownFunctionalInteraction', 'GIANT_hematopoietic_stem_cell_ProbabilityOfFunctionalInteraction', 'GIANT_dendritic_cell_ProbabilityOfFunctionalInteraction', 'GIANT_natural_killer_cell_ProbabilityOfFunctionalInteraction', 'GIANT_tonsil_ProbabilityOfFunctionalInteraction', 'GIANT_mononuclear_phagocyte_ProbabilityOfFunctionalInteraction', 'GIANT_lymphocyte_KnownFunctionalInteraction', 'GIANT_neutrophil_KnownFunctionalInteraction', 'GIANT_macrophage_ProbabilityOfFunctionalInteraction', 'GIANT_trachea_ProbabilityOfFunctionalInteraction', 'GIANT_blood_plasma_ProbabilityOfFunctionalInteraction', 'GIANT_tonsil_KnownFunctionalInteraction', 'GIANT_spleen_KnownFunctionalInteraction', 'GIANT_thyroid_gland_ProbabilityOfFunctionalInteraction', 'GIANT_serum_KnownFunctionalInteraction', 'GIANT_monocyte_KnownFunctionalInteraction', 'GIANT_thymocyte_KnownFunctionalInteraction', 'GIANT_granulocyte_ProbabilityOfFunctionalInteraction', 'GIANT_basophil_ProbabilityOfFunctionalInteraction', 'GIANT_leukocyte_ProbabilityOfFunctionalInteraction', 'GIANT_eosinophil_ProbabilityOfFunctionalInteraction', 'GIANT_natural_killer_cell_KnownFunctionalInteraction', 'GIANT_granulocyte_KnownFunctionalInteraction', 'GIANT_serum_ProbabilityOfFunctionalInteraction', 'GTEx_Spleen_Correlation', 'GIANT_mononuclear_phagocyte_KnownFunctionalInteraction', 'GIANT_esophagus_KnownFunctionalInteraction', 'GIANT_leukocyte_KnownFunctionalInteraction', 'GIANT_lymph_node_KnownFunctionalInteraction']\n",
      "Sent: GET http://biggim.ncats.io/api/biggim/query?average_columns=True&columns=GIANT_dendritic_cell_KnownFunctionalInteraction%2CGIANT_megakaryocyte_KnownFunctionalInteraction%2CGIANT_megakaryocyte_ProbabilityOfFunctionalInteraction%2CGTEx_Esophagus_Correlation%2CGIANT_thyroid_gland_KnownFunctionalInteraction%2CGIANT_blood_platelet_KnownFunctionalInteraction%2CGIANT_lymphocyte_ProbabilityOfFunctionalInteraction%2CGIANT_t_lymphocyte_ProbabilityOfFunctionalInteraction%2CGIANT_b_lymphocyte_ProbabilityOfFunctionalInteraction%2CGIANT_hematopoietic_stem_cell_KnownFunctionalInteraction%2CGIANT_blood_KnownFunctionalInteraction%2CGIANT_lymph_node_ProbabilityOfFunctionalInteraction%2CGIANT_neutrophil_ProbabilityOfFunctionalInteraction%2CGIANT_spleen_ProbabilityOfFunctionalInteraction%2CGIANT_thymocyte_ProbabilityOfFunctionalInteraction%2CGIANT_blood_ProbabilityOfFunctionalInteraction%2CGIANT_t_lymphocyte_KnownFunctionalInteraction%2CGTEx_Blood_Correlation%2CGIANT_blood_platelet_ProbabilityOfFunctionalInteraction%2CGIANT_basophil_KnownFunctionalInteraction%2CGTEx_Thyroid_Correlation%2CGIANT_eosinophil_KnownFunctionalInteraction%2CGIANT_macrophage_KnownFunctionalInteraction%2CGIANT_esophagus_ProbabilityOfFunctionalInteraction%2CGIANT_monocyte_ProbabilityOfFunctionalInteraction%2CGIANT_blood_plasma_KnownFunctionalInteraction%2CGIANT_trachea_KnownFunctionalInteraction%2CGIANT_b_lymphocyte_KnownFunctionalInteraction%2CGIANT_hematopoietic_stem_cell_ProbabilityOfFunctionalInteraction%2CGIANT_dendritic_cell_ProbabilityOfFunctionalInteraction%2CGIANT_natural_killer_cell_ProbabilityOfFunctionalInteraction%2CGIANT_tonsil_ProbabilityOfFunctionalInteraction%2CGIANT_mononuclear_phagocyte_ProbabilityOfFunctionalInteraction%2CGIANT_lymphocyte_KnownFunctionalInteraction%2CGIANT_neutrophil_KnownFunctionalInteraction%2CGIANT_macrophage_ProbabilityOfFunctionalInteraction%2CGIANT_trachea_ProbabilityOfFunctionalInteraction%2CGIANT_blood_plasma_ProbabilityOfFunctionalInteraction%2CGIANT_tonsil_KnownFunctionalInteraction%2CGIANT_spleen_KnownFunctionalInteraction%2CGIANT_thyroid_gland_ProbabilityOfFunctionalInteraction%2CGIANT_serum_KnownFunctionalInteraction%2CGIANT_monocyte_KnownFunctionalInteraction%2CGIANT_thymocyte_KnownFunctionalInteraction%2CGIANT_granulocyte_ProbabilityOfFunctionalInteraction%2CGIANT_basophil_ProbabilityOfFunctionalInteraction%2CGIANT_leukocyte_ProbabilityOfFunctionalInteraction%2CGIANT_eosinophil_ProbabilityOfFunctionalInteraction%2CGIANT_natural_killer_cell_KnownFunctionalInteraction%2CGIANT_granulocyte_KnownFunctionalInteraction%2CGIANT_serum_ProbabilityOfFunctionalInteraction%2CGTEx_Spleen_Correlation%2CGIANT_mononuclear_phagocyte_KnownFunctionalInteraction%2CGIANT_esophagus_KnownFunctionalInteraction%2CGIANT_leukocyte_KnownFunctionalInteraction%2CGIANT_lymph_node_KnownFunctionalInteraction&restriction_gt=GIANT_dendritic_cell_KnownFunctionalInteraction%2C-2.0%2CGIANT_megakaryocyte_KnownFunctionalInteraction%2C-2.0%2CGIANT_megakaryocyte_ProbabilityOfFunctionalInteraction%2C-2.0%2CGTEx_Esophagus_Correlation%2C-2.0%2CGIANT_thyroid_gland_KnownFunctionalInteraction%2C-2.0%2CGIANT_blood_platelet_KnownFunctionalInteraction%2C-2.0%2CGIANT_lymphocyte_ProbabilityOfFunctionalInteraction%2C-2.0%2CGIANT_t_lymphocyte_ProbabilityOfFunctionalInteraction%2C-2.0%2CGIANT_b_lymphocyte_ProbabilityOfFunctionalInteraction%2C-2.0%2CGIANT_hematopoietic_stem_cell_KnownFunctionalInteraction%2C-2.0%2CGIANT_blood_KnownFunctionalInteraction%2C-2.0%2CGIANT_lymph_node_ProbabilityOfFunctionalInteraction%2C-2.0%2CGIANT_neutrophil_ProbabilityOfFunctionalInteraction%2C-2.0%2CGIANT_spleen_ProbabilityOfFunctionalInteraction%2C-2.0%2CGIANT_thymocyte_ProbabilityOfFunctionalInteraction%2C-2.0%2CGIANT_blood_ProbabilityOfFunctionalInteraction%2C-2.0%2CGIANT_t_lymphocyte_KnownFunctionalInteraction%2C-2.0%2CGTEx_Blood_Correlation%2C-2.0%2CGIANT_blood_platelet_ProbabilityOfFunctionalInteraction%2C-2.0%2CGIANT_basophil_KnownFunctionalInteraction%2C-2.0%2CGTEx_Thyroid_Correlation%2C-2.0%2CGIANT_eosinophil_KnownFunctionalInteraction%2C-2.0%2CGIANT_macrophage_KnownFunctionalInteraction%2C-2.0%2CGIANT_esophagus_ProbabilityOfFunctionalInteraction%2C-2.0%2CGIANT_monocyte_ProbabilityOfFunctionalInteraction%2C-2.0%2CGIANT_blood_plasma_KnownFunctionalInteraction%2C-2.0%2CGIANT_trachea_KnownFunctionalInteraction%2C-2.0%2CGIANT_b_lymphocyte_KnownFunctionalInteraction%2C-2.0%2CGIANT_hematopoietic_stem_cell_ProbabilityOfFunctionalInteraction%2C-2.0%2CGIANT_dendritic_cell_ProbabilityOfFunctionalInteraction%2C-2.0%2CGIANT_natural_killer_cell_ProbabilityOfFunctionalInteraction%2C-2.0%2CGIANT_tonsil_ProbabilityOfFunctionalInteraction%2C-2.0%2CGIANT_mononuclear_phagocyte_ProbabilityOfFunctionalInteraction%2C-2.0%2CGIANT_lymphocyte_KnownFunctionalInteraction%2C-2.0%2CGIANT_neutrophil_KnownFunctionalInteraction%2C-2.0%2CGIANT_macrophage_ProbabilityOfFunctionalInteraction%2C-2.0%2CGIANT_trachea_ProbabilityOfFunctionalInteraction%2C-2.0%2CGIANT_blood_plasma_ProbabilityOfFunctionalInteraction%2C-2.0%2CGIANT_tonsil_KnownFunctionalInteraction%2C-2.0%2CGIANT_spleen_KnownFunctionalInteraction%2C-2.0%2CGIANT_thyroid_gland_ProbabilityOfFunctionalInteraction%2C-2.0%2CGIANT_serum_KnownFunctionalInteraction%2C-2.0%2CGIANT_monocyte_KnownFunctionalInteraction%2C-2.0%2CGIANT_thymocyte_KnownFunctionalInteraction%2C-2.0%2CGIANT_granulocyte_ProbabilityOfFunctionalInteraction%2C-2.0%2CGIANT_basophil_ProbabilityOfFunctionalInteraction%2C-2.0%2CGIANT_leukocyte_ProbabilityOfFunctionalInteraction%2C-2.0%2CGIANT_eosinophil_ProbabilityOfFunctionalInteraction%2C-2.0%2CGIANT_natural_killer_cell_KnownFunctionalInteraction%2C-2.0%2CGIANT_granulocyte_KnownFunctionalInteraction%2C-2.0%2CGIANT_serum_ProbabilityOfFunctionalInteraction%2C-2.0%2CGTEx_Spleen_Correlation%2C-2.0%2CGIANT_mononuclear_phagocyte_KnownFunctionalInteraction%2C-2.0%2CGIANT_esophagus_KnownFunctionalInteraction%2C-2.0%2CGIANT_leukocyte_KnownFunctionalInteraction%2C-2.0%2CGIANT_lymph_node_KnownFunctionalInteraction%2C-2.0&ids1=10036%2C10051%2C10346%2C10459%2C10561%2C10592%2C1062%2C1070%2C10964%2C11065%2C11073%2C1111%2C11130%2C1434%2C1479%2C1854%2C2072%2C2146%2C2175%2C2175%2C2176%2C2176%2C2177%2C2177%2C2178%2C2178%2C2187%2C2188%2C2189%2C2189%2C2237%2C22974%2C23310%2C24137%2C259266%2C26271%2C29028%2C29089%2C3014%2C3148%2C3383%2C3430%2C3431%2C3433%2C3434%2C3437%2C3553%2C3627%2C3838%2C4001%2C4061%2C4085%2C4171%2C4173%2C4174%2C4175%2C4176%2C4436%2C4599%2C4599%2C4600%2C4678%2C4938%2C4939%2C51203%2C51514%2C5427%2C54739%2C55120%2C55120%2C55215%2C55215%2C55355%2C55706%2C55872%2C57697%2C5888%2C5888%2C5889%2C5889%2C5984%2C5985%2C6240%2C6241%2C641%2C64151%2C64761%2C6672%2C672%2C6737%2C675%2C675%2C6772%2C6790%2C701%2C7083%2C7124%2C7124%2C7128%2C7153%2C7157%2C7298%2C7411%2C7468%2C7516%2C79682%2C79728%2C81620%2C8317%2C83990%2C83990%2C84464%2C86%2C8638%2C890%2C9055%2C9232%2C9246%2C9319%2C9636%2C9768%2C9833%2C9918%2C9928&limit=1000000&ids2=10036%2C10051%2C10346%2C10459%2C10561%2C10592%2C1062%2C1070%2C10964%2C11065%2C11073%2C1111%2C11130%2C1434%2C1479%2C1854%2C2072%2C2146%2C2175%2C2175%2C2176%2C2176%2C2177%2C2177%2C2178%2C2178%2C2187%2C2188%2C2189%2C2189%2C2237%2C22974%2C23310%2C24137%2C259266%2C26271%2C29028%2C29089%2C3014%2C3148%2C3383%2C3430%2C3431%2C3433%2C3434%2C3437%2C3553%2C3627%2C3838%2C4001%2C4061%2C4085%2C4171%2C4173%2C4174%2C4175%2C4176%2C4436%2C4599%2C4599%2C4600%2C4678%2C4938%2C4939%2C51203%2C51514%2C5427%2C54739%2C55120%2C55120%2C55215%2C55215%2C55355%2C55706%2C55872%2C57697%2C5888%2C5888%2C5889%2C5889%2C5984%2C5985%2C6240%2C6241%2C641%2C64151%2C64761%2C6672%2C672%2C6737%2C675%2C675%2C6772%2C6790%2C701%2C7083%2C7124%2C7124%2C7128%2C7153%2C7157%2C7298%2C7411%2C7468%2C7516%2C79682%2C79728%2C81620%2C8317%2C83990%2C83990%2C84464%2C86%2C8638%2C890%2C9055%2C9232%2C9246%2C9319%2C9636%2C9768%2C9833%2C9918%2C9928&table=BigGIM_70_v1\n",
      "{\n",
      "  \"request_id\": \"baa763bf-0bc9-4a0c-8a2d-3944bd8193c6\",\n",
      "  \"status\": \"submitted\"\n",
      "}\n",
      "Sent: GET http://biggim.ncats.io/api/biggim/status/baa763bf-0bc9-4a0c-8a2d-3944bd8193c6?None\n",
      "{\n",
      "  \"request_id\": \"baa763bf-0bc9-4a0c-8a2d-3944bd8193c6\",\n",
      "  \"message\": \"Query job is running.\",\n",
      "  \"status\": \"running\"\n",
      "}\n",
      "Checking again\n",
      "Sent: GET http://biggim.ncats.io/api/biggim/status/baa763bf-0bc9-4a0c-8a2d-3944bd8193c6?None\n",
      "{\n",
      "  \"request_id\": \"baa763bf-0bc9-4a0c-8a2d-3944bd8193c6\",\n",
      "  \"message\": \"Query job is running.\",\n",
      "  \"status\": \"running\"\n",
      "}\n",
      "Checking again\n",
      "Sent: GET http://biggim.ncats.io/api/biggim/status/baa763bf-0bc9-4a0c-8a2d-3944bd8193c6?None\n",
      "{\n",
      "  \"request_id\": \"baa763bf-0bc9-4a0c-8a2d-3944bd8193c6\",\n",
      "  \"message\": \"Query job is running.\",\n",
      "  \"status\": \"running\"\n",
      "}\n",
      "Checking again\n",
      "Sent: GET http://biggim.ncats.io/api/biggim/status/baa763bf-0bc9-4a0c-8a2d-3944bd8193c6?None\n",
      "{\n",
      "  \"request_id\": \"baa763bf-0bc9-4a0c-8a2d-3944bd8193c6\",\n",
      "  \"message\": \"Query job is running.\",\n",
      "  \"status\": \"running\"\n",
      "}\n",
      "Checking again\n",
      "Sent: GET http://biggim.ncats.io/api/biggim/status/baa763bf-0bc9-4a0c-8a2d-3944bd8193c6?None\n",
      "{\n",
      "  \"request_id\": \"baa763bf-0bc9-4a0c-8a2d-3944bd8193c6\",\n",
      "  \"message\": \"Extraction job is running.\",\n",
      "  \"status\": \"running\"\n",
      "}\n",
      "Checking again\n",
      "Sent: GET http://biggim.ncats.io/api/biggim/status/baa763bf-0bc9-4a0c-8a2d-3944bd8193c6?None\n",
      "{\n",
      "  \"size\": \"186.47 KB\",\n",
      "  \"rows\": 4225,\n",
      "  \"request_id\": \"baa763bf-0bc9-4a0c-8a2d-3944bd8193c6\",\n",
      "  \"processed_data\": \"21.36 GB\",\n",
      "  \"request_uri\": [\n",
      "    \"https://storage.googleapis.com/ncats_bigquery_results/baa763bf-0bc9-4a0c-8a2d-3944bd8193c6000000000000.csv\"\n",
      "  ],\n",
      "  \"status\": \"complete\"\n",
      "}\n"
     ]
    }
   ],
   "source": [
    "df = call_biggim(genes2, tissues, average_columns=True, query_id2=genes2)"
   ]
  },
  {
   "cell_type": "code",
   "execution_count": 11,
   "metadata": {
    "collapsed": false
   },
   "outputs": [
    {
     "name": "stdout",
     "output_type": "stream",
     "text": [
      "     Gene1  Gene2      mean\n",
      "0     2177   2176  0.126488\n",
      "1    11065    675  0.214483\n",
      "2    29089   2188  0.089574\n",
      "3     5889   3161  0.143898\n",
      "4    79728   7516  0.057075\n",
      "5    11065   2178  0.095352\n",
      "6     5889   2176  0.049106\n",
      "7     5889   2178  0.085579\n",
      "8    55120    580  0.216469\n",
      "9    55215   2175  0.186829\n",
      "10    2175   1479  0.079013\n",
      "11    2176    675  0.078430\n",
      "12   81620   4939  0.066903\n",
      "13   83990  79728  0.071995\n",
      "14    4939    675  0.071992\n",
      "15    7516   3161  0.081837\n",
      "16   84464  57697  0.080099\n",
      "17   29089    580  0.187491\n",
      "18    2178    580  0.067098\n",
      "19   57697  55215  0.112632\n",
      "20    7124   4599  0.073832\n",
      "21   84464   2178  0.058176\n",
      "22   57697   7516  0.084148\n",
      "23    5888   2176  0.069216\n",
      "24    2176   2175  0.256351\n",
      "25    2188    675  0.071333\n",
      "26   55215   7516  0.094710\n",
      "27   84464   2175  0.095109\n",
      "28   79728  57697  0.081342\n",
      "29   29089   3161  0.265825\n",
      "..     ...    ...       ...\n",
      "299  83990    580  0.092860\n",
      "300   8317   2189  0.230804\n",
      "301   9246   7124  0.096379\n",
      "302   2189   2176  0.082665\n",
      "303  55215   5889  0.163618\n",
      "304  55120   2177  0.123499\n",
      "305   3161    675  0.281940\n",
      "306   2178    675  0.183534\n",
      "307  29089   7516  0.068288\n",
      "308  10459   5888  0.158437\n",
      "309   8317   7516  0.060717\n",
      "310   2187   2072  0.110381\n",
      "311   8317    675  0.248360\n",
      "312   2189   2177  0.214795\n",
      "313   7516   5888  0.141125\n",
      "314   3161    580  0.239946\n",
      "315  81620    675  0.197331\n",
      "316   2178   1479  0.077168\n",
      "317  83990   2176  0.076242\n",
      "318  84464   2072  0.178726\n",
      "319  10459   2189  0.125037\n",
      "320   7516   2176  0.052773\n",
      "321   7516   2189  0.091899\n",
      "322  79728   4939  0.049030\n",
      "323   2187   1479  0.079022\n",
      "324   2189    580  0.193605\n",
      "325  55215   3161  0.313611\n",
      "326   5888    675  0.493868\n",
      "327  79728  29089  0.094300\n",
      "328   2178   2177  0.391341\n",
      "\n",
      "[329 rows x 3 columns]\n"
     ]
    }
   ],
   "source": [
    "print(df)"
   ]
  }
 ],
 "metadata": {
  "kernelspec": {
   "display_name": "Python 3",
   "language": "python",
   "name": "python3"
  },
  "language_info": {
   "codemirror_mode": {
    "name": "ipython",
    "version": 3
   },
   "file_extension": ".py",
   "mimetype": "text/x-python",
   "name": "python",
   "nbconvert_exporter": "python",
   "pygments_lexer": "ipython3",
   "version": "3.4.2"
  }
 },
 "nbformat": 4,
 "nbformat_minor": 2
}
