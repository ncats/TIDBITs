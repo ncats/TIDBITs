{
 "cells": [
  {
   "cell_type": "markdown",
   "metadata": {
    "deletable": true,
    "editable": true
   },
   "source": [
    "# Workflow 8 - module 2 - Diabetes\n",
    "\n",
    "This notebook implements Module 2 of Workflow 8 for diabetes genes and tissues. See <a href=\"https://docs.google.com/presentation/d/1IkAzjSrOMzOLx5z8GqRVKmVd1GKrpIEb_xF4g4RlI1U/edit?usp=sharing\">here</a> for an overview of Workflow 8. Module 2 takes **genes and tissues** as input and **interacting genes** and/or a **gene interaction/similarrity matrix** that can be used as input for module 3 (DDOT). Module 2 uses Google BigQuery. Boilerplate code (API calls for instance) is wrapped in `wf8_module2.py`, which contains API calls written by John Earls and Theo Knijnenburg.  \n",
    "\n",
    "Notebook written by: Samson Fong, John Earls, Theo Knijnenburg, Chris Churas and Aaron Gary. "
   ]
  },
  {
   "cell_type": "markdown",
   "metadata": {
    "deletable": true,
    "editable": true
   },
   "source": [
    "## Libraries and such"
   ]
  },
  {
   "cell_type": "code",
   "execution_count": 1,
   "metadata": {
    "collapsed": false,
    "deletable": true,
    "editable": true
   },
   "outputs": [],
   "source": [
    "%load_ext autoreload \n",
    "%autoreload 2\n",
    "\n",
    "import json\n",
    "from pprint import pprint\n",
    "from wf8_module1 import doid_to_genes_and_tissues\n",
    "from wf8_module2 import call_biggim\n",
    "import numpy as np\n",
    "import pandas as pd\n",
    "import time"
   ]
  },
  {
   "cell_type": "markdown",
   "metadata": {
    "deletable": true,
    "editable": true
   },
   "source": [
    "The main function **call_biggim** has seven input arguments of which only the first two are required\n",
    "1. genes [required]  - List of input genes as a set of NCBI genes, e.g. genes = ['2188', '79728', '7124']\n",
    "2. tissues [required] - LIst of tissues, e.g. tissues = ['pancreas', 'liver']\n",
    "3. limit=1000000 - Maximum number of rows returned. Make smaller for quicker testing and smaller tables\n",
    "4. average_columns=False - If tissues are associated with multiple columns average the scores into one columns called 'mean'\n",
    "5. query_id2=False - List of input genes. Only pairs that are constituted of genes in 'genes' and 'query_id2' are returned\n",
    "6. return_genes=False - Return new genes (interacting with the original set of genes) as a list\n",
    "7. N=250 - Number of new genes returned"
   ]
  },
  {
   "cell_type": "markdown",
   "metadata": {
    "deletable": true,
    "editable": true
   },
   "source": [
    "# Testing for Diabetes\n",
    "\n",
    "Tissue and genes are from MarcinvG/Sui."
   ]
  },
  {
   "cell_type": "markdown",
   "metadata": {
    "deletable": true,
    "editable": true
   },
   "source": [
    "## Getting Interacting Genes\n",
    "\n",
    " We are asking for N=100 genes that interact with the 10 seed genes."
   ]
  },
  {
   "cell_type": "code",
   "execution_count": 2,
   "metadata": {
    "collapsed": false,
    "deletable": true,
    "editable": true,
    "scrolled": true
   },
   "outputs": [
    {
     "name": "stdout",
     "output_type": "stream",
     "text": [
      "Sent: GET http://biggim.ncats.io/api/metadata/tissue/pancreas?None\n",
      "Sent: GET http://biggim.ncats.io/api/metadata/tissue/liver?None\n",
      "Sent: GET http://biggim.ncats.io/api/metadata/tissue/muscle?None\n",
      "Sent: GET http://biggim.ncats.io/api/metadata/tissue/adipose?None\n",
      "Returned 21 Big GIM columns\n",
      "['GIANT_pancreas_KnownFunctionalInteraction', 'GIANT_hepatocyte_ProbabilityOfFunctionalInteraction', 'GIANT_hepatocyte_KnownFunctionalInteraction', 'GIANT_liver_KnownFunctionalInteraction', 'GIANT_skeletal_muscle_KnownFunctionalInteraction', 'GIANT_skeletal_muscle_ProbabilityOfFunctionalInteraction', 'GIANT_pancreatic_islet_KnownFunctionalInteraction', 'GTEx_Pancreas_Correlation', 'GIANT_pancreas_ProbabilityOfFunctionalInteraction', 'GTEx_Muscle_Correlation', 'GIANT_liver_ProbabilityOfFunctionalInteraction', 'GTEx_Liver_Correlation', 'GIANT_cardiac_muscle_ProbabilityOfFunctionalInteraction', 'GIANT_myometrium_KnownFunctionalInteraction', 'GIANT_pancreatic_islet_ProbabilityOfFunctionalInteraction', 'GIANT_muscle_ProbabilityOfFunctionalInteraction', 'GIANT_cardiac_muscle_KnownFunctionalInteraction', 'GIANT_smooth_muscle_ProbabilityOfFunctionalInteraction', 'GIANT_muscle_KnownFunctionalInteraction', 'GIANT_smooth_muscle_KnownFunctionalInteraction', 'GIANT_myometrium_ProbabilityOfFunctionalInteraction']\n",
      "Sent: GET http://biggim.ncats.io/api/biggim/query?limit=1000000&restriction_gt=GIANT_pancreas_KnownFunctionalInteraction%2C-2.0%2CGIANT_hepatocyte_ProbabilityOfFunctionalInteraction%2C-2.0%2CGIANT_hepatocyte_KnownFunctionalInteraction%2C-2.0%2CGIANT_liver_KnownFunctionalInteraction%2C-2.0%2CGIANT_skeletal_muscle_KnownFunctionalInteraction%2C-2.0%2CGIANT_skeletal_muscle_ProbabilityOfFunctionalInteraction%2C-2.0%2CGIANT_pancreatic_islet_KnownFunctionalInteraction%2C-2.0%2CGTEx_Pancreas_Correlation%2C-2.0%2CGIANT_pancreas_ProbabilityOfFunctionalInteraction%2C-2.0%2CGTEx_Muscle_Correlation%2C-2.0%2CGIANT_liver_ProbabilityOfFunctionalInteraction%2C-2.0%2CGTEx_Liver_Correlation%2C-2.0%2CGIANT_cardiac_muscle_ProbabilityOfFunctionalInteraction%2C-2.0%2CGIANT_myometrium_KnownFunctionalInteraction%2C-2.0%2CGIANT_pancreatic_islet_ProbabilityOfFunctionalInteraction%2C-2.0%2CGIANT_muscle_ProbabilityOfFunctionalInteraction%2C-2.0%2CGIANT_cardiac_muscle_KnownFunctionalInteraction%2C-2.0%2CGIANT_smooth_muscle_ProbabilityOfFunctionalInteraction%2C-2.0%2CGIANT_muscle_KnownFunctionalInteraction%2C-2.0%2CGIANT_smooth_muscle_KnownFunctionalInteraction%2C-2.0%2CGIANT_myometrium_ProbabilityOfFunctionalInteraction%2C-2.0&columns=GIANT_pancreas_KnownFunctionalInteraction%2CGIANT_hepatocyte_ProbabilityOfFunctionalInteraction%2CGIANT_hepatocyte_KnownFunctionalInteraction%2CGIANT_liver_KnownFunctionalInteraction%2CGIANT_skeletal_muscle_KnownFunctionalInteraction%2CGIANT_skeletal_muscle_ProbabilityOfFunctionalInteraction%2CGIANT_pancreatic_islet_KnownFunctionalInteraction%2CGTEx_Pancreas_Correlation%2CGIANT_pancreas_ProbabilityOfFunctionalInteraction%2CGTEx_Muscle_Correlation%2CGIANT_liver_ProbabilityOfFunctionalInteraction%2CGTEx_Liver_Correlation%2CGIANT_cardiac_muscle_ProbabilityOfFunctionalInteraction%2CGIANT_myometrium_KnownFunctionalInteraction%2CGIANT_pancreatic_islet_ProbabilityOfFunctionalInteraction%2CGIANT_muscle_ProbabilityOfFunctionalInteraction%2CGIANT_cardiac_muscle_KnownFunctionalInteraction%2CGIANT_smooth_muscle_ProbabilityOfFunctionalInteraction%2CGIANT_muscle_KnownFunctionalInteraction%2CGIANT_smooth_muscle_KnownFunctionalInteraction%2CGIANT_myometrium_ProbabilityOfFunctionalInteraction&table=BigGIM_70_v1&average_columns=True&ids1=10239%2C1029%2C145741%2C169026%2C3087%2C4544%2C54901%2C6927%2C6934%2C8872\n",
      "{\n",
      "  \"status\": \"submitted\",\n",
      "  \"request_id\": \"382b0fc9-c1d4-4bed-a4ce-6021e947ed6b\"\n",
      "}\n",
      "Sent: GET http://biggim.ncats.io/api/biggim/status/382b0fc9-c1d4-4bed-a4ce-6021e947ed6b?None\n",
      "{\n",
      "  \"status\": \"running\",\n",
      "  \"message\": \"Query job is running.\",\n",
      "  \"request_id\": \"382b0fc9-c1d4-4bed-a4ce-6021e947ed6b\"\n",
      "}\n",
      "Checking again\n",
      "Sent: GET http://biggim.ncats.io/api/biggim/status/382b0fc9-c1d4-4bed-a4ce-6021e947ed6b?None\n",
      "{\n",
      "  \"status\": \"running\",\n",
      "  \"message\": \"Query job is running.\",\n",
      "  \"request_id\": \"382b0fc9-c1d4-4bed-a4ce-6021e947ed6b\"\n",
      "}\n",
      "Checking again\n",
      "Sent: GET http://biggim.ncats.io/api/biggim/status/382b0fc9-c1d4-4bed-a4ce-6021e947ed6b?None\n",
      "{\n",
      "  \"status\": \"running\",\n",
      "  \"message\": \"Query job is running.\",\n",
      "  \"request_id\": \"382b0fc9-c1d4-4bed-a4ce-6021e947ed6b\"\n",
      "}\n",
      "Checking again\n",
      "Sent: GET http://biggim.ncats.io/api/biggim/status/382b0fc9-c1d4-4bed-a4ce-6021e947ed6b?None\n",
      "{\n",
      "  \"rows\": 31652,\n",
      "  \"request_id\": \"382b0fc9-c1d4-4bed-a4ce-6021e947ed6b\",\n",
      "  \"status\": \"complete\",\n",
      "  \"request_uri\": [\n",
      "    \"https://storage.googleapis.com/ncats_bigquery_results/382b0fc9-c1d4-4bed-a4ce-6021e947ed6b000000000000.csv\"\n",
      "  ],\n",
      "  \"processed_data\": \"8.79 GB\",\n",
      "  \"size\": \"1.41 MB\"\n",
      "}\n",
      "        Gene1  Gene2      mean\n",
      "0        6934   4659  0.131654\n",
      "1       54901    939  0.037281\n",
      "2       54901  23420  0.083059\n",
      "3        6927   6905  0.075670\n",
      "4       54901  23729  0.058022\n",
      "5        6927   4247  0.041188\n",
      "6       54901   5687  0.073875\n",
      "7       54901  23259  0.064794\n",
      "8       54901    670  0.067626\n",
      "9        6927   1525  0.060140\n",
      "10      54901  10001  0.072891\n",
      "11       8872   7295  0.227557\n",
      "12      54901  24140  0.046455\n",
      "13      54901   7358  0.052782\n",
      "14      54901  10393  0.073558\n",
      "15      54901   3326  0.064419\n",
      "16      54901  27352  0.030762\n",
      "17      54901    605  0.052467\n",
      "18      54901   9213  0.074031\n",
      "19       6927   3308  0.046018\n",
      "20      54901  23333  0.084435\n",
      "21       6934   2319  0.130286\n",
      "22       6934   5071  0.012526\n",
      "23       8872   5701  0.281656\n",
      "24       6927   4905  0.021913\n",
      "25      54901  10473  0.069946\n",
      "26      54901   7270  0.088223\n",
      "27       6934   6383  0.086025\n",
      "28      54901  22874  0.026534\n",
      "29       6934    480  0.049477\n",
      "...       ...    ...       ...\n",
      "31622  145873  10239  0.033692\n",
      "31623   79650  10239  0.094217\n",
      "31624   25813  10239  0.116547\n",
      "31625   79884  10239  0.020214\n",
      "31626  137682  10239  0.067384\n",
      "31627   90523  10239  0.034061\n",
      "31628  113878  10239  0.050563\n",
      "31629   51067  10239  0.122558\n",
      "31630   10916  10239  0.088300\n",
      "31631   10981  10239  0.069310\n",
      "31632   23608  10239  0.160322\n",
      "31633   80207  10239  0.068295\n",
      "31634   84971  10239  0.097653\n",
      "31635   63932  10239  0.041465\n",
      "31636  729515  10239  0.103182\n",
      "31637   55843  10239 -0.004894\n",
      "31638   57701  10239  0.055809\n",
      "31639   84804  10239  0.035072\n",
      "31640   55741  10239  0.095094\n",
      "31641   11311  10239  0.070356\n",
      "31642   54458  10239  0.102190\n",
      "31643   79594  10239  0.068053\n",
      "31644   79657  10239  0.059264\n",
      "31645   25809  10239  0.067580\n",
      "31646   25973  10239  0.078443\n",
      "31647   51075  10239  0.094164\n",
      "31648   51103  10239  0.121487\n",
      "31649   55361  10239  0.106733\n",
      "31650   57213  10239  0.078171\n",
      "31651   51100  10239  0.143634\n",
      "\n",
      "[31652 rows x 3 columns]\n",
      "       index   Gene1   Gene2      mean\n",
      "0       4876    8872    1736  0.423579\n",
      "1       8446    8872    5683  0.400031\n",
      "2      29757   11222    8872  0.392001\n",
      "3       8649    8872    6632  0.381691\n",
      "4      28948   11137    8872  0.376672\n",
      "5      24108   10395    6934  0.368005\n",
      "6       8146    8872    5685  0.361852\n",
      "7       9008    8872    7334  0.355783\n",
      "8      10655    2261    1029  0.351240\n",
      "9      28676   22948    8872  0.350561\n",
      "10      8971    8872    5686  0.346753\n",
      "11     30084   10528    8872  0.341548\n",
      "12      1747    8872    1434  0.341161\n",
      "13      9101    8872    3608  0.339903\n",
      "14       600    8872    8624  0.337812\n",
      "15     28959   10971    8872  0.337158\n",
      "16     29323   10492    8872  0.336803\n",
      "17     29873   10539    8872  0.336160\n",
      "18      9253    6934    4921  0.335277\n",
      "19     28729   10606    8872  0.335238\n",
      "20     28547   10574    8872  0.330639\n",
      "21     29467   10987    8872  0.330264\n",
      "22      4662    8872    6637  0.329784\n",
      "23     28954   10576    8872  0.328719\n",
      "24      7655    8872    7520  0.326646\n",
      "25      8414    8872     471  0.324808\n",
      "26     29304    9184    8872  0.324635\n",
      "27      8919    8872    5707  0.322515\n",
      "28      4867    8872    6059  0.320818\n",
      "29      5348    8872     908  0.319094\n",
      "...      ...     ...     ...       ...\n",
      "31622   7901  154796  145741 -0.011112\n",
      "31623  11449    3816    1029 -0.012925\n",
      "31624   8388    6927    2157 -0.013191\n",
      "31625  10153    5207    1029 -0.013310\n",
      "31626   3517    6934    3816 -0.014698\n",
      "31627  29538  400242    8872 -0.014718\n",
      "31628  14632   57127    1029 -0.015134\n",
      "31629   8873   10239    8110 -0.015538\n",
      "31630   2942  149076  145741 -0.016494\n",
      "31631   5883   10239    4607 -0.017093\n",
      "31632   7664    6927    3957 -0.017254\n",
      "31633   9140  145741    9970 -0.017554\n",
      "31634    685   10239     845 -0.019147\n",
      "31635   1387   54901    3816 -0.020199\n",
      "31636  29517  388886    8872 -0.020534\n",
      "31637   8575    6927    1012 -0.020885\n",
      "31638   2282    6934    3158 -0.020931\n",
      "31639  25624  113177   54901 -0.021568\n",
      "31640   1339    8872    3083 -0.021690\n",
      "31641  29179  127579    8872 -0.025208\n",
      "31642  30170   55268    8872 -0.027546\n",
      "31643   6081    8872    5406 -0.030317\n",
      "31644   5819  387640  145741 -0.030677\n",
      "31645   4869    8872    1357 -0.031009\n",
      "31646     70    8872    5644 -0.034100\n",
      "31647  29550   55876    8872 -0.035575\n",
      "31648  30286   51032    8872 -0.037233\n",
      "31649   9238    8872    3375 -0.037438\n",
      "31650  29616   10500    8872 -0.042040\n",
      "31651  28625  163688    8872 -0.049617\n",
      "\n",
      "[31652 rows x 4 columns]\n"
     ]
    }
   ],
   "source": [
    "genes = ['10239','1029','145741','169026','3087','4544','54901','6927','6934','8872']\n",
    "tissues =  ['pancreas', 'liver', 'muscle', 'adipose']\n",
    "genes2 = call_biggim(genes, tissues, average_columns=True, return_genes=True, N=100)\n"
   ]
  },
  {
   "cell_type": "code",
   "execution_count": 3,
   "metadata": {
    "collapsed": false,
    "deletable": true,
    "editable": true,
    "scrolled": true
   },
   "outputs": [
    {
     "name": "stdout",
     "output_type": "stream",
     "text": [
      "All genes\n",
      "['10190', '1021', '10239', '1029', '1029', '10395', '10436', '10492', '10528', '10539', '10574', '10576', '10606', '10694', '10799', '10923', '10971', '10987', '11030', '11137', '11164', '11222', '1434', '145741', '158', '169026', '1736', '2079', '2107', '2247', '2261', '2271', '22919', '22948', '23560', '24140', '2487', '2534', '26135', '2618', '2665', '27258', '27303', '2737', '28985', '29889', '3087', '3087', '334', '3396', '3608', '367', '3735', '3838', '4172', '4544', '471', '4853', '4921', '5052', '5223', '5464', '54901', '55759', '5631', '5663', '5682', '5683', '5684', '5685', '5686', '5689', '5695', '5701', '5705', '5707', '5718', '5901', '5902', '6059', '6418', '6632', '6637', '6731', '6742', '6790', '6927', '6934', '6934', '6950', '7019', '7334', '7341', '7371', '7411', '7520', '7818', '79084', '8520', '8533', '8624', '8660', '87178', '8833', '8872', '8872', '8886', '908', '9184', '9521', '9775', '9790']\n"
     ]
    }
   ],
   "source": [
    "print('All genes')\n",
    "print(genes2)"
   ]
  },
  {
   "cell_type": "code",
   "execution_count": 4,
   "metadata": {
    "collapsed": false,
    "deletable": true,
    "editable": true,
    "scrolled": true
   },
   "outputs": [
    {
     "name": "stdout",
     "output_type": "stream",
     "text": [
      "Here are the new genes\n",
      "['7371', '11164', '5689', '5701', '7019', '8833', '22948', '10574', '23560', '2079', '10436', '5683', '3735', '6950', '8624', '1434', '8886', '10190', '4172', '4853', '7520', '28985', '158', '5718', '7334', '6418', '8520', '5684', '79084', '8533', '27258', '7341', '2247', '5685', '10694', '5663', '6731', '6059', '10987', '26135', '471', '6742', '5707', '7818', '27303', '2271', '3396', '5052', '11030', '10923', '5464', '22919', '2261', '11137', '55759', '9184', '5902', '9775', '1736', '6632', '10971', '3608', '2534', '908', '2107', '24140', '9521', '10528', '5686', '5695', '2487', '10395', '10539', '5682', '2618', '29889', '2665', '6637', '10799', '3838', '1021', '5631', '367', '5901', '10606', '5705', '10576', '7411', '6790', '8660', '9790', '2737', '10492', '334', '4921', '5223', '87178', '11222']\n"
     ]
    }
   ],
   "source": [
    "print('Here are the new genes')\n",
    "print(list(set(genes2)-set(genes)))"
   ]
  },
  {
   "cell_type": "markdown",
   "metadata": {
    "deletable": true,
    "editable": true
   },
   "source": [
    "## Running Big GIM for the second round, now producing the interaction matrix (df) that can serve as an input for DDOT"
   ]
  },
  {
   "cell_type": "code",
   "execution_count": 5,
   "metadata": {
    "collapsed": false,
    "deletable": true,
    "editable": true
   },
   "outputs": [
    {
     "name": "stdout",
     "output_type": "stream",
     "text": [
      "Sent: GET http://biggim.ncats.io/api/metadata/tissue/pancreas?None\n",
      "Sent: GET http://biggim.ncats.io/api/metadata/tissue/liver?None\n",
      "Sent: GET http://biggim.ncats.io/api/metadata/tissue/muscle?None\n",
      "Sent: GET http://biggim.ncats.io/api/metadata/tissue/adipose?None\n",
      "Returned 21 Big GIM columns\n",
      "['GIANT_pancreas_KnownFunctionalInteraction', 'GIANT_hepatocyte_ProbabilityOfFunctionalInteraction', 'GIANT_hepatocyte_KnownFunctionalInteraction', 'GIANT_liver_KnownFunctionalInteraction', 'GIANT_skeletal_muscle_KnownFunctionalInteraction', 'GIANT_skeletal_muscle_ProbabilityOfFunctionalInteraction', 'GIANT_pancreatic_islet_KnownFunctionalInteraction', 'GTEx_Pancreas_Correlation', 'GIANT_pancreas_ProbabilityOfFunctionalInteraction', 'GTEx_Muscle_Correlation', 'GIANT_liver_ProbabilityOfFunctionalInteraction', 'GTEx_Liver_Correlation', 'GIANT_cardiac_muscle_ProbabilityOfFunctionalInteraction', 'GIANT_myometrium_KnownFunctionalInteraction', 'GIANT_pancreatic_islet_ProbabilityOfFunctionalInteraction', 'GIANT_muscle_ProbabilityOfFunctionalInteraction', 'GIANT_cardiac_muscle_KnownFunctionalInteraction', 'GIANT_smooth_muscle_ProbabilityOfFunctionalInteraction', 'GIANT_muscle_KnownFunctionalInteraction', 'GIANT_smooth_muscle_KnownFunctionalInteraction', 'GIANT_myometrium_ProbabilityOfFunctionalInteraction']\n",
      "Sent: GET http://biggim.ncats.io/api/biggim/query?ids2=10190%2C1021%2C10239%2C1029%2C1029%2C10395%2C10436%2C10492%2C10528%2C10539%2C10574%2C10576%2C10606%2C10694%2C10799%2C10923%2C10971%2C10987%2C11030%2C11137%2C11164%2C11222%2C1434%2C145741%2C158%2C169026%2C1736%2C2079%2C2107%2C2247%2C2261%2C2271%2C22919%2C22948%2C23560%2C24140%2C2487%2C2534%2C26135%2C2618%2C2665%2C27258%2C27303%2C2737%2C28985%2C29889%2C3087%2C3087%2C334%2C3396%2C3608%2C367%2C3735%2C3838%2C4172%2C4544%2C471%2C4853%2C4921%2C5052%2C5223%2C5464%2C54901%2C55759%2C5631%2C5663%2C5682%2C5683%2C5684%2C5685%2C5686%2C5689%2C5695%2C5701%2C5705%2C5707%2C5718%2C5901%2C5902%2C6059%2C6418%2C6632%2C6637%2C6731%2C6742%2C6790%2C6927%2C6934%2C6934%2C6950%2C7019%2C7334%2C7341%2C7371%2C7411%2C7520%2C7818%2C79084%2C8520%2C8533%2C8624%2C8660%2C87178%2C8833%2C8872%2C8872%2C8886%2C908%2C9184%2C9521%2C9775%2C9790&limit=1000000&restriction_gt=GIANT_pancreas_KnownFunctionalInteraction%2C-2.0%2CGIANT_hepatocyte_ProbabilityOfFunctionalInteraction%2C-2.0%2CGIANT_hepatocyte_KnownFunctionalInteraction%2C-2.0%2CGIANT_liver_KnownFunctionalInteraction%2C-2.0%2CGIANT_skeletal_muscle_KnownFunctionalInteraction%2C-2.0%2CGIANT_skeletal_muscle_ProbabilityOfFunctionalInteraction%2C-2.0%2CGIANT_pancreatic_islet_KnownFunctionalInteraction%2C-2.0%2CGTEx_Pancreas_Correlation%2C-2.0%2CGIANT_pancreas_ProbabilityOfFunctionalInteraction%2C-2.0%2CGTEx_Muscle_Correlation%2C-2.0%2CGIANT_liver_ProbabilityOfFunctionalInteraction%2C-2.0%2CGTEx_Liver_Correlation%2C-2.0%2CGIANT_cardiac_muscle_ProbabilityOfFunctionalInteraction%2C-2.0%2CGIANT_myometrium_KnownFunctionalInteraction%2C-2.0%2CGIANT_pancreatic_islet_ProbabilityOfFunctionalInteraction%2C-2.0%2CGIANT_muscle_ProbabilityOfFunctionalInteraction%2C-2.0%2CGIANT_cardiac_muscle_KnownFunctionalInteraction%2C-2.0%2CGIANT_smooth_muscle_ProbabilityOfFunctionalInteraction%2C-2.0%2CGIANT_muscle_KnownFunctionalInteraction%2C-2.0%2CGIANT_smooth_muscle_KnownFunctionalInteraction%2C-2.0%2CGIANT_myometrium_ProbabilityOfFunctionalInteraction%2C-2.0&columns=GIANT_pancreas_KnownFunctionalInteraction%2CGIANT_hepatocyte_ProbabilityOfFunctionalInteraction%2CGIANT_hepatocyte_KnownFunctionalInteraction%2CGIANT_liver_KnownFunctionalInteraction%2CGIANT_skeletal_muscle_KnownFunctionalInteraction%2CGIANT_skeletal_muscle_ProbabilityOfFunctionalInteraction%2CGIANT_pancreatic_islet_KnownFunctionalInteraction%2CGTEx_Pancreas_Correlation%2CGIANT_pancreas_ProbabilityOfFunctionalInteraction%2CGTEx_Muscle_Correlation%2CGIANT_liver_ProbabilityOfFunctionalInteraction%2CGTEx_Liver_Correlation%2CGIANT_cardiac_muscle_ProbabilityOfFunctionalInteraction%2CGIANT_myometrium_KnownFunctionalInteraction%2CGIANT_pancreatic_islet_ProbabilityOfFunctionalInteraction%2CGIANT_muscle_ProbabilityOfFunctionalInteraction%2CGIANT_cardiac_muscle_KnownFunctionalInteraction%2CGIANT_smooth_muscle_ProbabilityOfFunctionalInteraction%2CGIANT_muscle_KnownFunctionalInteraction%2CGIANT_smooth_muscle_KnownFunctionalInteraction%2CGIANT_myometrium_ProbabilityOfFunctionalInteraction&table=BigGIM_70_v1&average_columns=True&ids1=10190%2C1021%2C10239%2C1029%2C1029%2C10395%2C10436%2C10492%2C10528%2C10539%2C10574%2C10576%2C10606%2C10694%2C10799%2C10923%2C10971%2C10987%2C11030%2C11137%2C11164%2C11222%2C1434%2C145741%2C158%2C169026%2C1736%2C2079%2C2107%2C2247%2C2261%2C2271%2C22919%2C22948%2C23560%2C24140%2C2487%2C2534%2C26135%2C2618%2C2665%2C27258%2C27303%2C2737%2C28985%2C29889%2C3087%2C3087%2C334%2C3396%2C3608%2C367%2C3735%2C3838%2C4172%2C4544%2C471%2C4853%2C4921%2C5052%2C5223%2C5464%2C54901%2C55759%2C5631%2C5663%2C5682%2C5683%2C5684%2C5685%2C5686%2C5689%2C5695%2C5701%2C5705%2C5707%2C5718%2C5901%2C5902%2C6059%2C6418%2C6632%2C6637%2C6731%2C6742%2C6790%2C6927%2C6934%2C6934%2C6950%2C7019%2C7334%2C7341%2C7371%2C7411%2C7520%2C7818%2C79084%2C8520%2C8533%2C8624%2C8660%2C87178%2C8833%2C8872%2C8872%2C8886%2C908%2C9184%2C9521%2C9775%2C9790\n",
      "{\n",
      "  \"status\": \"submitted\",\n",
      "  \"request_id\": \"2d0462a2-7abc-4719-a61f-08dacdc3f6df\"\n",
      "}\n",
      "Sent: GET http://biggim.ncats.io/api/biggim/status/2d0462a2-7abc-4719-a61f-08dacdc3f6df?None\n",
      "{\n",
      "  \"status\": \"running\",\n",
      "  \"message\": \"Query job is running.\",\n",
      "  \"request_id\": \"2d0462a2-7abc-4719-a61f-08dacdc3f6df\"\n",
      "}\n",
      "Checking again\n",
      "Sent: GET http://biggim.ncats.io/api/biggim/status/2d0462a2-7abc-4719-a61f-08dacdc3f6df?None\n",
      "{\n",
      "  \"status\": \"running\",\n",
      "  \"message\": \"Query job is running.\",\n",
      "  \"request_id\": \"2d0462a2-7abc-4719-a61f-08dacdc3f6df\"\n",
      "}\n",
      "Checking again\n",
      "Sent: GET http://biggim.ncats.io/api/biggim/status/2d0462a2-7abc-4719-a61f-08dacdc3f6df?None\n",
      "{\n",
      "  \"status\": \"running\",\n",
      "  \"message\": \"Extraction job is running.\",\n",
      "  \"request_id\": \"2d0462a2-7abc-4719-a61f-08dacdc3f6df\"\n",
      "}\n",
      "Checking again\n",
      "Sent: GET http://biggim.ncats.io/api/biggim/status/2d0462a2-7abc-4719-a61f-08dacdc3f6df?None\n",
      "{\n",
      "  \"rows\": 4004,\n",
      "  \"request_id\": \"2d0462a2-7abc-4719-a61f-08dacdc3f6df\",\n",
      "  \"status\": \"complete\",\n",
      "  \"request_uri\": [\n",
      "    \"https://storage.googleapis.com/ncats_bigquery_results/2d0462a2-7abc-4719-a61f-08dacdc3f6df000000000000.csv\"\n",
      "  ],\n",
      "  \"processed_data\": \"8.79 GB\",\n",
      "  \"size\": \"177.17 KB\"\n",
      "}\n"
     ]
    }
   ],
   "source": [
    "df = call_biggim(genes2, tissues, average_columns=True, query_id2=genes2)"
   ]
  },
  {
   "cell_type": "code",
   "execution_count": 11,
   "metadata": {
    "collapsed": false,
    "deletable": true,
    "editable": true
   },
   "outputs": [
    {
     "name": "stdout",
     "output_type": "stream",
     "text": [
      "     Gene1  Gene2      mean\n",
      "0     2177   2176  0.126488\n",
      "1    11065    675  0.214483\n",
      "2    29089   2188  0.089574\n",
      "3     5889   3161  0.143898\n",
      "4    79728   7516  0.057075\n",
      "5    11065   2178  0.095352\n",
      "6     5889   2176  0.049106\n",
      "7     5889   2178  0.085579\n",
      "8    55120    580  0.216469\n",
      "9    55215   2175  0.186829\n",
      "10    2175   1479  0.079013\n",
      "11    2176    675  0.078430\n",
      "12   81620   4939  0.066903\n",
      "13   83990  79728  0.071995\n",
      "14    4939    675  0.071992\n",
      "15    7516   3161  0.081837\n",
      "16   84464  57697  0.080099\n",
      "17   29089    580  0.187491\n",
      "18    2178    580  0.067098\n",
      "19   57697  55215  0.112632\n",
      "20    7124   4599  0.073832\n",
      "21   84464   2178  0.058176\n",
      "22   57697   7516  0.084148\n",
      "23    5888   2176  0.069216\n",
      "24    2176   2175  0.256351\n",
      "25    2188    675  0.071333\n",
      "26   55215   7516  0.094710\n",
      "27   84464   2175  0.095109\n",
      "28   79728  57697  0.081342\n",
      "29   29089   3161  0.265825\n",
      "..     ...    ...       ...\n",
      "299  83990    580  0.092860\n",
      "300   8317   2189  0.230804\n",
      "301   9246   7124  0.096379\n",
      "302   2189   2176  0.082665\n",
      "303  55215   5889  0.163618\n",
      "304  55120   2177  0.123499\n",
      "305   3161    675  0.281940\n",
      "306   2178    675  0.183534\n",
      "307  29089   7516  0.068288\n",
      "308  10459   5888  0.158437\n",
      "309   8317   7516  0.060717\n",
      "310   2187   2072  0.110381\n",
      "311   8317    675  0.248360\n",
      "312   2189   2177  0.214795\n",
      "313   7516   5888  0.141125\n",
      "314   3161    580  0.239946\n",
      "315  81620    675  0.197331\n",
      "316   2178   1479  0.077168\n",
      "317  83990   2176  0.076242\n",
      "318  84464   2072  0.178726\n",
      "319  10459   2189  0.125037\n",
      "320   7516   2176  0.052773\n",
      "321   7516   2189  0.091899\n",
      "322  79728   4939  0.049030\n",
      "323   2187   1479  0.079022\n",
      "324   2189    580  0.193605\n",
      "325  55215   3161  0.313611\n",
      "326   5888    675  0.493868\n",
      "327  79728  29089  0.094300\n",
      "328   2178   2177  0.391341\n",
      "\n",
      "[329 rows x 3 columns]\n"
     ]
    }
   ],
   "source": [
    "print(df)"
   ]
  }
 ],
 "metadata": {
  "kernelspec": {
   "display_name": "Python 3",
   "language": "python",
   "name": "python3"
  },
  "language_info": {
   "codemirror_mode": {
    "name": "ipython",
    "version": 3
   },
   "file_extension": ".py",
   "mimetype": "text/x-python",
   "name": "python",
   "nbconvert_exporter": "python",
   "pygments_lexer": "ipython3",
   "version": "3.4.2"
  }
 },
 "nbformat": 4,
 "nbformat_minor": 2
}
