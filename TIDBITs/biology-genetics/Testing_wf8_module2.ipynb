{
 "cells": [
  {
   "cell_type": "markdown",
   "metadata": {
    "deletable": true,
    "editable": true
   },
   "source": [
    "# Workflow 8 - module 1 - initial testing\n",
    "\n",
    "This notebook tests and gives examples for Module 1 of Workflow 8. See <a href=\"https://docs.google.com/presentation/d/1IkAzjSrOMzOLx5z8GqRVKmVd1GKrpIEb_xF4g4RlI1U/edit?usp=sharing\">here</a> for an overview of Workflow 8. Module takes **disease** as input and returns relevant **genes and tissues** using BioLinks. Boilerplate code (API calls for instance) is wrapped in `wf8_module1.py`, which contains API calls written by John Earls and Theo Knijnenburg.  \n",
    "\n",
    "Notebook written by: Samson Fong, John Earls, Theo Knijnenburg, Chris Churas and Aaron Gary. "
   ]
  },
  {
   "cell_type": "markdown",
   "metadata": {
    "deletable": true,
    "editable": true
   },
   "source": [
    "## Libraries and such"
   ]
  },
  {
   "cell_type": "code",
   "execution_count": 1,
   "metadata": {
    "collapsed": false,
    "deletable": true,
    "editable": true
   },
   "outputs": [],
   "source": [
    "%load_ext autoreload \n",
    "%autoreload 2\n",
    "\n",
    "import json\n",
    "from pprint import pprint\n",
    "from wf8_module1 import doid_to_genes_and_tissues\n",
    "import numpy as np\n",
    "import pandas as pd\n",
    "import time"
   ]
  },
  {
   "cell_type": "markdown",
   "metadata": {},
   "source": [
    "The main function **doid_to_genes_and_tissue** has three input arguments of which only the first one is required\n",
    "1. DOID ID, such as '13636' for <a href=\"https://www.ebi.ac.uk/ols/ontologies/doid/terms?iri=http%3A%2F%2Fpurl.obolibrary.org%2Fobo%2FDOID_1612\">FA</a>, and '1612' for <a href=\"https://www.ebi.ac.uk/ols/ontologies/doid/terms?iri=http%3A%2F%2Fpurl.obolibrary.org%2Fobo%2FDOID_13636\n",
    "\">breast cancer</a>. [required]\n",
    "2. Flag indicating whether to connect directly from disease to genes or indirectly [optional, default = Direct] \n",
    "3. N, integer indicating how many links to pursue at each step. Set N to 500 (or Inf) to get all results (may take several minutes). Set N to 2 for testing purposes.\n",
    "<img src=\\\"direct_indirect_link_from_doid_to_gene.png.png\\\">"
   ]
  },
  {
   "cell_type": "markdown",
   "metadata": {
    "deletable": true,
    "editable": true
   },
   "source": [
    "## Testing for Fanconi Anemia\n",
    "\n",
    "genes,tissues = doid_to_genes_and_tissues('13636',direct=True,N=10) will find\n",
    "\n",
    "22 genes (ncbi gene IDs, these are mostly FA genes)\n",
    "\n",
    "1 tissue (animal)"
   ]
  },
  {
   "cell_type": "code",
   "execution_count": 7,
   "metadata": {
    "collapsed": false,
    "deletable": true,
    "editable": true,
    "scrolled": true
   },
   "outputs": [
    {
     "name": "stderr",
     "output_type": "stream",
     "text": [
      "INFO:root:Geting HP ids from DOID\n"
     ]
    },
    {
     "name": "stdout",
     "output_type": "stream",
     "text": [
      "http://biothings.io/explorer/api/v2/directinput2output?input_prefix=doid&output_prefix=ncbigene&input_value=13636&format=translator\n"
     ]
    },
    {
     "name": "stderr",
     "output_type": "stream",
     "text": [
      "INFO:root:Geting HP ids from DOID\n"
     ]
    },
    {
     "name": "stdout",
     "output_type": "stream",
     "text": [
      "Returned 22 genes\n",
      "http://biothings.io/explorer/api/v2/directinput2output?input_prefix=doid&output_prefix=hp&input_value=13636&format=translator\n"
     ]
    },
    {
     "name": "stderr",
     "output_type": "stream",
     "text": [
      "INFO:root:Geting uberon from HP ids\n"
     ]
    },
    {
     "name": "stdout",
     "output_type": "stream",
     "text": [
      "Returned 183 phenotypes\n",
      "http://biothings.io/explorer/api/v2/directinput2output?input_prefix=hp&output_prefix=uberon&input_value=0012745&format=translator\n",
      "http://biothings.io/explorer/api/v2/directinput2output?input_prefix=hp&output_prefix=uberon&input_value=0003022&format=translator\n",
      "http://biothings.io/explorer/api/v2/directinput2output?input_prefix=hp&output_prefix=uberon&input_value=0005912&format=translator\n",
      "http://biothings.io/explorer/api/v2/directinput2output?input_prefix=hp&output_prefix=uberon&input_value=0000365&format=translator\n"
     ]
    },
    {
     "name": "stderr",
     "output_type": "stream",
     "text": [
      "WARNING:root:{'error message': \"Endpoints could be located connecting hp to uberon. The endpoints are ['https://api.monarchinitiative.org/api/bioentity/phenotype/{phenotypeid}/anatomy']. However, no output could be found using the endpoint!\", 'status': 400}\n"
     ]
    },
    {
     "name": "stdout",
     "output_type": "stream",
     "text": [
      "http://biothings.io/explorer/api/v2/directinput2output?input_prefix=hp&output_prefix=uberon&input_value=0001172&format=translator\n"
     ]
    },
    {
     "name": "stderr",
     "output_type": "stream",
     "text": [
      "WARNING:root:{'error message': \"Endpoints could be located connecting hp to uberon. The endpoints are ['https://api.monarchinitiative.org/api/bioentity/phenotype/{phenotypeid}/anatomy']. However, no output could be found using the endpoint!\", 'status': 400}\n"
     ]
    },
    {
     "name": "stdout",
     "output_type": "stream",
     "text": [
      "http://biothings.io/explorer/api/v2/directinput2output?input_prefix=hp&output_prefix=uberon&input_value=0002863&format=translator\n"
     ]
    },
    {
     "name": "stderr",
     "output_type": "stream",
     "text": [
      "WARNING:root:{'error message': \"Endpoints could be located connecting hp to uberon. The endpoints are ['https://api.monarchinitiative.org/api/bioentity/phenotype/{phenotypeid}/anatomy']. However, no output could be found using the endpoint!\", 'status': 400}\n"
     ]
    },
    {
     "name": "stdout",
     "output_type": "stream",
     "text": [
      "http://biothings.io/explorer/api/v2/directinput2output?input_prefix=hp&output_prefix=uberon&input_value=0003220&format=translator\n"
     ]
    },
    {
     "name": "stderr",
     "output_type": "stream",
     "text": [
      "WARNING:root:{'error message': \"Endpoints could be located connecting hp to uberon. The endpoints are ['https://api.monarchinitiative.org/api/bioentity/phenotype/{phenotypeid}/anatomy']. However, no output could be found using the endpoint!\", 'status': 400}\n"
     ]
    },
    {
     "name": "stdout",
     "output_type": "stream",
     "text": [
      "http://biothings.io/explorer/api/v2/directinput2output?input_prefix=hp&output_prefix=uberon&input_value=0002984&format=translator\n",
      "http://biothings.io/explorer/api/v2/directinput2output?input_prefix=hp&output_prefix=uberon&input_value=0001973&format=translator\n"
     ]
    },
    {
     "name": "stderr",
     "output_type": "stream",
     "text": [
      "WARNING:root:{'error message': \"Endpoints could be located connecting hp to uberon. The endpoints are ['https://api.monarchinitiative.org/api/bioentity/phenotype/{phenotypeid}/anatomy']. However, no output could be found using the endpoint!\", 'status': 400}\n"
     ]
    },
    {
     "name": "stdout",
     "output_type": "stream",
     "text": [
      "http://biothings.io/explorer/api/v2/directinput2output?input_prefix=hp&output_prefix=uberon&input_value=0001631&format=translator\n",
      "http://biothings.io/explorer/api/v2/directinput2output?input_prefix=hp&output_prefix=uberon&input_value=0002414&format=translator\n"
     ]
    },
    {
     "name": "stderr",
     "output_type": "stream",
     "text": [
      "WARNING:root:{'error message': \"Endpoints could be located connecting hp to uberon. The endpoints are ['https://api.monarchinitiative.org/api/bioentity/phenotype/{phenotypeid}/anatomy']. However, no output could be found using the endpoint!\", 'status': 400}\n"
     ]
    },
    {
     "name": "stdout",
     "output_type": "stream",
     "text": [
      "http://biothings.io/explorer/api/v2/directinput2output?input_prefix=hp&output_prefix=uberon&input_value=0000486&format=translator\n",
      "http://biothings.io/explorer/api/v2/directinput2output?input_prefix=hp&output_prefix=uberon&input_value=0000815&format=translator\n"
     ]
    },
    {
     "name": "stderr",
     "output_type": "stream",
     "text": [
      "WARNING:root:{'error message': \"Endpoints could be located connecting hp to uberon. The endpoints are ['https://api.monarchinitiative.org/api/bioentity/phenotype/{phenotypeid}/anatomy']. However, no output could be found using the endpoint!\", 'status': 400}\n"
     ]
    },
    {
     "name": "stdout",
     "output_type": "stream",
     "text": [
      "http://biothings.io/explorer/api/v2/directinput2output?input_prefix=hp&output_prefix=uberon&input_value=0000081&format=translator\n"
     ]
    },
    {
     "name": "stderr",
     "output_type": "stream",
     "text": [
      "WARNING:root:{'error message': \"Endpoints could be located connecting hp to uberon. The endpoints are ['https://api.monarchinitiative.org/api/bioentity/phenotype/{phenotypeid}/anatomy']. However, no output could be found using the endpoint!\", 'status': 400}\n"
     ]
    },
    {
     "name": "stdout",
     "output_type": "stream",
     "text": [
      "http://biothings.io/explorer/api/v2/directinput2output?input_prefix=hp&output_prefix=uberon&input_value=0000316&format=translator\n",
      "http://biothings.io/explorer/api/v2/directinput2output?input_prefix=hp&output_prefix=uberon&input_value=0000568&format=translator\n",
      "http://biothings.io/explorer/api/v2/directinput2output?input_prefix=hp&output_prefix=uberon&input_value=0004430&format=translator\n"
     ]
    },
    {
     "name": "stderr",
     "output_type": "stream",
     "text": [
      "WARNING:root:{'error message': \"Endpoints could be located connecting hp to uberon. The endpoints are ['https://api.monarchinitiative.org/api/bioentity/phenotype/{phenotypeid}/anatomy']. However, no output could be found using the endpoint!\", 'status': 400}\n"
     ]
    },
    {
     "name": "stdout",
     "output_type": "stream",
     "text": [
      "http://biothings.io/explorer/api/v2/directinput2output?input_prefix=hp&output_prefix=uberon&input_value=0009777&format=translator\n",
      "http://biothings.io/explorer/api/v2/directinput2output?input_prefix=hp&output_prefix=uberon&input_value=0001824&format=translator\n"
     ]
    },
    {
     "name": "stderr",
     "output_type": "stream",
     "text": [
      "INFO:root:Geting brenda tissue names from uberon tissue identifiers\n"
     ]
    },
    {
     "name": "stdout",
     "output_type": "stream",
     "text": [
      "Returned 11 uberon tissues\n",
      "Returned 1 brenda tissues\n"
     ]
    }
   ],
   "source": [
    "genes,tissues = doid_to_genes_and_tissues('13636',direct=True,N=10)"
   ]
  },
  {
   "cell_type": "code",
   "execution_count": 14,
   "metadata": {
    "collapsed": false
   },
   "outputs": [
    {
     "name": "stdout",
     "output_type": "stream",
     "text": [
      "['55215', '5888', '2072', '675', '84464', '55120', '2188', '2177', '5889', '2187', '4599', '2175', '57697', '7124', '2176', '7516', '83990', '10459', '2178', '79728', '29089', '2189']\n"
     ]
    }
   ],
   "source": [
    "print(genes)"
   ]
  },
  {
   "cell_type": "code",
   "execution_count": 15,
   "metadata": {
    "collapsed": false
   },
   "outputs": [
    {
     "name": "stdout",
     "output_type": "stream",
     "text": [
      "['animal']\n"
     ]
    }
   ],
   "source": [
    "print(tissues)"
   ]
  },
  {
   "cell_type": "markdown",
   "metadata": {
    "deletable": true,
    "editable": true
   },
   "source": [
    "## Testing for Breast cancer\n",
    "\n",
    "genes,tissues = doid_to_genes_and_tissues('1612',direct=True,N=10) will find\n",
    "\n",
    "451 genes (ncbi gene IDs)\n",
    "\n",
    "4 tissues ['animal', 'blood', 'bone', 'breast']"
   ]
  },
  {
   "cell_type": "code",
   "execution_count": 16,
   "metadata": {
    "collapsed": false,
    "deletable": true,
    "editable": true,
    "scrolled": true
   },
   "outputs": [
    {
     "name": "stderr",
     "output_type": "stream",
     "text": [
      "INFO:root:Geting HP ids from DOID\n"
     ]
    },
    {
     "name": "stdout",
     "output_type": "stream",
     "text": [
      "http://biothings.io/explorer/api/v2/directinput2output?input_prefix=doid&output_prefix=ncbigene&input_value=1612&format=translator\n"
     ]
    },
    {
     "name": "stderr",
     "output_type": "stream",
     "text": [
      "INFO:root:Geting HP ids from DOID\n"
     ]
    },
    {
     "name": "stdout",
     "output_type": "stream",
     "text": [
      "Returned 451 genes\n",
      "http://biothings.io/explorer/api/v2/directinput2output?input_prefix=doid&output_prefix=hp&input_value=1612&format=translator\n"
     ]
    },
    {
     "name": "stderr",
     "output_type": "stream",
     "text": [
      "INFO:root:Geting uberon from HP ids\n"
     ]
    },
    {
     "name": "stdout",
     "output_type": "stream",
     "text": [
      "Returned 146 phenotypes\n",
      "http://biothings.io/explorer/api/v2/directinput2output?input_prefix=hp&output_prefix=uberon&input_value=0006725&format=translator\n"
     ]
    },
    {
     "name": "stderr",
     "output_type": "stream",
     "text": [
      "WARNING:root:{'error message': \"Endpoints could be located connecting hp to uberon. The endpoints are ['https://api.monarchinitiative.org/api/bioentity/phenotype/{phenotypeid}/anatomy']. However, no output could be found using the endpoint!\", 'status': 400}\n"
     ]
    },
    {
     "name": "stdout",
     "output_type": "stream",
     "text": [
      "http://biothings.io/explorer/api/v2/directinput2output?input_prefix=hp&output_prefix=uberon&input_value=0100749&format=translator\n"
     ]
    },
    {
     "name": "stderr",
     "output_type": "stream",
     "text": [
      "WARNING:root:{'error message': \"Endpoints could be located connecting hp to uberon. The endpoints are ['https://api.monarchinitiative.org/api/bioentity/phenotype/{phenotypeid}/anatomy']. However, no output could be found using the endpoint!\", 'status': 400}\n"
     ]
    },
    {
     "name": "stdout",
     "output_type": "stream",
     "text": [
      "http://biothings.io/explorer/api/v2/directinput2output?input_prefix=hp&output_prefix=uberon&input_value=0001050&format=translator\n"
     ]
    },
    {
     "name": "stderr",
     "output_type": "stream",
     "text": [
      "WARNING:root:{'error message': \"Endpoints could be located connecting hp to uberon. The endpoints are ['https://api.monarchinitiative.org/api/bioentity/phenotype/{phenotypeid}/anatomy']. However, no output could be found using the endpoint!\", 'status': 400}\n"
     ]
    },
    {
     "name": "stdout",
     "output_type": "stream",
     "text": [
      "http://biothings.io/explorer/api/v2/directinput2output?input_prefix=hp&output_prefix=uberon&input_value=0002204&format=translator\n"
     ]
    },
    {
     "name": "stderr",
     "output_type": "stream",
     "text": [
      "WARNING:root:{'error message': \"Endpoints could be located connecting hp to uberon. The endpoints are ['https://api.monarchinitiative.org/api/bioentity/phenotype/{phenotypeid}/anatomy']. However, no output could be found using the endpoint!\", 'status': 400}\n"
     ]
    },
    {
     "name": "stdout",
     "output_type": "stream",
     "text": [
      "http://biothings.io/explorer/api/v2/directinput2output?input_prefix=hp&output_prefix=uberon&input_value=0002665&format=translator\n"
     ]
    },
    {
     "name": "stderr",
     "output_type": "stream",
     "text": [
      "WARNING:root:{'error message': \"Endpoints could be located connecting hp to uberon. The endpoints are ['https://api.monarchinitiative.org/api/bioentity/phenotype/{phenotypeid}/anatomy']. However, no output could be found using the endpoint!\", 'status': 400}\n"
     ]
    },
    {
     "name": "stdout",
     "output_type": "stream",
     "text": [
      "http://biothings.io/explorer/api/v2/directinput2output?input_prefix=hp&output_prefix=uberon&input_value=0002202&format=translator\n",
      "http://biothings.io/explorer/api/v2/directinput2output?input_prefix=hp&output_prefix=uberon&input_value=0002859&format=translator\n"
     ]
    },
    {
     "name": "stderr",
     "output_type": "stream",
     "text": [
      "WARNING:root:{'error message': \"Endpoints could be located connecting hp to uberon. The endpoints are ['https://api.monarchinitiative.org/api/bioentity/phenotype/{phenotypeid}/anatomy']. However, no output could be found using the endpoint!\", 'status': 400}\n"
     ]
    },
    {
     "name": "stdout",
     "output_type": "stream",
     "text": [
      "http://biothings.io/explorer/api/v2/directinput2output?input_prefix=hp&output_prefix=uberon&input_value=0000790&format=translator\n"
     ]
    },
    {
     "name": "stderr",
     "output_type": "stream",
     "text": [
      "WARNING:root:{'error message': \"Endpoints could be located connecting hp to uberon. The endpoints are ['https://api.monarchinitiative.org/api/bioentity/phenotype/{phenotypeid}/anatomy']. However, no output could be found using the endpoint!\", 'status': 400}\n"
     ]
    },
    {
     "name": "stdout",
     "output_type": "stream",
     "text": [
      "http://biothings.io/explorer/api/v2/directinput2output?input_prefix=hp&output_prefix=uberon&input_value=0002360&format=translator\n"
     ]
    },
    {
     "name": "stderr",
     "output_type": "stream",
     "text": [
      "WARNING:root:{'error message': \"Endpoints could be located connecting hp to uberon. The endpoints are ['https://api.monarchinitiative.org/api/bioentity/phenotype/{phenotypeid}/anatomy']. However, no output could be found using the endpoint!\", 'status': 400}\n"
     ]
    },
    {
     "name": "stdout",
     "output_type": "stream",
     "text": [
      "http://biothings.io/explorer/api/v2/directinput2output?input_prefix=hp&output_prefix=uberon&input_value=0002017&format=translator\n"
     ]
    },
    {
     "name": "stderr",
     "output_type": "stream",
     "text": [
      "WARNING:root:{'error message': \"Endpoints could be located connecting hp to uberon. The endpoints are ['https://api.monarchinitiative.org/api/bioentity/phenotype/{phenotypeid}/anatomy']. However, no output could be found using the endpoint!\", 'status': 400}\n"
     ]
    },
    {
     "name": "stdout",
     "output_type": "stream",
     "text": [
      "http://biothings.io/explorer/api/v2/directinput2output?input_prefix=hp&output_prefix=uberon&input_value=0002894&format=translator\n"
     ]
    },
    {
     "name": "stderr",
     "output_type": "stream",
     "text": [
      "WARNING:root:{'error message': \"Endpoints could be located connecting hp to uberon. The endpoints are ['https://api.monarchinitiative.org/api/bioentity/phenotype/{phenotypeid}/anatomy']. However, no output could be found using the endpoint!\", 'status': 400}\n"
     ]
    },
    {
     "name": "stdout",
     "output_type": "stream",
     "text": [
      "http://biothings.io/explorer/api/v2/directinput2output?input_prefix=hp&output_prefix=uberon&input_value=0005268&format=translator\n"
     ]
    },
    {
     "name": "stderr",
     "output_type": "stream",
     "text": [
      "WARNING:root:{'error message': \"Endpoints could be located connecting hp to uberon. The endpoints are ['https://api.monarchinitiative.org/api/bioentity/phenotype/{phenotypeid}/anatomy']. However, no output could be found using the endpoint!\", 'status': 400}\n"
     ]
    },
    {
     "name": "stdout",
     "output_type": "stream",
     "text": [
      "http://biothings.io/explorer/api/v2/directinput2output?input_prefix=hp&output_prefix=uberon&input_value=0001324&format=translator\n",
      "http://biothings.io/explorer/api/v2/directinput2output?input_prefix=hp&output_prefix=uberon&input_value=0006775&format=translator\n"
     ]
    },
    {
     "name": "stderr",
     "output_type": "stream",
     "text": [
      "WARNING:root:{'error message': \"Endpoints could be located connecting hp to uberon. The endpoints are ['https://api.monarchinitiative.org/api/bioentity/phenotype/{phenotypeid}/anatomy']. However, no output could be found using the endpoint!\", 'status': 400}\n"
     ]
    },
    {
     "name": "stdout",
     "output_type": "stream",
     "text": [
      "http://biothings.io/explorer/api/v2/directinput2output?input_prefix=hp&output_prefix=uberon&input_value=0010312&format=translator\n",
      "http://biothings.io/explorer/api/v2/directinput2output?input_prefix=hp&output_prefix=uberon&input_value=0000771&format=translator\n"
     ]
    },
    {
     "name": "stderr",
     "output_type": "stream",
     "text": [
      "WARNING:root:{'error message': \"Endpoints could be located connecting hp to uberon. The endpoints are ['https://api.monarchinitiative.org/api/bioentity/phenotype/{phenotypeid}/anatomy']. However, no output could be found using the endpoint!\", 'status': 400}\n"
     ]
    },
    {
     "name": "stdout",
     "output_type": "stream",
     "text": [
      "http://biothings.io/explorer/api/v2/directinput2output?input_prefix=hp&output_prefix=uberon&input_value=0002094&format=translator\n"
     ]
    },
    {
     "name": "stderr",
     "output_type": "stream",
     "text": [
      "WARNING:root:{'error message': \"Endpoints could be located connecting hp to uberon. The endpoints are ['https://api.monarchinitiative.org/api/bioentity/phenotype/{phenotypeid}/anatomy']. However, no output could be found using the endpoint!\", 'status': 400}\n"
     ]
    },
    {
     "name": "stdout",
     "output_type": "stream",
     "text": [
      "http://biothings.io/explorer/api/v2/directinput2output?input_prefix=hp&output_prefix=uberon&input_value=0003365&format=translator\n"
     ]
    },
    {
     "name": "stderr",
     "output_type": "stream",
     "text": [
      "WARNING:root:{'error message': \"Endpoints could be located connecting hp to uberon. The endpoints are ['https://api.monarchinitiative.org/api/bioentity/phenotype/{phenotypeid}/anatomy']. However, no output could be found using the endpoint!\", 'status': 400}\n"
     ]
    },
    {
     "name": "stdout",
     "output_type": "stream",
     "text": [
      "http://biothings.io/explorer/api/v2/directinput2output?input_prefix=hp&output_prefix=uberon&input_value=0100751&format=translator\n"
     ]
    },
    {
     "name": "stderr",
     "output_type": "stream",
     "text": [
      "WARNING:root:{'error message': \"Endpoints could be located connecting hp to uberon. The endpoints are ['https://api.monarchinitiative.org/api/bioentity/phenotype/{phenotypeid}/anatomy']. However, no output could be found using the endpoint!\", 'status': 400}\n"
     ]
    },
    {
     "name": "stdout",
     "output_type": "stream",
     "text": [
      "http://biothings.io/explorer/api/v2/directinput2output?input_prefix=hp&output_prefix=uberon&input_value=0010788&format=translator\n"
     ]
    },
    {
     "name": "stderr",
     "output_type": "stream",
     "text": [
      "WARNING:root:{'error message': \"Endpoints could be located connecting hp to uberon. The endpoints are ['https://api.monarchinitiative.org/api/bioentity/phenotype/{phenotypeid}/anatomy']. However, no output could be found using the endpoint!\", 'status': 400}\n"
     ]
    },
    {
     "name": "stdout",
     "output_type": "stream",
     "text": [
      "http://biothings.io/explorer/api/v2/directinput2output?input_prefix=hp&output_prefix=uberon&input_value=0004430&format=translator\n"
     ]
    },
    {
     "name": "stderr",
     "output_type": "stream",
     "text": [
      "WARNING:root:{'error message': \"Endpoints could be located connecting hp to uberon. The endpoints are ['https://api.monarchinitiative.org/api/bioentity/phenotype/{phenotypeid}/anatomy']. However, no output could be found using the endpoint!\", 'status': 400}\n"
     ]
    },
    {
     "name": "stdout",
     "output_type": "stream",
     "text": [
      "http://biothings.io/explorer/api/v2/directinput2output?input_prefix=hp&output_prefix=uberon&input_value=0008069&format=translator\n"
     ]
    },
    {
     "name": "stderr",
     "output_type": "stream",
     "text": [
      "WARNING:root:{'error message': \"Endpoints could be located connecting hp to uberon. The endpoints are ['https://api.monarchinitiative.org/api/bioentity/phenotype/{phenotypeid}/anatomy']. However, no output could be found using the endpoint!\", 'status': 400}\n"
     ]
    },
    {
     "name": "stdout",
     "output_type": "stream",
     "text": [
      "http://biothings.io/explorer/api/v2/directinput2output?input_prefix=hp&output_prefix=uberon&input_value=0000975&format=translator\n"
     ]
    },
    {
     "name": "stderr",
     "output_type": "stream",
     "text": [
      "WARNING:root:{'error message': \"Endpoints could be located connecting hp to uberon. The endpoints are ['https://api.monarchinitiative.org/api/bioentity/phenotype/{phenotypeid}/anatomy']. However, no output could be found using the endpoint!\", 'status': 400}\n"
     ]
    },
    {
     "name": "stdout",
     "output_type": "stream",
     "text": [
      "http://biothings.io/explorer/api/v2/directinput2output?input_prefix=hp&output_prefix=uberon&input_value=0000789&format=translator\n",
      "http://biothings.io/explorer/api/v2/directinput2output?input_prefix=hp&output_prefix=uberon&input_value=0001824&format=translator\n",
      "http://biothings.io/explorer/api/v2/directinput2output?input_prefix=hp&output_prefix=uberon&input_value=0001945&format=translator\n"
     ]
    },
    {
     "name": "stderr",
     "output_type": "stream",
     "text": [
      "WARNING:root:{'error message': \"Endpoints could be located connecting hp to uberon. The endpoints are ['https://api.monarchinitiative.org/api/bioentity/phenotype/{phenotypeid}/anatomy']. However, no output could be found using the endpoint!\", 'status': 400}\n"
     ]
    },
    {
     "name": "stdout",
     "output_type": "stream",
     "text": [
      "http://biothings.io/explorer/api/v2/directinput2output?input_prefix=hp&output_prefix=uberon&input_value=0002090&format=translator\n"
     ]
    },
    {
     "name": "stderr",
     "output_type": "stream",
     "text": [
      "WARNING:root:{'error message': \"Endpoints could be located connecting hp to uberon. The endpoints are ['https://api.monarchinitiative.org/api/bioentity/phenotype/{phenotypeid}/anatomy']. However, no output could be found using the endpoint!\", 'status': 400}\n"
     ]
    },
    {
     "name": "stdout",
     "output_type": "stream",
     "text": [
      "http://biothings.io/explorer/api/v2/directinput2output?input_prefix=hp&output_prefix=uberon&input_value=0009824&format=translator\n"
     ]
    },
    {
     "name": "stderr",
     "output_type": "stream",
     "text": [
      "WARNING:root:{'error message': \"Endpoints could be located connecting hp to uberon. The endpoints are ['https://api.monarchinitiative.org/api/bioentity/phenotype/{phenotypeid}/anatomy']. However, no output could be found using the endpoint!\", 'status': 400}\n"
     ]
    },
    {
     "name": "stdout",
     "output_type": "stream",
     "text": [
      "http://biothings.io/explorer/api/v2/directinput2output?input_prefix=hp&output_prefix=uberon&input_value=0003881&format=translator\n"
     ]
    },
    {
     "name": "stderr",
     "output_type": "stream",
     "text": [
      "WARNING:root:{'error message': \"Endpoints could be located connecting hp to uberon. The endpoints are ['https://api.monarchinitiative.org/api/bioentity/phenotype/{phenotypeid}/anatomy']. However, no output could be found using the endpoint!\", 'status': 400}\n"
     ]
    },
    {
     "name": "stdout",
     "output_type": "stream",
     "text": [
      "http://biothings.io/explorer/api/v2/directinput2output?input_prefix=hp&output_prefix=uberon&input_value=0100787&format=translator\n"
     ]
    },
    {
     "name": "stderr",
     "output_type": "stream",
     "text": [
      "WARNING:root:{'error message': \"Endpoints could be located connecting hp to uberon. The endpoints are ['https://api.monarchinitiative.org/api/bioentity/phenotype/{phenotypeid}/anatomy']. However, no output could be found using the endpoint!\", 'status': 400}\n"
     ]
    },
    {
     "name": "stdout",
     "output_type": "stream",
     "text": [
      "http://biothings.io/explorer/api/v2/directinput2output?input_prefix=hp&output_prefix=uberon&input_value=0006280&format=translator\n"
     ]
    },
    {
     "name": "stderr",
     "output_type": "stream",
     "text": [
      "WARNING:root:{'error message': \"Endpoints could be located connecting hp to uberon. The endpoints are ['https://api.monarchinitiative.org/api/bioentity/phenotype/{phenotypeid}/anatomy']. However, no output could be found using the endpoint!\", 'status': 400}\n"
     ]
    },
    {
     "name": "stdout",
     "output_type": "stream",
     "text": [
      "http://biothings.io/explorer/api/v2/directinput2output?input_prefix=hp&output_prefix=uberon&input_value=0003003&format=translator\n"
     ]
    },
    {
     "name": "stderr",
     "output_type": "stream",
     "text": [
      "WARNING:root:{'error message': \"Endpoints could be located connecting hp to uberon. The endpoints are ['https://api.monarchinitiative.org/api/bioentity/phenotype/{phenotypeid}/anatomy']. However, no output could be found using the endpoint!\", 'status': 400}\n"
     ]
    },
    {
     "name": "stdout",
     "output_type": "stream",
     "text": [
      "http://biothings.io/explorer/api/v2/directinput2output?input_prefix=hp&output_prefix=uberon&input_value=0100634&format=translator\n"
     ]
    },
    {
     "name": "stderr",
     "output_type": "stream",
     "text": [
      "WARNING:root:{'error message': \"Endpoints could be located connecting hp to uberon. The endpoints are ['https://api.monarchinitiative.org/api/bioentity/phenotype/{phenotypeid}/anatomy']. However, no output could be found using the endpoint!\", 'status': 400}\n"
     ]
    },
    {
     "name": "stdout",
     "output_type": "stream",
     "text": [
      "http://biothings.io/explorer/api/v2/directinput2output?input_prefix=hp&output_prefix=uberon&input_value=0006780&format=translator\n"
     ]
    },
    {
     "name": "stderr",
     "output_type": "stream",
     "text": [
      "WARNING:root:{'error message': \"Endpoints could be located connecting hp to uberon. The endpoints are ['https://api.monarchinitiative.org/api/bioentity/phenotype/{phenotypeid}/anatomy']. However, no output could be found using the endpoint!\", 'status': 400}\n"
     ]
    },
    {
     "name": "stdout",
     "output_type": "stream",
     "text": [
      "http://biothings.io/explorer/api/v2/directinput2output?input_prefix=hp&output_prefix=uberon&input_value=0001882&format=translator\n",
      "http://biothings.io/explorer/api/v2/directinput2output?input_prefix=hp&output_prefix=uberon&input_value=0002527&format=translator\n"
     ]
    },
    {
     "name": "stderr",
     "output_type": "stream",
     "text": [
      "WARNING:root:{'error message': \"Endpoints could be located connecting hp to uberon. The endpoints are ['https://api.monarchinitiative.org/api/bioentity/phenotype/{phenotypeid}/anatomy']. However, no output could be found using the endpoint!\", 'status': 400}\n"
     ]
    },
    {
     "name": "stdout",
     "output_type": "stream",
     "text": [
      "http://biothings.io/explorer/api/v2/directinput2output?input_prefix=hp&output_prefix=uberon&input_value=0000822&format=translator\n",
      "http://biothings.io/explorer/api/v2/directinput2output?input_prefix=hp&output_prefix=uberon&input_value=0002488&format=translator\n"
     ]
    },
    {
     "name": "stderr",
     "output_type": "stream",
     "text": [
      "WARNING:root:{'error message': \"Endpoints could be located connecting hp to uberon. The endpoints are ['https://api.monarchinitiative.org/api/bioentity/phenotype/{phenotypeid}/anatomy']. However, no output could be found using the endpoint!\", 'status': 400}\n"
     ]
    },
    {
     "name": "stdout",
     "output_type": "stream",
     "text": [
      "http://biothings.io/explorer/api/v2/directinput2output?input_prefix=hp&output_prefix=uberon&input_value=0100785&format=translator\n"
     ]
    },
    {
     "name": "stderr",
     "output_type": "stream",
     "text": [
      "WARNING:root:{'error message': \"Endpoints could be located connecting hp to uberon. The endpoints are ['https://api.monarchinitiative.org/api/bioentity/phenotype/{phenotypeid}/anatomy']. However, no output could be found using the endpoint!\", 'status': 400}\n"
     ]
    },
    {
     "name": "stdout",
     "output_type": "stream",
     "text": [
      "http://biothings.io/explorer/api/v2/directinput2output?input_prefix=hp&output_prefix=uberon&input_value=0100615&format=translator\n"
     ]
    },
    {
     "name": "stderr",
     "output_type": "stream",
     "text": [
      "WARNING:root:{'error message': \"Endpoints could be located connecting hp to uberon. The endpoints are ['https://api.monarchinitiative.org/api/bioentity/phenotype/{phenotypeid}/anatomy']. However, no output could be found using the endpoint!\", 'status': 400}\n"
     ]
    },
    {
     "name": "stdout",
     "output_type": "stream",
     "text": [
      "http://biothings.io/explorer/api/v2/directinput2output?input_prefix=hp&output_prefix=uberon&input_value=0000024&format=translator\n"
     ]
    },
    {
     "name": "stderr",
     "output_type": "stream",
     "text": [
      "WARNING:root:{'error message': \"Endpoints could be located connecting hp to uberon. The endpoints are ['https://api.monarchinitiative.org/api/bioentity/phenotype/{phenotypeid}/anatomy']. However, no output could be found using the endpoint!\", 'status': 400}\n"
     ]
    },
    {
     "name": "stdout",
     "output_type": "stream",
     "text": [
      "http://biothings.io/explorer/api/v2/directinput2output?input_prefix=hp&output_prefix=uberon&input_value=0002960&format=translator\n"
     ]
    },
    {
     "name": "stderr",
     "output_type": "stream",
     "text": [
      "WARNING:root:{'error message': \"Endpoints could be located connecting hp to uberon. The endpoints are ['https://api.monarchinitiative.org/api/bioentity/phenotype/{phenotypeid}/anatomy']. However, no output could be found using the endpoint!\", 'status': 400}\n"
     ]
    },
    {
     "name": "stdout",
     "output_type": "stream",
     "text": [
      "http://biothings.io/explorer/api/v2/directinput2output?input_prefix=hp&output_prefix=uberon&input_value=0100651&format=translator\n"
     ]
    },
    {
     "name": "stderr",
     "output_type": "stream",
     "text": [
      "WARNING:root:{'error message': \"Endpoints could be located connecting hp to uberon. The endpoints are ['https://api.monarchinitiative.org/api/bioentity/phenotype/{phenotypeid}/anatomy']. However, no output could be found using the endpoint!\", 'status': 400}\n"
     ]
    },
    {
     "name": "stdout",
     "output_type": "stream",
     "text": [
      "http://biothings.io/explorer/api/v2/directinput2output?input_prefix=hp&output_prefix=uberon&input_value=0005059&format=translator\n"
     ]
    },
    {
     "name": "stderr",
     "output_type": "stream",
     "text": [
      "WARNING:root:{'error message': \"Endpoints could be located connecting hp to uberon. The endpoints are ['https://api.monarchinitiative.org/api/bioentity/phenotype/{phenotypeid}/anatomy']. However, no output could be found using the endpoint!\", 'status': 400}\n"
     ]
    },
    {
     "name": "stdout",
     "output_type": "stream",
     "text": [
      "http://biothings.io/explorer/api/v2/directinput2output?input_prefix=hp&output_prefix=uberon&input_value=0002757&format=translator\n"
     ]
    },
    {
     "name": "stderr",
     "output_type": "stream",
     "text": [
      "WARNING:root:{'error message': \"Endpoints could be located connecting hp to uberon. The endpoints are ['https://api.monarchinitiative.org/api/bioentity/phenotype/{phenotypeid}/anatomy']. However, no output could be found using the endpoint!\", 'status': 400}\n"
     ]
    },
    {
     "name": "stdout",
     "output_type": "stream",
     "text": [
      "http://biothings.io/explorer/api/v2/directinput2output?input_prefix=hp&output_prefix=uberon&input_value=0001370&format=translator\n"
     ]
    },
    {
     "name": "stderr",
     "output_type": "stream",
     "text": [
      "WARNING:root:{'error message': \"Endpoints could be located connecting hp to uberon. The endpoints are ['https://api.monarchinitiative.org/api/bioentity/phenotype/{phenotypeid}/anatomy']. However, no output could be found using the endpoint!\", 'status': 400}\n"
     ]
    },
    {
     "name": "stdout",
     "output_type": "stream",
     "text": [
      "http://biothings.io/explorer/api/v2/directinput2output?input_prefix=hp&output_prefix=uberon&input_value=0002896&format=translator\n"
     ]
    },
    {
     "name": "stderr",
     "output_type": "stream",
     "text": [
      "WARNING:root:{'error message': \"Endpoints could be located connecting hp to uberon. The endpoints are ['https://api.monarchinitiative.org/api/bioentity/phenotype/{phenotypeid}/anatomy']. However, no output could be found using the endpoint!\", 'status': 400}\n"
     ]
    },
    {
     "name": "stdout",
     "output_type": "stream",
     "text": [
      "http://biothings.io/explorer/api/v2/directinput2output?input_prefix=hp&output_prefix=uberon&input_value=0004404&format=translator\n"
     ]
    },
    {
     "name": "stderr",
     "output_type": "stream",
     "text": [
      "WARNING:root:{'error message': \"Endpoints could be located connecting hp to uberon. The endpoints are ['https://api.monarchinitiative.org/api/bioentity/phenotype/{phenotypeid}/anatomy']. However, no output could be found using the endpoint!\", 'status': 400}\n"
     ]
    },
    {
     "name": "stdout",
     "output_type": "stream",
     "text": [
      "http://biothings.io/explorer/api/v2/directinput2output?input_prefix=hp&output_prefix=uberon&input_value=0004324&format=translator\n",
      "http://biothings.io/explorer/api/v2/directinput2output?input_prefix=hp&output_prefix=uberon&input_value=0000872&format=translator\n"
     ]
    },
    {
     "name": "stderr",
     "output_type": "stream",
     "text": [
      "WARNING:root:{'error message': \"Endpoints could be located connecting hp to uberon. The endpoints are ['https://api.monarchinitiative.org/api/bioentity/phenotype/{phenotypeid}/anatomy']. However, no output could be found using the endpoint!\", 'status': 400}\n"
     ]
    },
    {
     "name": "stdout",
     "output_type": "stream",
     "text": [
      "http://biothings.io/explorer/api/v2/directinput2output?input_prefix=hp&output_prefix=uberon&input_value=0003394&format=translator\n"
     ]
    },
    {
     "name": "stderr",
     "output_type": "stream",
     "text": [
      "WARNING:root:{'error message': \"Endpoints could be located connecting hp to uberon. The endpoints are ['https://api.monarchinitiative.org/api/bioentity/phenotype/{phenotypeid}/anatomy']. However, no output could be found using the endpoint!\", 'status': 400}\n"
     ]
    },
    {
     "name": "stdout",
     "output_type": "stream",
     "text": [
      "http://biothings.io/explorer/api/v2/directinput2output?input_prefix=hp&output_prefix=uberon&input_value=0002063&format=translator\n"
     ]
    },
    {
     "name": "stderr",
     "output_type": "stream",
     "text": [
      "WARNING:root:{'error message': \"Endpoints could be located connecting hp to uberon. The endpoints are ['https://api.monarchinitiative.org/api/bioentity/phenotype/{phenotypeid}/anatomy']. However, no output could be found using the endpoint!\", 'status': 400}\n"
     ]
    },
    {
     "name": "stdout",
     "output_type": "stream",
     "text": [
      "http://biothings.io/explorer/api/v2/directinput2output?input_prefix=hp&output_prefix=uberon&input_value=0100013&format=translator\n"
     ]
    },
    {
     "name": "stderr",
     "output_type": "stream",
     "text": [
      "WARNING:root:{'error message': \"Endpoints could be located connecting hp to uberon. The endpoints are ['https://api.monarchinitiative.org/api/bioentity/phenotype/{phenotypeid}/anatomy']. However, no output could be found using the endpoint!\", 'status': 400}\n"
     ]
    },
    {
     "name": "stdout",
     "output_type": "stream",
     "text": [
      "http://biothings.io/explorer/api/v2/directinput2output?input_prefix=hp&output_prefix=uberon&input_value=0000855&format=translator\n"
     ]
    },
    {
     "name": "stderr",
     "output_type": "stream",
     "text": [
      "WARNING:root:{'error message': \"Endpoints could be located connecting hp to uberon. The endpoints are ['https://api.monarchinitiative.org/api/bioentity/phenotype/{phenotypeid}/anatomy']. However, no output could be found using the endpoint!\", 'status': 400}\n"
     ]
    },
    {
     "name": "stdout",
     "output_type": "stream",
     "text": [
      "http://biothings.io/explorer/api/v2/directinput2output?input_prefix=hp&output_prefix=uberon&input_value=0012125&format=translator\n"
     ]
    },
    {
     "name": "stderr",
     "output_type": "stream",
     "text": [
      "WARNING:root:{'error message': \"Endpoints could be located connecting hp to uberon. The endpoints are ['https://api.monarchinitiative.org/api/bioentity/phenotype/{phenotypeid}/anatomy']. However, no output could be found using the endpoint!\", 'status': 400}\n"
     ]
    },
    {
     "name": "stdout",
     "output_type": "stream",
     "text": [
      "http://biothings.io/explorer/api/v2/directinput2output?input_prefix=hp&output_prefix=uberon&input_value=0006625&format=translator\n"
     ]
    },
    {
     "name": "stderr",
     "output_type": "stream",
     "text": [
      "WARNING:root:{'error message': \"Endpoints could be located connecting hp to uberon. The endpoints are ['https://api.monarchinitiative.org/api/bioentity/phenotype/{phenotypeid}/anatomy']. However, no output could be found using the endpoint!\", 'status': 400}\n"
     ]
    },
    {
     "name": "stdout",
     "output_type": "stream",
     "text": [
      "http://biothings.io/explorer/api/v2/directinput2output?input_prefix=hp&output_prefix=uberon&input_value=0001733&format=translator\n"
     ]
    },
    {
     "name": "stderr",
     "output_type": "stream",
     "text": [
      "WARNING:root:{'error message': \"Endpoints could be located connecting hp to uberon. The endpoints are ['https://api.monarchinitiative.org/api/bioentity/phenotype/{phenotypeid}/anatomy']. However, no output could be found using the endpoint!\", 'status': 400}\n"
     ]
    },
    {
     "name": "stdout",
     "output_type": "stream",
     "text": [
      "http://biothings.io/explorer/api/v2/directinput2output?input_prefix=hp&output_prefix=uberon&input_value=0001004&format=translator\n",
      "http://biothings.io/explorer/api/v2/directinput2output?input_prefix=hp&output_prefix=uberon&input_value=0001289&format=translator\n"
     ]
    },
    {
     "name": "stderr",
     "output_type": "stream",
     "text": [
      "WARNING:root:{'error message': \"Endpoints could be located connecting hp to uberon. The endpoints are ['https://api.monarchinitiative.org/api/bioentity/phenotype/{phenotypeid}/anatomy']. However, no output could be found using the endpoint!\", 'status': 400}\n"
     ]
    },
    {
     "name": "stdout",
     "output_type": "stream",
     "text": [
      "http://biothings.io/explorer/api/v2/directinput2output?input_prefix=hp&output_prefix=uberon&input_value=0001287&format=translator\n"
     ]
    },
    {
     "name": "stderr",
     "output_type": "stream",
     "text": [
      "WARNING:root:{'error message': \"Endpoints could be located connecting hp to uberon. The endpoints are ['https://api.monarchinitiative.org/api/bioentity/phenotype/{phenotypeid}/anatomy']. However, no output could be found using the endpoint!\", 'status': 400}\n"
     ]
    },
    {
     "name": "stdout",
     "output_type": "stream",
     "text": [
      "http://biothings.io/explorer/api/v2/directinput2output?input_prefix=hp&output_prefix=uberon&input_value=0100608&format=translator\n"
     ]
    },
    {
     "name": "stderr",
     "output_type": "stream",
     "text": [
      "WARNING:root:{'error message': \"Endpoints could be located connecting hp to uberon. The endpoints are ['https://api.monarchinitiative.org/api/bioentity/phenotype/{phenotypeid}/anatomy']. However, no output could be found using the endpoint!\", 'status': 400}\n"
     ]
    },
    {
     "name": "stdout",
     "output_type": "stream",
     "text": [
      "http://biothings.io/explorer/api/v2/directinput2output?input_prefix=hp&output_prefix=uberon&input_value=0001873&format=translator\n",
      "http://biothings.io/explorer/api/v2/directinput2output?input_prefix=hp&output_prefix=uberon&input_value=0000820&format=translator\n"
     ]
    },
    {
     "name": "stderr",
     "output_type": "stream",
     "text": [
      "WARNING:root:{'error message': \"Endpoints could be located connecting hp to uberon. The endpoints are ['https://api.monarchinitiative.org/api/bioentity/phenotype/{phenotypeid}/anatomy']. However, no output could be found using the endpoint!\", 'status': 400}\n"
     ]
    },
    {
     "name": "stdout",
     "output_type": "stream",
     "text": [
      "http://biothings.io/explorer/api/v2/directinput2output?input_prefix=hp&output_prefix=uberon&input_value=0002039&format=translator\n"
     ]
    },
    {
     "name": "stderr",
     "output_type": "stream",
     "text": [
      "WARNING:root:{'error message': \"Endpoints could be located connecting hp to uberon. The endpoints are ['https://api.monarchinitiative.org/api/bioentity/phenotype/{phenotypeid}/anatomy']. However, no output could be found using the endpoint!\", 'status': 400}\n"
     ]
    },
    {
     "name": "stdout",
     "output_type": "stream",
     "text": [
      "http://biothings.io/explorer/api/v2/directinput2output?input_prefix=hp&output_prefix=uberon&input_value=0010783&format=translator\n",
      "http://biothings.io/explorer/api/v2/directinput2output?input_prefix=hp&output_prefix=uberon&input_value=0100033&format=translator\n"
     ]
    },
    {
     "name": "stderr",
     "output_type": "stream",
     "text": [
      "WARNING:root:{'error message': \"Endpoints could be located connecting hp to uberon. The endpoints are ['https://api.monarchinitiative.org/api/bioentity/phenotype/{phenotypeid}/anatomy']. However, no output could be found using the endpoint!\", 'status': 400}\n"
     ]
    },
    {
     "name": "stdout",
     "output_type": "stream",
     "text": [
      "http://biothings.io/explorer/api/v2/directinput2output?input_prefix=hp&output_prefix=uberon&input_value=0100526&format=translator\n"
     ]
    },
    {
     "name": "stderr",
     "output_type": "stream",
     "text": [
      "WARNING:root:{'error message': \"Endpoints could be located connecting hp to uberon. The endpoints are ['https://api.monarchinitiative.org/api/bioentity/phenotype/{phenotypeid}/anatomy']. However, no output could be found using the endpoint!\", 'status': 400}\n"
     ]
    },
    {
     "name": "stdout",
     "output_type": "stream",
     "text": [
      "http://biothings.io/explorer/api/v2/directinput2output?input_prefix=hp&output_prefix=uberon&input_value=0010566&format=translator\n"
     ]
    },
    {
     "name": "stderr",
     "output_type": "stream",
     "text": [
      "WARNING:root:{'error message': \"Endpoints could be located connecting hp to uberon. The endpoints are ['https://api.monarchinitiative.org/api/bioentity/phenotype/{phenotypeid}/anatomy']. However, no output could be found using the endpoint!\", 'status': 400}\n"
     ]
    },
    {
     "name": "stdout",
     "output_type": "stream",
     "text": [
      "http://biothings.io/explorer/api/v2/directinput2output?input_prefix=hp&output_prefix=uberon&input_value=0000938&format=translator\n"
     ]
    },
    {
     "name": "stderr",
     "output_type": "stream",
     "text": [
      "INFO:root:Geting brenda tissue names from uberon tissue identifiers\n"
     ]
    },
    {
     "name": "stdout",
     "output_type": "stream",
     "text": [
      "Returned 12 uberon tissues\n",
      "Returned 4 brenda tissues\n"
     ]
    }
   ],
   "source": [
    "genes,tissues = doid_to_genes_and_tissues('1612',direct=True,N=10)"
   ]
  },
  {
   "cell_type": "code",
   "execution_count": 18,
   "metadata": {
    "collapsed": false,
    "deletable": true,
    "editable": true
   },
   "outputs": [
    {
     "name": "stdout",
     "output_type": "stream",
     "text": [
      "['167465', '3006', '3304', '5609', '84870', '597', '3240', '3320', '1374', '6194', '1294', '5241', '3480', '6387', '5002', '1938', '2771', '7517', '152273', '2886', '6776', '2101', '6422', '9839', '11200', '3162', '100506658', '1029', '406988', '3161', '6591', '5321', '4288', '4118', '7015', '50943', '2122', '367', '999', '10236', '3952', '3280', '1719', '5058', '10010', '56946', '4214', '81031', '650', '6236', '10599', '3875', '3190', '23136', '7124', '2033', '9048', '9821', '2305', '9801', '353', '6774', '3791', '4854', '6714', '6615', '9668', '672', '6147', '4524', '406903', '4855', '3265', '406921', '1933', '3861', '898', '4311', '1565', '406937', '196', '1545', '5890', '374', '6513', '3458', '3576', '23705', '406894', '3191', '9156', '51741', '26150', '1027', '5170', '7480', '7153', '79068', '7025', '406938', '3756', '3725', '5935', '4318', '2662', '406913', '2852', '5789', '11067', '1869', '329', '4897', '5997', '85236', '9877', '207', '9582', '100144748', '2065', '5888', '3692', '1435', '9429', '3945', '841', '4313', '65005', '5055', '1649', '9623', '2194', '55809', '406933', '7348', '406984', '196403', '1956', '11065', '2004', '7431', '57561', '92483', '396', '7424', '4314', '8493', '3237', '1910', '1591', '28514', '4282', '10381', '2173', '2202', '3169', '51081', '56100', '9473', '8863', '26227', '1789', '6528', '27098', '56942', '442910', '26040', '5970', '400500', '11009', '3273', '5292', '23345', '3815', '22948', '84142', '2920', '6160', '3953', '6201', '5655', '5894', '3014', '79659', '6423', '4829', '3456', '5925', '3087', '28998', '581', '9968', '9055', '369', '2063', '8085', '659', '161424', '3490', '94234', '4843', '7852', '5728', '5744', '3852', '1192', '6199', '6492', '6935', '2353', '8871', '2950', '50618', '708', '92140', '1499', '2091', '25800', '2023', '22891', '5742', '174', '1950', '2879', '2274', '10481', '28957', '10660', '5243', '7052', '1586', '1825', '23493', '10542', '221687', '972', '8894', '10499', '8314', '1440', '1588', '2316', '5290', '6696', '978', '10', '840', '6425', '151647', '9611', '102', '540', '2255', '7516', '83990', '7157', '90', '226', '5138', '652', '135228', '84866', '6514', '4548', '3488', '6191', '2877', '9076', '51466', '6790', '5047', '1806', '4283', '6364', '7057', '2260', '4193', '8648', '4046', '182', '7037', '407007', '5245', '407013', '6648', '1576', '1072', '7468', '857', '7090', '4846', '2263', '554210', '10551', '6623', '1436', '2321', '7372', '2099', '3091', '4792', '1312', '1902', '10397', '63943', '8065', '8743', '27324', '4017', '3032', '472', '318', '7087', '3553', '51129', '1786', '2152', '2921', '1942', '142', '4312', '9154', '3845', '675', '8202', '407006', '131965', '2064', '1269', '7421', '9510', '54567', '1437', '23462', '4851', '133522', '79728', '2248', '22943', '9754', '8204', '406985', '3479', '10297', '407021', '2100', '4504', '4000', '590', '80306', '1003', '442909', '10318', '2876', '80774', '3569', '6518', '3002', '4683', '5268', '26508', '208', '580', '5300', '6257', '2114', '406989', '1543', '26986', '7818', '138046', '4363', '5965', '6202', '2118', '4240', '4835', '1735', '25', '7020', '573', '6470', '1111', '2335', '55294', '5743', '3925', '56945', '8347', '3090', '2050', '3620', '2249', '1788', '1674', '406902', '2977', '7980', '847', '9185', '4904', '3996', '406996', '59', '23406', '7490', '2057', '2146', '5154', '1474', '5889', '8614', '29072', '574442', '10457', '1063', '8438', '1364', '5914', '10468', '3714', '596', '4323', '332', '4722', '23339', '3084', '9590', '5174', '7298', '8412', '27246', '200315', '10855', '958', '51649', '3856', '3381', '43', '406914', '23411', '6926', '5915', '1728', '59352', '4853', '4194', '595', '4211', '3476', '7423', '2821']\n"
     ]
    },
    {
     "data": {
      "text/plain": [
       "(None, 451)"
      ]
     },
     "execution_count": 18,
     "metadata": {},
     "output_type": "execute_result"
    }
   ],
   "source": [
    "print(genes), len(genes)"
   ]
  },
  {
   "cell_type": "code",
   "execution_count": 19,
   "metadata": {
    "collapsed": false,
    "deletable": true,
    "editable": true
   },
   "outputs": [
    {
     "name": "stdout",
     "output_type": "stream",
     "text": [
      "['animal', 'blood', 'bone', 'breast']\n"
     ]
    }
   ],
   "source": [
    "print(tissues)"
   ]
  }
 ],
 "metadata": {
  "kernelspec": {
   "display_name": "Python 3",
   "language": "python",
   "name": "python3"
  },
  "language_info": {
   "codemirror_mode": {
    "name": "ipython",
    "version": 3
   },
   "file_extension": ".py",
   "mimetype": "text/x-python",
   "name": "python",
   "nbconvert_exporter": "python",
   "pygments_lexer": "ipython3",
   "version": "3.4.2"
  }
 },
 "nbformat": 4,
 "nbformat_minor": 2
}
